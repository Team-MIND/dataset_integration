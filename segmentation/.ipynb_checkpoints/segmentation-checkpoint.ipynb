{
 "cells": [
  {
   "cell_type": "markdown",
   "metadata": {},
   "source": [
    "# Introduction\n",
    "This notebook covers automatic brain region segmentation for use in feature generation for psychiatric disorder/symptom classification. There are three sections:\n",
    "1. Downloading brain atlases\n",
    "2. Visualizing atlas regions\n",
    "3. Segmentation example and timing\n",
    "4. Integration of segmentation with data loader\n",
    "5. Feature generation using segmentation\n",
    "\n",
    "# Part I: Downloading and applying segmentation masks\n",
    "Brain segmentation masks can be downloaded from [neuroparc](https://github.com/neurodata/neuroparc). Scans are obtained from *NDA data* and accessible in the notebook via our PyTorch-compatible neuroimage [dataset](https://github.com/Team-MIND/dataset_integration/blob/main/neuroimaging_dataset.py)."
   ]
  },
  {
   "cell_type": "code",
   "execution_count": 1,
   "metadata": {},
   "outputs": [],
   "source": [
    "import os\n",
    "import sys\n",
    "import re\n",
    "import warnings\n",
    "sys.path.append(os.path.dirname(os.path.dirname(os.path.abspath(\"fmri_autism_ds.py\"))))\n",
    "from fmri_adhd_autism_ds import FMRI_AA"
   ]
  },
  {
   "cell_type": "markdown",
   "metadata": {},
   "source": [
    "The cell below lists all atlas files available in the downloaded directory. The names and corresponding specifications of each atlas can be found in a table in the [neuroparc](https://github.com/neurodata/neuroparc) README file."
   ]
  },
  {
   "cell_type": "code",
   "execution_count": 2,
   "metadata": {},
   "outputs": [
    {
     "name": "stdout",
     "output_type": "stream",
     "text": [
      "DS00195_space-MNI152NLin6_res-1x1x1.nii.gz\n",
      "Desikan_space-MNI152NLin6_res-2x2x2.nii.gz\n",
      "HarvardOxfordsub-maxprob-thr25_space-MNI152NLin6_res-2x2x2.nii.gz\n",
      "DS00071_space-MNI152NLin6_res-1x1x1.nii.gz\n",
      "AICHAJoliot2015_space-MNI152NLin6_res-1x1x1.nii.gz\n",
      "DKT_space-MNI152NLin6_res-1x1x1.nii.gz\n",
      "DS03231_space-MNI152NLin6_res-1x1x1.nii.gz\n",
      "Glasser_space-MNI152NLin6_res-2x2x2.nii.gz\n",
      "Anatomical-labels-csv\n",
      "DS16784_space-MNI152NLin6_res-1x1x1.nii.gz\n",
      "DS00833_space-MNI152NLin6_res-2x2x2.nii.gz\n",
      "Destrieux_space-MNI152NLin6_res-1x1x1.nii.gz\n",
      "DS00195_space-MNI152NLin6_res-4x4x4.nii.gz\n",
      "DS00071_space-MNI152NLin6_res-4x4x4.nii.gz\n",
      "DS03231_space-MNI152NLin6_res-4x4x4.nii.gz\n",
      "Princetonvisual-top_space-MNI152NLin6_res-2x2x2.nii.gz\n",
      "DKT_space-MNI152NLin6_res-4x4x4.nii.gz\n",
      "AICHAJoliot2015_space-MNI152NLin6_res-4x4x4.nii.gz\n",
      "Hemispheric_space-MNI152NLin6_res-2x2x2.nii.gz\n",
      "DS16784_space-MNI152NLin6_res-4x4x4.nii.gz\n",
      "DS01876_space-MNI152NLin6_res-2x2x2.nii.gz\n",
      "DS00096_space-MNI152NLin6_res-2x2x2.nii.gz\n",
      "Destrieux_space-MNI152NLin6_res-4x4x4.nii.gz\n",
      "CAPRSC_space-MNI152NLin6_res-1x1x1.nii.gz\n",
      "Yeo-7_space-MNI152NLin6_res-4x4x4.nii.gz\n",
      "DS00350_space-MNI152NLin6_res-1x1x1.nii.gz\n",
      "HarvardOxfordsub-maxprob-thr25_space-MNI152NLin6_label_all_res-4x4x4.nii.gz\n",
      "DS72784_space-MNI152NLin6_res-1x1x1.nii.gz\n",
      "Schaefer1000_space-MNI152NLin6_res-4x4x4.nii.gz\n",
      "JHU_space-MNI152NLin6_res-2x2x2.nii.gz\n",
      "DesikanKlein_space-MNI152NLin6_res-1x1x1.nii.gz\n",
      "DS01216_space-MNI152NLin6_res-2x2x2.nii.gz\n",
      "CAPRSC_space-MNI152NLin6_res-4x4x4.nii.gz\n",
      "Yeo-7_space-MNI152NLin6_res-1x1x1.nii.gz\n",
      "DS00350_space-MNI152NLin6_res-4x4x4.nii.gz\n",
      "HarvardOxfordsub-maxprob-thr25_space-MNI152NLin6_label_all_res-1x1x1.nii.gz\n",
      "DS06481_space-MNI152NLin6_res-2x2x2.nii.gz\n",
      "DS72784_space-MNI152NLin6_res-4x4x4.nii.gz\n",
      "Schaefer1000_space-MNI152NLin6_res-1x1x1.nii.gz\n",
      "DesikanKlein_space-MNI152NLin6_res-4x4x4.nii.gz\n",
      "Yeo-7-liberal_space-MNI152NLin6_res-4x4x4.nii.gz\n",
      "Hammersmith_space-MNI152NLin6_res-1x1x1.nii.gz\n",
      "Talairach_space-MNI152NLin6_res-2x2x2.nii.gz\n",
      "CPAC200_space-MNI152NLin6_res-1x1x1.nii.gz\n",
      "MICCAI_space-MNI152NLin6_res-4x4x4.nii.gz\n",
      "DS00140_space-MNI152NLin6_res-1x1x1.nii.gz\n",
      "Juelich_space-MNI152NLin6_res-2x2x2.nii.gz\n",
      "Yeo-7-liberal_space-MNI152NLin6_res-1x1x1.nii.gz\n",
      "Hammersmith_space-MNI152NLin6_res-4x4x4.nii.gz\n",
      "Slab907_space-MNI152NLin6_res-2x2x2.nii.gz\n",
      "CPAC200_space-MNI152NLin6_res-4x4x4.nii.gz\n",
      "Tissue_space-MNI152NLin6_res-2x2x2.nii.gz\n",
      "Schaefer200_space-MNI152NLin6_res-2x2x2.nii.gz\n",
      "DS00140_space-MNI152NLin6_res-4x4x4.nii.gz\n",
      "MICCAI_space-MNI152NLin6_res-1x1x1.nii.gz\n",
      "DS00278_space-MNI152NLin6_res-1x1x1.nii.gz\n",
      "DS00446_space-MNI152NLin6_res-2x2x2.nii.gz\n",
      "DS00108_space-MNI152NLin6_res-1x1x1.nii.gz\n",
      "Brodmann_space-MNI152NLin6_res-1x1x1.nii.gz\n",
      "Slab1068_space-MNI152NLin6_res-4x4x4.nii.gz\n",
      "Yeo-17_space-MNI152NLin6_res-1x1x1.nii.gz\n",
      "DS00583_space-MNI152NLin6_res-4x4x4.nii.gz\n",
      "Yeo-17-liberal_space-MNI152NLin6_res-1x1x1.nii.gz\n",
      "AAL_space-MNI152NLin6_res-1x1x1.nii.gz\n",
      "Metadata-json\n",
      "DS00278_space-MNI152NLin6_res-4x4x4.nii.gz\n",
      "Schaefer400_space-MNI152NLin6_res-2x2x2.nii.gz\n",
      "Brodmann_space-MNI152NLin6_res-4x4x4.nii.gz\n",
      "DS00108_space-MNI152NLin6_res-4x4x4.nii.gz\n",
      "HarvardOxfordcort-maxprob-thr25_space-MNI152NLin6_res-2x2x2.nii.gz\n",
      "Schaefer300_space-MNI152NLin6_res-2x2x2.nii.gz\n",
      "Slab1068_space-MNI152NLin6_res-1x1x1.nii.gz\n",
      "DS00583_space-MNI152NLin6_res-1x1x1.nii.gz\n",
      "Yeo-17_space-MNI152NLin6_res-4x4x4.nii.gz\n",
      "Yeo-17-liberal_space-MNI152NLin6_res-4x4x4.nii.gz\n",
      "AAL_space-MNI152NLin6_res-4x4x4.nii.gz\n",
      "Schaefer400_space-MNI152NLin6_res-1x1x1.nii.gz\n",
      "DS00446_space-MNI152NLin6_res-4x4x4.nii.gz\n",
      "HarvardOxfordcort-maxprob-thr25_space-MNI152NLin6_res-1x1x1.nii.gz\n",
      "Schaefer300_space-MNI152NLin6_res-1x1x1.nii.gz\n",
      "Slab1068_space-MNI152NLin6_res-2x2x2.nii.gz\n",
      "DS00583_space-MNI152NLin6_res-2x2x2.nii.gz\n",
      "DS00278_space-MNI152NLin6_res-2x2x2.nii.gz\n",
      "Schaefer400_space-MNI152NLin6_res-4x4x4.nii.gz\n",
      "DS00446_space-MNI152NLin6_res-1x1x1.nii.gz\n",
      "DS00108_space-MNI152NLin6_res-2x2x2.nii.gz\n",
      "Brodmann_space-MNI152NLin6_res-2x2x2.nii.gz\n",
      "HarvardOxfordcort-maxprob-thr25_space-MNI152NLin6_res-4x4x4.nii.gz\n",
      "Schaefer300_space-MNI152NLin6_res-4x4x4.nii.gz\n",
      "Yeo-17_space-MNI152NLin6_res-2x2x2.nii.gz\n",
      "Yeo-17-liberal_space-MNI152NLin6_res-2x2x2.nii.gz\n",
      "AAL_space-MNI152NLin6_res-2x2x2.nii.gz\n",
      "Yeo-7-liberal_space-MNI152NLin6_res-2x2x2.nii.gz\n",
      "Slab907_space-MNI152NLin6_res-1x1x1.nii.gz\n",
      "Talairach_space-MNI152NLin6_res-4x4x4.nii.gz\n",
      "Tissue_space-MNI152NLin6_res-1x1x1.nii.gz\n",
      "Schaefer200_space-MNI152NLin6_res-1x1x1.nii.gz\n",
      "MICCAI_space-MNI152NLin6_res-2x2x2.nii.gz\n",
      "Juelich_space-MNI152NLin6_res-4x4x4.nii.gz\n",
      "Hammersmith_space-MNI152NLin6_res-2x2x2.nii.gz\n",
      "Slab907_space-MNI152NLin6_res-4x4x4.nii.gz\n",
      "Tissue_space-MNI152NLin6_res-4x4x4.nii.gz\n",
      "CPAC200_space-MNI152NLin6_res-2x2x2.nii.gz\n",
      "Talairach_space-MNI152NLin6_res-1x1x1.nii.gz\n",
      "Schaefer200_space-MNI152NLin6_res-4x4x4.nii.gz\n",
      "DS00140_space-MNI152NLin6_res-2x2x2.nii.gz\n",
      "Juelich_space-MNI152NLin6_res-1x1x1.nii.gz\n",
      "Yeo-7_space-MNI152NLin6_res-2x2x2.nii.gz\n",
      "HarvardOxfordsub-maxprob-thr25_space-MNI152NLin6_label_all_res-2x2x2.nii.gz\n",
      "DS06481_space-MNI152NLin6_res-1x1x1.nii.gz\n",
      "JHU_space-MNI152NLin6_res-4x4x4.nii.gz\n",
      "Schaefer1000_space-MNI152NLin6_res-2x2x2.nii.gz\n",
      "DS01216_space-MNI152NLin6_res-4x4x4.nii.gz\n",
      "CAPRSC_space-MNI152NLin6_res-2x2x2.nii.gz\n",
      "DS00350_space-MNI152NLin6_res-2x2x2.nii.gz\n",
      "DS72784_space-MNI152NLin6_res-2x2x2.nii.gz\n",
      "DS06481_space-MNI152NLin6_res-4x4x4.nii.gz\n",
      "JHU_space-MNI152NLin6_res-1x1x1.nii.gz\n",
      "DS01216_space-MNI152NLin6_res-1x1x1.nii.gz\n",
      "DesikanKlein_space-MNI152NLin6_res-2x2x2.nii.gz\n",
      "HarvardOxfordsub-maxprob-thr25_space-MNI152NLin6_res-4x4x4.nii.gz\n",
      "Desikan_space-MNI152NLin6_res-4x4x4.nii.gz\n",
      "Glasser_space-MNI152NLin6_res-4x4x4.nii.gz\n",
      "Princetonvisual-top_space-MNI152NLin6_res-1x1x1.nii.gz\n",
      "Hemispheric_space-MNI152NLin6_res-1x1x1.nii.gz\n",
      "DS01876_space-MNI152NLin6_res-1x1x1.nii.gz\n",
      "DS00833_space-MNI152NLin6_res-4x4x4.nii.gz\n",
      "DS00096_space-MNI152NLin6_res-1x1x1.nii.gz\n",
      "DS00195_space-MNI152NLin6_res-2x2x2.nii.gz\n",
      "Desikan_space-MNI152NLin6_res-1x1x1.nii.gz\n",
      "HarvardOxfordsub-maxprob-thr25_space-MNI152NLin6_res-1x1x1.nii.gz\n",
      "DS00071_space-MNI152NLin6_res-2x2x2.nii.gz\n",
      "DKT_space-MNI152NLin6_res-2x2x2.nii.gz\n",
      "AICHAJoliot2015_space-MNI152NLin6_res-2x2x2.nii.gz\n",
      "Glasser_space-MNI152NLin6_res-1x1x1.nii.gz\n",
      "Princetonvisual-top_space-MNI152NLin6_res-4x4x4.nii.gz\n",
      "DS03231_space-MNI152NLin6_res-2x2x2.nii.gz\n",
      "Hemispheric_space-MNI152NLin6_res-4x4x4.nii.gz\n",
      "DS16784_space-MNI152NLin6_res-2x2x2.nii.gz\n",
      "DS01876_space-MNI152NLin6_res-4x4x4.nii.gz\n",
      "DS00833_space-MNI152NLin6_res-1x1x1.nii.gz\n",
      "DS00096_space-MNI152NLin6_res-4x4x4.nii.gz\n",
      "Destrieux_space-MNI152NLin6_res-2x2x2.nii.gz\n"
     ]
    }
   ],
   "source": [
    "# List available atlas files from downloaded neuroparc directory\n",
    "print(\"\\n\".join(os.listdir(\"neurodata neuroparc master atlases-label_Human\")))"
   ]
  },
  {
   "cell_type": "markdown",
   "metadata": {},
   "source": [
    "We will now instantiate a sample dataset containing some scans for testing some segmentations."
   ]
  },
  {
   "cell_type": "code",
   "execution_count": 4,
   "metadata": {},
   "outputs": [
    {
     "ename": "NameError",
     "evalue": "name 'warnings' is not defined",
     "output_type": "error",
     "traceback": [
      "\u001b[0;31m---------------------------------------------------------------------------\u001b[0m",
      "\u001b[0;31mNameError\u001b[0m                                 Traceback (most recent call last)",
      "\u001b[0;32m<ipython-input-4-7d1a04ec0998>\u001b[0m in \u001b[0;36m<module>\u001b[0;34m\u001b[0m\n\u001b[0;32m----> 1\u001b[0;31m \u001b[0mwarnings\u001b[0m\u001b[0;34m.\u001b[0m\u001b[0mfilterwarnings\u001b[0m\u001b[0;34m(\u001b[0m\u001b[0;34m\"ignore\"\u001b[0m\u001b[0;34m)\u001b[0m\u001b[0;34m\u001b[0m\u001b[0;34m\u001b[0m\u001b[0m\n\u001b[0m\u001b[1;32m      2\u001b[0m dataset = FMRI_AA(\"../../fmri_dataset_adhd_autism/imagingcollection01\",\n\u001b[1;32m      3\u001b[0m     \u001b[0;32mlambda\u001b[0m \u001b[0ms\u001b[0m\u001b[0;34m:\u001b[0m \u001b[0;34mf\"../../fmri_dataset_adhd_autism/imagingcollection01/sub-{s}/ses-.*/anat/.*\\.nii\\.gz\"\u001b[0m\u001b[0;34m,\u001b[0m\u001b[0;34m\u001b[0m\u001b[0;34m\u001b[0m\u001b[0m\n\u001b[1;32m      4\u001b[0m                   allow_multiple_files=False)\n",
      "\u001b[0;31mNameError\u001b[0m: name 'warnings' is not defined"
     ]
    }
   ],
   "source": [
    "warnings.filterwarnings(\"ignore\")\n",
    "dataset = FMRI_AA(\"../../fmri_dataset_adhd_autism/imagingcollection01\",\n",
    "    lambda s: f\"../../fmri_dataset_adhd_autism/imagingcollection01/sub-{s}/ses-.*/anat/.*\\.nii\\.gz\", \n",
    "                  allow_multiple_files=False)"
   ]
  },
  {
   "cell_type": "markdown",
   "metadata": {},
   "source": [
    "We will apply an AAL brain atlas to the first scan."
   ]
  },
  {
   "cell_type": "code",
   "execution_count": null,
   "metadata": {},
   "outputs": [],
   "source": []
  }
 ],
 "metadata": {
  "kernelspec": {
   "display_name": "Python 3",
   "language": "python",
   "name": "python3"
  },
  "language_info": {
   "codemirror_mode": {
    "name": "ipython",
    "version": 3
   },
   "file_extension": ".py",
   "mimetype": "text/x-python",
   "name": "python",
   "nbconvert_exporter": "python",
   "pygments_lexer": "ipython3",
   "version": "3.8.3"
  }
 },
 "nbformat": 4,
 "nbformat_minor": 4
}
