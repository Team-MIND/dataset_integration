{
 "cells": [
  {
   "cell_type": "code",
   "execution_count": 1,
   "id": "occasional-carol",
   "metadata": {},
   "outputs": [],
   "source": [
    "import matplotlib.pyplot as plt\n",
    "import numpy as np\n",
    "import pandas as pd\n",
    "import os\n",
    "pd.set_option('display.max_colwidth', 1000)\n",
    "pd.set_option('display.max_rows', 500)\n",
    "\n",
    "from sklearn import svm\n",
    "import re\n",
    "from shutil import copyfile\n",
    "import matplotlib.pyplot as plt\n",
    "import pydicom\n",
    "from tqdm import tqdm\n",
    "import nibabel as nib\n",
    "import dicom2nifti"
   ]
  },
  {
   "cell_type": "markdown",
   "id": "phantom-conservative",
   "metadata": {},
   "source": [
    "https://nda.nih.gov/edit_collection.html?QA=false&id=2126"
   ]
  },
  {
   "cell_type": "code",
   "execution_count": 2,
   "id": "stainless-measure",
   "metadata": {},
   "outputs": [],
   "source": [
    "# define text files and path\n",
    "\n",
    "#### CHANGE FOR SPECIFIC DOWNLOAD PACKAGE ####\n",
    "\n",
    "# for 2274:\n",
    "path = '../../physcosis/Package_1187332/'\n",
    "\n",
    "\n",
    "## for 2126:\n",
    "# path = '../../physcosis/Package_1187335/'\n",
    "\n",
    "\n",
    "# should be standard\n",
    "test_file = 'panss01.txt'\n",
    "subject_file = 'ndar_subject01.txt'\n",
    "image_file = 'image03.txt'\n",
    "\n",
    "\n",
    "\n"
   ]
  },
  {
   "cell_type": "code",
   "execution_count": 3,
   "id": "coastal-string",
   "metadata": {},
   "outputs": [
    {
     "name": "stdout",
     "output_type": "stream",
     "text": [
      "(4404, 26)\n",
      "(4404, 26)\n",
      "(1779, 42)\n",
      "(1779, 42)\n",
      "(9395, 51)\n",
      "(9395, 51)\n"
     ]
    }
   ],
   "source": [
    "# opensfiles using pandas\n",
    "# drop rows that are fully duplicated from the start --> not need \n",
    "ndar_subject = pd.read_csv(os.path.join(path, subject_file), delimiter = '\\t')\n",
    "print(ndar_subject.shape)\n",
    "ndar_subject = ndar_subject.drop_duplicates()\n",
    "print(ndar_subject.shape)\n",
    "test = pd.read_csv(os.path.join(path, test_file), delimiter = '\\t')\n",
    "print(test.shape)\n",
    "test = test.drop_duplicates()\n",
    "print(test.shape)\n",
    "image03 = pd.read_csv(os.path.join(path, image_file), delimiter = '\\t')\n",
    "print(image03.shape)\n",
    "image03 = image03.drop_duplicates()\n",
    "print(image03.shape)"
   ]
  },
  {
   "cell_type": "markdown",
   "id": "fifteen-egypt",
   "metadata": {},
   "source": [
    "## preprocess image03"
   ]
  },
  {
   "cell_type": "code",
   "execution_count": 4,
   "id": "elegant-basement",
   "metadata": {},
   "outputs": [
    {
     "data": {
      "text/plain": [
       "image_description\n",
       "ADNI Double_TSE SENSE                                                      561\n",
       "ADNI MPRAGE SENSE                                                           45\n",
       "ADNI MPRAGE pg7 SENSE                                                      516\n",
       "AX T2                                                                       16\n",
       "Axial PD-T2 TSE                                                            118\n",
       "Axial PD-T2 TSE no angle                                                    73\n",
       "Axial PD-T2 TSE_ NO ANGULATION                                               4\n",
       "Axial PD-T2 TSE_NO_ANGLE                                                    26\n",
       "B1-Calibration Body                                                         98\n",
       "B1-Calibration Body_COIL                                                    25\n",
       "B1-Callibration Head                                                        98\n",
       "B1-Callibration Head_COIL                                                   24\n",
       "Bsnip Ax PD-T2 TSE NoAng                                                   290\n",
       "Bsnip Rest 210                                                             244\n",
       "Bsnip Sag MPRAGE-like ADNI                                                 291\n",
       "Bsnip ep2d_diff_MGH-DTI2                                                   755\n",
       "Bsnip ep2d_diff_MGH-DTI2_split_1                                             1\n",
       "DTI                                                                         55\n",
       "DTI-exact repeat of DTI-new                                                271\n",
       "DTI-exact repeat of DTI-new_ADC                                            270\n",
       "DTI-exact repeat of DTI-new_ColFA                                          270\n",
       "DTI-exact repeat of DTI-new_FA                                             270\n",
       "DTI-exact repeat of DTI-new_TENSOR                                          82\n",
       "DTI-exact repeat of DTI-new_TRACEW                                         270\n",
       "DTI-new-12.8.08                                                            273\n",
       "DTI-new-12.8.08_ADC                                                        273\n",
       "DTI-new-12.8.08_ColFA                                                      273\n",
       "DTI-new-12.8.08_FA                                                         273\n",
       "DTI-new-12.8.08_TENSOR                                                      80\n",
       "DTI-new-12.8.08_TENSOR_OFFLINE                                               8\n",
       "DTI-new-12.8.08_TRACEW                                                     273\n",
       "DTI-original                                                                 2\n",
       "DTI-original_ADC                                                             2\n",
       "DTI-original_TRACEW                                                          2\n",
       "DTI_ADC                                                                     55\n",
       "DTI_TRACEW                                                                  55\n",
       "Image description, i.e. DTI, fMRI, Fast SPGR, phantom, EEG, dynamic PET      1\n",
       "MPRAGE                                                                     170\n",
       "MPRAGE Repeat                                                               33\n",
       "MPRAGE_SAG                                                                   3\n",
       "MPRAGE_SAG Repeat                                                            3\n",
       "MPRAGE_repeat                                                               89\n",
       "Mean_&_t-Maps                                                               86\n",
       "MoCoSeries                                                                  33\n",
       "PD-T2 TSE                                                                  329\n",
       "Rest 210                                                                    94\n",
       "SAG B1 CAL 8CH                                                               3\n",
       "SAG B1 CAL BODY                                                              3\n",
       "SAG MPRAGE                                                                 107\n",
       "Sagittal MPRAGE                                                              1\n",
       "Sagittal MPRAGE-like ADNI                                                   65\n",
       "T1 MPRAGE                                                                  339\n",
       "T1 MPRAGE Repeat                                                             5\n",
       "WIP ADNI Double_TSE SENSE                                                  111\n",
       "WIP ADNI MPRAGE pg7 SENSE                                                  114\n",
       "WIP highres T2 SENSE                                                         3\n",
       "WIP rest_fMRI_5min SENSE                                                   114\n",
       "act_MoCoSeries                                                               1\n",
       "bas_MoCoSeries                                                              85\n",
       "ep2d_REST210                                                               118\n",
       "ep2d_bold                                                                  327\n",
       "ep2d_diff_MGH-DTI2                                                          69\n",
       "ep2d_diff_convert_Allegra_B-SNIP                                             3\n",
       "ep2d_diff_convert_Allegra_B-SNIP_ADC                                         3\n",
       "ep2d_diff_convert_Allegra_B-SNIP_ColFA                                       3\n",
       "ep2d_diff_convert_Allegra_B-SNIP_FA                                          3\n",
       "ep2d_diff_convert_Allegra_B-SNIP_TENSOR                                      3\n",
       "ep2d_diff_convert_Allegra_B-SNIP_TRACEW                                      3\n",
       "ep2d_fid_basic_bold                                                          2\n",
       "intermediate t-Map                                                          86\n",
       "loc                                                                         20\n",
       "localizer                                                                  132\n",
       "rest_fMRI_5min SENSE                                                       561\n",
       "resting state fMRI                                                           1\n",
       "sagB1calbody                                                                 5\n",
       "sagb1cal 8ch                                                                14\n",
       "sagb1cal body                                                                8\n",
       "dtype: int64"
      ]
     },
     "execution_count": 4,
     "metadata": {},
     "output_type": "execute_result"
    }
   ],
   "source": [
    "\n",
    "# shows the different types of images available for the data package\n",
    "image03.pivot_table(columns = ['image_description'], aggfunc = 'size')"
   ]
  },
  {
   "cell_type": "code",
   "execution_count": 5,
   "id": "rapid-fetish",
   "metadata": {},
   "outputs": [
    {
     "name": "stdout",
     "output_type": "stream",
     "text": [
      "['ADNI MPRAGE pg7 SENSE', 'ADNI MPRAGE SENSE', 'WIP ADNI MPRAGE pg7 SENSE', 'SAG MPRAGE', 'T1 MPRAGE', 'T1 MPRAGE Repeat', 'MPRAGE_repeat', 'MPRAGE', 'MPRAGE Repeat', 'MPRAGE_SAG Repeat', 'MPRAGE_SAG', 'Bsnip Sag MPRAGE-like ADNI', 'Sagittal MPRAGE-like ADNI', 'Sagittal MPRAGE']\n",
      "Index(['collection_id', 'image03_id', 'dataset_id', 'subjectkey',\n",
      "       'src_subject_id', 'interview_age', 'sex', 'comments_misc', 'image_file',\n",
      "       'image_description', 'experiment_id', 'scan_type', 'scan_object',\n",
      "       'image_file_format', 'image_modality', 'scanner_manufacturer_pd',\n",
      "       'scanner_type_pd', 'scanner_software_versions_pd',\n",
      "       'magnetic_field_strength', 'mri_repetition_time_pd', 'mri_echo_time_pd',\n",
      "       'flip_angle', 'acquisition_matrix', 'mri_field_of_view_pd',\n",
      "       'patient_position', 'photomet_interpret', 'transmit_coil',\n",
      "       'transformation_performed', 'image_num_dimensions', 'image_extent1',\n",
      "       'image_extent2', 'image_extent3', 'image_extent4', 'extent4_type',\n",
      "       'image_unit1', 'image_unit2', 'image_unit3', 'image_unit4',\n",
      "       'image_resolution1', 'image_resolution2', 'image_resolution3',\n",
      "       'image_resolution4', 'image_slice_thickness', 'image_orientation',\n",
      "       'pulse_seq', 'slice_acquisition', 'week', 'experiment_description',\n",
      "       'slice_timing', 'bvek_bval_files', 'collection_title'],\n",
      "      dtype='object')\n",
      "(1781, 51)\n"
     ]
    },
    {
     "data": {
      "text/plain": [
       "src_subject_id  interview_age\n",
       "1               252              2\n",
       "1003            300              1\n",
       "1005            624              1\n",
       "1009            216              1\n",
       "1011            588              1\n",
       "                                ..\n",
       "9986            744              3\n",
       "S0623YIO        552              2\n",
       "S2179ENY        240              2\n",
       "S3430UFJ        0                2\n",
       "S7976JLE        0                2\n",
       "Length: 1093, dtype: int64"
      ]
     },
     "execution_count": 5,
     "metadata": {},
     "output_type": "execute_result"
    }
   ],
   "source": [
    "types = list(image03['image_description'].unique())\n",
    "\n",
    "\n",
    "#### CHANGE REGEX FOR SPECIFIC PACKAGE DEPENDING ON WHAT IMAGES ARE NEEDED ####\n",
    "# for 2274:\n",
    "regex = re.compile(r'.*MPRAGE.*|.*mprage.*|.*T1.*')\n",
    "# regex = re.compile(r'.*')\n",
    "\n",
    "\n",
    "with_mprage = list(filter(regex.search, types))\n",
    "image03 = image03[image03['image_description'].isin(with_mprage)]\n",
    "image03 = image03.drop_duplicates()\n",
    "print(with_mprage)\n",
    "\n",
    "#### KEEP ONLY WANTED COLUMNS optionally change if more/less are needed ####\n",
    "print(image03.columns)\n",
    "print(image03.shape)\n",
    "image03 = image03[['collection_id', 'image03_id', 'dataset_id', 'subjectkey',\n",
    "       'src_subject_id', 'interview_age', 'image_file', 'image_description']]\n",
    "image03.pivot_table(columns = ['src_subject_id', 'interview_age'], aggfunc = 'size')"
   ]
  },
  {
   "cell_type": "code",
   "execution_count": 6,
   "id": "unauthorized-tablet",
   "metadata": {},
   "outputs": [
    {
     "data": {
      "text/plain": [
       "[]"
      ]
     },
     "execution_count": 6,
     "metadata": {},
     "output_type": "execute_result"
    }
   ],
   "source": [
    "data_dir = os.path.join(path, 'image03')\n",
    "\n",
    "#### CHANGE BASED ON WHAT 'image_file' COLUMN LOOKS LIKE IN image03 (corrects the file path to be on local machine) ####\n",
    "\n",
    "# for 2274:\n",
    "regex ='s3://NDAR_.*/submission_.[0-9]*/'\n",
    "\n",
    "\n",
    "rows_with_bad_path = []\n",
    "for index, row in image03.iterrows():\n",
    "    image_path = re.sub(regex, '', row['image_file'])\n",
    "    full_path = os.path.join(data_dir, image_path)\n",
    "#     print(full_path)\n",
    "    if not os.path.exists(full_path):\n",
    "        print(image_path, index, row['image_file'])\n",
    "        rows_with_bad_path.append(index)\n",
    "rows_with_bad_path"
   ]
  },
  {
   "cell_type": "code",
   "execution_count": 7,
   "id": "stupid-start",
   "metadata": {},
   "outputs": [
    {
     "data": {
      "text/html": [
       "<div>\n",
       "<style scoped>\n",
       "    .dataframe tbody tr th:only-of-type {\n",
       "        vertical-align: middle;\n",
       "    }\n",
       "\n",
       "    .dataframe tbody tr th {\n",
       "        vertical-align: top;\n",
       "    }\n",
       "\n",
       "    .dataframe thead th {\n",
       "        text-align: right;\n",
       "    }\n",
       "</style>\n",
       "<table border=\"1\" class=\"dataframe\">\n",
       "  <thead>\n",
       "    <tr style=\"text-align: right;\">\n",
       "      <th></th>\n",
       "      <th>collection_id</th>\n",
       "      <th>image03_id</th>\n",
       "      <th>dataset_id</th>\n",
       "      <th>subjectkey</th>\n",
       "      <th>src_subject_id</th>\n",
       "      <th>interview_age</th>\n",
       "      <th>image_file</th>\n",
       "      <th>image_description</th>\n",
       "    </tr>\n",
       "  </thead>\n",
       "  <tbody>\n",
       "    <tr>\n",
       "      <th>827</th>\n",
       "      <td>2274</td>\n",
       "      <td>460912</td>\n",
       "      <td>11287</td>\n",
       "      <td>NDAR_INV11LD79PN</td>\n",
       "      <td>9715</td>\n",
       "      <td>372</td>\n",
       "      <td>../../physcosis/Package_1187332/image03/S4164MBS-1-3.zip</td>\n",
       "      <td>ADNI MPRAGE pg7 SENSE</td>\n",
       "    </tr>\n",
       "    <tr>\n",
       "      <th>829</th>\n",
       "      <td>2274</td>\n",
       "      <td>460914</td>\n",
       "      <td>11287</td>\n",
       "      <td>NDAR_INVWRL02K0R</td>\n",
       "      <td>8418</td>\n",
       "      <td>396</td>\n",
       "      <td>../../physcosis/Package_1187332/image03/S9096NNI-1-3.zip</td>\n",
       "      <td>ADNI MPRAGE pg7 SENSE</td>\n",
       "    </tr>\n",
       "    <tr>\n",
       "      <th>831</th>\n",
       "      <td>2274</td>\n",
       "      <td>460916</td>\n",
       "      <td>11287</td>\n",
       "      <td>NDAR_INV5V11KD2W</td>\n",
       "      <td>8871</td>\n",
       "      <td>372</td>\n",
       "      <td>../../physcosis/Package_1187332/image03/S0570LBU-1-3.zip</td>\n",
       "      <td>ADNI MPRAGE pg7 SENSE</td>\n",
       "    </tr>\n",
       "    <tr>\n",
       "      <th>833</th>\n",
       "      <td>2274</td>\n",
       "      <td>460918</td>\n",
       "      <td>11287</td>\n",
       "      <td>NDAR_INV7ACRD6KL</td>\n",
       "      <td>8041</td>\n",
       "      <td>576</td>\n",
       "      <td>../../physcosis/Package_1187332/image03/S5894LBP-1-3.zip</td>\n",
       "      <td>ADNI MPRAGE pg7 SENSE</td>\n",
       "    </tr>\n",
       "    <tr>\n",
       "      <th>835</th>\n",
       "      <td>2274</td>\n",
       "      <td>460920</td>\n",
       "      <td>11287</td>\n",
       "      <td>NDAR_INVRB1F3MW7</td>\n",
       "      <td>8530</td>\n",
       "      <td>276</td>\n",
       "      <td>../../physcosis/Package_1187332/image03/S1866HLF-1-3.zip</td>\n",
       "      <td>ADNI MPRAGE pg7 SENSE</td>\n",
       "    </tr>\n",
       "    <tr>\n",
       "      <th>...</th>\n",
       "      <td>...</td>\n",
       "      <td>...</td>\n",
       "      <td>...</td>\n",
       "      <td>...</td>\n",
       "      <td>...</td>\n",
       "      <td>...</td>\n",
       "      <td>...</td>\n",
       "      <td>...</td>\n",
       "    </tr>\n",
       "    <tr>\n",
       "      <th>9386</th>\n",
       "      <td>2274</td>\n",
       "      <td>461967</td>\n",
       "      <td>11293</td>\n",
       "      <td>NDAR_INVHUUMFYFA</td>\n",
       "      <td>272</td>\n",
       "      <td>456</td>\n",
       "      <td>../../physcosis/Package_1187332/image03/S0658KPN-1-2.zip</td>\n",
       "      <td>Sagittal MPRAGE-like ADNI</td>\n",
       "    </tr>\n",
       "    <tr>\n",
       "      <th>9388</th>\n",
       "      <td>2274</td>\n",
       "      <td>461969</td>\n",
       "      <td>11293</td>\n",
       "      <td>NDAR_INVDT0UDAHE</td>\n",
       "      <td>391</td>\n",
       "      <td>744</td>\n",
       "      <td>../../physcosis/Package_1187332/image03/S8519JOP-1-2.zip</td>\n",
       "      <td>Sagittal MPRAGE-like ADNI</td>\n",
       "    </tr>\n",
       "    <tr>\n",
       "      <th>9390</th>\n",
       "      <td>2274</td>\n",
       "      <td>461971</td>\n",
       "      <td>11293</td>\n",
       "      <td>NDAR_INV9C65L1XA</td>\n",
       "      <td>1409</td>\n",
       "      <td>336</td>\n",
       "      <td>../../physcosis/Package_1187332/image03/S9232RJB-1-2.zip</td>\n",
       "      <td>Sagittal MPRAGE-like ADNI</td>\n",
       "    </tr>\n",
       "    <tr>\n",
       "      <th>9392</th>\n",
       "      <td>2274</td>\n",
       "      <td>461973</td>\n",
       "      <td>11293</td>\n",
       "      <td>NDAR_INVRCC8D3DU</td>\n",
       "      <td>615</td>\n",
       "      <td>276</td>\n",
       "      <td>../../physcosis/Package_1187332/image03/S3383SOA-1-2.zip</td>\n",
       "      <td>Sagittal MPRAGE-like ADNI</td>\n",
       "    </tr>\n",
       "    <tr>\n",
       "      <th>9394</th>\n",
       "      <td>2274</td>\n",
       "      <td>461975</td>\n",
       "      <td>11293</td>\n",
       "      <td>NDAR_INV9053DDZJ</td>\n",
       "      <td>1507</td>\n",
       "      <td>648</td>\n",
       "      <td>../../physcosis/Package_1187332/image03/S8339DPJ-1-2.zip</td>\n",
       "      <td>Sagittal MPRAGE-like ADNI</td>\n",
       "    </tr>\n",
       "  </tbody>\n",
       "</table>\n",
       "<p>1781 rows × 8 columns</p>\n",
       "</div>"
      ],
      "text/plain": [
       "     collection_id image03_id dataset_id        subjectkey src_subject_id  \\\n",
       "827           2274     460912      11287  NDAR_INV11LD79PN           9715   \n",
       "829           2274     460914      11287  NDAR_INVWRL02K0R           8418   \n",
       "831           2274     460916      11287  NDAR_INV5V11KD2W           8871   \n",
       "833           2274     460918      11287  NDAR_INV7ACRD6KL           8041   \n",
       "835           2274     460920      11287  NDAR_INVRB1F3MW7           8530   \n",
       "...            ...        ...        ...               ...            ...   \n",
       "9386          2274     461967      11293  NDAR_INVHUUMFYFA            272   \n",
       "9388          2274     461969      11293  NDAR_INVDT0UDAHE            391   \n",
       "9390          2274     461971      11293  NDAR_INV9C65L1XA           1409   \n",
       "9392          2274     461973      11293  NDAR_INVRCC8D3DU            615   \n",
       "9394          2274     461975      11293  NDAR_INV9053DDZJ           1507   \n",
       "\n",
       "     interview_age                                                image_file  \\\n",
       "827            372  ../../physcosis/Package_1187332/image03/S4164MBS-1-3.zip   \n",
       "829            396  ../../physcosis/Package_1187332/image03/S9096NNI-1-3.zip   \n",
       "831            372  ../../physcosis/Package_1187332/image03/S0570LBU-1-3.zip   \n",
       "833            576  ../../physcosis/Package_1187332/image03/S5894LBP-1-3.zip   \n",
       "835            276  ../../physcosis/Package_1187332/image03/S1866HLF-1-3.zip   \n",
       "...            ...                                                       ...   \n",
       "9386           456  ../../physcosis/Package_1187332/image03/S0658KPN-1-2.zip   \n",
       "9388           744  ../../physcosis/Package_1187332/image03/S8519JOP-1-2.zip   \n",
       "9390           336  ../../physcosis/Package_1187332/image03/S9232RJB-1-2.zip   \n",
       "9392           276  ../../physcosis/Package_1187332/image03/S3383SOA-1-2.zip   \n",
       "9394           648  ../../physcosis/Package_1187332/image03/S8339DPJ-1-2.zip   \n",
       "\n",
       "              image_description  \n",
       "827       ADNI MPRAGE pg7 SENSE  \n",
       "829       ADNI MPRAGE pg7 SENSE  \n",
       "831       ADNI MPRAGE pg7 SENSE  \n",
       "833       ADNI MPRAGE pg7 SENSE  \n",
       "835       ADNI MPRAGE pg7 SENSE  \n",
       "...                         ...  \n",
       "9386  Sagittal MPRAGE-like ADNI  \n",
       "9388  Sagittal MPRAGE-like ADNI  \n",
       "9390  Sagittal MPRAGE-like ADNI  \n",
       "9392  Sagittal MPRAGE-like ADNI  \n",
       "9394  Sagittal MPRAGE-like ADNI  \n",
       "\n",
       "[1781 rows x 8 columns]"
      ]
     },
     "execution_count": 7,
     "metadata": {},
     "output_type": "execute_result"
    }
   ],
   "source": [
    "# drops rows based on rows with bad path and replaces old paths with local paths\n",
    "\n",
    "image03 = image03.drop(rows_with_bad_path)\n",
    "l = []\n",
    "\n",
    "for index, row in image03.iterrows():\n",
    "    image_path = re.sub(regex, '', row['image_file'])\n",
    "    full_path = os.path.join(data_dir, image_path)\n",
    "    l.append(full_path)\n",
    "image03['image_file'] = l\n",
    "image03"
   ]
  },
  {
   "cell_type": "code",
   "execution_count": 8,
   "id": "afraid-transportation",
   "metadata": {},
   "outputs": [
    {
     "name": "stdout",
     "output_type": "stream",
     "text": [
      "(1781, 8)\n",
      "(1331, 8)\n"
     ]
    }
   ],
   "source": [
    "### drop duplicates ###\n",
    "print(image03.shape)\n",
    "image03 = image03.drop_duplicates(subset = ['image_file', 'image_description'])\n",
    "# image03 = image03.drop_duplicates(subset = ['src_subject_id', 'interview_age'])\n",
    "print(image03.shape)"
   ]
  },
  {
   "cell_type": "code",
   "execution_count": 9,
   "id": "lovely-delta",
   "metadata": {},
   "outputs": [
    {
     "data": {
      "text/plain": [
       "image_description\n",
       "ADNI MPRAGE SENSE              15\n",
       "ADNI MPRAGE pg7 SENSE         172\n",
       "Bsnip Sag MPRAGE-like ADNI    291\n",
       "MPRAGE                        170\n",
       "MPRAGE Repeat                  33\n",
       "MPRAGE_SAG                      3\n",
       "MPRAGE_SAG Repeat               3\n",
       "MPRAGE_repeat                  89\n",
       "SAG MPRAGE                    107\n",
       "Sagittal MPRAGE                 1\n",
       "Sagittal MPRAGE-like ADNI      65\n",
       "T1 MPRAGE                     339\n",
       "T1 MPRAGE Repeat                5\n",
       "WIP ADNI MPRAGE pg7 SENSE      38\n",
       "dtype: int64"
      ]
     },
     "execution_count": 9,
     "metadata": {},
     "output_type": "execute_result"
    }
   ],
   "source": [
    "image03.pivot_table(columns = ['image_description'], aggfunc = 'size')"
   ]
  },
  {
   "cell_type": "code",
   "execution_count": 10,
   "id": "qualified-society",
   "metadata": {},
   "outputs": [
    {
     "data": {
      "text/plain": [
       "src_subject_id\n",
       "1           2\n",
       "1003        1\n",
       "1005        1\n",
       "1009        1\n",
       "1011        1\n",
       "           ..\n",
       "9986        1\n",
       "S0623YIO    2\n",
       "S2179ENY    2\n",
       "S3430UFJ    2\n",
       "S7976JLE    2\n",
       "Length: 1092, dtype: int64"
      ]
     },
     "execution_count": 10,
     "metadata": {},
     "output_type": "execute_result"
    }
   ],
   "source": [
    "image03.pivot_table(columns = ['src_subject_id'], aggfunc = 'size')"
   ]
  },
  {
   "cell_type": "code",
   "execution_count": 11,
   "id": "satisfied-attachment",
   "metadata": {},
   "outputs": [
    {
     "data": {
      "text/html": [
       "<div>\n",
       "<style scoped>\n",
       "    .dataframe tbody tr th:only-of-type {\n",
       "        vertical-align: middle;\n",
       "    }\n",
       "\n",
       "    .dataframe tbody tr th {\n",
       "        vertical-align: top;\n",
       "    }\n",
       "\n",
       "    .dataframe thead th {\n",
       "        text-align: right;\n",
       "    }\n",
       "</style>\n",
       "<table border=\"1\" class=\"dataframe\">\n",
       "  <thead>\n",
       "    <tr style=\"text-align: right;\">\n",
       "      <th></th>\n",
       "      <th>collection_id</th>\n",
       "      <th>image03_id</th>\n",
       "      <th>dataset_id</th>\n",
       "      <th>subjectkey</th>\n",
       "      <th>src_subject_id</th>\n",
       "      <th>interview_age</th>\n",
       "      <th>image_file</th>\n",
       "      <th>image_description</th>\n",
       "    </tr>\n",
       "  </thead>\n",
       "  <tbody>\n",
       "    <tr>\n",
       "      <th>2269</th>\n",
       "      <td>2274</td>\n",
       "      <td>463300</td>\n",
       "      <td>11335</td>\n",
       "      <td>NDAR_INVAMUZFD5D</td>\n",
       "      <td>S0623YIO</td>\n",
       "      <td>552</td>\n",
       "      <td>../../physcosis/Package_1187332/image03/S0623YIO-1-2.zip</td>\n",
       "      <td>SAG MPRAGE</td>\n",
       "    </tr>\n",
       "    <tr>\n",
       "      <th>2270</th>\n",
       "      <td>2274</td>\n",
       "      <td>463301</td>\n",
       "      <td>11335</td>\n",
       "      <td>NDAR_INVAMUZFD5D</td>\n",
       "      <td>S0623YIO</td>\n",
       "      <td>552</td>\n",
       "      <td>../../physcosis/Package_1187332/image03/S0623YIO-1-3.zip</td>\n",
       "      <td>SAG MPRAGE</td>\n",
       "    </tr>\n",
       "  </tbody>\n",
       "</table>\n",
       "</div>"
      ],
      "text/plain": [
       "     collection_id image03_id dataset_id        subjectkey src_subject_id  \\\n",
       "2269          2274     463300      11335  NDAR_INVAMUZFD5D       S0623YIO   \n",
       "2270          2274     463301      11335  NDAR_INVAMUZFD5D       S0623YIO   \n",
       "\n",
       "     interview_age                                                image_file  \\\n",
       "2269           552  ../../physcosis/Package_1187332/image03/S0623YIO-1-2.zip   \n",
       "2270           552  ../../physcosis/Package_1187332/image03/S0623YIO-1-3.zip   \n",
       "\n",
       "     image_description  \n",
       "2269        SAG MPRAGE  \n",
       "2270        SAG MPRAGE  "
      ]
     },
     "execution_count": 11,
     "metadata": {},
     "output_type": "execute_result"
    }
   ],
   "source": [
    "image03[image03['src_subject_id'] == 'S0623YIO']"
   ]
  },
  {
   "cell_type": "markdown",
   "id": "double-brazilian",
   "metadata": {},
   "source": [
    "## Preprocess test"
   ]
  },
  {
   "cell_type": "code",
   "execution_count": 12,
   "id": "baking-performance",
   "metadata": {},
   "outputs": [
    {
     "name": "stdout",
     "output_type": "stream",
     "text": [
      "968\n",
      "Index(['collection_id', 'panss01_id', 'dataset_id', 'subjectkey',\n",
      "       'src_subject_id', 'interview_age', 'sex', 'panss_general',\n",
      "       'panss_negative', 'panss_positive', 'panss_total', 'pos_p1', 'pos_p2',\n",
      "       'pos_p3', 'pos_p4', 'pos_p5', 'pos_p6', 'pos_p7', 'neg_n1', 'neg_n2',\n",
      "       'neg_n3', 'neg_n4', 'neg_n5', 'neg_n6', 'neg_n7', 'gps_g1', 'gps_g2',\n",
      "       'gps_g3', 'gps_g4', 'gps_g5', 'gps_g6', 'gps_g7', 'gps_g8', 'gps_g9',\n",
      "       'gps_g10', 'gps_g11', 'gps_g12', 'gps_g13', 'gps_g14', 'gps_g15',\n",
      "       'gps_g16', 'collection_title'],\n",
      "      dtype='object')\n",
      "(1779, 42)\n"
     ]
    },
    {
     "data": {
      "text/plain": [
       "src_subject_id                              interview_age                                                    \n",
       "1                                           252                                                                  2\n",
       "1005                                        624                                                                  2\n",
       "1027                                        216                                                                  2\n",
       "1033                                        312                                                                  2\n",
       "1058                                        456                                                                  2\n",
       "                                                                                                                ..\n",
       "9894                                        384                                                                  3\n",
       "9910                                        564                                                                  3\n",
       "9919                                        444                                                                  3\n",
       "9923                                        552                                                                  3\n",
       "Subject ID how it's defined in lab/project  Age in months at the time of the interview/test/sampling/imaging.    1\n",
       "Length: 968, dtype: int64"
      ]
     },
     "execution_count": 12,
     "metadata": {},
     "output_type": "execute_result"
    }
   ],
   "source": [
    "# count number of unique subject ids in the panss test \n",
    "print(test['src_subject_id'].nunique())\n",
    "print(test.columns)\n",
    "print(test.shape)\n",
    "# I think only these are needed change is using another test\n",
    "test = test[['src_subject_id', 'interview_age', 'panss_general',\n",
    "       'panss_negative', 'panss_positive', 'pos_p1', 'pos_p2', 'pos_p3',\n",
    "       'pos_p4', 'pos_p5', 'pos_p6', 'pos_p7', 'neg_n1', 'neg_n2', 'neg_n3',\n",
    "       'neg_n4', 'neg_n5', 'neg_n6', 'neg_n7', 'gps_g1', 'gps_g2', 'gps_g3',\n",
    "       'gps_g4', 'gps_g5', 'gps_g6', 'gps_g7', 'gps_g8', 'gps_g9', 'gps_g10',\n",
    "       'gps_g11', 'gps_g12', 'gps_g13', 'gps_g14', 'gps_g15', 'gps_g16']]\n",
    "test.pivot_table(columns = ['src_subject_id', 'interview_age'], aggfunc = 'size')\n"
   ]
  },
  {
   "cell_type": "code",
   "execution_count": 13,
   "id": "material-conspiracy",
   "metadata": {},
   "outputs": [
    {
     "name": "stdout",
     "output_type": "stream",
     "text": [
      "(968, 35)\n"
     ]
    }
   ],
   "source": [
    "# drop duplicate tests for subjects\n",
    "test = test.drop_duplicates(subset = ['src_subject_id', 'interview_age'])\n",
    "print(test.shape)"
   ]
  },
  {
   "cell_type": "markdown",
   "id": "herbal-glucose",
   "metadata": {},
   "source": [
    "## Preprocess ndar_subject"
   ]
  },
  {
   "cell_type": "code",
   "execution_count": 14,
   "id": "outdoor-listing",
   "metadata": {},
   "outputs": [
    {
     "name": "stdout",
     "output_type": "stream",
     "text": [
      "(4404, 26)\n"
     ]
    },
    {
     "data": {
      "text/plain": [
       "src_subject_id                              interview_age                                                    \n",
       "1                                           252                                                                  2\n",
       "1003                                        300                                                                  2\n",
       "1005                                        624                                                                  2\n",
       "1009                                        216                                                                  2\n",
       "1011                                        588                                                                  2\n",
       "                                                                                                                ..\n",
       "9986                                        744                                                                  4\n",
       "999                                         348                                                                  2\n",
       "9995                                        456                                                                  2\n",
       "9997                                        696                                                                  2\n",
       "Subject ID how it's defined in lab/project  Age in months at the time of the interview/test/sampling/imaging.    1\n",
       "Length: 2403, dtype: int64"
      ]
     },
     "execution_count": 14,
     "metadata": {},
     "output_type": "execute_result"
    }
   ],
   "source": [
    "print(ndar_subject.shape)\n",
    "ndar_subject.pivot_table(columns = ['src_subject_id', 'interview_age'], aggfunc = 'size')"
   ]
  },
  {
   "cell_type": "code",
   "execution_count": 15,
   "id": "precise-bronze",
   "metadata": {
    "scrolled": true
   },
   "outputs": [
    {
     "name": "stdout",
     "output_type": "stream",
     "text": [
      "(4404, 26)\n",
      "(2416, 26)\n"
     ]
    }
   ],
   "source": [
    "print(ndar_subject.shape)\n",
    "ndar_subject = ndar_subject.drop_duplicates(subset = ['src_subject_id', 'interview_age'])\n",
    "print(ndar_subject.shape)"
   ]
  },
  {
   "cell_type": "markdown",
   "id": "constant-awareness",
   "metadata": {},
   "source": [
    "## Join dataframes"
   ]
  },
  {
   "cell_type": "code",
   "execution_count": 16,
   "id": "absent-helmet",
   "metadata": {
    "scrolled": false
   },
   "outputs": [
    {
     "name": "stdout",
     "output_type": "stream",
     "text": [
      "1448  not in test but in ndar out of total in ndar  2416\n",
      "1369  not in image03 but in ndar out of total in ndar  2416\n",
      "0  not in ndar but in test out of total in test  968\n",
      "486  not in image03 but in test out of total in test  968\n",
      "747  not in test but in image03 out of total in image03  1331\n",
      "71  not in ndar_subject but in image03 out of total in image03  1331\n"
     ]
    }
   ],
   "source": [
    "s = 0\n",
    "for i in ndar_subject[['src_subject_id', 'interview_age']].values.tolist():\n",
    "    if i not in test[['src_subject_id', 'interview_age']].values.tolist():\n",
    "        s = s + 1\n",
    "print(s, \" not in test but in ndar out of total in ndar \", ndar_subject.shape[0])\n",
    "\n",
    "\n",
    "\n",
    "s = 0\n",
    "for i in ndar_subject[['src_subject_id', 'interview_age']].values.tolist():\n",
    "    if i not in image03[['src_subject_id', 'interview_age']].values.tolist():\n",
    "        s = s + 1\n",
    "print(s, \" not in image03 but in ndar out of total in ndar \", ndar_subject.shape[0])\n",
    "\n",
    "\n",
    "\n",
    "\n",
    "s = 0\n",
    "for i in test[['src_subject_id', 'interview_age']].values.tolist():\n",
    "    if i not in ndar_subject[['src_subject_id', 'interview_age']].values.tolist():\n",
    "        s = s + 1\n",
    "print(s, \" not in ndar but in test out of total in test \", test.shape[0])\n",
    "\n",
    "\n",
    "\n",
    "s = 0\n",
    "for i in test[['src_subject_id', 'interview_age']].values.tolist():\n",
    "    if i not in image03[['src_subject_id', 'interview_age']].values.tolist():\n",
    "        s = s + 1\n",
    "print(s, \" not in image03 but in test out of total in test \", test.shape[0])\n",
    "\n",
    "\n",
    "\n",
    "s = 0\n",
    "for i in image03[['src_subject_id', 'interview_age']].values.tolist():\n",
    "    if i not in test[['src_subject_id', 'interview_age']].values.tolist():\n",
    "        s = s + 1\n",
    "print(s, \" not in test but in image03 out of total in image03 \", image03.shape[0])\n",
    "\n",
    "\n",
    "s = 0\n",
    "for i in image03[['src_subject_id', 'interview_age']].values.tolist():\n",
    "    if i not in ndar_subject[['src_subject_id', 'interview_age']].values.tolist():\n",
    "        s = s + 1\n",
    "print(s, \" not in ndar_subject but in image03 out of total in image03 \", image03.shape[0])\n"
   ]
  },
  {
   "cell_type": "code",
   "execution_count": 17,
   "id": "liquid-twelve",
   "metadata": {
    "scrolled": true
   },
   "outputs": [
    {
     "name": "stdout",
     "output_type": "stream",
     "text": [
      "(1260, 32)\n",
      "482\n",
      "Index(['collection_id_x', 'image03_id', 'dataset_id_x', 'subjectkey_x',\n",
      "       'src_subject_id', 'interview_age', 'image_file', 'image_description',\n",
      "       'collection_id_y', 'ndar_subject01_id', 'dataset_id_y', 'subjectkey_y',\n",
      "       'sex', 'race', 'phenotype', 'phenotype_description', 'twins_study',\n",
      "       'sibling_study', 'family_study', 'family_user_def_id', 'src_mother_id',\n",
      "       'src_father_id', 'src_sibling1_id', 'sibling_type1', 'src_sibling2_id',\n",
      "       'sibling_type2', 'src_sibling3_id', 'sibling_type3', 'src_sibling4_id',\n",
      "       'sibling_type4', 'sample_taken', 'collection_title', 'panss_general',\n",
      "       'panss_negative', 'panss_positive', 'pos_p1', 'pos_p2', 'pos_p3',\n",
      "       'pos_p4', 'pos_p5', 'pos_p6', 'pos_p7', 'neg_n1', 'neg_n2', 'neg_n3',\n",
      "       'neg_n4', 'neg_n5', 'neg_n6', 'neg_n7', 'gps_g1', 'gps_g2', 'gps_g3',\n",
      "       'gps_g4', 'gps_g5', 'gps_g6', 'gps_g7', 'gps_g8', 'gps_g9', 'gps_g10',\n",
      "       'gps_g11', 'gps_g12', 'gps_g13', 'gps_g14', 'gps_g15', 'gps_g16'],\n",
      "      dtype='object')\n",
      "(584, 65)\n"
     ]
    }
   ],
   "source": [
    "res1 = image03.merge(ndar_subject, on = ['src_subject_id', 'interview_age'], how = 'inner')\n",
    "print(res1.shape)\n",
    "res2 = res1.merge(test,  on = ['src_subject_id', 'interview_age'], how = 'inner')\n",
    "\n",
    "\n",
    "print(res2['src_subject_id'].nunique())\n",
    "print(res2.columns)\n",
    "print(res2.shape)"
   ]
  },
  {
   "cell_type": "code",
   "execution_count": 18,
   "id": "radio-profession",
   "metadata": {},
   "outputs": [
    {
     "data": {
      "text/plain": [
       "src_subject_id  interview_age\n",
       "1               252              2\n",
       "1005            624              1\n",
       "1033            312              1\n",
       "1058            456              1\n",
       "1063            324              1\n",
       "1082            264              1\n",
       "110             324              1\n",
       "1108            360              1\n",
       "1115            336              1\n",
       "1155            396              1\n",
       "116             312              1\n",
       "1226            312              1\n",
       "1228            288              1\n",
       "1236            588              1\n",
       "1258            252              1\n",
       "1260            408              1\n",
       "1280            216              1\n",
       "1294            396              1\n",
       "1304            540              1\n",
       "1336            612              1\n",
       "1344            288              2\n",
       "1347            456              1\n",
       "135             432              1\n",
       "1373            300              1\n",
       "1383            216              1\n",
       "1386            360              1\n",
       "1396            252              1\n",
       "1412            252              1\n",
       "1418            288              1\n",
       "1428            504              1\n",
       "1445            228              1\n",
       "1458            516              1\n",
       "1461            240              1\n",
       "1462            516              3\n",
       "1471            636              2\n",
       "1494            240              1\n",
       "1509            468              1\n",
       "1537            660              1\n",
       "1540            336              1\n",
       "1562            504              1\n",
       "1587            288              1\n",
       "1597            660              1\n",
       "160             324              1\n",
       "161             720              1\n",
       "1612            516              1\n",
       "1654            588              1\n",
       "1663            408              1\n",
       "1669            528              1\n",
       "1673            564              1\n",
       "1680            348              1\n",
       "1691            300              1\n",
       "1695            312              1\n",
       "17              324              1\n",
       "1700            552              1\n",
       "1717            324              1\n",
       "1725            396              1\n",
       "1736            288              1\n",
       "175             528              1\n",
       "1755            684              1\n",
       "1788            312              1\n",
       "1790            264              1\n",
       "1818            468              1\n",
       "1825            588              1\n",
       "1837            312              1\n",
       "1838            204              2\n",
       "1840            720              2\n",
       "1884            396              1\n",
       "1886            468              1\n",
       "1902            720              1\n",
       "1908            444              1\n",
       "1928            492              1\n",
       "1948            456              1\n",
       "1971            312              1\n",
       "1978            216              1\n",
       "2002            468              1\n",
       "2019            396              1\n",
       "2024            588              1\n",
       "2028            444              1\n",
       "2033            300              1\n",
       "2039            396              1\n",
       "2049            480              1\n",
       "2070            288              1\n",
       "2091            276              1\n",
       "2092            432              1\n",
       "2097            636              1\n",
       "2117            540              1\n",
       "2122            732              1\n",
       "2123            372              1\n",
       "2127            336              1\n",
       "2141            660              1\n",
       "2142            612              1\n",
       "2176            444              1\n",
       "219             600              1\n",
       "2203            540              1\n",
       "2215            696              1\n",
       "2219            372              1\n",
       "2236            252              1\n",
       "2245            288              1\n",
       "2246            276              1\n",
       "2255            300              1\n",
       "2278            252              1\n",
       "2300            600              1\n",
       "2301            636              1\n",
       "2303            312              1\n",
       "2304            444              1\n",
       "2353            420              1\n",
       "239             372              1\n",
       "241             288              1\n",
       "2413            624              1\n",
       "2425            252              1\n",
       "2435            600              1\n",
       "2438            420              1\n",
       "2456            540              1\n",
       "2475            660              1\n",
       "2486            636              1\n",
       "2487            288              1\n",
       "2492            360              1\n",
       "2494            564              1\n",
       "2496            696              1\n",
       "2503            348              1\n",
       "251             648              1\n",
       "2512            732              1\n",
       "2523            780              1\n",
       "2525            228              1\n",
       "2531            540              1\n",
       "2548            552              1\n",
       "2574            456              1\n",
       "2584            564              1\n",
       "2588            732              1\n",
       "259             384              1\n",
       "2611            624              1\n",
       "2614            528              1\n",
       "2634            504              1\n",
       "264             504              1\n",
       "2641            312              1\n",
       "2653            552              1\n",
       "2655            372              1\n",
       "2660            444              1\n",
       "2667            780              1\n",
       "2668            432              2\n",
       "2698            504              1\n",
       "2721            528              1\n",
       "2732            540              1\n",
       "2739            552              1\n",
       "2741            264              1\n",
       "2749            600              1\n",
       "275             648              1\n",
       "2753            732              1\n",
       "2767            624              1\n",
       "2775            276              1\n",
       "2808            600              1\n",
       "2809            312              1\n",
       "282             276              1\n",
       "2828            672              1\n",
       "2855            348              1\n",
       "2860            600              1\n",
       "2884            252              1\n",
       "2894            648              1\n",
       "2909            348              1\n",
       "2921            372              1\n",
       "2924            276              2\n",
       "2940            624              1\n",
       "2969            576              1\n",
       "2971            240              1\n",
       "2985            456              1\n",
       "2995            444              1\n",
       "3011            588              1\n",
       "3034            288              1\n",
       "3037            492              1\n",
       "305             408              1\n",
       "3053            276              1\n",
       "3074            636              1\n",
       "3080            552              1\n",
       "3082            420              1\n",
       "3094            396              1\n",
       "3107            336              1\n",
       "3114            672              1\n",
       "3117            528              1\n",
       "3127            348              1\n",
       "3139            372              1\n",
       "3149            276              1\n",
       "3173            624              1\n",
       "3182            300              1\n",
       "3191            456              1\n",
       "320             540              1\n",
       "3201            612              1\n",
       "3206            264              1\n",
       "3231            264              1\n",
       "3232            528              1\n",
       "3259            300              1\n",
       "3265            504              1\n",
       "3273            300              1\n",
       "3278            504              1\n",
       "3279            444              1\n",
       "3304            660              1\n",
       "3312            300              1\n",
       "3316            336              1\n",
       "332             408              1\n",
       "334             456              1\n",
       "3356            636              1\n",
       "3378            264              1\n",
       "3382            528              1\n",
       "3405            564              1\n",
       "3413            612              1\n",
       "3441            552              1\n",
       "3443            264              1\n",
       "3448            396              1\n",
       "3453            276              1\n",
       "3455            264              1\n",
       "347             456              1\n",
       "3476            528              1\n",
       "3478            216              1\n",
       "3494            324              1\n",
       "3517            456              1\n",
       "3521            300              1\n",
       "3527            216              1\n",
       "3530            624              1\n",
       "3531            228              1\n",
       "3533            504              2\n",
       "3554            216              1\n",
       "3576            288              1\n",
       "3584            444              1\n",
       "360             444              1\n",
       "3612            504              2\n",
       "3613            336              1\n",
       "3631            288              1\n",
       "3654            480              1\n",
       "3656            252              1\n",
       "3665            552              1\n",
       "3667            564              1\n",
       "3670            228              1\n",
       "3672            492              1\n",
       "3687            228              2\n",
       "3693            612              1\n",
       "3697            480              1\n",
       "3702            324              1\n",
       "371             612              2\n",
       "3743            684              1\n",
       "3757            312              1\n",
       "3758            600              1\n",
       "3782            276              1\n",
       "3793            276              1\n",
       "3813            324              1\n",
       "3819            300              1\n",
       "3824            576              1\n",
       "3848            756              1\n",
       "3863            336              1\n",
       "3864            636              1\n",
       "3906            612              1\n",
       "3922            444              1\n",
       "3931            648              1\n",
       "3944            324              1\n",
       "395             336              2\n",
       "3960            612              1\n",
       "3984            264              1\n",
       "4               228              1\n",
       "406             348              1\n",
       "421             204              1\n",
       "443             516              1\n",
       "502             276              1\n",
       "508             324              1\n",
       "517             276              1\n",
       "523             192              1\n",
       "536             420              1\n",
       "55              252              1\n",
       "560             384              1\n",
       "569             384              1\n",
       "572             384              1\n",
       "6028            468              3\n",
       "6048            588              4\n",
       "6049            228              2\n",
       "6078            588              2\n",
       "6104            684              2\n",
       "6108            324              2\n",
       "6180            540              2\n",
       "6216            324              2\n",
       "6241            300              3\n",
       "6264            312              2\n",
       "631             300              1\n",
       "632             336              1\n",
       "6350            228              2\n",
       "6372            456              2\n",
       "6401            360              3\n",
       "6425            444              2\n",
       "6441            444              2\n",
       "646             588              1\n",
       "6496            600              2\n",
       "650             624              2\n",
       "6559            192              2\n",
       "6589            360              2\n",
       "6611            360              2\n",
       "6682            384              2\n",
       "6705            396              3\n",
       "6762            420              2\n",
       "6766            360              2\n",
       "6775            264              2\n",
       "678             540              1\n",
       "6794            612              2\n",
       "6842            264              2\n",
       "6856            228              4\n",
       "6900            276              2\n",
       "6902            264              2\n",
       "6903            780              2\n",
       "6960            216              2\n",
       "6975            504              2\n",
       "6976            372              2\n",
       "7043            228              2\n",
       "7044            600              2\n",
       "7055            612              2\n",
       "7059            540              2\n",
       "7063            228              2\n",
       "7110            432              2\n",
       "7113            312              2\n",
       "7118            492              2\n",
       "7131            480              2\n",
       "7164            312              2\n",
       "7193            312              2\n",
       "723             240              1\n",
       "7242            540              2\n",
       "7245            216              2\n",
       "7257            636              2\n",
       "7266            312              2\n",
       "7274            492              2\n",
       "7275            552              2\n",
       "7288            264              2\n",
       "73              672              1\n",
       "730             312              1\n",
       "734             672              2\n",
       "7353            564              2\n",
       "7388            336              2\n",
       "7391            732              2\n",
       "7394            612              2\n",
       "7418            528              3\n",
       "7419            552              2\n",
       "7495            348              2\n",
       "7529            576              2\n",
       "7574            180              2\n",
       "760             384              1\n",
       "7618            264              2\n",
       "7656            252              2\n",
       "7677            252              2\n",
       "7729            324              2\n",
       "7743            180              2\n",
       "7771            204              2\n",
       "7775            624              2\n",
       "7784            408              2\n",
       "7788            588              2\n",
       "78              564              1\n",
       "7826            672              2\n",
       "784             228              1\n",
       "7853            708              2\n",
       "7878            240              2\n",
       "794             564              1\n",
       "7966            456              3\n",
       "7988            336              2\n",
       "7998            528              2\n",
       "800             228              1\n",
       "801             288              1\n",
       "8020            516              1\n",
       "8027            204              1\n",
       "8041            576              1\n",
       "8055            288              1\n",
       "8085            528              1\n",
       "8093            744              1\n",
       "8109            576              1\n",
       "8121            312              1\n",
       "8135            312              1\n",
       "814             216              1\n",
       "8140            720              1\n",
       "8196            576              1\n",
       "8234            288              1\n",
       "8246            468              1\n",
       "8259            744              1\n",
       "8278            456              1\n",
       "8286            300              1\n",
       "8303            636              1\n",
       "8321            204              1\n",
       "833             312              1\n",
       "8372            732              1\n",
       "8388            420              1\n",
       "8391            480              1\n",
       "8418            396              1\n",
       "8429            624              1\n",
       "8459            396              1\n",
       "8489            204              1\n",
       "8502            516              1\n",
       "8503            516              1\n",
       "8510            396              1\n",
       "8513            264              1\n",
       "8530            276              1\n",
       "8565            276              1\n",
       "8598            180              1\n",
       "8620            228              1\n",
       "8657            612              1\n",
       "8695            672              1\n",
       "8727            216              1\n",
       "8732            408              1\n",
       "8754            660              1\n",
       "8773            600              1\n",
       "8779            216              1\n",
       "8784            528              1\n",
       "885             600              1\n",
       "8859            684              1\n",
       "8863            408              1\n",
       "8895            552              1\n",
       "8896            564              1\n",
       "8904            480              1\n",
       "8906            588              1\n",
       "891             684              1\n",
       "8911            504              1\n",
       "8928            432              1\n",
       "8969            504              1\n",
       "8996            456              1\n",
       "9002            612              1\n",
       "9008            588              1\n",
       "9026            204              1\n",
       "9038            432              1\n",
       "9044            420              1\n",
       "9061            564              1\n",
       "9066            540              1\n",
       "9079            660              1\n",
       "9089            480              1\n",
       "9102            324              1\n",
       "912             672              1\n",
       "9123            456              1\n",
       "9135            252              1\n",
       "914             276              1\n",
       "9159            468              1\n",
       "918             228              1\n",
       "9182            600              1\n",
       "92              252              1\n",
       "9205            408              1\n",
       "9208            504              1\n",
       "9218            432              1\n",
       "9230            252              1\n",
       "9258            540              1\n",
       "9261            324              1\n",
       "9282            396              1\n",
       "9283            372              1\n",
       "9314            408              1\n",
       "9323            684              1\n",
       "9328            264              1\n",
       "9330            468              1\n",
       "9331            288              1\n",
       "9339            600              1\n",
       "9344            420              1\n",
       "9384            252              1\n",
       "9422            360              1\n",
       "9425            600              1\n",
       "944             612              1\n",
       "9463            492              1\n",
       "9474            360              1\n",
       "9477            744              1\n",
       "9513            336              1\n",
       "952             288              1\n",
       "9537            648              1\n",
       "955             384              1\n",
       "957             312              1\n",
       "9630            480              1\n",
       "964             276              1\n",
       "9645            612              1\n",
       "9648            612              1\n",
       "9659            300              1\n",
       "9667            336              1\n",
       "9681            324              1\n",
       "970             564              1\n",
       "9707            252              1\n",
       "9717            480              1\n",
       "9758            576              1\n",
       "9776            516              1\n",
       "9795            324              1\n",
       "9804            576              1\n",
       "9810            540              1\n",
       "9815            480              1\n",
       "982             540              2\n",
       "9830            228              1\n",
       "9836            420              1\n",
       "9850            528              1\n",
       "9861            672              1\n",
       "9866            444              1\n",
       "9893            444              1\n",
       "9923            552              1\n",
       "dtype: int64"
      ]
     },
     "execution_count": 18,
     "metadata": {},
     "output_type": "execute_result"
    }
   ],
   "source": [
    "master_table = res2\n",
    "master_table.pivot_table(columns = ['src_subject_id', 'interview_age'], aggfunc = 'size')"
   ]
  },
  {
   "cell_type": "code",
   "execution_count": 19,
   "id": "quiet-grove",
   "metadata": {},
   "outputs": [
    {
     "data": {
      "text/html": [
       "<div>\n",
       "<style scoped>\n",
       "    .dataframe tbody tr th:only-of-type {\n",
       "        vertical-align: middle;\n",
       "    }\n",
       "\n",
       "    .dataframe tbody tr th {\n",
       "        vertical-align: top;\n",
       "    }\n",
       "\n",
       "    .dataframe thead th {\n",
       "        text-align: right;\n",
       "    }\n",
       "</style>\n",
       "<table border=\"1\" class=\"dataframe\">\n",
       "  <thead>\n",
       "    <tr style=\"text-align: right;\">\n",
       "      <th></th>\n",
       "      <th>collection_id_x</th>\n",
       "      <th>image03_id</th>\n",
       "      <th>dataset_id_x</th>\n",
       "      <th>subjectkey_x</th>\n",
       "      <th>src_subject_id</th>\n",
       "      <th>interview_age</th>\n",
       "      <th>image_file</th>\n",
       "      <th>image_description</th>\n",
       "      <th>collection_id_y</th>\n",
       "      <th>ndar_subject01_id</th>\n",
       "      <th>...</th>\n",
       "      <th>gps_g7</th>\n",
       "      <th>gps_g8</th>\n",
       "      <th>gps_g9</th>\n",
       "      <th>gps_g10</th>\n",
       "      <th>gps_g11</th>\n",
       "      <th>gps_g12</th>\n",
       "      <th>gps_g13</th>\n",
       "      <th>gps_g14</th>\n",
       "      <th>gps_g15</th>\n",
       "      <th>gps_g16</th>\n",
       "    </tr>\n",
       "  </thead>\n",
       "  <tbody>\n",
       "    <tr>\n",
       "      <th>480</th>\n",
       "      <td>2274</td>\n",
       "      <td>462042</td>\n",
       "      <td>11293</td>\n",
       "      <td>NDAR_INVTJ6DFRKG</td>\n",
       "      <td>1</td>\n",
       "      <td>252</td>\n",
       "      <td>../../physcosis/Package_1187332/image03/S7644TYV-2-2.zip</td>\n",
       "      <td>MPRAGE</td>\n",
       "      <td>2274</td>\n",
       "      <td>323699</td>\n",
       "      <td>...</td>\n",
       "      <td>2</td>\n",
       "      <td>2</td>\n",
       "      <td>3</td>\n",
       "      <td>2</td>\n",
       "      <td>2</td>\n",
       "      <td>2</td>\n",
       "      <td>2</td>\n",
       "      <td>2</td>\n",
       "      <td>2</td>\n",
       "      <td>2</td>\n",
       "    </tr>\n",
       "    <tr>\n",
       "      <th>481</th>\n",
       "      <td>2274</td>\n",
       "      <td>462043</td>\n",
       "      <td>11293</td>\n",
       "      <td>NDAR_INVTJ6DFRKG</td>\n",
       "      <td>1</td>\n",
       "      <td>252</td>\n",
       "      <td>../../physcosis/Package_1187332/image03/S7644TYV-2-3.zip</td>\n",
       "      <td>MPRAGE Repeat</td>\n",
       "      <td>2274</td>\n",
       "      <td>323699</td>\n",
       "      <td>...</td>\n",
       "      <td>2</td>\n",
       "      <td>2</td>\n",
       "      <td>3</td>\n",
       "      <td>2</td>\n",
       "      <td>2</td>\n",
       "      <td>2</td>\n",
       "      <td>2</td>\n",
       "      <td>2</td>\n",
       "      <td>2</td>\n",
       "      <td>2</td>\n",
       "    </tr>\n",
       "  </tbody>\n",
       "</table>\n",
       "<p>2 rows × 65 columns</p>\n",
       "</div>"
      ],
      "text/plain": [
       "    collection_id_x image03_id dataset_id_x      subjectkey_x src_subject_id  \\\n",
       "480            2274     462042        11293  NDAR_INVTJ6DFRKG              1   \n",
       "481            2274     462043        11293  NDAR_INVTJ6DFRKG              1   \n",
       "\n",
       "    interview_age                                                image_file  \\\n",
       "480           252  ../../physcosis/Package_1187332/image03/S7644TYV-2-2.zip   \n",
       "481           252  ../../physcosis/Package_1187332/image03/S7644TYV-2-3.zip   \n",
       "\n",
       "    image_description collection_id_y ndar_subject01_id  ... gps_g7 gps_g8  \\\n",
       "480            MPRAGE            2274            323699  ...      2      2   \n",
       "481     MPRAGE Repeat            2274            323699  ...      2      2   \n",
       "\n",
       "    gps_g9 gps_g10 gps_g11 gps_g12 gps_g13 gps_g14 gps_g15 gps_g16  \n",
       "480      3       2       2       2       2       2       2       2  \n",
       "481      3       2       2       2       2       2       2       2  \n",
       "\n",
       "[2 rows x 65 columns]"
      ]
     },
     "execution_count": 19,
     "metadata": {},
     "output_type": "execute_result"
    }
   ],
   "source": [
    "master_table[master_table['src_subject_id'] == '1']"
   ]
  },
  {
   "cell_type": "code",
   "execution_count": 25,
   "id": "worth-signature",
   "metadata": {},
   "outputs": [
    {
     "data": {
      "text/plain": [
       "'../../physcosis/Package_1187332/image03/CLEAN'"
      ]
     },
     "execution_count": 25,
     "metadata": {},
     "output_type": "execute_result"
    }
   ],
   "source": [
    "clean_dir = os.path.join(data_dir, 'CLEAN')\n",
    "\n",
    "if not os.path.exists(clean_dir):\n",
    "    os.mkdir(clean_dir)\n",
    "clean_dir"
   ]
  },
  {
   "cell_type": "code",
   "execution_count": 28,
   "id": "ranking-squad",
   "metadata": {
    "scrolled": true
   },
   "outputs": [],
   "source": [
    "for i,row in master_table.iterrows():\n",
    "    file_name = row['image_file'].split('/')[-1]\n",
    "    folder = os.path.join(clean_dir,file_name.split('.')[0])\n",
    "    if not os.path.exists(folder):\n",
    "        os.system('mkdir ' + folder)\n",
    "        os.system('unzip ' + row['image_file'] + ' -d ' + folder)\n",
    "        print('Unziped and moved ', file_name)\n",
    "        "
   ]
  },
  {
   "cell_type": "code",
   "execution_count": 29,
   "id": "reverse-intervention",
   "metadata": {},
   "outputs": [
    {
     "name": "stdout",
     "output_type": "stream",
     "text": [
      "584\n"
     ]
    }
   ],
   "source": [
    "print(len(os.listdir(clean_dir)))"
   ]
  },
  {
   "cell_type": "code",
   "execution_count": 36,
   "id": "ultimate-quebec",
   "metadata": {},
   "outputs": [
    {
     "name": "stderr",
     "output_type": "stream",
     "text": [
      "\r",
      "  0%|          | 0/584 [00:00<?, ?it/s]"
     ]
    },
    {
     "name": "stdout",
     "output_type": "stream",
     "text": [
      "../../physcosis/Package_1187332/image03/CLEAN/S9096NNI-1-3\n",
      "Converting S9096NNI-1-3  from dicom to niftii.\n"
     ]
    },
    {
     "name": "stderr",
     "output_type": "stream",
     "text": [
      "\r",
      "  0%|          | 1/584 [00:00<08:26,  1.15it/s]"
     ]
    },
    {
     "name": "stdout",
     "output_type": "stream",
     "text": [
      "S9096NNI-1-3  Failed.\n",
      "../../physcosis/Package_1187332/image03/CLEAN/S5894LBP-1-3\n",
      "Converting S5894LBP-1-3  from dicom to niftii.\n"
     ]
    },
    {
     "name": "stderr",
     "output_type": "stream",
     "text": [
      "\r",
      "  0%|          | 2/584 [00:01<06:40,  1.45it/s]"
     ]
    },
    {
     "name": "stdout",
     "output_type": "stream",
     "text": [
      "S5894LBP-1-3  Failed.\n",
      "../../physcosis/Package_1187332/image03/CLEAN/S1866HLF-1-3\n",
      "Converting S1866HLF-1-3  from dicom to niftii.\n"
     ]
    },
    {
     "name": "stderr",
     "output_type": "stream",
     "text": [
      "\r",
      "  1%|          | 3/584 [00:01<06:05,  1.59it/s]"
     ]
    },
    {
     "name": "stdout",
     "output_type": "stream",
     "text": [
      "S1866HLF-1-3  Failed.\n",
      "../../physcosis/Package_1187332/image03/CLEAN/S2812QBT-1-3\n",
      "Converting S2812QBT-1-3  from dicom to niftii.\n"
     ]
    },
    {
     "name": "stderr",
     "output_type": "stream",
     "text": [
      "\r",
      "  1%|          | 4/584 [00:02<05:53,  1.64it/s]"
     ]
    },
    {
     "name": "stdout",
     "output_type": "stream",
     "text": [
      "S2812QBT-1-3  Failed.\n",
      "../../physcosis/Package_1187332/image03/CLEAN/S2201RVW-1-3\n",
      "Converting S2201RVW-1-3  from dicom to niftii.\n"
     ]
    },
    {
     "name": "stderr",
     "output_type": "stream",
     "text": [
      "\r",
      "  1%|          | 5/584 [00:03<05:46,  1.67it/s]"
     ]
    },
    {
     "name": "stdout",
     "output_type": "stream",
     "text": [
      "S2201RVW-1-3  Failed.\n",
      "../../physcosis/Package_1187332/image03/CLEAN/S2528WHD-1-3\n",
      "Converting S2528WHD-1-3  from dicom to niftii.\n"
     ]
    },
    {
     "name": "stderr",
     "output_type": "stream",
     "text": [
      "\r",
      "  1%|          | 6/584 [00:03<05:39,  1.70it/s]"
     ]
    },
    {
     "name": "stdout",
     "output_type": "stream",
     "text": [
      "S2528WHD-1-3  Failed.\n",
      "../../physcosis/Package_1187332/image03/CLEAN/S6084CKV-1-3\n",
      "Converting S6084CKV-1-3  from dicom to niftii.\n"
     ]
    },
    {
     "name": "stderr",
     "output_type": "stream",
     "text": [
      "  1%|▏         | 8/584 [00:04<04:10,  2.30it/s]"
     ]
    },
    {
     "name": "stdout",
     "output_type": "stream",
     "text": [
      "S6084CKV-1-3  Failed.\n",
      "../../physcosis/Package_1187332/image03/CLEAN/S3829DFQ-1-3\n",
      "Converting S3829DFQ-1-3  from dicom to niftii.\n",
      "S3829DFQ-1-3  Failed.\n",
      "../../physcosis/Package_1187332/image03/CLEAN/S9931WCL-1-3\n",
      "Converting S9931WCL-1-3  from dicom to niftii.\n"
     ]
    },
    {
     "name": "stderr",
     "output_type": "stream",
     "text": [
      "\r",
      "  2%|▏         | 9/584 [00:04<04:33,  2.10it/s]"
     ]
    },
    {
     "name": "stdout",
     "output_type": "stream",
     "text": [
      "S9931WCL-1-3  Failed.\n",
      "../../physcosis/Package_1187332/image03/CLEAN/S7842SAY-1-3\n",
      "Converting S7842SAY-1-3  from dicom to niftii.\n"
     ]
    },
    {
     "name": "stderr",
     "output_type": "stream",
     "text": [
      "\r",
      "  2%|▏         | 10/584 [00:05<04:49,  1.99it/s]"
     ]
    },
    {
     "name": "stdout",
     "output_type": "stream",
     "text": [
      "S7842SAY-1-3  Failed.\n",
      "../../physcosis/Package_1187332/image03/CLEAN/S0526UNL-1-3\n",
      "Converting S0526UNL-1-3  from dicom to niftii.\n"
     ]
    },
    {
     "name": "stderr",
     "output_type": "stream",
     "text": [
      "\r",
      "  2%|▏         | 11/584 [00:06<04:58,  1.92it/s]"
     ]
    },
    {
     "name": "stdout",
     "output_type": "stream",
     "text": [
      "S0526UNL-1-3  Failed.\n",
      "../../physcosis/Package_1187332/image03/CLEAN/S0158JBD-1-3\n",
      "Converting S0158JBD-1-3  from dicom to niftii.\n"
     ]
    },
    {
     "name": "stderr",
     "output_type": "stream",
     "text": [
      "\r",
      "  2%|▏         | 12/584 [00:06<05:03,  1.88it/s]"
     ]
    },
    {
     "name": "stdout",
     "output_type": "stream",
     "text": [
      "S0158JBD-1-3  Failed.\n",
      "../../physcosis/Package_1187332/image03/CLEAN/S8616XKP-1-3\n",
      "Converting S8616XKP-1-3  from dicom to niftii.\n"
     ]
    },
    {
     "name": "stderr",
     "output_type": "stream",
     "text": [
      "\r",
      "  2%|▏         | 13/584 [00:07<05:09,  1.85it/s]"
     ]
    },
    {
     "name": "stdout",
     "output_type": "stream",
     "text": [
      "S8616XKP-1-3  Failed.\n",
      "../../physcosis/Package_1187332/image03/CLEAN/S9474QAE-1-3\n",
      "Converting S9474QAE-1-3  from dicom to niftii.\n"
     ]
    },
    {
     "name": "stderr",
     "output_type": "stream",
     "text": [
      "\r",
      "  2%|▏         | 14/584 [00:07<05:10,  1.83it/s]"
     ]
    },
    {
     "name": "stdout",
     "output_type": "stream",
     "text": [
      "S9474QAE-1-3  Failed.\n",
      "../../physcosis/Package_1187332/image03/CLEAN/S6981XHX-1-4\n",
      "Converting S6981XHX-1-4  from dicom to niftii.\n"
     ]
    },
    {
     "name": "stderr",
     "output_type": "stream",
     "text": [
      "\r",
      "  3%|▎         | 15/584 [00:08<05:12,  1.82it/s]"
     ]
    },
    {
     "name": "stdout",
     "output_type": "stream",
     "text": [
      "S6981XHX-1-4  Failed.\n",
      "../../physcosis/Package_1187332/image03/CLEAN/S2917EJB-1-3\n",
      "Converting S2917EJB-1-3  from dicom to niftii.\n"
     ]
    },
    {
     "name": "stderr",
     "output_type": "stream",
     "text": [
      "\r",
      "  3%|▎         | 16/584 [00:08<05:13,  1.81it/s]"
     ]
    },
    {
     "name": "stdout",
     "output_type": "stream",
     "text": [
      "S2917EJB-1-3  Failed.\n",
      "../../physcosis/Package_1187332/image03/CLEAN/S6730WEA-1-3\n",
      "Converting S6730WEA-1-3  from dicom to niftii.\n"
     ]
    },
    {
     "name": "stderr",
     "output_type": "stream",
     "text": [
      "\r",
      "  3%|▎         | 17/584 [00:09<05:16,  1.79it/s]"
     ]
    },
    {
     "name": "stdout",
     "output_type": "stream",
     "text": [
      "S6730WEA-1-3  Failed.\n",
      "../../physcosis/Package_1187332/image03/CLEAN/S4023FBW-1-3\n",
      "Converting S4023FBW-1-3  from dicom to niftii.\n"
     ]
    },
    {
     "name": "stderr",
     "output_type": "stream",
     "text": [
      "\r",
      "  3%|▎         | 18/584 [00:10<05:15,  1.80it/s]"
     ]
    },
    {
     "name": "stdout",
     "output_type": "stream",
     "text": [
      "S4023FBW-1-3  Failed.\n",
      "../../physcosis/Package_1187332/image03/CLEAN/S2532DRW-1-3\n",
      "Converting S2532DRW-1-3  from dicom to niftii.\n"
     ]
    },
    {
     "name": "stderr",
     "output_type": "stream",
     "text": [
      "\r",
      "  3%|▎         | 19/584 [00:10<05:14,  1.80it/s]"
     ]
    },
    {
     "name": "stdout",
     "output_type": "stream",
     "text": [
      "S2532DRW-1-3  Failed.\n",
      "../../physcosis/Package_1187332/image03/CLEAN/S5662TWM-1-3\n",
      "Converting S5662TWM-1-3  from dicom to niftii.\n"
     ]
    },
    {
     "name": "stderr",
     "output_type": "stream",
     "text": [
      "\r",
      "  3%|▎         | 20/584 [00:11<05:34,  1.69it/s]"
     ]
    },
    {
     "name": "stdout",
     "output_type": "stream",
     "text": [
      "S5662TWM-1-3  Failed.\n",
      "../../physcosis/Package_1187332/image03/CLEAN/S3902BOY-1-3\n",
      "Converting S3902BOY-1-3  from dicom to niftii.\n"
     ]
    },
    {
     "name": "stderr",
     "output_type": "stream",
     "text": [
      "\r",
      "  4%|▎         | 21/584 [00:12<06:05,  1.54it/s]"
     ]
    },
    {
     "name": "stdout",
     "output_type": "stream",
     "text": [
      "S3902BOY-1-3  Failed.\n",
      "../../physcosis/Package_1187332/image03/CLEAN/S8003MIJ-1-3\n",
      "Converting S8003MIJ-1-3  from dicom to niftii.\n"
     ]
    },
    {
     "name": "stderr",
     "output_type": "stream",
     "text": [
      "\r",
      "  4%|▍         | 22/584 [00:12<05:51,  1.60it/s]"
     ]
    },
    {
     "name": "stdout",
     "output_type": "stream",
     "text": [
      "S8003MIJ-1-3  Failed.\n",
      "../../physcosis/Package_1187332/image03/CLEAN/S8121LQI-1-3\n",
      "Converting S8121LQI-1-3  from dicom to niftii.\n"
     ]
    },
    {
     "name": "stderr",
     "output_type": "stream",
     "text": [
      "\r",
      "  4%|▍         | 23/584 [00:13<05:40,  1.65it/s]"
     ]
    },
    {
     "name": "stdout",
     "output_type": "stream",
     "text": [
      "S8121LQI-1-3  Failed.\n",
      "../../physcosis/Package_1187332/image03/CLEAN/S4270QKA-1-3\n",
      "Converting S4270QKA-1-3  from dicom to niftii.\n"
     ]
    },
    {
     "name": "stderr",
     "output_type": "stream",
     "text": [
      "\r",
      "  4%|▍         | 24/584 [00:13<05:33,  1.68it/s]"
     ]
    },
    {
     "name": "stdout",
     "output_type": "stream",
     "text": [
      "S4270QKA-1-3  Failed.\n",
      "../../physcosis/Package_1187332/image03/CLEAN/S6815CMP-1-3\n",
      "Converting S6815CMP-1-3  from dicom to niftii.\n"
     ]
    },
    {
     "name": "stderr",
     "output_type": "stream",
     "text": [
      "\r",
      "  4%|▍         | 25/584 [00:14<05:26,  1.71it/s]"
     ]
    },
    {
     "name": "stdout",
     "output_type": "stream",
     "text": [
      "S6815CMP-1-3  Failed.\n",
      "../../physcosis/Package_1187332/image03/CLEAN/S8710PYI-1-3\n",
      "Converting S8710PYI-1-3  from dicom to niftii.\n"
     ]
    },
    {
     "name": "stderr",
     "output_type": "stream",
     "text": [
      "\r",
      "  4%|▍         | 26/584 [00:14<05:23,  1.73it/s]"
     ]
    },
    {
     "name": "stdout",
     "output_type": "stream",
     "text": [
      "S8710PYI-1-3  Failed.\n",
      "../../physcosis/Package_1187332/image03/CLEAN/S1262KWB-1-3\n",
      "Converting S1262KWB-1-3  from dicom to niftii.\n"
     ]
    },
    {
     "name": "stderr",
     "output_type": "stream",
     "text": [
      "\r",
      "  5%|▍         | 27/584 [00:15<05:19,  1.74it/s]"
     ]
    },
    {
     "name": "stdout",
     "output_type": "stream",
     "text": [
      "S1262KWB-1-3  Failed.\n",
      "../../physcosis/Package_1187332/image03/CLEAN/S4484VOK-1-3\n",
      "Converting S4484VOK-1-3  from dicom to niftii.\n"
     ]
    },
    {
     "name": "stderr",
     "output_type": "stream",
     "text": [
      "\r",
      "  5%|▍         | 28/584 [00:15<05:16,  1.76it/s]"
     ]
    },
    {
     "name": "stdout",
     "output_type": "stream",
     "text": [
      "S4484VOK-1-3  Failed.\n",
      "../../physcosis/Package_1187332/image03/CLEAN/S6290CBY-1-3\n",
      "Converting S6290CBY-1-3  from dicom to niftii.\n"
     ]
    },
    {
     "name": "stderr",
     "output_type": "stream",
     "text": [
      "\r",
      "  5%|▍         | 29/584 [00:16<05:15,  1.76it/s]"
     ]
    },
    {
     "name": "stdout",
     "output_type": "stream",
     "text": [
      "S6290CBY-1-3  Failed.\n",
      "../../physcosis/Package_1187332/image03/CLEAN/S1163FNB-1-3\n",
      "Converting S1163FNB-1-3  from dicom to niftii.\n"
     ]
    },
    {
     "name": "stderr",
     "output_type": "stream",
     "text": [
      "\r",
      "  5%|▌         | 30/584 [00:17<05:35,  1.65it/s]"
     ]
    },
    {
     "name": "stdout",
     "output_type": "stream",
     "text": [
      "S1163FNB-1-3  Failed.\n",
      "../../physcosis/Package_1187332/image03/CLEAN/S9859RQV-1-3\n",
      "Converting S9859RQV-1-3  from dicom to niftii.\n"
     ]
    },
    {
     "name": "stderr",
     "output_type": "stream",
     "text": [
      "\r",
      "  5%|▌         | 31/584 [00:17<05:29,  1.68it/s]"
     ]
    },
    {
     "name": "stdout",
     "output_type": "stream",
     "text": [
      "S9859RQV-1-3  Failed.\n",
      "../../physcosis/Package_1187332/image03/CLEAN/S9980NOY-1-3\n",
      "Converting S9980NOY-1-3  from dicom to niftii.\n"
     ]
    },
    {
     "name": "stderr",
     "output_type": "stream",
     "text": [
      "\r",
      "  5%|▌         | 32/584 [00:18<06:01,  1.53it/s]"
     ]
    },
    {
     "name": "stdout",
     "output_type": "stream",
     "text": [
      "S9980NOY-1-3  Failed.\n",
      "../../physcosis/Package_1187332/image03/CLEAN/S5224JHS-1-3\n",
      "Converting S5224JHS-1-3  from dicom to niftii.\n"
     ]
    },
    {
     "name": "stderr",
     "output_type": "stream",
     "text": [
      "\r",
      "  6%|▌         | 33/584 [00:19<05:47,  1.59it/s]"
     ]
    },
    {
     "name": "stdout",
     "output_type": "stream",
     "text": [
      "S5224JHS-1-3  Failed.\n",
      "../../physcosis/Package_1187332/image03/CLEAN/S2515VUE-1-3\n",
      "Converting S2515VUE-1-3  from dicom to niftii.\n"
     ]
    },
    {
     "name": "stderr",
     "output_type": "stream",
     "text": [
      "\r",
      "  6%|▌         | 34/584 [00:19<05:36,  1.64it/s]"
     ]
    },
    {
     "name": "stdout",
     "output_type": "stream",
     "text": [
      "S2515VUE-1-3  Failed.\n",
      "../../physcosis/Package_1187332/image03/CLEAN/S2281HBN-1-3\n",
      "Converting S2281HBN-1-3  from dicom to niftii.\n"
     ]
    },
    {
     "name": "stderr",
     "output_type": "stream",
     "text": [
      "\r",
      "  6%|▌         | 35/584 [00:20<05:29,  1.67it/s]"
     ]
    },
    {
     "name": "stdout",
     "output_type": "stream",
     "text": [
      "S2281HBN-1-3  Failed.\n",
      "../../physcosis/Package_1187332/image03/CLEAN/S7063UFA-1-3\n",
      "Converting S7063UFA-1-3  from dicom to niftii.\n"
     ]
    },
    {
     "name": "stderr",
     "output_type": "stream",
     "text": [
      "\r",
      "  6%|▌         | 36/584 [00:20<05:39,  1.61it/s]"
     ]
    },
    {
     "name": "stdout",
     "output_type": "stream",
     "text": [
      "S7063UFA-1-3  Failed.\n",
      "../../physcosis/Package_1187332/image03/CLEAN/S2829EJB-1-3\n",
      "Converting S2829EJB-1-3  from dicom to niftii.\n"
     ]
    },
    {
     "name": "stderr",
     "output_type": "stream",
     "text": [
      "\r",
      "  6%|▋         | 37/584 [00:21<05:37,  1.62it/s]"
     ]
    },
    {
     "name": "stdout",
     "output_type": "stream",
     "text": [
      "S2829EJB-1-3  Failed.\n",
      "../../physcosis/Package_1187332/image03/CLEAN/S6403PFO-1-3\n",
      "Converting S6403PFO-1-3  from dicom to niftii.\n"
     ]
    },
    {
     "name": "stderr",
     "output_type": "stream",
     "text": [
      "\r",
      "  7%|▋         | 38/584 [00:22<05:32,  1.64it/s]"
     ]
    },
    {
     "name": "stdout",
     "output_type": "stream",
     "text": [
      "S6403PFO-1-3  Failed.\n",
      "../../physcosis/Package_1187332/image03/CLEAN/S8890MLS-1-3\n",
      "Converting S8890MLS-1-3  from dicom to niftii.\n"
     ]
    },
    {
     "name": "stderr",
     "output_type": "stream",
     "text": [
      "\r",
      "  7%|▋         | 39/584 [00:22<05:23,  1.68it/s]"
     ]
    },
    {
     "name": "stdout",
     "output_type": "stream",
     "text": [
      "S8890MLS-1-3  Failed.\n",
      "../../physcosis/Package_1187332/image03/CLEAN/S8274ISG-1-3\n",
      "Converting S8274ISG-1-3  from dicom to niftii.\n"
     ]
    },
    {
     "name": "stderr",
     "output_type": "stream",
     "text": [
      "\r",
      "  7%|▋         | 40/584 [00:23<05:17,  1.71it/s]"
     ]
    },
    {
     "name": "stdout",
     "output_type": "stream",
     "text": [
      "S8274ISG-1-3  Failed.\n",
      "../../physcosis/Package_1187332/image03/CLEAN/S7781JJN-1-3\n",
      "Converting S7781JJN-1-3  from dicom to niftii.\n"
     ]
    },
    {
     "name": "stderr",
     "output_type": "stream",
     "text": [
      "\r",
      "  7%|▋         | 41/584 [00:23<05:14,  1.73it/s]"
     ]
    },
    {
     "name": "stdout",
     "output_type": "stream",
     "text": [
      "S7781JJN-1-3  Failed.\n",
      "../../physcosis/Package_1187332/image03/CLEAN/S7238TBU-1-3\n",
      "Converting S7238TBU-1-3  from dicom to niftii.\n"
     ]
    },
    {
     "name": "stderr",
     "output_type": "stream",
     "text": [
      "\r",
      "  7%|▋         | 42/584 [00:24<05:10,  1.74it/s]"
     ]
    },
    {
     "name": "stdout",
     "output_type": "stream",
     "text": [
      "S7238TBU-1-3  Failed.\n",
      "../../physcosis/Package_1187332/image03/CLEAN/S2024DNT-1-3\n",
      "Converting S2024DNT-1-3  from dicom to niftii.\n"
     ]
    },
    {
     "name": "stderr",
     "output_type": "stream",
     "text": [
      "\r",
      "  7%|▋         | 43/584 [00:24<05:07,  1.76it/s]"
     ]
    },
    {
     "name": "stdout",
     "output_type": "stream",
     "text": [
      "S2024DNT-1-3  Failed.\n",
      "../../physcosis/Package_1187332/image03/CLEAN/S9788GNJ-1-3\n",
      "Converting S9788GNJ-1-3  from dicom to niftii.\n"
     ]
    },
    {
     "name": "stderr",
     "output_type": "stream",
     "text": [
      "\r",
      "  8%|▊         | 44/584 [00:25<05:04,  1.77it/s]"
     ]
    },
    {
     "name": "stdout",
     "output_type": "stream",
     "text": [
      "S9788GNJ-1-3  Failed.\n",
      "../../physcosis/Package_1187332/image03/CLEAN/S7350KJO-1-3\n",
      "Converting S7350KJO-1-3  from dicom to niftii.\n"
     ]
    },
    {
     "name": "stderr",
     "output_type": "stream",
     "text": [
      "\r",
      "  8%|▊         | 45/584 [00:26<05:02,  1.78it/s]"
     ]
    },
    {
     "name": "stdout",
     "output_type": "stream",
     "text": [
      "S7350KJO-1-3  Failed.\n",
      "../../physcosis/Package_1187332/image03/CLEAN/S6211AIR-1-3\n",
      "Converting S6211AIR-1-3  from dicom to niftii.\n"
     ]
    },
    {
     "name": "stderr",
     "output_type": "stream",
     "text": [
      "\r",
      "  8%|▊         | 46/584 [00:26<05:01,  1.79it/s]"
     ]
    },
    {
     "name": "stdout",
     "output_type": "stream",
     "text": [
      "S6211AIR-1-3  Failed.\n",
      "../../physcosis/Package_1187332/image03/CLEAN/S7016ALD-1-3\n",
      "Converting S7016ALD-1-3  from dicom to niftii.\n"
     ]
    },
    {
     "name": "stderr",
     "output_type": "stream",
     "text": [
      "\r",
      "  8%|▊         | 47/584 [00:27<05:00,  1.78it/s]"
     ]
    },
    {
     "name": "stdout",
     "output_type": "stream",
     "text": [
      "S7016ALD-1-3  Failed.\n",
      "../../physcosis/Package_1187332/image03/CLEAN/S0564SDQ-1-3\n",
      "Converting S0564SDQ-1-3  from dicom to niftii.\n"
     ]
    },
    {
     "name": "stderr",
     "output_type": "stream",
     "text": [
      "\r",
      "  8%|▊         | 48/584 [00:27<05:01,  1.78it/s]"
     ]
    },
    {
     "name": "stdout",
     "output_type": "stream",
     "text": [
      "S0564SDQ-1-3  Failed.\n",
      "../../physcosis/Package_1187332/image03/CLEAN/S3525VSV-1-4\n",
      "Converting S3525VSV-1-4  from dicom to niftii.\n"
     ]
    },
    {
     "name": "stderr",
     "output_type": "stream",
     "text": [
      "\r",
      "  8%|▊         | 49/584 [00:28<05:18,  1.68it/s]"
     ]
    },
    {
     "name": "stdout",
     "output_type": "stream",
     "text": [
      "S3525VSV-1-4  Failed.\n",
      "../../physcosis/Package_1187332/image03/CLEAN/S1872DNU-1-3\n",
      "Converting S1872DNU-1-3  from dicom to niftii.\n"
     ]
    },
    {
     "name": "stderr",
     "output_type": "stream",
     "text": [
      "\r",
      "  9%|▊         | 50/584 [00:29<05:12,  1.71it/s]"
     ]
    },
    {
     "name": "stdout",
     "output_type": "stream",
     "text": [
      "S1872DNU-1-3  Failed.\n",
      "../../physcosis/Package_1187332/image03/CLEAN/S3352TNH-1-3\n",
      "Converting S3352TNH-1-3  from dicom to niftii.\n"
     ]
    },
    {
     "name": "stderr",
     "output_type": "stream",
     "text": [
      "\r",
      "  9%|▊         | 51/584 [00:29<05:09,  1.72it/s]"
     ]
    },
    {
     "name": "stdout",
     "output_type": "stream",
     "text": [
      "S3352TNH-1-3  Failed.\n",
      "../../physcosis/Package_1187332/image03/CLEAN/S6638GUV-1-3\n",
      "Converting S6638GUV-1-3  from dicom to niftii.\n"
     ]
    },
    {
     "name": "stderr",
     "output_type": "stream",
     "text": [
      "\r",
      "  9%|▉         | 52/584 [00:30<05:06,  1.74it/s]"
     ]
    },
    {
     "name": "stdout",
     "output_type": "stream",
     "text": [
      "S6638GUV-1-3  Failed.\n",
      "../../physcosis/Package_1187332/image03/CLEAN/S7908ADN-1-3\n",
      "Converting S7908ADN-1-3  from dicom to niftii.\n"
     ]
    },
    {
     "name": "stderr",
     "output_type": "stream",
     "text": [
      "\r",
      "  9%|▉         | 53/584 [00:30<05:15,  1.68it/s]"
     ]
    },
    {
     "name": "stdout",
     "output_type": "stream",
     "text": [
      "S7908ADN-1-3  Failed.\n",
      "../../physcosis/Package_1187332/image03/CLEAN/S8201XQI-1-3\n",
      "Converting S8201XQI-1-3  from dicom to niftii.\n"
     ]
    },
    {
     "name": "stderr",
     "output_type": "stream",
     "text": [
      "\r",
      "  9%|▉         | 54/584 [00:31<05:10,  1.71it/s]"
     ]
    },
    {
     "name": "stdout",
     "output_type": "stream",
     "text": [
      "S8201XQI-1-3  Failed.\n",
      "../../physcosis/Package_1187332/image03/CLEAN/S0354ECA-1-3\n",
      "Converting S0354ECA-1-3  from dicom to niftii.\n"
     ]
    },
    {
     "name": "stderr",
     "output_type": "stream",
     "text": [
      "\r",
      "  9%|▉         | 55/584 [00:31<05:05,  1.73it/s]"
     ]
    },
    {
     "name": "stdout",
     "output_type": "stream",
     "text": [
      "S0354ECA-1-3  Failed.\n",
      "../../physcosis/Package_1187332/image03/CLEAN/S6705CRG-1-3\n",
      "Converting S6705CRG-1-3  from dicom to niftii.\n"
     ]
    },
    {
     "name": "stderr",
     "output_type": "stream",
     "text": [
      "\r",
      " 10%|▉         | 56/584 [00:33<06:28,  1.36it/s]"
     ]
    },
    {
     "name": "stdout",
     "output_type": "stream",
     "text": [
      "S6705CRG-1-3  Failed.\n",
      "../../physcosis/Package_1187332/image03/CLEAN/S3595ERR-1-3\n",
      "Converting S3595ERR-1-3  from dicom to niftii.\n"
     ]
    },
    {
     "name": "stderr",
     "output_type": "stream",
     "text": [
      "\r",
      " 10%|▉         | 57/584 [00:33<05:58,  1.47it/s]"
     ]
    },
    {
     "name": "stdout",
     "output_type": "stream",
     "text": [
      "S3595ERR-1-3  Failed.\n",
      "../../physcosis/Package_1187332/image03/CLEAN/S8451WGG-1-3\n",
      "Converting S8451WGG-1-3  from dicom to niftii.\n"
     ]
    },
    {
     "name": "stderr",
     "output_type": "stream",
     "text": [
      "\r",
      " 10%|▉         | 58/584 [00:34<05:38,  1.55it/s]"
     ]
    },
    {
     "name": "stdout",
     "output_type": "stream",
     "text": [
      "S8451WGG-1-3  Failed.\n",
      "../../physcosis/Package_1187332/image03/CLEAN/S9110YAA-1-3\n",
      "Converting S9110YAA-1-3  from dicom to niftii.\n"
     ]
    },
    {
     "name": "stderr",
     "output_type": "stream",
     "text": [
      "\r",
      " 10%|█         | 59/584 [00:34<05:24,  1.62it/s]"
     ]
    },
    {
     "name": "stdout",
     "output_type": "stream",
     "text": [
      "S9110YAA-1-3  Failed.\n",
      "../../physcosis/Package_1187332/image03/CLEAN/S4342BCA-1-3\n",
      "Converting S4342BCA-1-3  from dicom to niftii.\n"
     ]
    },
    {
     "name": "stderr",
     "output_type": "stream",
     "text": [
      "\r",
      " 10%|█         | 60/584 [00:35<05:14,  1.67it/s]"
     ]
    },
    {
     "name": "stdout",
     "output_type": "stream",
     "text": [
      "S4342BCA-1-3  Failed.\n",
      "../../physcosis/Package_1187332/image03/CLEAN/S1453BVN-1-3\n",
      "Converting S1453BVN-1-3  from dicom to niftii.\n"
     ]
    },
    {
     "name": "stderr",
     "output_type": "stream",
     "text": [
      "\r",
      " 10%|█         | 61/584 [00:35<05:06,  1.71it/s]"
     ]
    },
    {
     "name": "stdout",
     "output_type": "stream",
     "text": [
      "S1453BVN-1-3  Failed.\n",
      "../../physcosis/Package_1187332/image03/CLEAN/S9582HTI-1-3\n",
      "Converting S9582HTI-1-3  from dicom to niftii.\n"
     ]
    },
    {
     "name": "stderr",
     "output_type": "stream",
     "text": [
      "\r",
      " 11%|█         | 62/584 [00:36<05:04,  1.71it/s]"
     ]
    },
    {
     "name": "stdout",
     "output_type": "stream",
     "text": [
      "S9582HTI-1-3  Failed.\n",
      "../../physcosis/Package_1187332/image03/CLEAN/S7005UCU-1-3\n",
      "Converting S7005UCU-1-3  from dicom to niftii.\n"
     ]
    },
    {
     "name": "stderr",
     "output_type": "stream",
     "text": [
      "\r",
      " 11%|█         | 63/584 [00:36<05:01,  1.73it/s]"
     ]
    },
    {
     "name": "stdout",
     "output_type": "stream",
     "text": [
      "S7005UCU-1-3  Failed.\n",
      "../../physcosis/Package_1187332/image03/CLEAN/S1049CLW-1-3\n",
      "Converting S1049CLW-1-3  from dicom to niftii.\n"
     ]
    },
    {
     "name": "stderr",
     "output_type": "stream",
     "text": [
      "\r",
      " 11%|█         | 64/584 [00:37<04:58,  1.74it/s]"
     ]
    },
    {
     "name": "stdout",
     "output_type": "stream",
     "text": [
      "S1049CLW-1-3  Failed.\n",
      "../../physcosis/Package_1187332/image03/CLEAN/S5944XVE-1-3\n",
      "Converting S5944XVE-1-3  from dicom to niftii.\n"
     ]
    },
    {
     "name": "stderr",
     "output_type": "stream",
     "text": [
      "\r",
      " 11%|█         | 65/584 [00:38<04:56,  1.75it/s]"
     ]
    },
    {
     "name": "stdout",
     "output_type": "stream",
     "text": [
      "S5944XVE-1-3  Failed.\n",
      "../../physcosis/Package_1187332/image03/CLEAN/S3179RTV-1-3\n",
      "Converting S3179RTV-1-3  from dicom to niftii.\n"
     ]
    },
    {
     "name": "stderr",
     "output_type": "stream",
     "text": [
      "\r",
      " 11%|█▏        | 66/584 [00:38<04:55,  1.75it/s]"
     ]
    },
    {
     "name": "stdout",
     "output_type": "stream",
     "text": [
      "S3179RTV-1-3  Failed.\n",
      "../../physcosis/Package_1187332/image03/CLEAN/S4790BEG-1-3\n",
      "Converting S4790BEG-1-3  from dicom to niftii.\n"
     ]
    },
    {
     "name": "stderr",
     "output_type": "stream",
     "text": [
      "\r",
      " 11%|█▏        | 67/584 [00:39<04:55,  1.75it/s]"
     ]
    },
    {
     "name": "stdout",
     "output_type": "stream",
     "text": [
      "S4790BEG-1-3  Failed.\n",
      "../../physcosis/Package_1187332/image03/CLEAN/S9518SSP-1-3\n",
      "Converting S9518SSP-1-3  from dicom to niftii.\n"
     ]
    },
    {
     "name": "stderr",
     "output_type": "stream",
     "text": [
      "\r",
      " 12%|█▏        | 68/584 [00:40<06:22,  1.35it/s]"
     ]
    },
    {
     "name": "stdout",
     "output_type": "stream",
     "text": [
      "S9518SSP-1-3  Failed.\n",
      "../../physcosis/Package_1187332/image03/CLEAN/S5071FTA-1-3\n",
      "Converting S5071FTA-1-3  from dicom to niftii.\n"
     ]
    },
    {
     "name": "stderr",
     "output_type": "stream",
     "text": [
      "\r",
      " 12%|█▏        | 69/584 [00:40<05:56,  1.44it/s]"
     ]
    },
    {
     "name": "stdout",
     "output_type": "stream",
     "text": [
      "S5071FTA-1-3  Failed.\n",
      "../../physcosis/Package_1187332/image03/CLEAN/S0542LBG-1-3\n",
      "Converting S0542LBG-1-3  from dicom to niftii.\n"
     ]
    },
    {
     "name": "stderr",
     "output_type": "stream",
     "text": [
      "\r",
      " 12%|█▏        | 70/584 [00:41<05:42,  1.50it/s]"
     ]
    },
    {
     "name": "stdout",
     "output_type": "stream",
     "text": [
      "S0542LBG-1-3  Failed.\n",
      "../../physcosis/Package_1187332/image03/CLEAN/S4930SFW-1-3\n",
      "Converting S4930SFW-1-3  from dicom to niftii.\n"
     ]
    },
    {
     "name": "stderr",
     "output_type": "stream",
     "text": [
      "\r",
      " 12%|█▏        | 71/584 [00:42<05:27,  1.57it/s]"
     ]
    },
    {
     "name": "stdout",
     "output_type": "stream",
     "text": [
      "S4930SFW-1-3  Failed.\n",
      "../../physcosis/Package_1187332/image03/CLEAN/S9401EDH-1-3\n",
      "Converting S9401EDH-1-3  from dicom to niftii.\n"
     ]
    },
    {
     "name": "stderr",
     "output_type": "stream",
     "text": [
      "\r",
      " 12%|█▏        | 72/584 [00:42<05:17,  1.61it/s]"
     ]
    },
    {
     "name": "stdout",
     "output_type": "stream",
     "text": [
      "S9401EDH-1-3  Failed.\n",
      "../../physcosis/Package_1187332/image03/CLEAN/S3681DYH-1-3\n",
      "Converting S3681DYH-1-3  from dicom to niftii.\n"
     ]
    },
    {
     "name": "stderr",
     "output_type": "stream",
     "text": [
      "\r",
      " 12%|█▎        | 73/584 [00:43<05:08,  1.66it/s]"
     ]
    },
    {
     "name": "stdout",
     "output_type": "stream",
     "text": [
      "S3681DYH-1-3  Failed.\n",
      "../../physcosis/Package_1187332/image03/CLEAN/S8708VPE-1-3\n",
      "Converting S8708VPE-1-3  from dicom to niftii.\n"
     ]
    },
    {
     "name": "stderr",
     "output_type": "stream",
     "text": [
      "\r",
      " 13%|█▎        | 74/584 [00:43<05:20,  1.59it/s]"
     ]
    },
    {
     "name": "stdout",
     "output_type": "stream",
     "text": [
      "S8708VPE-1-3  Failed.\n",
      "../../physcosis/Package_1187332/image03/CLEAN/S2331WTG-1-3\n",
      "Converting S2331WTG-1-3  from dicom to niftii.\n"
     ]
    },
    {
     "name": "stderr",
     "output_type": "stream",
     "text": [
      "\r",
      " 13%|█▎        | 75/584 [00:44<05:12,  1.63it/s]"
     ]
    },
    {
     "name": "stdout",
     "output_type": "stream",
     "text": [
      "S2331WTG-1-3  Failed.\n",
      "../../physcosis/Package_1187332/image03/CLEAN/S9061VOQ-1-3\n",
      "Converting S9061VOQ-1-3  from dicom to niftii.\n"
     ]
    },
    {
     "name": "stderr",
     "output_type": "stream",
     "text": [
      "\r",
      " 13%|█▎        | 76/584 [00:45<05:02,  1.68it/s]"
     ]
    },
    {
     "name": "stdout",
     "output_type": "stream",
     "text": [
      "S9061VOQ-1-3  Failed.\n",
      "../../physcosis/Package_1187332/image03/CLEAN/S2504IYI-1-3\n",
      "Converting S2504IYI-1-3  from dicom to niftii.\n"
     ]
    },
    {
     "name": "stderr",
     "output_type": "stream",
     "text": [
      "\r",
      " 13%|█▎        | 77/584 [00:45<04:58,  1.70it/s]"
     ]
    },
    {
     "name": "stdout",
     "output_type": "stream",
     "text": [
      "S2504IYI-1-3  Failed.\n",
      "../../physcosis/Package_1187332/image03/CLEAN/S9726NPW-1-3\n",
      "Converting S9726NPW-1-3  from dicom to niftii.\n"
     ]
    },
    {
     "name": "stderr",
     "output_type": "stream",
     "text": [
      "\r",
      " 13%|█▎        | 78/584 [00:46<05:09,  1.64it/s]"
     ]
    },
    {
     "name": "stdout",
     "output_type": "stream",
     "text": [
      "S9726NPW-1-3  Failed.\n",
      "../../physcosis/Package_1187332/image03/CLEAN/S8774AHW-1-3\n",
      "Converting S8774AHW-1-3  from dicom to niftii.\n"
     ]
    },
    {
     "name": "stderr",
     "output_type": "stream",
     "text": [
      "\r",
      " 14%|█▎        | 79/584 [00:47<05:25,  1.55it/s]"
     ]
    },
    {
     "name": "stdout",
     "output_type": "stream",
     "text": [
      "S8774AHW-1-3  Failed.\n",
      "../../physcosis/Package_1187332/image03/CLEAN/S7685NMV-1-3\n",
      "Converting S7685NMV-1-3  from dicom to niftii.\n"
     ]
    },
    {
     "name": "stderr",
     "output_type": "stream",
     "text": [
      "\r",
      " 14%|█▎        | 80/584 [00:47<05:21,  1.57it/s]"
     ]
    },
    {
     "name": "stdout",
     "output_type": "stream",
     "text": [
      "S7685NMV-1-3  Failed.\n",
      "../../physcosis/Package_1187332/image03/CLEAN/S8777CJH-1-3\n",
      "Converting S8777CJH-1-3  from dicom to niftii.\n"
     ]
    },
    {
     "name": "stderr",
     "output_type": "stream",
     "text": [
      "\r",
      " 14%|█▍        | 81/584 [00:48<05:12,  1.61it/s]"
     ]
    },
    {
     "name": "stdout",
     "output_type": "stream",
     "text": [
      "S8777CJH-1-3  Failed.\n",
      "../../physcosis/Package_1187332/image03/CLEAN/S8988RII-1-3\n",
      "Converting S8988RII-1-3  from dicom to niftii.\n"
     ]
    },
    {
     "name": "stderr",
     "output_type": "stream",
     "text": [
      "\r",
      " 14%|█▍        | 82/584 [00:48<05:06,  1.64it/s]"
     ]
    },
    {
     "name": "stdout",
     "output_type": "stream",
     "text": [
      "S8988RII-1-3  Failed.\n",
      "../../physcosis/Package_1187332/image03/CLEAN/S8284FQU-1-3\n",
      "Converting S8284FQU-1-3  from dicom to niftii.\n"
     ]
    },
    {
     "name": "stderr",
     "output_type": "stream",
     "text": [
      "\r",
      " 14%|█▍        | 83/584 [00:49<05:00,  1.67it/s]"
     ]
    },
    {
     "name": "stdout",
     "output_type": "stream",
     "text": [
      "S8284FQU-1-3  Failed.\n",
      "../../physcosis/Package_1187332/image03/CLEAN/S1101RLR-1-3\n",
      "Converting S1101RLR-1-3  from dicom to niftii.\n"
     ]
    },
    {
     "name": "stderr",
     "output_type": "stream",
     "text": [
      "\r",
      " 14%|█▍        | 84/584 [00:49<04:54,  1.70it/s]"
     ]
    },
    {
     "name": "stdout",
     "output_type": "stream",
     "text": [
      "S1101RLR-1-3  Failed.\n",
      "../../physcosis/Package_1187332/image03/CLEAN/S5987YDL-1-3\n",
      "Converting S5987YDL-1-3  from dicom to niftii.\n"
     ]
    },
    {
     "name": "stderr",
     "output_type": "stream",
     "text": [
      "\r",
      " 15%|█▍        | 85/584 [00:50<04:49,  1.72it/s]"
     ]
    },
    {
     "name": "stdout",
     "output_type": "stream",
     "text": [
      "S5987YDL-1-3  Failed.\n",
      "../../physcosis/Package_1187332/image03/CLEAN/S6750XHL-1-3\n",
      "Converting S6750XHL-1-3  from dicom to niftii.\n"
     ]
    },
    {
     "name": "stderr",
     "output_type": "stream",
     "text": [
      "\r",
      " 15%|█▍        | 86/584 [00:51<04:45,  1.75it/s]"
     ]
    },
    {
     "name": "stdout",
     "output_type": "stream",
     "text": [
      "S6750XHL-1-3  Failed.\n",
      "../../physcosis/Package_1187332/image03/CLEAN/S0638HQM-1-3\n",
      "Converting S0638HQM-1-3  from dicom to niftii.\n"
     ]
    },
    {
     "name": "stderr",
     "output_type": "stream",
     "text": [
      "\r",
      " 15%|█▍        | 87/584 [00:51<04:42,  1.76it/s]"
     ]
    },
    {
     "name": "stdout",
     "output_type": "stream",
     "text": [
      "S0638HQM-1-3  Failed.\n",
      "../../physcosis/Package_1187332/image03/CLEAN/S6549JIV-1-3\n",
      "Converting S6549JIV-1-3  from dicom to niftii.\n"
     ]
    },
    {
     "name": "stderr",
     "output_type": "stream",
     "text": [
      "\r",
      " 15%|█▌        | 88/584 [00:52<05:46,  1.43it/s]"
     ]
    },
    {
     "name": "stdout",
     "output_type": "stream",
     "text": [
      "S6549JIV-1-3  Failed.\n",
      "../../physcosis/Package_1187332/image03/CLEAN/S5217PWK-1-3\n",
      "Converting S5217PWK-1-3  from dicom to niftii.\n"
     ]
    },
    {
     "name": "stderr",
     "output_type": "stream",
     "text": [
      "\r",
      " 15%|█▌        | 89/584 [00:53<05:25,  1.52it/s]"
     ]
    },
    {
     "name": "stdout",
     "output_type": "stream",
     "text": [
      "S5217PWK-1-3  Failed.\n",
      "../../physcosis/Package_1187332/image03/CLEAN/S8089XSX-1-3\n",
      "Converting S8089XSX-1-3  from dicom to niftii.\n"
     ]
    },
    {
     "name": "stderr",
     "output_type": "stream",
     "text": [
      "\r",
      " 15%|█▌        | 90/584 [00:53<05:13,  1.58it/s]"
     ]
    },
    {
     "name": "stdout",
     "output_type": "stream",
     "text": [
      "S8089XSX-1-3  Failed.\n",
      "../../physcosis/Package_1187332/image03/CLEAN/S8943HXW-1-3\n",
      "Converting S8943HXW-1-3  from dicom to niftii.\n"
     ]
    },
    {
     "name": "stderr",
     "output_type": "stream",
     "text": [
      "\r",
      " 16%|█▌        | 91/584 [00:54<05:02,  1.63it/s]"
     ]
    },
    {
     "name": "stdout",
     "output_type": "stream",
     "text": [
      "S8943HXW-1-3  Failed.\n",
      "../../physcosis/Package_1187332/image03/CLEAN/S4753ILN-1-3\n",
      "Converting S4753ILN-1-3  from dicom to niftii.\n"
     ]
    },
    {
     "name": "stderr",
     "output_type": "stream",
     "text": [
      "\r",
      " 16%|█▌        | 92/584 [00:54<04:54,  1.67it/s]"
     ]
    },
    {
     "name": "stdout",
     "output_type": "stream",
     "text": [
      "S4753ILN-1-3  Failed.\n",
      "../../physcosis/Package_1187332/image03/CLEAN/S2357CCP-1-3\n",
      "Converting S2357CCP-1-3  from dicom to niftii.\n"
     ]
    },
    {
     "name": "stderr",
     "output_type": "stream",
     "text": [
      "\r",
      " 16%|█▌        | 93/584 [00:55<04:51,  1.68it/s]"
     ]
    },
    {
     "name": "stdout",
     "output_type": "stream",
     "text": [
      "S2357CCP-1-3  Failed.\n",
      "../../physcosis/Package_1187332/image03/CLEAN/S7481PCX-1-3\n",
      "Converting S7481PCX-1-3  from dicom to niftii.\n"
     ]
    },
    {
     "name": "stderr",
     "output_type": "stream",
     "text": [
      "\r",
      " 16%|█▌        | 94/584 [00:56<04:45,  1.71it/s]"
     ]
    },
    {
     "name": "stdout",
     "output_type": "stream",
     "text": [
      "S7481PCX-1-3  Failed.\n",
      "../../physcosis/Package_1187332/image03/CLEAN/S6649IWI-1-3\n",
      "Converting S6649IWI-1-3  from dicom to niftii.\n"
     ]
    },
    {
     "name": "stderr",
     "output_type": "stream",
     "text": [
      "\r",
      " 16%|█▋        | 95/584 [00:56<04:41,  1.74it/s]"
     ]
    },
    {
     "name": "stdout",
     "output_type": "stream",
     "text": [
      "S6649IWI-1-3  Failed.\n",
      "../../physcosis/Package_1187332/image03/CLEAN/S2965IDH-1-3\n",
      "Converting S2965IDH-1-3  from dicom to niftii.\n"
     ]
    },
    {
     "name": "stderr",
     "output_type": "stream",
     "text": [
      "\r",
      " 16%|█▋        | 96/584 [00:57<04:38,  1.75it/s]"
     ]
    },
    {
     "name": "stdout",
     "output_type": "stream",
     "text": [
      "S2965IDH-1-3  Failed.\n",
      "../../physcosis/Package_1187332/image03/CLEAN/S2974DTW-1-3\n",
      "Converting S2974DTW-1-3  from dicom to niftii.\n"
     ]
    },
    {
     "name": "stderr",
     "output_type": "stream",
     "text": [
      "\r",
      " 17%|█▋        | 97/584 [00:57<04:48,  1.69it/s]"
     ]
    },
    {
     "name": "stdout",
     "output_type": "stream",
     "text": [
      "S2974DTW-1-3  Failed.\n",
      "../../physcosis/Package_1187332/image03/CLEAN/S0193RQW-1-3\n",
      "Converting S0193RQW-1-3  from dicom to niftii.\n"
     ]
    },
    {
     "name": "stderr",
     "output_type": "stream",
     "text": [
      "\r",
      " 17%|█▋        | 98/584 [00:58<04:44,  1.71it/s]"
     ]
    },
    {
     "name": "stdout",
     "output_type": "stream",
     "text": [
      "S0193RQW-1-3  Failed.\n",
      "../../physcosis/Package_1187332/image03/CLEAN/S6877UFB-1-3\n",
      "Converting S6877UFB-1-3  from dicom to niftii.\n"
     ]
    },
    {
     "name": "stderr",
     "output_type": "stream",
     "text": [
      "\r",
      " 17%|█▋        | 99/584 [00:58<04:39,  1.73it/s]"
     ]
    },
    {
     "name": "stdout",
     "output_type": "stream",
     "text": [
      "S6877UFB-1-3  Failed.\n",
      "../../physcosis/Package_1187332/image03/CLEAN/S6389EHW-1-3\n",
      "Converting S6389EHW-1-3  from dicom to niftii.\n"
     ]
    },
    {
     "name": "stderr",
     "output_type": "stream",
     "text": [
      "\r",
      " 17%|█▋        | 100/584 [00:59<04:36,  1.75it/s]"
     ]
    },
    {
     "name": "stdout",
     "output_type": "stream",
     "text": [
      "S6389EHW-1-3  Failed.\n",
      "../../physcosis/Package_1187332/image03/CLEAN/S9212KRY-1-3\n",
      "Converting S9212KRY-1-3  from dicom to niftii.\n"
     ]
    },
    {
     "name": "stderr",
     "output_type": "stream",
     "text": [
      "\r",
      " 17%|█▋        | 101/584 [01:00<04:48,  1.68it/s]"
     ]
    },
    {
     "name": "stdout",
     "output_type": "stream",
     "text": [
      "S9212KRY-1-3  Failed.\n",
      "../../physcosis/Package_1187332/image03/CLEAN/S3809HQF-1-3\n",
      "Converting S3809HQF-1-3  from dicom to niftii.\n"
     ]
    },
    {
     "name": "stderr",
     "output_type": "stream",
     "text": [
      "\r",
      " 17%|█▋        | 102/584 [01:00<04:44,  1.70it/s]"
     ]
    },
    {
     "name": "stdout",
     "output_type": "stream",
     "text": [
      "S3809HQF-1-3  Failed.\n",
      "../../physcosis/Package_1187332/image03/CLEAN/S9577DNY-1-3\n",
      "Converting S9577DNY-1-3  from dicom to niftii.\n"
     ]
    },
    {
     "name": "stderr",
     "output_type": "stream",
     "text": [
      "\r",
      " 18%|█▊        | 103/584 [01:01<04:39,  1.72it/s]"
     ]
    },
    {
     "name": "stdout",
     "output_type": "stream",
     "text": [
      "S9577DNY-1-3  Failed.\n",
      "../../physcosis/Package_1187332/image03/CLEAN/S2050MXL-1-3\n",
      "Converting S2050MXL-1-3  from dicom to niftii.\n"
     ]
    },
    {
     "name": "stderr",
     "output_type": "stream",
     "text": [
      "\r",
      " 18%|█▊        | 104/584 [01:01<04:37,  1.73it/s]"
     ]
    },
    {
     "name": "stdout",
     "output_type": "stream",
     "text": [
      "S2050MXL-1-3  Failed.\n",
      "../../physcosis/Package_1187332/image03/CLEAN/S9728ONF-1-3\n",
      "Converting S9728ONF-1-3  from dicom to niftii.\n"
     ]
    },
    {
     "name": "stderr",
     "output_type": "stream",
     "text": [
      "\r",
      " 18%|█▊        | 105/584 [01:02<04:36,  1.73it/s]"
     ]
    },
    {
     "name": "stdout",
     "output_type": "stream",
     "text": [
      "S9728ONF-1-3  Failed.\n",
      "../../physcosis/Package_1187332/image03/CLEAN/S4082ROF-1-3\n",
      "Converting S4082ROF-1-3  from dicom to niftii.\n"
     ]
    },
    {
     "name": "stderr",
     "output_type": "stream",
     "text": [
      "\r",
      " 18%|█▊        | 106/584 [01:02<04:32,  1.75it/s]"
     ]
    },
    {
     "name": "stdout",
     "output_type": "stream",
     "text": [
      "S4082ROF-1-3  Failed.\n",
      "../../physcosis/Package_1187332/image03/CLEAN/S6591LVK-1-3\n",
      "Converting S6591LVK-1-3  from dicom to niftii.\n"
     ]
    },
    {
     "name": "stderr",
     "output_type": "stream",
     "text": [
      "\r",
      " 18%|█▊        | 107/584 [01:03<04:31,  1.75it/s]"
     ]
    },
    {
     "name": "stdout",
     "output_type": "stream",
     "text": [
      "S6591LVK-1-3  Failed.\n",
      "../../physcosis/Package_1187332/image03/CLEAN/S5431PWQ-1-3\n",
      "Converting S5431PWQ-1-3  from dicom to niftii.\n"
     ]
    },
    {
     "name": "stderr",
     "output_type": "stream",
     "text": [
      "\r",
      " 18%|█▊        | 108/584 [01:04<04:31,  1.75it/s]"
     ]
    },
    {
     "name": "stdout",
     "output_type": "stream",
     "text": [
      "S5431PWQ-1-3  Failed.\n",
      "../../physcosis/Package_1187332/image03/CLEAN/S3311DPM-1-3\n",
      "Converting S3311DPM-1-3  from dicom to niftii.\n"
     ]
    },
    {
     "name": "stderr",
     "output_type": "stream",
     "text": [
      "\r",
      " 19%|█▊        | 109/584 [01:04<04:30,  1.76it/s]"
     ]
    },
    {
     "name": "stdout",
     "output_type": "stream",
     "text": [
      "S3311DPM-1-3  Failed.\n",
      "../../physcosis/Package_1187332/image03/CLEAN/S3140KKY-1-2\n",
      "Converting S3140KKY-1-2  from dicom to niftii.\n"
     ]
    },
    {
     "name": "stderr",
     "output_type": "stream",
     "text": [
      "Slice increment not consistent through all slices\n",
      "---------------------------------------------------------\n",
      "[ -82.7822 -162.907   111.196 ] [-1.2  0.   0. ]\n",
      "[ -80.3822 -162.907   111.196 ] [-2.4  0.   0. ]\n",
      "Instance Number: 145\n",
      "---------------------------------------------------------\n",
      " 19%|█▉        | 110/584 [01:07<10:25,  1.32s/it]"
     ]
    },
    {
     "name": "stdout",
     "output_type": "stream",
     "text": [
      "S3140KKY-1-2  Failed.\n",
      "../../physcosis/Package_1187332/image03/CLEAN/S3140KKY-1-3\n",
      "Converting S3140KKY-1-3  from dicom to niftii.\n"
     ]
    },
    {
     "name": "stderr",
     "output_type": "stream",
     "text": [
      "Slice increment not consistent through all slices\n",
      "---------------------------------------------------------\n",
      "[   4.81779 -162.907    111.196  ] [-1.2  0.   0. ]\n",
      "[   7.21779 -162.907    111.196  ] [-2.4  0.   0. ]\n",
      "Instance Number: 72\n",
      "---------------------------------------------------------\n",
      " 19%|█▉        | 111/584 [01:11<16:32,  2.10s/it]"
     ]
    },
    {
     "name": "stdout",
     "output_type": "stream",
     "text": [
      "S3140KKY-1-3  Failed.\n",
      "../../physcosis/Package_1187332/image03/CLEAN/S3140KKY-2-2\n",
      "Converting S3140KKY-2-2  from dicom to niftii.\n"
     ]
    },
    {
     "name": "stderr",
     "output_type": "stream",
     "text": [
      "Slice increment not consistent through all slices\n",
      "---------------------------------------------------------\n",
      "[  30.6033 -159.248   137.538 ] [-1.2  0.   0. ]\n",
      "[  33.0033 -159.248   137.538 ] [-2.4  0.   0. ]\n",
      "Instance Number: 56\n",
      "---------------------------------------------------------\n",
      " 19%|█▉        | 112/584 [01:14<19:03,  2.42s/it]"
     ]
    },
    {
     "name": "stdout",
     "output_type": "stream",
     "text": [
      "S3140KKY-2-2  Failed.\n",
      "../../physcosis/Package_1187332/image03/CLEAN/S3140KKY-2-3\n",
      "Converting S3140KKY-2-3  from dicom to niftii.\n"
     ]
    },
    {
     "name": "stderr",
     "output_type": "stream",
     "text": [
      "Slice increment not consistent through all slices\n",
      "---------------------------------------------------------\n",
      "[   0.603317 -159.248     137.538   ] [-1.2  0.   0. ]\n",
      "[   3.00332 -159.248    137.538  ] [-2.400003  0.        0.      ]\n",
      "Instance Number: 81\n",
      "---------------------------------------------------------\n",
      " 19%|█▉        | 113/584 [01:17<20:38,  2.63s/it]"
     ]
    },
    {
     "name": "stdout",
     "output_type": "stream",
     "text": [
      "S3140KKY-2-3  Failed.\n",
      "../../physcosis/Package_1187332/image03/CLEAN/S2170QIY-1-2\n",
      "Converting S2170QIY-1-2  from dicom to niftii.\n"
     ]
    },
    {
     "name": "stderr",
     "output_type": "stream",
     "text": [
      "Slice increment not consistent through all slices\n",
      "---------------------------------------------------------\n",
      "[  38.7399 -177.541   114.123 ] [-1.1999  0.      0.    ]\n",
      "[  41.1399 -177.541   114.123 ] [-2.4  0.   0. ]\n",
      "Instance Number: 48\n",
      "---------------------------------------------------------\n",
      " 20%|█▉        | 114/584 [01:21<21:46,  2.78s/it]"
     ]
    },
    {
     "name": "stdout",
     "output_type": "stream",
     "text": [
      "S2170QIY-1-2  Failed.\n",
      "../../physcosis/Package_1187332/image03/CLEAN/S2170QIY-1-3\n",
      "Converting S2170QIY-1-3  from dicom to niftii.\n"
     ]
    },
    {
     "name": "stderr",
     "output_type": "stream",
     "text": [
      "Slice increment not consistent through all slices\n",
      "---------------------------------------------------------\n",
      "[ -11.6601 -177.541   114.123 ] [-1.1999  0.      0.    ]\n",
      "[  -9.26014 -177.541    114.123  ] [-2.39996  0.       0.     ]\n",
      "Instance Number: 90\n",
      "---------------------------------------------------------\n",
      " 20%|█▉        | 115/584 [01:25<24:43,  3.16s/it]"
     ]
    },
    {
     "name": "stdout",
     "output_type": "stream",
     "text": [
      "S2170QIY-1-3  Failed.\n",
      "../../physcosis/Package_1187332/image03/CLEAN/S3860CYF-1-3\n",
      "Converting S3860CYF-1-3  from dicom to niftii.\n"
     ]
    },
    {
     "name": "stderr",
     "output_type": "stream",
     "text": [
      "Slice increment not consistent through all slices\n",
      "---------------------------------------------------------\n",
      "[  70.3759 -148.068    95.97  ] [-1.2  0.   0. ]\n",
      "[  72.7759 -148.068    95.97  ] [-2.4  0.   0. ]\n",
      "Instance Number: 20\n",
      "---------------------------------------------------------\n",
      " 20%|█▉        | 116/584 [01:29<27:49,  3.57s/it]"
     ]
    },
    {
     "name": "stdout",
     "output_type": "stream",
     "text": [
      "S3860CYF-1-3  Failed.\n",
      "../../physcosis/Package_1187332/image03/CLEAN/S3860CYF-1-4\n",
      "Converting S3860CYF-1-4  from dicom to niftii.\n"
     ]
    },
    {
     "name": "stderr",
     "output_type": "stream",
     "text": [
      "Slice increment not consistent through all slices\n",
      "---------------------------------------------------------\n",
      "[ -19.6241 -148.068    95.97  ] [-1.2  0.   0. ]\n",
      "[ -17.2241 -148.068    95.97  ] [-2.4  0.   0. ]\n",
      "Instance Number: 95\n",
      "---------------------------------------------------------\n",
      " 20%|██        | 117/584 [01:33<27:46,  3.57s/it]"
     ]
    },
    {
     "name": "stdout",
     "output_type": "stream",
     "text": [
      "S3860CYF-1-4  Failed.\n",
      "../../physcosis/Package_1187332/image03/CLEAN/S8996CLI-1-2\n",
      "Converting S8996CLI-1-2  from dicom to niftii.\n"
     ]
    },
    {
     "name": "stderr",
     "output_type": "stream",
     "text": [
      "Slice increment not consistent through all slices\n",
      "---------------------------------------------------------\n",
      "[ -72.6553 -170.956   125.099 ] [-1.2  0.   0. ]\n",
      "[ -70.2553 -170.956   125.099 ] [-2.4  0.   0. ]\n",
      "Instance Number: 139\n",
      "---------------------------------------------------------\n",
      " 20%|██        | 118/584 [01:37<29:02,  3.74s/it]"
     ]
    },
    {
     "name": "stdout",
     "output_type": "stream",
     "text": [
      "S8996CLI-1-2  Failed.\n",
      "../../physcosis/Package_1187332/image03/CLEAN/S8996CLI-1-3\n",
      "Converting S8996CLI-1-3  from dicom to niftii.\n"
     ]
    },
    {
     "name": "stderr",
     "output_type": "stream",
     "text": [
      "Slice increment not consistent through all slices\n",
      "---------------------------------------------------------\n",
      "[  29.3447 -170.956   125.099 ] [-1.2  0.   0. ]\n",
      "[  31.7447 -170.956   125.099 ] [-2.4  0.   0. ]\n",
      "Instance Number: 54\n",
      "---------------------------------------------------------\n",
      " 20%|██        | 119/584 [01:40<27:05,  3.50s/it]"
     ]
    },
    {
     "name": "stdout",
     "output_type": "stream",
     "text": [
      "S8996CLI-1-3  Failed.\n",
      "../../physcosis/Package_1187332/image03/CLEAN/S1388UYQ-1-2\n",
      "Converting S1388UYQ-1-2  from dicom to niftii.\n"
     ]
    },
    {
     "name": "stderr",
     "output_type": "stream",
     "text": [
      "Slice increment not consistent through all slices\n",
      "---------------------------------------------------------\n",
      "[ -24.1284 -165.834   139.733 ] [-1.2  0.   0. ]\n",
      "[ -21.7284 -165.834   139.733 ] [-2.4  0.   0. ]\n",
      "Instance Number: 101\n",
      "---------------------------------------------------------\n",
      " 21%|██        | 120/584 [01:43<25:34,  3.31s/it]"
     ]
    },
    {
     "name": "stdout",
     "output_type": "stream",
     "text": [
      "S1388UYQ-1-2  Failed.\n",
      "../../physcosis/Package_1187332/image03/CLEAN/S1388UYQ-1-3\n",
      "Converting S1388UYQ-1-3  from dicom to niftii.\n"
     ]
    },
    {
     "name": "stderr",
     "output_type": "stream",
     "text": [
      "Slice increment not consistent through all slices\n",
      "---------------------------------------------------------\n",
      "[  27.4716 -165.834   139.733 ] [-1.2  0.   0. ]\n",
      "[  29.8716 -165.834   139.733 ] [-2.4  0.   0. ]\n",
      "Instance Number: 58\n",
      "---------------------------------------------------------\n",
      " 21%|██        | 121/584 [01:46<24:39,  3.20s/it]"
     ]
    },
    {
     "name": "stdout",
     "output_type": "stream",
     "text": [
      "S1388UYQ-1-3  Failed.\n",
      "../../physcosis/Package_1187332/image03/CLEAN/S1691MFX-1-2\n",
      "Converting S1691MFX-1-2  from dicom to niftii.\n"
     ]
    },
    {
     "name": "stderr",
     "output_type": "stream",
     "text": [
      "Slice increment not consistent through all slices\n",
      "---------------------------------------------------------\n",
      "[  18.0764 -171.687   139.001 ] [-1.2  0.   0. ]\n",
      "[  20.4764 -171.687   139.001 ] [-2.4  0.   0. ]\n",
      "Instance Number: 64\n",
      "---------------------------------------------------------\n",
      " 21%|██        | 122/584 [01:49<24:04,  3.13s/it]"
     ]
    },
    {
     "name": "stdout",
     "output_type": "stream",
     "text": [
      "S1691MFX-1-2  Failed.\n",
      "../../physcosis/Package_1187332/image03/CLEAN/S1691MFX-1-3\n",
      "Converting S1691MFX-1-3  from dicom to niftii.\n"
     ]
    },
    {
     "name": "stderr",
     "output_type": "stream",
     "text": [
      "Slice increment not consistent through all slices\n",
      "---------------------------------------------------------\n",
      "[  90.0764 -171.687   139.001 ] [-1.2  0.   0. ]\n",
      "[  92.4764 -171.687   139.001 ] [-2.4  0.   0. ]\n",
      "Instance Number: 4\n",
      "---------------------------------------------------------\n",
      " 21%|██        | 123/584 [01:52<23:50,  3.10s/it]"
     ]
    },
    {
     "name": "stdout",
     "output_type": "stream",
     "text": [
      "S1691MFX-1-3  Failed.\n",
      "../../physcosis/Package_1187332/image03/CLEAN/S1048MNA-1-3\n",
      "Converting S1048MNA-1-3  from dicom to niftii.\n"
     ]
    },
    {
     "name": "stderr",
     "output_type": "stream",
     "text": [
      "Slice increment not consistent through all slices\n",
      "---------------------------------------------------------\n",
      "[  37.8033 -165.102   128.026 ] [-1.2  0.   0. ]\n",
      "[  40.2033 -165.102   128.026 ] [-2.4  0.   0. ]\n",
      "Instance Number: 50\n",
      "---------------------------------------------------------\n",
      " 21%|██        | 124/584 [01:55<23:54,  3.12s/it]"
     ]
    },
    {
     "name": "stdout",
     "output_type": "stream",
     "text": [
      "S1048MNA-1-3  Failed.\n",
      "../../physcosis/Package_1187332/image03/CLEAN/S1048MNA-1-4\n",
      "Converting S1048MNA-1-4  from dicom to niftii.\n"
     ]
    },
    {
     "name": "stderr",
     "output_type": "stream",
     "text": [
      "Slice increment not consistent through all slices\n",
      "---------------------------------------------------------\n",
      "[   1.80332 -165.102    128.026  ] [-1.2  0.   0. ]\n",
      "[   4.20332 -165.102    128.026  ] [-2.4  0.   0. ]\n",
      "Instance Number: 80\n",
      "---------------------------------------------------------\n",
      " 21%|██▏       | 125/584 [01:58<23:58,  3.13s/it]"
     ]
    },
    {
     "name": "stdout",
     "output_type": "stream",
     "text": [
      "S1048MNA-1-4  Failed.\n",
      "../../physcosis/Package_1187332/image03/CLEAN/S6792SAX-1-2\n",
      "Converting S6792SAX-1-2  from dicom to niftii.\n"
     ]
    },
    {
     "name": "stderr",
     "output_type": "stream",
     "text": [
      "Slice increment not consistent through all slices\n",
      "---------------------------------------------------------\n",
      "[  36.662 -169.492  111.928] [-1.2  0.   0. ]\n",
      "[  39.062 -169.492  111.928] [-2.4  0.   0. ]\n",
      "Instance Number: 54\n",
      "---------------------------------------------------------\n",
      " 22%|██▏       | 126/584 [02:01<23:52,  3.13s/it]"
     ]
    },
    {
     "name": "stdout",
     "output_type": "stream",
     "text": [
      "S6792SAX-1-2  Failed.\n",
      "../../physcosis/Package_1187332/image03/CLEAN/S6792SAX-1-3\n",
      "Converting S6792SAX-1-3  from dicom to niftii.\n"
     ]
    },
    {
     "name": "stderr",
     "output_type": "stream",
     "text": [
      "Slice increment not consistent through all slices\n",
      "---------------------------------------------------------\n",
      "[ -12.5381 -169.492   111.928 ] [-1.2  0.   0. ]\n",
      "[ -10.1381 -169.492   111.928 ] [-2.4  0.   0. ]\n",
      "Instance Number: 95\n",
      "---------------------------------------------------------\n",
      " 22%|██▏       | 127/584 [02:04<22:34,  2.96s/it]"
     ]
    },
    {
     "name": "stdout",
     "output_type": "stream",
     "text": [
      "S6792SAX-1-3  Failed.\n",
      "../../physcosis/Package_1187332/image03/CLEAN/S7984EDH-1-2\n",
      "Converting S7984EDH-1-2  from dicom to niftii.\n"
     ]
    },
    {
     "name": "stderr",
     "output_type": "stream",
     "text": [
      "Slice increment not consistent through all slices\n",
      "---------------------------------------------------------\n",
      "[ -56.2064 -157.781   114.858 ] [-1.2  0.   0. ]\n",
      "[ -53.8064 -157.781   114.858 ] [-2.4  0.   0. ]\n",
      "Instance Number: 132\n",
      "---------------------------------------------------------\n",
      " 22%|██▏       | 128/584 [02:06<21:38,  2.85s/it]"
     ]
    },
    {
     "name": "stdout",
     "output_type": "stream",
     "text": [
      "S7984EDH-1-2  Failed.\n",
      "../../physcosis/Package_1187332/image03/CLEAN/S7984EDH-1-3\n",
      "Converting S7984EDH-1-3  from dicom to niftii.\n"
     ]
    },
    {
     "name": "stderr",
     "output_type": "stream",
     "text": [
      "Slice increment not consistent through all slices\n",
      "---------------------------------------------------------\n",
      "[ -74.2063 -157.781   114.858 ] [-1.2  0.   0. ]\n",
      "[ -71.8063 -157.781   114.858 ] [-2.4  0.   0. ]\n",
      "Instance Number: 147\n",
      "---------------------------------------------------------\n",
      " 22%|██▏       | 129/584 [02:09<21:02,  2.77s/it]"
     ]
    },
    {
     "name": "stdout",
     "output_type": "stream",
     "text": [
      "S7984EDH-1-3  Failed.\n",
      "../../physcosis/Package_1187332/image03/CLEAN/S1890KFE-1-2\n",
      "Converting S1890KFE-1-2  from dicom to niftii.\n"
     ]
    },
    {
     "name": "stderr",
     "output_type": "stream",
     "text": [
      "Slice increment not consistent through all slices\n",
      "---------------------------------------------------------\n",
      "[ -17.5429 -158.029   148.514 ] [-1.2  0.   0. ]\n",
      "[ -15.1429 -158.029   148.514 ] [-2.4  0.   0. ]\n",
      "Instance Number: 101\n",
      "---------------------------------------------------------\n",
      " 22%|██▏       | 130/584 [02:11<20:31,  2.71s/it]"
     ]
    },
    {
     "name": "stdout",
     "output_type": "stream",
     "text": [
      "S1890KFE-1-2  Failed.\n",
      "../../physcosis/Package_1187332/image03/CLEAN/S1890KFE-1-3\n",
      "Converting S1890KFE-1-3  from dicom to niftii.\n"
     ]
    },
    {
     "name": "stderr",
     "output_type": "stream",
     "text": [
      "Slice increment not consistent through all slices\n",
      "---------------------------------------------------------\n",
      "[  65.2571 -158.029   148.514 ] [-1.2  0.   0. ]\n",
      "[  67.6571 -158.029   148.514 ] [-2.4  0.   0. ]\n",
      "Instance Number: 32\n",
      "---------------------------------------------------------\n",
      " 22%|██▏       | 131/584 [02:14<20:10,  2.67s/it]"
     ]
    },
    {
     "name": "stdout",
     "output_type": "stream",
     "text": [
      "S1890KFE-1-3  Failed.\n",
      "../../physcosis/Package_1187332/image03/CLEAN/S7432UOB-1-2\n",
      "Converting S7432UOB-1-2  from dicom to niftii.\n"
     ]
    },
    {
     "name": "stderr",
     "output_type": "stream",
     "text": [
      "\r",
      " 23%|██▎       | 132/584 [02:17<22:03,  2.93s/it]"
     ]
    },
    {
     "name": "stdout",
     "output_type": "stream",
     "text": [
      "../../physcosis/Package_1187332/image03/CLEAN/S8240FWM-1-2\n",
      "Converting S8240FWM-1-2  from dicom to niftii.\n"
     ]
    },
    {
     "name": "stderr",
     "output_type": "stream",
     "text": [
      "\r",
      " 23%|██▎       | 133/584 [02:21<22:45,  3.03s/it]"
     ]
    },
    {
     "name": "stdout",
     "output_type": "stream",
     "text": [
      "../../physcosis/Package_1187332/image03/CLEAN/S5568DSN-1-2\n",
      "Converting S5568DSN-1-2  from dicom to niftii.\n"
     ]
    },
    {
     "name": "stderr",
     "output_type": "stream",
     "text": [
      "\r",
      " 23%|██▎       | 134/584 [02:24<23:55,  3.19s/it]"
     ]
    },
    {
     "name": "stdout",
     "output_type": "stream",
     "text": [
      "../../physcosis/Package_1187332/image03/CLEAN/S9551QLO-1-2\n",
      "Converting S9551QLO-1-2  from dicom to niftii.\n"
     ]
    },
    {
     "name": "stderr",
     "output_type": "stream",
     "text": [
      "\r",
      " 23%|██▎       | 135/584 [02:28<24:20,  3.25s/it]"
     ]
    },
    {
     "name": "stdout",
     "output_type": "stream",
     "text": [
      "../../physcosis/Package_1187332/image03/CLEAN/S5520KMB-1-2\n",
      "Converting S5520KMB-1-2  from dicom to niftii.\n"
     ]
    },
    {
     "name": "stderr",
     "output_type": "stream",
     "text": [
      "\r",
      " 23%|██▎       | 136/584 [02:31<24:50,  3.33s/it]"
     ]
    },
    {
     "name": "stdout",
     "output_type": "stream",
     "text": [
      "../../physcosis/Package_1187332/image03/CLEAN/S8171COF-1-2\n",
      "Converting S8171COF-1-2  from dicom to niftii.\n"
     ]
    },
    {
     "name": "stderr",
     "output_type": "stream",
     "text": [
      "\r",
      " 23%|██▎       | 137/584 [02:35<24:58,  3.35s/it]"
     ]
    },
    {
     "name": "stdout",
     "output_type": "stream",
     "text": [
      "../../physcosis/Package_1187332/image03/CLEAN/S3535MBI-1-2\n",
      "Converting S3535MBI-1-2  from dicom to niftii.\n"
     ]
    },
    {
     "name": "stderr",
     "output_type": "stream",
     "text": [
      "\r",
      " 24%|██▎       | 138/584 [02:38<25:00,  3.36s/it]"
     ]
    },
    {
     "name": "stdout",
     "output_type": "stream",
     "text": [
      "../../physcosis/Package_1187332/image03/CLEAN/S8057AKX-1-2\n",
      "Converting S8057AKX-1-2  from dicom to niftii.\n"
     ]
    },
    {
     "name": "stderr",
     "output_type": "stream",
     "text": [
      "\r",
      " 24%|██▍       | 139/584 [02:41<24:51,  3.35s/it]"
     ]
    },
    {
     "name": "stdout",
     "output_type": "stream",
     "text": [
      "../../physcosis/Package_1187332/image03/CLEAN/S5782EGK-1-2\n",
      "Converting S5782EGK-1-2  from dicom to niftii.\n"
     ]
    },
    {
     "name": "stderr",
     "output_type": "stream",
     "text": [
      "\r",
      " 24%|██▍       | 140/584 [02:45<24:46,  3.35s/it]"
     ]
    },
    {
     "name": "stdout",
     "output_type": "stream",
     "text": [
      "../../physcosis/Package_1187332/image03/CLEAN/S9222EPL-1-2\n",
      "Converting S9222EPL-1-2  from dicom to niftii.\n"
     ]
    },
    {
     "name": "stderr",
     "output_type": "stream",
     "text": [
      "\r",
      " 24%|██▍       | 141/584 [02:48<24:56,  3.38s/it]"
     ]
    },
    {
     "name": "stdout",
     "output_type": "stream",
     "text": [
      "../../physcosis/Package_1187332/image03/CLEAN/S3377DHV-1-2\n",
      "Converting S3377DHV-1-2  from dicom to niftii.\n"
     ]
    },
    {
     "name": "stderr",
     "output_type": "stream",
     "text": [
      "\r",
      " 24%|██▍       | 142/584 [02:52<25:36,  3.48s/it]"
     ]
    },
    {
     "name": "stdout",
     "output_type": "stream",
     "text": [
      "../../physcosis/Package_1187332/image03/CLEAN/S1129GIJ-1-2\n",
      "Converting S1129GIJ-1-2  from dicom to niftii.\n"
     ]
    },
    {
     "name": "stderr",
     "output_type": "stream",
     "text": [
      "\r",
      " 24%|██▍       | 143/584 [02:55<25:22,  3.45s/it]"
     ]
    },
    {
     "name": "stdout",
     "output_type": "stream",
     "text": [
      "../../physcosis/Package_1187332/image03/CLEAN/S0226MWG-1-2\n",
      "Converting S0226MWG-1-2  from dicom to niftii.\n"
     ]
    },
    {
     "name": "stderr",
     "output_type": "stream",
     "text": [
      "\r",
      " 25%|██▍       | 144/584 [02:59<25:11,  3.43s/it]"
     ]
    },
    {
     "name": "stdout",
     "output_type": "stream",
     "text": [
      "../../physcosis/Package_1187332/image03/CLEAN/S3991IKN-1-2\n",
      "Converting S3991IKN-1-2  from dicom to niftii.\n"
     ]
    },
    {
     "name": "stderr",
     "output_type": "stream",
     "text": [
      "\r",
      " 25%|██▍       | 145/584 [03:02<25:11,  3.44s/it]"
     ]
    },
    {
     "name": "stdout",
     "output_type": "stream",
     "text": [
      "../../physcosis/Package_1187332/image03/CLEAN/S9774ITU-1-2\n",
      "Converting S9774ITU-1-2  from dicom to niftii.\n"
     ]
    },
    {
     "name": "stderr",
     "output_type": "stream",
     "text": [
      "\r",
      " 25%|██▌       | 146/584 [03:06<25:12,  3.45s/it]"
     ]
    },
    {
     "name": "stdout",
     "output_type": "stream",
     "text": [
      "../../physcosis/Package_1187332/image03/CLEAN/S3874TCX-1-3\n",
      "Converting S3874TCX-1-3  from dicom to niftii.\n"
     ]
    },
    {
     "name": "stderr",
     "output_type": "stream",
     "text": [
      "\r",
      " 25%|██▌       | 147/584 [03:09<24:58,  3.43s/it]"
     ]
    },
    {
     "name": "stdout",
     "output_type": "stream",
     "text": [
      "../../physcosis/Package_1187332/image03/CLEAN/S5102COG-1-2\n",
      "Converting S5102COG-1-2  from dicom to niftii.\n"
     ]
    },
    {
     "name": "stderr",
     "output_type": "stream",
     "text": [
      "\r",
      " 25%|██▌       | 148/584 [03:14<27:42,  3.81s/it]"
     ]
    },
    {
     "name": "stdout",
     "output_type": "stream",
     "text": [
      "../../physcosis/Package_1187332/image03/CLEAN/S3144GIX-1-2\n",
      "Converting S3144GIX-1-2  from dicom to niftii.\n"
     ]
    },
    {
     "name": "stderr",
     "output_type": "stream",
     "text": [
      "\r",
      " 26%|██▌       | 149/584 [03:20<33:17,  4.59s/it]"
     ]
    },
    {
     "name": "stdout",
     "output_type": "stream",
     "text": [
      "../../physcosis/Package_1187332/image03/CLEAN/S7310REM-2-2\n",
      "Converting S7310REM-2-2  from dicom to niftii.\n"
     ]
    },
    {
     "name": "stderr",
     "output_type": "stream",
     "text": [
      "\r",
      " 26%|██▌       | 150/584 [03:24<32:36,  4.51s/it]"
     ]
    },
    {
     "name": "stdout",
     "output_type": "stream",
     "text": [
      "../../physcosis/Package_1187332/image03/CLEAN/S7209DLX-1-2\n",
      "Converting S7209DLX-1-2  from dicom to niftii.\n"
     ]
    },
    {
     "name": "stderr",
     "output_type": "stream",
     "text": [
      "\r",
      " 26%|██▌       | 151/584 [03:28<30:59,  4.29s/it]"
     ]
    },
    {
     "name": "stdout",
     "output_type": "stream",
     "text": [
      "../../physcosis/Package_1187332/image03/CLEAN/S2887NGI-1-2\n",
      "Converting S2887NGI-1-2  from dicom to niftii.\n"
     ]
    },
    {
     "name": "stderr",
     "output_type": "stream",
     "text": [
      "\r",
      " 26%|██▌       | 152/584 [03:33<31:52,  4.43s/it]"
     ]
    },
    {
     "name": "stdout",
     "output_type": "stream",
     "text": [
      "../../physcosis/Package_1187332/image03/CLEAN/S0843VVF-2-2\n",
      "Converting S0843VVF-2-2  from dicom to niftii.\n"
     ]
    },
    {
     "name": "stderr",
     "output_type": "stream",
     "text": [
      "\r",
      " 26%|██▌       | 153/584 [03:39<36:02,  5.02s/it]"
     ]
    },
    {
     "name": "stdout",
     "output_type": "stream",
     "text": [
      "../../physcosis/Package_1187332/image03/CLEAN/S5580HPK-1-3\n",
      "Converting S5580HPK-1-3  from dicom to niftii.\n"
     ]
    },
    {
     "name": "stderr",
     "output_type": "stream",
     "text": [
      "\r",
      " 26%|██▋       | 154/584 [03:43<32:36,  4.55s/it]"
     ]
    },
    {
     "name": "stdout",
     "output_type": "stream",
     "text": [
      "../../physcosis/Package_1187332/image03/CLEAN/S1482BIW-1-2\n",
      "Converting S1482BIW-1-2  from dicom to niftii.\n"
     ]
    },
    {
     "name": "stderr",
     "output_type": "stream",
     "text": [
      "\r",
      " 27%|██▋       | 155/584 [03:46<30:14,  4.23s/it]"
     ]
    },
    {
     "name": "stdout",
     "output_type": "stream",
     "text": [
      "../../physcosis/Package_1187332/image03/CLEAN/S3662VLO-2-2\n",
      "Converting S3662VLO-2-2  from dicom to niftii.\n"
     ]
    },
    {
     "name": "stderr",
     "output_type": "stream",
     "text": [
      "\r",
      " 27%|██▋       | 156/584 [03:50<29:11,  4.09s/it]"
     ]
    },
    {
     "name": "stdout",
     "output_type": "stream",
     "text": [
      "../../physcosis/Package_1187332/image03/CLEAN/S4910CVB-1-2\n",
      "Converting S4910CVB-1-2  from dicom to niftii.\n"
     ]
    },
    {
     "name": "stderr",
     "output_type": "stream",
     "text": [
      "\r",
      " 27%|██▋       | 157/584 [03:54<28:32,  4.01s/it]"
     ]
    },
    {
     "name": "stdout",
     "output_type": "stream",
     "text": [
      "../../physcosis/Package_1187332/image03/CLEAN/S4578RVL-1-2\n",
      "Converting S4578RVL-1-2  from dicom to niftii.\n"
     ]
    },
    {
     "name": "stderr",
     "output_type": "stream",
     "text": [
      "\r",
      " 27%|██▋       | 158/584 [03:58<28:17,  3.99s/it]"
     ]
    },
    {
     "name": "stdout",
     "output_type": "stream",
     "text": [
      "../../physcosis/Package_1187332/image03/CLEAN/S0940OHQ-1-2\n",
      "Converting S0940OHQ-1-2  from dicom to niftii.\n"
     ]
    },
    {
     "name": "stderr",
     "output_type": "stream",
     "text": [
      "\r",
      " 27%|██▋       | 159/584 [04:02<27:45,  3.92s/it]"
     ]
    },
    {
     "name": "stdout",
     "output_type": "stream",
     "text": [
      "../../physcosis/Package_1187332/image03/CLEAN/S9925BWH-1-2\n",
      "Converting S9925BWH-1-2  from dicom to niftii.\n"
     ]
    },
    {
     "name": "stderr",
     "output_type": "stream",
     "text": [
      "\r",
      " 27%|██▋       | 160/584 [04:07<30:50,  4.36s/it]"
     ]
    },
    {
     "name": "stdout",
     "output_type": "stream",
     "text": [
      "../../physcosis/Package_1187332/image03/CLEAN/S6705VGT-1-2\n",
      "Converting S6705VGT-1-2  from dicom to niftii.\n"
     ]
    },
    {
     "name": "stderr",
     "output_type": "stream",
     "text": [
      "\r",
      " 28%|██▊       | 161/584 [04:11<30:52,  4.38s/it]"
     ]
    },
    {
     "name": "stdout",
     "output_type": "stream",
     "text": [
      "../../physcosis/Package_1187332/image03/CLEAN/S0207OIO-1-2\n",
      "Converting S0207OIO-1-2  from dicom to niftii.\n"
     ]
    },
    {
     "name": "stderr",
     "output_type": "stream",
     "text": [
      "\r",
      " 28%|██▊       | 162/584 [04:16<32:18,  4.59s/it]"
     ]
    },
    {
     "name": "stdout",
     "output_type": "stream",
     "text": [
      "../../physcosis/Package_1187332/image03/CLEAN/S4237HFS-1-2\n",
      "Converting S4237HFS-1-2  from dicom to niftii.\n"
     ]
    },
    {
     "name": "stderr",
     "output_type": "stream",
     "text": [
      "\r",
      " 28%|██▊       | 163/584 [04:20<31:08,  4.44s/it]"
     ]
    },
    {
     "name": "stdout",
     "output_type": "stream",
     "text": [
      "../../physcosis/Package_1187332/image03/CLEAN/S2266BVJ-1-2\n",
      "Converting S2266BVJ-1-2  from dicom to niftii.\n"
     ]
    },
    {
     "name": "stderr",
     "output_type": "stream",
     "text": [
      "\r",
      " 28%|██▊       | 164/584 [04:24<30:08,  4.31s/it]"
     ]
    },
    {
     "name": "stdout",
     "output_type": "stream",
     "text": [
      "../../physcosis/Package_1187332/image03/CLEAN/S9218XMN-1-2\n",
      "Converting S9218XMN-1-2  from dicom to niftii.\n"
     ]
    },
    {
     "name": "stderr",
     "output_type": "stream",
     "text": [
      "\r",
      " 28%|██▊       | 165/584 [04:30<32:22,  4.64s/it]"
     ]
    },
    {
     "name": "stdout",
     "output_type": "stream",
     "text": [
      "../../physcosis/Package_1187332/image03/CLEAN/S0662YPU-1-2\n",
      "Converting S0662YPU-1-2  from dicom to niftii.\n"
     ]
    },
    {
     "name": "stderr",
     "output_type": "stream",
     "text": [
      "\r",
      " 28%|██▊       | 166/584 [04:34<32:03,  4.60s/it]"
     ]
    },
    {
     "name": "stdout",
     "output_type": "stream",
     "text": [
      "../../physcosis/Package_1187332/image03/CLEAN/S1414HQO-1-2\n",
      "Converting S1414HQO-1-2  from dicom to niftii.\n"
     ]
    },
    {
     "name": "stderr",
     "output_type": "stream",
     "text": [
      "\r",
      " 29%|██▊       | 167/584 [04:38<30:15,  4.35s/it]"
     ]
    },
    {
     "name": "stdout",
     "output_type": "stream",
     "text": [
      "../../physcosis/Package_1187332/image03/CLEAN/S9403VAU-1-2\n",
      "Converting S9403VAU-1-2  from dicom to niftii.\n"
     ]
    },
    {
     "name": "stderr",
     "output_type": "stream",
     "text": [
      "\r",
      " 29%|██▉       | 168/584 [04:42<28:54,  4.17s/it]"
     ]
    },
    {
     "name": "stdout",
     "output_type": "stream",
     "text": [
      "../../physcosis/Package_1187332/image03/CLEAN/S5331NGW-1-2\n",
      "Converting S5331NGW-1-2  from dicom to niftii.\n"
     ]
    },
    {
     "name": "stderr",
     "output_type": "stream",
     "text": [
      "\r",
      " 29%|██▉       | 169/584 [04:46<28:06,  4.07s/it]"
     ]
    },
    {
     "name": "stdout",
     "output_type": "stream",
     "text": [
      "../../physcosis/Package_1187332/image03/CLEAN/S5331NGW-1-5\n",
      "Converting S5331NGW-1-5  from dicom to niftii.\n"
     ]
    },
    {
     "name": "stderr",
     "output_type": "stream",
     "text": [
      "\r",
      " 29%|██▉       | 170/584 [04:50<28:59,  4.20s/it]"
     ]
    },
    {
     "name": "stdout",
     "output_type": "stream",
     "text": [
      "../../physcosis/Package_1187332/image03/CLEAN/S3311XPB-1-2\n",
      "Converting S3311XPB-1-2  from dicom to niftii.\n"
     ]
    },
    {
     "name": "stderr",
     "output_type": "stream",
     "text": [
      "\r",
      " 29%|██▉       | 171/584 [04:55<30:12,  4.39s/it]"
     ]
    },
    {
     "name": "stdout",
     "output_type": "stream",
     "text": [
      "../../physcosis/Package_1187332/image03/CLEAN/S1103LXP-1-2\n",
      "Converting S1103LXP-1-2  from dicom to niftii.\n"
     ]
    },
    {
     "name": "stderr",
     "output_type": "stream",
     "text": [
      "\r",
      " 29%|██▉       | 172/584 [05:00<31:28,  4.58s/it]"
     ]
    },
    {
     "name": "stdout",
     "output_type": "stream",
     "text": [
      "../../physcosis/Package_1187332/image03/CLEAN/S4483DCL-1-2\n",
      "Converting S4483DCL-1-2  from dicom to niftii.\n"
     ]
    },
    {
     "name": "stderr",
     "output_type": "stream",
     "text": [
      "\r",
      " 30%|██▉       | 173/584 [05:05<32:52,  4.80s/it]"
     ]
    },
    {
     "name": "stdout",
     "output_type": "stream",
     "text": [
      "../../physcosis/Package_1187332/image03/CLEAN/S3476XUL-1-2\n",
      "Converting S3476XUL-1-2  from dicom to niftii.\n"
     ]
    },
    {
     "name": "stderr",
     "output_type": "stream",
     "text": [
      "\r",
      " 30%|██▉       | 174/584 [05:11<34:46,  5.09s/it]"
     ]
    },
    {
     "name": "stdout",
     "output_type": "stream",
     "text": [
      "../../physcosis/Package_1187332/image03/CLEAN/S8200OJE-1-2\n",
      "Converting S8200OJE-1-2  from dicom to niftii.\n"
     ]
    },
    {
     "name": "stderr",
     "output_type": "stream",
     "text": [
      "\r",
      " 30%|██▉       | 175/584 [05:15<32:00,  4.70s/it]"
     ]
    },
    {
     "name": "stdout",
     "output_type": "stream",
     "text": [
      "../../physcosis/Package_1187332/image03/CLEAN/S4907XER-1-2\n",
      "Converting S4907XER-1-2  from dicom to niftii.\n"
     ]
    },
    {
     "name": "stderr",
     "output_type": "stream",
     "text": [
      "\r",
      " 30%|███       | 176/584 [05:19<30:59,  4.56s/it]"
     ]
    },
    {
     "name": "stdout",
     "output_type": "stream",
     "text": [
      "../../physcosis/Package_1187332/image03/CLEAN/S0820RLK-1-2\n",
      "Converting S0820RLK-1-2  from dicom to niftii.\n"
     ]
    },
    {
     "name": "stderr",
     "output_type": "stream",
     "text": [
      "\r",
      " 30%|███       | 177/584 [05:25<33:20,  4.91s/it]"
     ]
    },
    {
     "name": "stdout",
     "output_type": "stream",
     "text": [
      "../../physcosis/Package_1187332/image03/CLEAN/S0867JAO-1-2\n",
      "Converting S0867JAO-1-2  from dicom to niftii.\n"
     ]
    },
    {
     "name": "stderr",
     "output_type": "stream",
     "text": [
      "\r",
      " 30%|███       | 178/584 [05:30<33:45,  4.99s/it]"
     ]
    },
    {
     "name": "stdout",
     "output_type": "stream",
     "text": [
      "../../physcosis/Package_1187332/image03/CLEAN/S4678DPR-1-2\n",
      "Converting S4678DPR-1-2  from dicom to niftii.\n"
     ]
    },
    {
     "name": "stderr",
     "output_type": "stream",
     "text": [
      "\r",
      " 31%|███       | 179/584 [05:34<31:30,  4.67s/it]"
     ]
    },
    {
     "name": "stdout",
     "output_type": "stream",
     "text": [
      "../../physcosis/Package_1187332/image03/CLEAN/S5968WLY-1-2\n",
      "Converting S5968WLY-1-2  from dicom to niftii.\n"
     ]
    },
    {
     "name": "stderr",
     "output_type": "stream",
     "text": [
      "\r",
      " 31%|███       | 180/584 [05:38<29:49,  4.43s/it]"
     ]
    },
    {
     "name": "stdout",
     "output_type": "stream",
     "text": [
      "../../physcosis/Package_1187332/image03/CLEAN/S5010RSX-1-2\n",
      "Converting S5010RSX-1-2  from dicom to niftii.\n"
     ]
    },
    {
     "name": "stderr",
     "output_type": "stream",
     "text": [
      "\r",
      " 31%|███       | 181/584 [05:42<28:26,  4.23s/it]"
     ]
    },
    {
     "name": "stdout",
     "output_type": "stream",
     "text": [
      "../../physcosis/Package_1187332/image03/CLEAN/S6200WBG-1-2\n",
      "Converting S6200WBG-1-2  from dicom to niftii.\n"
     ]
    },
    {
     "name": "stderr",
     "output_type": "stream",
     "text": [
      "\r",
      " 31%|███       | 182/584 [05:46<27:30,  4.10s/it]"
     ]
    },
    {
     "name": "stdout",
     "output_type": "stream",
     "text": [
      "../../physcosis/Package_1187332/image03/CLEAN/S5941GYY-1-2\n",
      "Converting S5941GYY-1-2  from dicom to niftii.\n"
     ]
    },
    {
     "name": "stderr",
     "output_type": "stream",
     "text": [
      "\r",
      " 31%|███▏      | 183/584 [05:50<27:37,  4.13s/it]"
     ]
    },
    {
     "name": "stdout",
     "output_type": "stream",
     "text": [
      "../../physcosis/Package_1187332/image03/CLEAN/S1672EFT-1-2\n",
      "Converting S1672EFT-1-2  from dicom to niftii.\n"
     ]
    },
    {
     "name": "stderr",
     "output_type": "stream",
     "text": [
      "\r",
      " 32%|███▏      | 184/584 [05:54<27:06,  4.07s/it]"
     ]
    },
    {
     "name": "stdout",
     "output_type": "stream",
     "text": [
      "../../physcosis/Package_1187332/image03/CLEAN/S8846ELM-1-2\n",
      "Converting S8846ELM-1-2  from dicom to niftii.\n"
     ]
    },
    {
     "name": "stderr",
     "output_type": "stream",
     "text": [
      "\r",
      " 32%|███▏      | 185/584 [05:57<26:40,  4.01s/it]"
     ]
    },
    {
     "name": "stdout",
     "output_type": "stream",
     "text": [
      "../../physcosis/Package_1187332/image03/CLEAN/S0693KNW-1-2\n",
      "Converting S0693KNW-1-2  from dicom to niftii.\n"
     ]
    },
    {
     "name": "stderr",
     "output_type": "stream",
     "text": [
      "\r",
      " 32%|███▏      | 186/584 [06:01<26:11,  3.95s/it]"
     ]
    },
    {
     "name": "stdout",
     "output_type": "stream",
     "text": [
      "../../physcosis/Package_1187332/image03/CLEAN/S0220FCV-1-2\n",
      "Converting S0220FCV-1-2  from dicom to niftii.\n"
     ]
    },
    {
     "name": "stderr",
     "output_type": "stream",
     "text": [
      "\r",
      " 32%|███▏      | 187/584 [06:05<25:50,  3.91s/it]"
     ]
    },
    {
     "name": "stdout",
     "output_type": "stream",
     "text": [
      "../../physcosis/Package_1187332/image03/CLEAN/S8654RHC-1-2\n",
      "Converting S8654RHC-1-2  from dicom to niftii.\n"
     ]
    },
    {
     "name": "stderr",
     "output_type": "stream",
     "text": [
      "\r",
      " 32%|███▏      | 188/584 [06:09<25:43,  3.90s/it]"
     ]
    },
    {
     "name": "stdout",
     "output_type": "stream",
     "text": [
      "../../physcosis/Package_1187332/image03/CLEAN/S5107XMC-1-3\n",
      "Converting S5107XMC-1-3  from dicom to niftii.\n"
     ]
    },
    {
     "name": "stderr",
     "output_type": "stream",
     "text": [
      "\r",
      " 32%|███▏      | 189/584 [06:13<25:42,  3.91s/it]"
     ]
    },
    {
     "name": "stdout",
     "output_type": "stream",
     "text": [
      "../../physcosis/Package_1187332/image03/CLEAN/S5225RTC-1-2\n",
      "Converting S5225RTC-1-2  from dicom to niftii.\n"
     ]
    },
    {
     "name": "stderr",
     "output_type": "stream",
     "text": [
      "\r",
      " 33%|███▎      | 190/584 [06:17<25:24,  3.87s/it]"
     ]
    },
    {
     "name": "stdout",
     "output_type": "stream",
     "text": [
      "../../physcosis/Package_1187332/image03/CLEAN/S8563XGD-1-2\n",
      "Converting S8563XGD-1-2  from dicom to niftii.\n"
     ]
    },
    {
     "name": "stderr",
     "output_type": "stream",
     "text": [
      "\r",
      " 33%|███▎      | 191/584 [06:21<25:35,  3.91s/it]"
     ]
    },
    {
     "name": "stdout",
     "output_type": "stream",
     "text": [
      "../../physcosis/Package_1187332/image03/CLEAN/S4137TIF-1-2\n",
      "Converting S4137TIF-1-2  from dicom to niftii.\n"
     ]
    },
    {
     "name": "stderr",
     "output_type": "stream",
     "text": [
      "\r",
      " 33%|███▎      | 192/584 [06:25<25:52,  3.96s/it]"
     ]
    },
    {
     "name": "stdout",
     "output_type": "stream",
     "text": [
      "../../physcosis/Package_1187332/image03/CLEAN/S4390HMW-1-2\n",
      "Converting S4390HMW-1-2  from dicom to niftii.\n"
     ]
    },
    {
     "name": "stderr",
     "output_type": "stream",
     "text": [
      "\r",
      " 33%|███▎      | 193/584 [06:29<25:27,  3.91s/it]"
     ]
    },
    {
     "name": "stdout",
     "output_type": "stream",
     "text": [
      "../../physcosis/Package_1187332/image03/CLEAN/S9119BEX-1-2\n",
      "Converting S9119BEX-1-2  from dicom to niftii.\n"
     ]
    },
    {
     "name": "stderr",
     "output_type": "stream",
     "text": [
      "\r",
      " 33%|███▎      | 194/584 [06:32<25:17,  3.89s/it]"
     ]
    },
    {
     "name": "stdout",
     "output_type": "stream",
     "text": [
      "../../physcosis/Package_1187332/image03/CLEAN/S3536UYI-1-2\n",
      "Converting S3536UYI-1-2  from dicom to niftii.\n"
     ]
    },
    {
     "name": "stderr",
     "output_type": "stream",
     "text": [
      "\r",
      " 33%|███▎      | 195/584 [06:37<25:37,  3.95s/it]"
     ]
    },
    {
     "name": "stdout",
     "output_type": "stream",
     "text": [
      "../../physcosis/Package_1187332/image03/CLEAN/S0733QUT-1-2\n",
      "Converting S0733QUT-1-2  from dicom to niftii.\n"
     ]
    },
    {
     "name": "stderr",
     "output_type": "stream",
     "text": [
      "\r",
      " 34%|███▎      | 196/584 [06:40<25:16,  3.91s/it]"
     ]
    },
    {
     "name": "stdout",
     "output_type": "stream",
     "text": [
      "../../physcosis/Package_1187332/image03/CLEAN/S9676GNN-2-2\n",
      "Converting S9676GNN-2-2  from dicom to niftii.\n"
     ]
    },
    {
     "name": "stderr",
     "output_type": "stream",
     "text": [
      "\r",
      " 34%|███▎      | 197/584 [06:45<26:35,  4.12s/it]"
     ]
    },
    {
     "name": "stdout",
     "output_type": "stream",
     "text": [
      "../../physcosis/Package_1187332/image03/CLEAN/S0415LUA-1-2\n",
      "Converting S0415LUA-1-2  from dicom to niftii.\n"
     ]
    },
    {
     "name": "stderr",
     "output_type": "stream",
     "text": [
      "\r",
      " 34%|███▍      | 198/584 [06:49<26:37,  4.14s/it]"
     ]
    },
    {
     "name": "stdout",
     "output_type": "stream",
     "text": [
      "../../physcosis/Package_1187332/image03/CLEAN/S8078DQM-1-2\n",
      "Converting S8078DQM-1-2  from dicom to niftii.\n"
     ]
    },
    {
     "name": "stderr",
     "output_type": "stream",
     "text": [
      "\r",
      " 34%|███▍      | 199/584 [06:53<26:28,  4.13s/it]"
     ]
    },
    {
     "name": "stdout",
     "output_type": "stream",
     "text": [
      "../../physcosis/Package_1187332/image03/CLEAN/S3419MNJ-1-2\n",
      "Converting S3419MNJ-1-2  from dicom to niftii.\n"
     ]
    },
    {
     "name": "stderr",
     "output_type": "stream",
     "text": [
      "\r",
      " 34%|███▍      | 200/584 [06:57<25:49,  4.03s/it]"
     ]
    },
    {
     "name": "stdout",
     "output_type": "stream",
     "text": [
      "../../physcosis/Package_1187332/image03/CLEAN/S8626UFY-1-2\n",
      "Converting S8626UFY-1-2  from dicom to niftii.\n"
     ]
    },
    {
     "name": "stderr",
     "output_type": "stream",
     "text": [
      "\r",
      " 34%|███▍      | 201/584 [07:01<25:25,  3.98s/it]"
     ]
    },
    {
     "name": "stdout",
     "output_type": "stream",
     "text": [
      "../../physcosis/Package_1187332/image03/CLEAN/S3593KLE-1-2\n",
      "Converting S3593KLE-1-2  from dicom to niftii.\n"
     ]
    },
    {
     "name": "stderr",
     "output_type": "stream",
     "text": [
      "\r",
      " 35%|███▍      | 202/584 [07:05<25:57,  4.08s/it]"
     ]
    },
    {
     "name": "stdout",
     "output_type": "stream",
     "text": [
      "../../physcosis/Package_1187332/image03/CLEAN/S7701LXR-1-2\n",
      "Converting S7701LXR-1-2  from dicom to niftii.\n"
     ]
    },
    {
     "name": "stderr",
     "output_type": "stream",
     "text": [
      "\r",
      " 35%|███▍      | 203/584 [07:10<27:35,  4.34s/it]"
     ]
    },
    {
     "name": "stdout",
     "output_type": "stream",
     "text": [
      "../../physcosis/Package_1187332/image03/CLEAN/S4214IRT-1-2\n",
      "Converting S4214IRT-1-2  from dicom to niftii.\n"
     ]
    },
    {
     "name": "stderr",
     "output_type": "stream",
     "text": [
      "\r",
      " 35%|███▍      | 204/584 [07:15<28:33,  4.51s/it]"
     ]
    },
    {
     "name": "stdout",
     "output_type": "stream",
     "text": [
      "../../physcosis/Package_1187332/image03/CLEAN/S0228YSG-1-2\n",
      "Converting S0228YSG-1-2  from dicom to niftii.\n"
     ]
    },
    {
     "name": "stderr",
     "output_type": "stream",
     "text": [
      "\r",
      " 35%|███▌      | 205/584 [07:20<30:14,  4.79s/it]"
     ]
    },
    {
     "name": "stdout",
     "output_type": "stream",
     "text": [
      "../../physcosis/Package_1187332/image03/CLEAN/S4529VYL-1-2\n",
      "Converting S4529VYL-1-2  from dicom to niftii.\n"
     ]
    },
    {
     "name": "stderr",
     "output_type": "stream",
     "text": [
      "\r",
      " 35%|███▌      | 206/584 [07:25<30:13,  4.80s/it]"
     ]
    },
    {
     "name": "stdout",
     "output_type": "stream",
     "text": [
      "../../physcosis/Package_1187332/image03/CLEAN/S3856LVS-1-2\n",
      "Converting S3856LVS-1-2  from dicom to niftii.\n"
     ]
    },
    {
     "name": "stderr",
     "output_type": "stream",
     "text": [
      "\r",
      " 35%|███▌      | 207/584 [07:29<28:55,  4.60s/it]"
     ]
    },
    {
     "name": "stdout",
     "output_type": "stream",
     "text": [
      "../../physcosis/Package_1187332/image03/CLEAN/S3856LVS-1-5\n",
      "Converting S3856LVS-1-5  from dicom to niftii.\n"
     ]
    },
    {
     "name": "stderr",
     "output_type": "stream",
     "text": [
      "\r",
      " 36%|███▌      | 208/584 [07:34<28:28,  4.54s/it]"
     ]
    },
    {
     "name": "stdout",
     "output_type": "stream",
     "text": [
      "../../physcosis/Package_1187332/image03/CLEAN/S3421BGP-1-2\n",
      "Converting S3421BGP-1-2  from dicom to niftii.\n"
     ]
    },
    {
     "name": "stderr",
     "output_type": "stream",
     "text": [
      "\r",
      " 36%|███▌      | 209/584 [07:38<28:07,  4.50s/it]"
     ]
    },
    {
     "name": "stdout",
     "output_type": "stream",
     "text": [
      "../../physcosis/Package_1187332/image03/CLEAN/S7889OYU-1-2\n",
      "Converting S7889OYU-1-2  from dicom to niftii.\n"
     ]
    },
    {
     "name": "stderr",
     "output_type": "stream",
     "text": [
      "\r",
      " 36%|███▌      | 210/584 [07:43<28:06,  4.51s/it]"
     ]
    },
    {
     "name": "stdout",
     "output_type": "stream",
     "text": [
      "../../physcosis/Package_1187332/image03/CLEAN/S8035KVV-1-2\n",
      "Converting S8035KVV-1-2  from dicom to niftii.\n"
     ]
    },
    {
     "name": "stderr",
     "output_type": "stream",
     "text": [
      "\r",
      " 36%|███▌      | 211/584 [07:48<28:46,  4.63s/it]"
     ]
    },
    {
     "name": "stdout",
     "output_type": "stream",
     "text": [
      "../../physcosis/Package_1187332/image03/CLEAN/S3504VUC-1-2\n",
      "Converting S3504VUC-1-2  from dicom to niftii.\n"
     ]
    },
    {
     "name": "stderr",
     "output_type": "stream",
     "text": [
      "\r",
      " 36%|███▋      | 212/584 [07:52<28:11,  4.55s/it]"
     ]
    },
    {
     "name": "stdout",
     "output_type": "stream",
     "text": [
      "../../physcosis/Package_1187332/image03/CLEAN/S3263PNE-1-2\n",
      "Converting S3263PNE-1-2  from dicom to niftii.\n"
     ]
    },
    {
     "name": "stderr",
     "output_type": "stream",
     "text": [
      "\r",
      " 36%|███▋      | 213/584 [07:56<26:57,  4.36s/it]"
     ]
    },
    {
     "name": "stdout",
     "output_type": "stream",
     "text": [
      "../../physcosis/Package_1187332/image03/CLEAN/S6032SGU-1-2\n",
      "Converting S6032SGU-1-2  from dicom to niftii.\n"
     ]
    },
    {
     "name": "stderr",
     "output_type": "stream",
     "text": [
      "\r",
      " 37%|███▋      | 214/584 [08:00<25:48,  4.19s/it]"
     ]
    },
    {
     "name": "stdout",
     "output_type": "stream",
     "text": [
      "../../physcosis/Package_1187332/image03/CLEAN/S0673JFT-1-2\n",
      "Converting S0673JFT-1-2  from dicom to niftii.\n"
     ]
    },
    {
     "name": "stderr",
     "output_type": "stream",
     "text": [
      "\r",
      " 37%|███▋      | 215/584 [08:04<25:07,  4.09s/it]"
     ]
    },
    {
     "name": "stdout",
     "output_type": "stream",
     "text": [
      "../../physcosis/Package_1187332/image03/CLEAN/S7857DLD-1-2\n",
      "Converting S7857DLD-1-2  from dicom to niftii.\n"
     ]
    },
    {
     "name": "stderr",
     "output_type": "stream",
     "text": [
      "\r",
      " 37%|███▋      | 216/584 [08:08<24:56,  4.07s/it]"
     ]
    },
    {
     "name": "stdout",
     "output_type": "stream",
     "text": [
      "../../physcosis/Package_1187332/image03/CLEAN/S3441EPF-1-2\n",
      "Converting S3441EPF-1-2  from dicom to niftii.\n"
     ]
    },
    {
     "name": "stderr",
     "output_type": "stream",
     "text": [
      "\r",
      " 37%|███▋      | 217/584 [08:12<24:31,  4.01s/it]"
     ]
    },
    {
     "name": "stdout",
     "output_type": "stream",
     "text": [
      "../../physcosis/Package_1187332/image03/CLEAN/S8440LLN-1-2\n",
      "Converting S8440LLN-1-2  from dicom to niftii.\n"
     ]
    },
    {
     "name": "stderr",
     "output_type": "stream",
     "text": [
      "\r",
      " 37%|███▋      | 218/584 [08:16<25:05,  4.11s/it]"
     ]
    },
    {
     "name": "stdout",
     "output_type": "stream",
     "text": [
      "../../physcosis/Package_1187332/image03/CLEAN/S2875UFG-1-2\n",
      "Converting S2875UFG-1-2  from dicom to niftii.\n"
     ]
    },
    {
     "name": "stderr",
     "output_type": "stream",
     "text": [
      "\r",
      " 38%|███▊      | 219/584 [08:20<25:04,  4.12s/it]"
     ]
    },
    {
     "name": "stdout",
     "output_type": "stream",
     "text": [
      "../../physcosis/Package_1187332/image03/CLEAN/S9854FIA-1-2\n",
      "Converting S9854FIA-1-2  from dicom to niftii.\n"
     ]
    },
    {
     "name": "stderr",
     "output_type": "stream",
     "text": [
      "\r",
      " 38%|███▊      | 220/584 [08:24<25:01,  4.12s/it]"
     ]
    },
    {
     "name": "stdout",
     "output_type": "stream",
     "text": [
      "../../physcosis/Package_1187332/image03/CLEAN/S7612NJP-1-2\n",
      "Converting S7612NJP-1-2  from dicom to niftii.\n"
     ]
    },
    {
     "name": "stderr",
     "output_type": "stream",
     "text": [
      "\r",
      " 38%|███▊      | 221/584 [08:29<26:59,  4.46s/it]"
     ]
    },
    {
     "name": "stdout",
     "output_type": "stream",
     "text": [
      "../../physcosis/Package_1187332/image03/CLEAN/S1453PAD-1-2\n",
      "Converting S1453PAD-1-2  from dicom to niftii.\n"
     ]
    },
    {
     "name": "stderr",
     "output_type": "stream",
     "text": [
      "\r",
      " 38%|███▊      | 222/584 [08:34<26:29,  4.39s/it]"
     ]
    },
    {
     "name": "stdout",
     "output_type": "stream",
     "text": [
      "../../physcosis/Package_1187332/image03/CLEAN/S5232QLD-1-2\n",
      "Converting S5232QLD-1-2  from dicom to niftii.\n"
     ]
    },
    {
     "name": "stderr",
     "output_type": "stream",
     "text": [
      "\r",
      " 38%|███▊      | 223/584 [08:37<25:24,  4.22s/it]"
     ]
    },
    {
     "name": "stdout",
     "output_type": "stream",
     "text": [
      "../../physcosis/Package_1187332/image03/CLEAN/S5232QLD-1-5\n",
      "Converting S5232QLD-1-5  from dicom to niftii.\n"
     ]
    },
    {
     "name": "stderr",
     "output_type": "stream",
     "text": [
      "\r",
      " 38%|███▊      | 224/584 [08:41<24:16,  4.05s/it]"
     ]
    },
    {
     "name": "stdout",
     "output_type": "stream",
     "text": [
      "../../physcosis/Package_1187332/image03/CLEAN/S5846INM-1-2\n",
      "Converting S5846INM-1-2  from dicom to niftii.\n"
     ]
    },
    {
     "name": "stderr",
     "output_type": "stream",
     "text": [
      "\r",
      " 39%|███▊      | 225/584 [08:45<24:08,  4.04s/it]"
     ]
    },
    {
     "name": "stdout",
     "output_type": "stream",
     "text": [
      "../../physcosis/Package_1187332/image03/CLEAN/S4939OGQ-1-2\n",
      "Converting S4939OGQ-1-2  from dicom to niftii.\n"
     ]
    },
    {
     "name": "stderr",
     "output_type": "stream",
     "text": [
      "\r",
      " 39%|███▊      | 226/584 [08:49<24:17,  4.07s/it]"
     ]
    },
    {
     "name": "stdout",
     "output_type": "stream",
     "text": [
      "../../physcosis/Package_1187332/image03/CLEAN/S9188KFH-1-2\n",
      "Converting S9188KFH-1-2  from dicom to niftii.\n"
     ]
    },
    {
     "name": "stderr",
     "output_type": "stream",
     "text": [
      "\r",
      " 39%|███▉      | 227/584 [08:53<24:06,  4.05s/it]"
     ]
    },
    {
     "name": "stdout",
     "output_type": "stream",
     "text": [
      "../../physcosis/Package_1187332/image03/CLEAN/S2818QYB-1-2\n",
      "Converting S2818QYB-1-2  from dicom to niftii.\n"
     ]
    },
    {
     "name": "stderr",
     "output_type": "stream",
     "text": [
      "\r",
      " 39%|███▉      | 228/584 [08:59<27:10,  4.58s/it]"
     ]
    },
    {
     "name": "stdout",
     "output_type": "stream",
     "text": [
      "../../physcosis/Package_1187332/image03/CLEAN/S7670GNB-1-2\n",
      "Converting S7670GNB-1-2  from dicom to niftii.\n"
     ]
    },
    {
     "name": "stderr",
     "output_type": "stream",
     "text": [
      "\r",
      " 39%|███▉      | 229/584 [09:04<27:34,  4.66s/it]"
     ]
    },
    {
     "name": "stdout",
     "output_type": "stream",
     "text": [
      "../../physcosis/Package_1187332/image03/CLEAN/S4928VWB-2-2\n",
      "Converting S4928VWB-2-2  from dicom to niftii.\n"
     ]
    },
    {
     "name": "stderr",
     "output_type": "stream",
     "text": [
      "\r",
      " 39%|███▉      | 230/584 [09:08<26:07,  4.43s/it]"
     ]
    },
    {
     "name": "stdout",
     "output_type": "stream",
     "text": [
      "../../physcosis/Package_1187332/image03/CLEAN/S9570DLQ-1-2\n",
      "Converting S9570DLQ-1-2  from dicom to niftii.\n"
     ]
    },
    {
     "name": "stderr",
     "output_type": "stream",
     "text": [
      "\r",
      " 40%|███▉      | 231/584 [09:12<24:57,  4.24s/it]"
     ]
    },
    {
     "name": "stdout",
     "output_type": "stream",
     "text": [
      "../../physcosis/Package_1187332/image03/CLEAN/S1820AEM-1-2\n",
      "Converting S1820AEM-1-2  from dicom to niftii.\n"
     ]
    },
    {
     "name": "stderr",
     "output_type": "stream",
     "text": [
      "\r",
      " 40%|███▉      | 232/584 [09:15<23:47,  4.06s/it]"
     ]
    },
    {
     "name": "stdout",
     "output_type": "stream",
     "text": [
      "../../physcosis/Package_1187332/image03/CLEAN/S8222JCU-1-2\n",
      "Converting S8222JCU-1-2  from dicom to niftii.\n"
     ]
    },
    {
     "name": "stderr",
     "output_type": "stream",
     "text": [
      "\r",
      " 40%|███▉      | 233/584 [09:19<23:14,  3.97s/it]"
     ]
    },
    {
     "name": "stdout",
     "output_type": "stream",
     "text": [
      "../../physcosis/Package_1187332/image03/CLEAN/S9008WRD-1-2\n",
      "Converting S9008WRD-1-2  from dicom to niftii.\n"
     ]
    },
    {
     "name": "stderr",
     "output_type": "stream",
     "text": [
      "\r",
      " 40%|████      | 234/584 [09:23<22:53,  3.92s/it]"
     ]
    },
    {
     "name": "stdout",
     "output_type": "stream",
     "text": [
      "../../physcosis/Package_1187332/image03/CLEAN/S1908SEP-1-2\n",
      "Converting S1908SEP-1-2  from dicom to niftii.\n"
     ]
    },
    {
     "name": "stderr",
     "output_type": "stream",
     "text": [
      "\r",
      " 40%|████      | 235/584 [09:27<22:24,  3.85s/it]"
     ]
    },
    {
     "name": "stdout",
     "output_type": "stream",
     "text": [
      "../../physcosis/Package_1187332/image03/CLEAN/S9420OPI-1-2\n",
      "Converting S9420OPI-1-2  from dicom to niftii.\n"
     ]
    },
    {
     "name": "stderr",
     "output_type": "stream",
     "text": [
      "\r",
      " 40%|████      | 236/584 [09:31<23:02,  3.97s/it]"
     ]
    },
    {
     "name": "stdout",
     "output_type": "stream",
     "text": [
      "../../physcosis/Package_1187332/image03/CLEAN/S0669IVD-2-2\n",
      "Converting S0669IVD-2-2  from dicom to niftii.\n"
     ]
    },
    {
     "name": "stderr",
     "output_type": "stream",
     "text": [
      "\r",
      " 41%|████      | 237/584 [09:35<22:59,  3.98s/it]"
     ]
    },
    {
     "name": "stdout",
     "output_type": "stream",
     "text": [
      "../../physcosis/Package_1187332/image03/CLEAN/S2331AWD-1-2\n",
      "Converting S2331AWD-1-2  from dicom to niftii.\n"
     ]
    },
    {
     "name": "stderr",
     "output_type": "stream",
     "text": [
      "\r",
      " 41%|████      | 238/584 [09:39<22:41,  3.93s/it]"
     ]
    },
    {
     "name": "stdout",
     "output_type": "stream",
     "text": [
      "../../physcosis/Package_1187332/image03/CLEAN/S9145AHE-1-3\n",
      "Converting S9145AHE-1-3  from dicom to niftii.\n"
     ]
    },
    {
     "name": "stderr",
     "output_type": "stream",
     "text": [
      "\r",
      " 41%|████      | 239/584 [09:43<23:18,  4.05s/it]"
     ]
    },
    {
     "name": "stdout",
     "output_type": "stream",
     "text": [
      "../../physcosis/Package_1187332/image03/CLEAN/S9145AHE-1-4\n",
      "Converting S9145AHE-1-4  from dicom to niftii.\n"
     ]
    },
    {
     "name": "stderr",
     "output_type": "stream",
     "text": [
      "\r",
      " 41%|████      | 240/584 [09:47<23:46,  4.15s/it]"
     ]
    },
    {
     "name": "stdout",
     "output_type": "stream",
     "text": [
      "../../physcosis/Package_1187332/image03/CLEAN/S1294CWB-1-2\n",
      "Converting S1294CWB-1-2  from dicom to niftii.\n"
     ]
    },
    {
     "name": "stderr",
     "output_type": "stream",
     "text": [
      "\r",
      " 41%|████▏     | 241/584 [09:51<23:21,  4.09s/it]"
     ]
    },
    {
     "name": "stdout",
     "output_type": "stream",
     "text": [
      "../../physcosis/Package_1187332/image03/CLEAN/S2076MGO-1-2\n",
      "Converting S2076MGO-1-2  from dicom to niftii.\n"
     ]
    },
    {
     "name": "stderr",
     "output_type": "stream",
     "text": [
      "\r",
      " 41%|████▏     | 242/584 [09:55<23:00,  4.04s/it]"
     ]
    },
    {
     "name": "stdout",
     "output_type": "stream",
     "text": [
      "../../physcosis/Package_1187332/image03/CLEAN/S2251PEJ-1-3\n",
      "Converting S2251PEJ-1-3  from dicom to niftii.\n"
     ]
    },
    {
     "name": "stderr",
     "output_type": "stream",
     "text": [
      "\r",
      " 42%|████▏     | 243/584 [09:59<22:18,  3.93s/it]"
     ]
    },
    {
     "name": "stdout",
     "output_type": "stream",
     "text": [
      "../../physcosis/Package_1187332/image03/CLEAN/S5735FYL-1-2\n",
      "Converting S5735FYL-1-2  from dicom to niftii.\n"
     ]
    },
    {
     "name": "stderr",
     "output_type": "stream",
     "text": [
      "\r",
      " 42%|████▏     | 244/584 [10:02<21:47,  3.84s/it]"
     ]
    },
    {
     "name": "stdout",
     "output_type": "stream",
     "text": [
      "../../physcosis/Package_1187332/image03/CLEAN/S9161HEP-1-2\n",
      "Converting S9161HEP-1-2  from dicom to niftii.\n"
     ]
    },
    {
     "name": "stderr",
     "output_type": "stream",
     "text": [
      "\r",
      " 42%|████▏     | 245/584 [10:06<21:30,  3.81s/it]"
     ]
    },
    {
     "name": "stdout",
     "output_type": "stream",
     "text": [
      "../../physcosis/Package_1187332/image03/CLEAN/S7868OKG-1-2\n",
      "Converting S7868OKG-1-2  from dicom to niftii.\n"
     ]
    },
    {
     "name": "stderr",
     "output_type": "stream",
     "text": [
      "\r",
      " 42%|████▏     | 246/584 [10:10<21:09,  3.76s/it]"
     ]
    },
    {
     "name": "stdout",
     "output_type": "stream",
     "text": [
      "../../physcosis/Package_1187332/image03/CLEAN/S3127AHJ-1-2\n",
      "Converting S3127AHJ-1-2  from dicom to niftii.\n"
     ]
    },
    {
     "name": "stderr",
     "output_type": "stream",
     "text": [
      "\r",
      " 42%|████▏     | 247/584 [10:14<21:00,  3.74s/it]"
     ]
    },
    {
     "name": "stdout",
     "output_type": "stream",
     "text": [
      "../../physcosis/Package_1187332/image03/CLEAN/S3982ODD-1-2\n",
      "Converting S3982ODD-1-2  from dicom to niftii.\n"
     ]
    },
    {
     "name": "stderr",
     "output_type": "stream",
     "text": [
      "\r",
      " 42%|████▏     | 248/584 [10:17<21:10,  3.78s/it]"
     ]
    },
    {
     "name": "stdout",
     "output_type": "stream",
     "text": [
      "../../physcosis/Package_1187332/image03/CLEAN/S3982ODD-1-3\n",
      "Converting S3982ODD-1-3  from dicom to niftii.\n"
     ]
    },
    {
     "name": "stderr",
     "output_type": "stream",
     "text": [
      "\r",
      " 43%|████▎     | 249/584 [10:21<20:55,  3.75s/it]"
     ]
    },
    {
     "name": "stdout",
     "output_type": "stream",
     "text": [
      "../../physcosis/Package_1187332/image03/CLEAN/S4100EOM-1-2\n",
      "Converting S4100EOM-1-2  from dicom to niftii.\n"
     ]
    },
    {
     "name": "stderr",
     "output_type": "stream",
     "text": [
      "\r",
      " 43%|████▎     | 250/584 [10:25<20:51,  3.75s/it]"
     ]
    },
    {
     "name": "stdout",
     "output_type": "stream",
     "text": [
      "../../physcosis/Package_1187332/image03/CLEAN/S2764XYH-1-2\n",
      "Converting S2764XYH-1-2  from dicom to niftii.\n"
     ]
    },
    {
     "name": "stderr",
     "output_type": "stream",
     "text": [
      "\r",
      " 43%|████▎     | 251/584 [10:28<20:35,  3.71s/it]"
     ]
    },
    {
     "name": "stdout",
     "output_type": "stream",
     "text": [
      "../../physcosis/Package_1187332/image03/CLEAN/S7277YPL-1-2\n",
      "Converting S7277YPL-1-2  from dicom to niftii.\n"
     ]
    },
    {
     "name": "stderr",
     "output_type": "stream",
     "text": [
      "\r",
      " 43%|████▎     | 252/584 [10:32<20:44,  3.75s/it]"
     ]
    },
    {
     "name": "stdout",
     "output_type": "stream",
     "text": [
      "../../physcosis/Package_1187332/image03/CLEAN/S6014LIN-1-2\n",
      "Converting S6014LIN-1-2  from dicom to niftii.\n"
     ]
    },
    {
     "name": "stderr",
     "output_type": "stream",
     "text": [
      "\r",
      " 43%|████▎     | 253/584 [10:36<21:06,  3.83s/it]"
     ]
    },
    {
     "name": "stdout",
     "output_type": "stream",
     "text": [
      "../../physcosis/Package_1187332/image03/CLEAN/S2285YBL-1-2\n",
      "Converting S2285YBL-1-2  from dicom to niftii.\n"
     ]
    },
    {
     "name": "stderr",
     "output_type": "stream",
     "text": [
      "\r",
      " 43%|████▎     | 254/584 [10:41<22:12,  4.04s/it]"
     ]
    },
    {
     "name": "stdout",
     "output_type": "stream",
     "text": [
      "../../physcosis/Package_1187332/image03/CLEAN/S3728OQP-2-2\n",
      "Converting S3728OQP-2-2  from dicom to niftii.\n"
     ]
    },
    {
     "name": "stderr",
     "output_type": "stream",
     "text": [
      "\r",
      " 44%|████▎     | 255/584 [10:45<22:20,  4.07s/it]"
     ]
    },
    {
     "name": "stdout",
     "output_type": "stream",
     "text": [
      "../../physcosis/Package_1187332/image03/CLEAN/S3530YHM-1-2\n",
      "Converting S3530YHM-1-2  from dicom to niftii.\n"
     ]
    },
    {
     "name": "stderr",
     "output_type": "stream",
     "text": [
      "\r",
      " 44%|████▍     | 256/584 [10:49<22:36,  4.14s/it]"
     ]
    },
    {
     "name": "stdout",
     "output_type": "stream",
     "text": [
      "../../physcosis/Package_1187332/image03/CLEAN/S2044XNA-1-2\n",
      "Converting S2044XNA-1-2  from dicom to niftii.\n"
     ]
    },
    {
     "name": "stderr",
     "output_type": "stream",
     "text": [
      "\r",
      " 44%|████▍     | 257/584 [10:53<22:22,  4.10s/it]"
     ]
    },
    {
     "name": "stdout",
     "output_type": "stream",
     "text": [
      "../../physcosis/Package_1187332/image03/CLEAN/S1967DMU-1-2\n",
      "Converting S1967DMU-1-2  from dicom to niftii.\n"
     ]
    },
    {
     "name": "stderr",
     "output_type": "stream",
     "text": [
      "\r",
      " 44%|████▍     | 258/584 [10:57<22:18,  4.11s/it]"
     ]
    },
    {
     "name": "stdout",
     "output_type": "stream",
     "text": [
      "../../physcosis/Package_1187332/image03/CLEAN/S4561YRI-1-2\n",
      "Converting S4561YRI-1-2  from dicom to niftii.\n"
     ]
    },
    {
     "name": "stderr",
     "output_type": "stream",
     "text": [
      "\r",
      " 44%|████▍     | 259/584 [11:01<22:11,  4.10s/it]"
     ]
    },
    {
     "name": "stdout",
     "output_type": "stream",
     "text": [
      "../../physcosis/Package_1187332/image03/CLEAN/S4660VSC-1-2\n",
      "Converting S4660VSC-1-2  from dicom to niftii.\n"
     ]
    },
    {
     "name": "stderr",
     "output_type": "stream",
     "text": [
      "\r",
      " 45%|████▍     | 260/584 [11:05<21:25,  3.97s/it]"
     ]
    },
    {
     "name": "stdout",
     "output_type": "stream",
     "text": [
      "../../physcosis/Package_1187332/image03/CLEAN/S4673PTE-1-2\n",
      "Converting S4673PTE-1-2  from dicom to niftii.\n"
     ]
    },
    {
     "name": "stderr",
     "output_type": "stream",
     "text": [
      "\r",
      " 45%|████▍     | 261/584 [11:09<21:00,  3.90s/it]"
     ]
    },
    {
     "name": "stdout",
     "output_type": "stream",
     "text": [
      "../../physcosis/Package_1187332/image03/CLEAN/S5409IFQ-1-2\n",
      "Converting S5409IFQ-1-2  from dicom to niftii.\n"
     ]
    },
    {
     "name": "stderr",
     "output_type": "stream",
     "text": [
      "\r",
      " 45%|████▍     | 262/584 [11:13<20:41,  3.86s/it]"
     ]
    },
    {
     "name": "stdout",
     "output_type": "stream",
     "text": [
      "../../physcosis/Package_1187332/image03/CLEAN/S4499XDH-1-2\n",
      "Converting S4499XDH-1-2  from dicom to niftii.\n"
     ]
    },
    {
     "name": "stderr",
     "output_type": "stream",
     "text": [
      "\r",
      " 45%|████▌     | 263/584 [11:16<20:26,  3.82s/it]"
     ]
    },
    {
     "name": "stdout",
     "output_type": "stream",
     "text": [
      "../../physcosis/Package_1187332/image03/CLEAN/S2268SWJ-1-4\n",
      "Converting S2268SWJ-1-4  from dicom to niftii.\n"
     ]
    },
    {
     "name": "stderr",
     "output_type": "stream",
     "text": [
      "\r",
      " 45%|████▌     | 264/584 [11:20<19:57,  3.74s/it]"
     ]
    },
    {
     "name": "stdout",
     "output_type": "stream",
     "text": [
      "../../physcosis/Package_1187332/image03/CLEAN/S4463JBA-1-2\n",
      "Converting S4463JBA-1-2  from dicom to niftii.\n"
     ]
    },
    {
     "name": "stderr",
     "output_type": "stream",
     "text": [
      "\r",
      " 45%|████▌     | 265/584 [11:24<19:59,  3.76s/it]"
     ]
    },
    {
     "name": "stdout",
     "output_type": "stream",
     "text": [
      "../../physcosis/Package_1187332/image03/CLEAN/S8624XVV-1-2\n",
      "Converting S8624XVV-1-2  from dicom to niftii.\n"
     ]
    },
    {
     "name": "stderr",
     "output_type": "stream",
     "text": [
      "\r",
      " 46%|████▌     | 266/584 [11:27<19:44,  3.73s/it]"
     ]
    },
    {
     "name": "stdout",
     "output_type": "stream",
     "text": [
      "../../physcosis/Package_1187332/image03/CLEAN/S0251JUF-1-2\n",
      "Converting S0251JUF-1-2  from dicom to niftii.\n"
     ]
    },
    {
     "name": "stderr",
     "output_type": "stream",
     "text": [
      "\r",
      " 46%|████▌     | 267/584 [11:31<19:33,  3.70s/it]"
     ]
    },
    {
     "name": "stdout",
     "output_type": "stream",
     "text": [
      "../../physcosis/Package_1187332/image03/CLEAN/S7635IMJ-1-2\n",
      "Converting S7635IMJ-1-2  from dicom to niftii.\n"
     ]
    },
    {
     "name": "stderr",
     "output_type": "stream",
     "text": [
      "\r",
      " 46%|████▌     | 268/584 [11:35<19:26,  3.69s/it]"
     ]
    },
    {
     "name": "stdout",
     "output_type": "stream",
     "text": [
      "../../physcosis/Package_1187332/image03/CLEAN/S8201IRF-1-2\n",
      "Converting S8201IRF-1-2  from dicom to niftii.\n"
     ]
    },
    {
     "name": "stderr",
     "output_type": "stream",
     "text": [
      "\r",
      " 46%|████▌     | 269/584 [11:38<19:29,  3.71s/it]"
     ]
    },
    {
     "name": "stdout",
     "output_type": "stream",
     "text": [
      "../../physcosis/Package_1187332/image03/CLEAN/S1841IJS-1-2\n",
      "Converting S1841IJS-1-2  from dicom to niftii.\n"
     ]
    },
    {
     "name": "stderr",
     "output_type": "stream",
     "text": [
      "\r",
      " 46%|████▌     | 270/584 [11:43<20:08,  3.85s/it]"
     ]
    },
    {
     "name": "stdout",
     "output_type": "stream",
     "text": [
      "../../physcosis/Package_1187332/image03/CLEAN/S1680RWH-1-2\n",
      "Converting S1680RWH-1-2  from dicom to niftii.\n"
     ]
    },
    {
     "name": "stderr",
     "output_type": "stream",
     "text": [
      "\r",
      " 46%|████▋     | 271/584 [11:48<22:21,  4.29s/it]"
     ]
    },
    {
     "name": "stdout",
     "output_type": "stream",
     "text": [
      "../../physcosis/Package_1187332/image03/CLEAN/S3711OVC-1-2\n",
      "Converting S3711OVC-1-2  from dicom to niftii.\n"
     ]
    },
    {
     "name": "stderr",
     "output_type": "stream",
     "text": [
      "\r",
      " 47%|████▋     | 272/584 [11:54<25:29,  4.90s/it]"
     ]
    },
    {
     "name": "stdout",
     "output_type": "stream",
     "text": [
      "../../physcosis/Package_1187332/image03/CLEAN/S7880FUY-1-2\n",
      "Converting S7880FUY-1-2  from dicom to niftii.\n"
     ]
    },
    {
     "name": "stderr",
     "output_type": "stream",
     "text": [
      "\r",
      " 47%|████▋     | 273/584 [12:00<26:12,  5.06s/it]"
     ]
    },
    {
     "name": "stdout",
     "output_type": "stream",
     "text": [
      "../../physcosis/Package_1187332/image03/CLEAN/S3551WCD-1-3\n",
      "Converting S3551WCD-1-3  from dicom to niftii.\n"
     ]
    },
    {
     "name": "stderr",
     "output_type": "stream",
     "text": [
      "\r",
      " 47%|████▋     | 274/584 [12:05<26:02,  5.04s/it]"
     ]
    },
    {
     "name": "stdout",
     "output_type": "stream",
     "text": [
      "../../physcosis/Package_1187332/image03/CLEAN/S0432FES-1-2\n",
      "Converting S0432FES-1-2  from dicom to niftii.\n"
     ]
    },
    {
     "name": "stderr",
     "output_type": "stream",
     "text": [
      "\r",
      " 47%|████▋     | 275/584 [12:09<25:34,  4.97s/it]"
     ]
    },
    {
     "name": "stdout",
     "output_type": "stream",
     "text": [
      "../../physcosis/Package_1187332/image03/CLEAN/S9269RWX-1-2\n",
      "Converting S9269RWX-1-2  from dicom to niftii.\n"
     ]
    },
    {
     "name": "stderr",
     "output_type": "stream",
     "text": [
      "\r",
      " 47%|████▋     | 276/584 [12:13<23:59,  4.67s/it]"
     ]
    },
    {
     "name": "stdout",
     "output_type": "stream",
     "text": [
      "../../physcosis/Package_1187332/image03/CLEAN/S9061TUS-1-2\n",
      "Converting S9061TUS-1-2  from dicom to niftii.\n"
     ]
    },
    {
     "name": "stderr",
     "output_type": "stream",
     "text": [
      "\r",
      " 47%|████▋     | 277/584 [12:18<23:32,  4.60s/it]"
     ]
    },
    {
     "name": "stdout",
     "output_type": "stream",
     "text": [
      "../../physcosis/Package_1187332/image03/CLEAN/S4723GMF-1-2\n",
      "Converting S4723GMF-1-2  from dicom to niftii.\n"
     ]
    },
    {
     "name": "stderr",
     "output_type": "stream",
     "text": [
      "\r",
      " 48%|████▊     | 278/584 [12:22<23:21,  4.58s/it]"
     ]
    },
    {
     "name": "stdout",
     "output_type": "stream",
     "text": [
      "../../physcosis/Package_1187332/image03/CLEAN/S5700TWG-1-2\n",
      "Converting S5700TWG-1-2  from dicom to niftii.\n"
     ]
    },
    {
     "name": "stderr",
     "output_type": "stream",
     "text": [
      "\r",
      " 48%|████▊     | 279/584 [12:26<22:20,  4.40s/it]"
     ]
    },
    {
     "name": "stdout",
     "output_type": "stream",
     "text": [
      "../../physcosis/Package_1187332/image03/CLEAN/S7445FQP-1-2\n",
      "Converting S7445FQP-1-2  from dicom to niftii.\n"
     ]
    },
    {
     "name": "stderr",
     "output_type": "stream",
     "text": [
      "\r",
      " 48%|████▊     | 280/584 [12:30<21:15,  4.20s/it]"
     ]
    },
    {
     "name": "stdout",
     "output_type": "stream",
     "text": [
      "../../physcosis/Package_1187332/image03/CLEAN/S0162SNQ-1-2\n",
      "Converting S0162SNQ-1-2  from dicom to niftii.\n"
     ]
    },
    {
     "name": "stderr",
     "output_type": "stream",
     "text": [
      "\r",
      " 48%|████▊     | 281/584 [12:34<21:02,  4.17s/it]"
     ]
    },
    {
     "name": "stdout",
     "output_type": "stream",
     "text": [
      "../../physcosis/Package_1187332/image03/CLEAN/S2666RNR-1-2\n",
      "Converting S2666RNR-1-2  from dicom to niftii.\n"
     ]
    },
    {
     "name": "stderr",
     "output_type": "stream",
     "text": [
      "\r",
      " 48%|████▊     | 282/584 [12:38<20:17,  4.03s/it]"
     ]
    },
    {
     "name": "stdout",
     "output_type": "stream",
     "text": [
      "../../physcosis/Package_1187332/image03/CLEAN/S2978DMJ-1-2\n",
      "Converting S2978DMJ-1-2  from dicom to niftii.\n"
     ]
    },
    {
     "name": "stderr",
     "output_type": "stream",
     "text": [
      "\r",
      " 48%|████▊     | 283/584 [12:42<19:34,  3.90s/it]"
     ]
    },
    {
     "name": "stdout",
     "output_type": "stream",
     "text": [
      "../../physcosis/Package_1187332/image03/CLEAN/S4682UJX-1-2\n",
      "Converting S4682UJX-1-2  from dicom to niftii.\n"
     ]
    },
    {
     "name": "stderr",
     "output_type": "stream",
     "text": [
      "\r",
      " 49%|████▊     | 284/584 [12:45<19:15,  3.85s/it]"
     ]
    },
    {
     "name": "stdout",
     "output_type": "stream",
     "text": [
      "../../physcosis/Package_1187332/image03/CLEAN/S3217OQE-1-2\n",
      "Converting S3217OQE-1-2  from dicom to niftii.\n"
     ]
    },
    {
     "name": "stderr",
     "output_type": "stream",
     "text": [
      "\r",
      " 49%|████▉     | 285/584 [12:49<18:55,  3.80s/it]"
     ]
    },
    {
     "name": "stdout",
     "output_type": "stream",
     "text": [
      "../../physcosis/Package_1187332/image03/CLEAN/S9958PLR-1-2\n",
      "Converting S9958PLR-1-2  from dicom to niftii.\n"
     ]
    },
    {
     "name": "stderr",
     "output_type": "stream",
     "text": [
      "\r",
      " 49%|████▉     | 286/584 [12:53<18:53,  3.80s/it]"
     ]
    },
    {
     "name": "stdout",
     "output_type": "stream",
     "text": [
      "../../physcosis/Package_1187332/image03/CLEAN/S8643NYV-1-2\n",
      "Converting S8643NYV-1-2  from dicom to niftii.\n"
     ]
    },
    {
     "name": "stderr",
     "output_type": "stream",
     "text": [
      "\r",
      " 49%|████▉     | 287/584 [12:56<18:42,  3.78s/it]"
     ]
    },
    {
     "name": "stdout",
     "output_type": "stream",
     "text": [
      "../../physcosis/Package_1187332/image03/CLEAN/S3446DTK-1-2\n",
      "Converting S3446DTK-1-2  from dicom to niftii.\n"
     ]
    },
    {
     "name": "stderr",
     "output_type": "stream",
     "text": [
      "\r",
      " 49%|████▉     | 288/584 [13:00<18:28,  3.75s/it]"
     ]
    },
    {
     "name": "stdout",
     "output_type": "stream",
     "text": [
      "../../physcosis/Package_1187332/image03/CLEAN/S2207DTM-1-2\n",
      "Converting S2207DTM-1-2  from dicom to niftii.\n"
     ]
    },
    {
     "name": "stderr",
     "output_type": "stream",
     "text": [
      "\r",
      " 49%|████▉     | 289/584 [13:04<18:35,  3.78s/it]"
     ]
    },
    {
     "name": "stdout",
     "output_type": "stream",
     "text": [
      "../../physcosis/Package_1187332/image03/CLEAN/S0446SHD-1-2\n",
      "Converting S0446SHD-1-2  from dicom to niftii.\n"
     ]
    },
    {
     "name": "stderr",
     "output_type": "stream",
     "text": [
      "\r",
      " 50%|████▉     | 290/584 [13:08<18:24,  3.76s/it]"
     ]
    },
    {
     "name": "stdout",
     "output_type": "stream",
     "text": [
      "../../physcosis/Package_1187332/image03/CLEAN/S5722XHH-1-2\n",
      "Converting S5722XHH-1-2  from dicom to niftii.\n"
     ]
    },
    {
     "name": "stderr",
     "output_type": "stream",
     "text": [
      "\r",
      " 50%|████▉     | 291/584 [13:11<18:14,  3.73s/it]"
     ]
    },
    {
     "name": "stdout",
     "output_type": "stream",
     "text": [
      "../../physcosis/Package_1187332/image03/CLEAN/S3033SJJ-1-2\n",
      "Converting S3033SJJ-1-2  from dicom to niftii.\n"
     ]
    },
    {
     "name": "stderr",
     "output_type": "stream",
     "text": [
      "\r",
      " 50%|█████     | 292/584 [13:15<18:15,  3.75s/it]"
     ]
    },
    {
     "name": "stdout",
     "output_type": "stream",
     "text": [
      "../../physcosis/Package_1187332/image03/CLEAN/S0149USU-1-2\n",
      "Converting S0149USU-1-2  from dicom to niftii.\n"
     ]
    },
    {
     "name": "stderr",
     "output_type": "stream",
     "text": [
      "\r",
      " 50%|█████     | 293/584 [13:19<18:07,  3.74s/it]"
     ]
    },
    {
     "name": "stdout",
     "output_type": "stream",
     "text": [
      "../../physcosis/Package_1187332/image03/CLEAN/S8554AUS-1-2\n",
      "Converting S8554AUS-1-2  from dicom to niftii.\n"
     ]
    },
    {
     "name": "stderr",
     "output_type": "stream",
     "text": [
      "\r",
      " 50%|█████     | 294/584 [13:23<18:04,  3.74s/it]"
     ]
    },
    {
     "name": "stdout",
     "output_type": "stream",
     "text": [
      "../../physcosis/Package_1187332/image03/CLEAN/S8372WQW-1-2\n",
      "Converting S8372WQW-1-2  from dicom to niftii.\n"
     ]
    },
    {
     "name": "stderr",
     "output_type": "stream",
     "text": [
      "\r",
      " 51%|█████     | 295/584 [13:26<17:54,  3.72s/it]"
     ]
    },
    {
     "name": "stdout",
     "output_type": "stream",
     "text": [
      "../../physcosis/Package_1187332/image03/CLEAN/S7110CBM-1-2\n",
      "Converting S7110CBM-1-2  from dicom to niftii.\n"
     ]
    },
    {
     "name": "stderr",
     "output_type": "stream",
     "text": [
      "\r",
      " 51%|█████     | 296/584 [13:30<17:43,  3.69s/it]"
     ]
    },
    {
     "name": "stdout",
     "output_type": "stream",
     "text": [
      "../../physcosis/Package_1187332/image03/CLEAN/S2792BOB-1-2\n",
      "Converting S2792BOB-1-2  from dicom to niftii.\n"
     ]
    },
    {
     "name": "stderr",
     "output_type": "stream",
     "text": [
      "\r",
      " 51%|█████     | 297/584 [13:35<18:59,  3.97s/it]"
     ]
    },
    {
     "name": "stdout",
     "output_type": "stream",
     "text": [
      "../../physcosis/Package_1187332/image03/CLEAN/S0571EYN-2-2\n",
      "Converting S0571EYN-2-2  from dicom to niftii.\n"
     ]
    },
    {
     "name": "stderr",
     "output_type": "stream",
     "text": [
      "\r",
      " 51%|█████     | 298/584 [13:39<20:13,  4.24s/it]"
     ]
    },
    {
     "name": "stdout",
     "output_type": "stream",
     "text": [
      "../../physcosis/Package_1187332/image03/CLEAN/S5317QPN-1-2\n",
      "Converting S5317QPN-1-2  from dicom to niftii.\n"
     ]
    },
    {
     "name": "stderr",
     "output_type": "stream",
     "text": [
      "\r",
      " 51%|█████     | 299/584 [13:43<19:12,  4.05s/it]"
     ]
    },
    {
     "name": "stdout",
     "output_type": "stream",
     "text": [
      "../../physcosis/Package_1187332/image03/CLEAN/S1513KBH-1-2\n",
      "Converting S1513KBH-1-2  from dicom to niftii.\n"
     ]
    },
    {
     "name": "stderr",
     "output_type": "stream",
     "text": [
      "\r",
      " 51%|█████▏    | 300/584 [13:47<19:07,  4.04s/it]"
     ]
    },
    {
     "name": "stdout",
     "output_type": "stream",
     "text": [
      "../../physcosis/Package_1187332/image03/CLEAN/S6549MXR-1-3\n",
      "Converting S6549MXR-1-3  from dicom to niftii.\n"
     ]
    },
    {
     "name": "stderr",
     "output_type": "stream",
     "text": [
      "\r",
      " 52%|█████▏    | 301/584 [13:51<19:00,  4.03s/it]"
     ]
    },
    {
     "name": "stdout",
     "output_type": "stream",
     "text": [
      "../../physcosis/Package_1187332/image03/CLEAN/S0483IXU-1-9\n",
      "Converting S0483IXU-1-9  from dicom to niftii.\n"
     ]
    },
    {
     "name": "stderr",
     "output_type": "stream",
     "text": [
      "Slice increment not consistent through all slices\n",
      "---------------------------------------------------------\n",
      "[ -81.77950315 -110.02085114  111.54789543] [-1.2  0.   0. ]\n",
      "[ -79.37950315 -110.02085114  111.54789543] [-2.4  0.   0. ]\n",
      "Instance Number: 11\n",
      "---------------------------------------------------------\n",
      " 52%|█████▏    | 302/584 [13:53<16:32,  3.52s/it]"
     ]
    },
    {
     "name": "stdout",
     "output_type": "stream",
     "text": [
      "S0483IXU-1-9  Failed.\n",
      "../../physcosis/Package_1187332/image03/CLEAN/S0483IXU-1-10\n",
      "Converting S0483IXU-1-10  from dicom to niftii.\n"
     ]
    },
    {
     "name": "stderr",
     "output_type": "stream",
     "text": [
      "Slice increment not consistent through all slices\n",
      "---------------------------------------------------------\n",
      "[  37.02049685 -110.02085114  111.54789543] [-1.2  0.   0. ]\n",
      "[  39.42049685 -110.02085114  111.54789543] [-2.4  0.   0. ]\n",
      "Instance Number: 110\n",
      "---------------------------------------------------------\n",
      " 52%|█████▏    | 303/584 [13:56<14:53,  3.18s/it]"
     ]
    },
    {
     "name": "stdout",
     "output_type": "stream",
     "text": [
      "S0483IXU-1-10  Failed.\n",
      "../../physcosis/Package_1187332/image03/CLEAN/S9456UWL-1-9\n",
      "Converting S9456UWL-1-9  from dicom to niftii.\n"
     ]
    },
    {
     "name": "stderr",
     "output_type": "stream",
     "text": [
      "Slice increment not consistent through all slices\n",
      "---------------------------------------------------------\n",
      "[ -26.73559341 -155.01888275  124.12968493] [-1.2  0.   0. ]\n",
      "[ -24.33559341 -155.01888275  124.12968493] [-2.4  0.   0. ]\n",
      "Instance Number: 67\n",
      "---------------------------------------------------------\n",
      " 52%|█████▏    | 304/584 [13:58<13:33,  2.91s/it]"
     ]
    },
    {
     "name": "stdout",
     "output_type": "stream",
     "text": [
      "S9456UWL-1-9  Failed.\n",
      "../../physcosis/Package_1187332/image03/CLEAN/S9456UWL-1-10\n",
      "Converting S9456UWL-1-10  from dicom to niftii.\n"
     ]
    },
    {
     "name": "stderr",
     "output_type": "stream",
     "text": [
      "Slice increment not consistent through all slices\n",
      "---------------------------------------------------------\n",
      "[  12.86440659 -155.01888275  124.12968493] [-1.2  0.   0. ]\n",
      "[  15.26440659 -155.01888275  124.12968493] [-2.4  0.   0. ]\n",
      "Instance Number: 100\n",
      "---------------------------------------------------------\n",
      " 52%|█████▏    | 305/584 [14:00<12:28,  2.68s/it]"
     ]
    },
    {
     "name": "stdout",
     "output_type": "stream",
     "text": [
      "S9456UWL-1-10  Failed.\n",
      "../../physcosis/Package_1187332/image03/CLEAN/S2497EQG-1-4\n",
      "Converting S2497EQG-1-4  from dicom to niftii.\n"
     ]
    },
    {
     "name": "stderr",
     "output_type": "stream",
     "text": [
      "Slice increment not consistent through all slices\n",
      "---------------------------------------------------------\n",
      "[ -67.20763817 -114.13276983  100.06117603] [-1.19957235  0.00628103 -0.03141238]\n",
      "[ -64.80849348 -114.14533188  100.12400079] [-2.39914469  0.01256205 -0.06282475]\n",
      "Instance Number: 33\n",
      "---------------------------------------------------------\n",
      " 52%|█████▏    | 306/584 [14:02<11:50,  2.55s/it]"
     ]
    },
    {
     "name": "stdout",
     "output_type": "stream",
     "text": [
      "S2497EQG-1-4  Failed.\n",
      "../../physcosis/Package_1187332/image03/CLEAN/S2497EQG-1-5\n",
      "Converting S2497EQG-1-5  from dicom to niftii.\n"
     ]
    },
    {
     "name": "stderr",
     "output_type": "stream",
     "text": [
      "Slice increment not consistent through all slices\n",
      "---------------------------------------------------------\n",
      "[ -60.0102041  -114.17045599  100.2496503 ] [-1.19957235  0.00628103 -0.03141238]\n",
      "[ -57.6110594  -114.18301804  100.31247505] [-2.39914469  0.01256205 -0.06282475]\n",
      "Instance Number: 39\n",
      "---------------------------------------------------------\n",
      " 53%|█████▎    | 307/584 [14:05<11:25,  2.47s/it]"
     ]
    },
    {
     "name": "stdout",
     "output_type": "stream",
     "text": [
      "S2497EQG-1-5  Failed.\n",
      "../../physcosis/Package_1187332/image03/CLEAN/S1217NKY-1-9\n",
      "Converting S1217NKY-1-9  from dicom to niftii.\n"
     ]
    },
    {
     "name": "stderr",
     "output_type": "stream",
     "text": [
      "\r",
      " 53%|█████▎    | 308/584 [14:09<13:12,  2.87s/it]"
     ]
    },
    {
     "name": "stdout",
     "output_type": "stream",
     "text": [
      "../../physcosis/Package_1187332/image03/CLEAN/S1217NKY-1-10\n",
      "Converting S1217NKY-1-10  from dicom to niftii.\n"
     ]
    },
    {
     "name": "stderr",
     "output_type": "stream",
     "text": [
      "\r",
      " 53%|█████▎    | 309/584 [14:12<14:11,  3.10s/it]"
     ]
    },
    {
     "name": "stdout",
     "output_type": "stream",
     "text": [
      "../../physcosis/Package_1187332/image03/CLEAN/S1216YCU-1-2\n",
      "Converting S1216YCU-1-2  from dicom to niftii.\n"
     ]
    },
    {
     "name": "stderr",
     "output_type": "stream",
     "text": [
      "Slice increment not consistent through all slices\n",
      "---------------------------------------------------------\n",
      "[  35.76610165 -148.91718674  105.14663315] [-1.2  0.   0. ]\n",
      "[  38.16610165 -148.91718674  105.14663315] [-2.4  0.   0. ]\n",
      "Instance Number: 114\n",
      "---------------------------------------------------------\n",
      " 53%|█████▎    | 310/584 [14:14<12:46,  2.80s/it]"
     ]
    },
    {
     "name": "stdout",
     "output_type": "stream",
     "text": [
      "S1216YCU-1-2  Failed.\n",
      "../../physcosis/Package_1187332/image03/CLEAN/S1216YCU-1-3\n",
      "Converting S1216YCU-1-3  from dicom to niftii.\n"
     ]
    },
    {
     "name": "stderr",
     "output_type": "stream",
     "text": [
      "Slice increment not consistent through all slices\n",
      "---------------------------------------------------------\n",
      "[  77.76610165 -148.91718674  105.14663315] [-1.2  0.   0. ]\n",
      "[  80.16610165 -148.91718674  105.14663315] [-2.4  0.   0. ]\n",
      "Instance Number: 149\n",
      "---------------------------------------------------------\n",
      " 53%|█████▎    | 311/584 [14:17<12:06,  2.66s/it]"
     ]
    },
    {
     "name": "stdout",
     "output_type": "stream",
     "text": [
      "S1216YCU-1-3  Failed.\n",
      "../../physcosis/Package_1187332/image03/CLEAN/S6545KCL-1-2\n",
      "Converting S6545KCL-1-2  from dicom to niftii.\n"
     ]
    },
    {
     "name": "stderr",
     "output_type": "stream",
     "text": [
      "Slice increment not consistent through all slices\n",
      "---------------------------------------------------------\n",
      "[ -10.56610165 -145.52735519  126.1635834 ] [-1.2  0.   0. ]\n",
      "[  -8.16610165 -145.52735519  126.1635834 ] [-2.4  0.   0. ]\n",
      "Instance Number: 72\n",
      "---------------------------------------------------------\n",
      " 53%|█████▎    | 312/584 [14:19<11:24,  2.52s/it]"
     ]
    },
    {
     "name": "stdout",
     "output_type": "stream",
     "text": [
      "S6545KCL-1-2  Failed.\n",
      "../../physcosis/Package_1187332/image03/CLEAN/S6545KCL-1-3\n",
      "Converting S6545KCL-1-3  from dicom to niftii.\n"
     ]
    },
    {
     "name": "stderr",
     "output_type": "stream",
     "text": [
      "Slice increment not consistent through all slices\n",
      "---------------------------------------------------------\n",
      "[  69.83389835 -145.52735519  126.1635834 ] [-1.2  0.   0. ]\n",
      "[  72.23389835 -145.52735519  126.1635834 ] [-2.4  0.   0. ]\n",
      "Instance Number: 139\n",
      "---------------------------------------------------------\n",
      " 54%|█████▍    | 314/584 [14:21<07:54,  1.76s/it]"
     ]
    },
    {
     "name": "stdout",
     "output_type": "stream",
     "text": [
      "S6545KCL-1-3  Failed.\n",
      "../../physcosis/Package_1187332/image03/CLEAN/S6545KCL-2-2\n",
      "Converting S6545KCL-2-2  from dicom to niftii.\n",
      "../../physcosis/Package_1187332/image03/CLEAN/S6545KCL-2-3\n",
      "Converting S6545KCL-2-3  from dicom to niftii.\n"
     ]
    },
    {
     "name": "stderr",
     "output_type": "stream",
     "text": [
      "\r",
      " 54%|█████▍    | 315/584 [14:25<10:35,  2.36s/it]"
     ]
    },
    {
     "name": "stdout",
     "output_type": "stream",
     "text": [
      "../../physcosis/Package_1187332/image03/CLEAN/S1940ASN-1-9\n",
      "Converting S1940ASN-1-9  from dicom to niftii.\n"
     ]
    },
    {
     "name": "stderr",
     "output_type": "stream",
     "text": [
      "\r",
      " 54%|█████▍    | 316/584 [14:29<12:19,  2.76s/it]"
     ]
    },
    {
     "name": "stdout",
     "output_type": "stream",
     "text": [
      "../../physcosis/Package_1187332/image03/CLEAN/S1940ASN-1-10\n",
      "Converting S1940ASN-1-10  from dicom to niftii.\n"
     ]
    },
    {
     "name": "stderr",
     "output_type": "stream",
     "text": [
      "\r",
      " 54%|█████▍    | 317/584 [14:32<13:25,  3.02s/it]"
     ]
    },
    {
     "name": "stdout",
     "output_type": "stream",
     "text": [
      "../../physcosis/Package_1187332/image03/CLEAN/S9659OSN-1-9\n",
      "Converting S9659OSN-1-9  from dicom to niftii.\n"
     ]
    },
    {
     "name": "stderr",
     "output_type": "stream",
     "text": [
      "\r",
      " 54%|█████▍    | 318/584 [14:36<14:19,  3.23s/it]"
     ]
    },
    {
     "name": "stdout",
     "output_type": "stream",
     "text": [
      "../../physcosis/Package_1187332/image03/CLEAN/S9659OSN-1-10\n",
      "Converting S9659OSN-1-10  from dicom to niftii.\n"
     ]
    },
    {
     "name": "stderr",
     "output_type": "stream",
     "text": [
      "\r",
      " 55%|█████▍    | 319/584 [14:40<14:51,  3.37s/it]"
     ]
    },
    {
     "name": "stdout",
     "output_type": "stream",
     "text": [
      "../../physcosis/Package_1187332/image03/CLEAN/S9706EDY-1-9\n",
      "Converting S9706EDY-1-9  from dicom to niftii.\n"
     ]
    },
    {
     "name": "stderr",
     "output_type": "stream",
     "text": [
      "Slice increment not consistent through all slices\n",
      "---------------------------------------------------------\n",
      "[ -12.9370223  -113.59010839   92.51741409] [-1.2  0.   0. ]\n",
      "[ -10.5370223  -113.59010839   92.51741409] [-2.4  0.   0. ]\n",
      "Instance Number: 77\n",
      "---------------------------------------------------------\n",
      " 55%|█████▍    | 320/584 [14:42<13:21,  3.03s/it]"
     ]
    },
    {
     "name": "stdout",
     "output_type": "stream",
     "text": [
      "S9706EDY-1-9  Failed.\n",
      "../../physcosis/Package_1187332/image03/CLEAN/S9706EDY-1-10\n",
      "Converting S9706EDY-1-10  from dicom to niftii.\n"
     ]
    },
    {
     "name": "stderr",
     "output_type": "stream",
     "text": [
      "Slice increment not consistent through all slices\n",
      "---------------------------------------------------------\n",
      "[ -92.1370223  -113.59010839   92.51741409] [-1.2  0.   0. ]\n",
      "[ -89.7370223  -113.59010839   92.51741409] [-2.4  0.   0. ]\n",
      "Instance Number: 11\n",
      "---------------------------------------------------------\n",
      " 55%|█████▍    | 321/584 [14:44<12:12,  2.79s/it]"
     ]
    },
    {
     "name": "stdout",
     "output_type": "stream",
     "text": [
      "S9706EDY-1-10  Failed.\n",
      "../../physcosis/Package_1187332/image03/CLEAN/S4965LWO-1-2\n",
      "Converting S4965LWO-1-2  from dicom to niftii.\n"
     ]
    },
    {
     "name": "stderr",
     "output_type": "stream",
     "text": [
      "Slice increment not consistent through all slices\n",
      "---------------------------------------------------------\n",
      "[  60.6        -145.52735519  115.99409199] [-1.2  0.   0. ]\n",
      "[  63.         -145.52735519  115.99409199] [-2.4  0.   0. ]\n",
      "Instance Number: 133\n",
      "---------------------------------------------------------\n",
      " 55%|█████▌    | 322/584 [14:46<11:25,  2.61s/it]"
     ]
    },
    {
     "name": "stdout",
     "output_type": "stream",
     "text": [
      "S4965LWO-1-2  Failed.\n",
      "../../physcosis/Package_1187332/image03/CLEAN/S4965LWO-1-3\n",
      "Converting S4965LWO-1-3  from dicom to niftii.\n"
     ]
    },
    {
     "name": "stderr",
     "output_type": "stream",
     "text": [
      "Slice increment not consistent through all slices\n",
      "---------------------------------------------------------\n",
      "[  19.8        -145.52735519  115.99409199] [-1.2  0.   0. ]\n",
      "[  22.2        -145.52735519  115.99409199] [-2.4  0.   0. ]\n",
      "Instance Number: 99\n",
      "---------------------------------------------------------\n",
      " 55%|█████▌    | 323/584 [14:49<10:54,  2.51s/it]"
     ]
    },
    {
     "name": "stdout",
     "output_type": "stream",
     "text": [
      "S4965LWO-1-3  Failed.\n",
      "../../physcosis/Package_1187332/image03/CLEAN/S6722RGC-1-9\n",
      "Converting S6722RGC-1-9  from dicom to niftii.\n"
     ]
    },
    {
     "name": "stderr",
     "output_type": "stream",
     "text": [
      "Slice increment not consistent through all slices\n",
      "---------------------------------------------------------\n",
      "[ -26.63389835 -105.70576668  106.50256538] [-1.2  0.   0. ]\n",
      "[ -24.23389835 -105.70576668  106.50256538] [-2.4  0.   0. ]\n",
      "Instance Number: 62\n",
      "---------------------------------------------------------\n",
      " 55%|█████▌    | 324/584 [14:51<10:35,  2.45s/it]"
     ]
    },
    {
     "name": "stdout",
     "output_type": "stream",
     "text": [
      "S6722RGC-1-9  Failed.\n",
      "../../physcosis/Package_1187332/image03/CLEAN/S6722RGC-1-10\n",
      "Converting S6722RGC-1-10  from dicom to niftii.\n"
     ]
    },
    {
     "name": "stderr",
     "output_type": "stream",
     "text": [
      "Slice increment not consistent through all slices\n",
      "---------------------------------------------------------\n",
      "[ -36.23389835 -105.70576668  106.50256538] [-1.2  0.   0. ]\n",
      "[ -33.83389835 -105.70576668  106.50256538] [-2.4  0.   0. ]\n",
      "Instance Number: 54\n",
      "---------------------------------------------------------\n",
      " 56%|█████▌    | 325/584 [14:54<11:00,  2.55s/it]"
     ]
    },
    {
     "name": "stdout",
     "output_type": "stream",
     "text": [
      "S6722RGC-1-10  Failed.\n",
      "../../physcosis/Package_1187332/image03/CLEAN/S6722RGC-1-11\n",
      "Converting S6722RGC-1-11  from dicom to niftii.\n"
     ]
    },
    {
     "name": "stderr",
     "output_type": "stream",
     "text": [
      "Slice increment not consistent through all slices\n",
      "---------------------------------------------------------\n",
      "[   3.36610165 -105.70576668  106.50256538] [-1.2  0.   0. ]\n",
      "[   5.76610165 -105.70576668  106.50256538] [-2.4  0.   0. ]\n",
      "Instance Number: 87\n",
      "---------------------------------------------------------\n",
      " 56%|█████▌    | 326/584 [14:56<11:04,  2.58s/it]"
     ]
    },
    {
     "name": "stdout",
     "output_type": "stream",
     "text": [
      "S6722RGC-1-11  Failed.\n",
      "../../physcosis/Package_1187332/image03/CLEAN/S6223QUV-1-9\n",
      "Converting S6223QUV-1-9  from dicom to niftii.\n"
     ]
    },
    {
     "name": "stderr",
     "output_type": "stream",
     "text": [
      "Slice increment not consistent through all slices\n",
      "---------------------------------------------------------\n",
      "[ -83.18983059 -139.42566109  129.55341399] [-1.2  0.   0. ]\n",
      "[ -80.78983059 -139.42566109  129.55341399] [-2.4  0.   0. ]\n",
      "Instance Number: 16\n",
      "---------------------------------------------------------\n",
      " 56%|█████▌    | 327/584 [14:59<10:29,  2.45s/it]"
     ]
    },
    {
     "name": "stdout",
     "output_type": "stream",
     "text": [
      "S6223QUV-1-9  Failed.\n",
      "../../physcosis/Package_1187332/image03/CLEAN/S6223QUV-1-10\n",
      "Converting S6223QUV-1-10  from dicom to niftii.\n"
     ]
    },
    {
     "name": "stderr",
     "output_type": "stream",
     "text": [
      "Slice increment not consistent through all slices\n",
      "---------------------------------------------------------\n",
      "[ -85.58983059 -139.42566109  129.55341399] [-1.2  0.   0. ]\n",
      "[ -83.18983059 -139.42566109  129.55341399] [-2.4  0.   0. ]\n",
      "Instance Number: 14\n",
      "---------------------------------------------------------\n",
      " 56%|█████▌    | 328/584 [15:01<10:13,  2.39s/it]"
     ]
    },
    {
     "name": "stdout",
     "output_type": "stream",
     "text": [
      "S6223QUV-1-10  Failed.\n",
      "../../physcosis/Package_1187332/image03/CLEAN/S7042PKJ-1-9\n",
      "Converting S7042PKJ-1-9  from dicom to niftii.\n"
     ]
    },
    {
     "name": "stderr",
     "output_type": "stream",
     "text": [
      "Slice increment not consistent through all slices\n",
      "---------------------------------------------------------\n",
      "[ -72.23389835 -117.05277848  101.75680351] [-1.2  0.   0. ]\n",
      "[ -69.83389835 -117.05277848  101.75680351] [-2.4  0.   0. ]\n",
      "Instance Number: 24\n",
      "---------------------------------------------------------\n",
      " 56%|█████▋    | 329/584 [15:03<10:05,  2.38s/it]"
     ]
    },
    {
     "name": "stdout",
     "output_type": "stream",
     "text": [
      "S7042PKJ-1-9  Failed.\n",
      "../../physcosis/Package_1187332/image03/CLEAN/S7042PKJ-1-10\n",
      "Converting S7042PKJ-1-10  from dicom to niftii.\n"
     ]
    },
    {
     "name": "stderr",
     "output_type": "stream",
     "text": [
      "Slice increment not consistent through all slices\n",
      "---------------------------------------------------------\n",
      "[ -77.03389835 -117.05277848  101.75680351] [-1.2  0.   0. ]\n",
      "[ -74.63389835 -117.05277848  101.75680351] [-2.4  0.   0. ]\n",
      "Instance Number: 20\n",
      "---------------------------------------------------------\n",
      " 57%|█████▋    | 330/584 [15:05<09:54,  2.34s/it]"
     ]
    },
    {
     "name": "stdout",
     "output_type": "stream",
     "text": [
      "S7042PKJ-1-10  Failed.\n",
      "../../physcosis/Package_1187332/image03/CLEAN/S6579MSN-1-9\n",
      "Converting S6579MSN-1-9  from dicom to niftii.\n"
     ]
    },
    {
     "name": "stderr",
     "output_type": "stream",
     "text": [
      "Slice increment not consistent through all slices\n",
      "---------------------------------------------------------\n",
      "[  48.96610165 -102.367342    106.50256538] [-1.2  0.   0. ]\n",
      "[  51.36610165 -102.367342    106.50256538] [-2.4  0.   0. ]\n",
      "Instance Number: 125\n",
      "---------------------------------------------------------\n",
      " 57%|█████▋    | 331/584 [15:08<09:41,  2.30s/it]"
     ]
    },
    {
     "name": "stdout",
     "output_type": "stream",
     "text": [
      "S6579MSN-1-9  Failed.\n",
      "../../physcosis/Package_1187332/image03/CLEAN/S6579MSN-1-10\n",
      "Converting S6579MSN-1-10  from dicom to niftii.\n"
     ]
    },
    {
     "name": "stderr",
     "output_type": "stream",
     "text": [
      "Slice increment not consistent through all slices\n",
      "---------------------------------------------------------\n",
      "[ -29.03389835 -102.367342    106.50256538] [-1.2  0.   0. ]\n",
      "[ -26.63389835 -102.367342    106.50256538] [-2.4  0.   0. ]\n",
      "Instance Number: 60\n",
      "---------------------------------------------------------\n",
      " 57%|█████▋    | 332/584 [15:10<09:38,  2.29s/it]"
     ]
    },
    {
     "name": "stdout",
     "output_type": "stream",
     "text": [
      "S6579MSN-1-10  Failed.\n",
      "../../physcosis/Package_1187332/image03/CLEAN/S1862HNW-1-4\n",
      "Converting S1862HNW-1-4  from dicom to niftii.\n"
     ]
    },
    {
     "name": "stderr",
     "output_type": "stream",
     "text": [
      "Slice increment not consistent through all slices\n",
      "---------------------------------------------------------\n",
      "[ -16.38595657 -106.59273052  106.50256538] [-1.2  0.   0. ]\n",
      "[ -13.98595657 -106.59273052  106.50256538] [-2.4  0.   0. ]\n",
      "Instance Number: 66\n",
      "---------------------------------------------------------\n",
      " 57%|█████▋    | 333/584 [15:12<09:29,  2.27s/it]"
     ]
    },
    {
     "name": "stdout",
     "output_type": "stream",
     "text": [
      "S1862HNW-1-4  Failed.\n",
      "../../physcosis/Package_1187332/image03/CLEAN/S1862HNW-1-5\n",
      "Converting S1862HNW-1-5  from dicom to niftii.\n"
     ]
    },
    {
     "name": "stderr",
     "output_type": "stream",
     "text": [
      "Slice increment not consistent through all slices\n",
      "---------------------------------------------------------\n",
      "[  25.61404343 -106.59273052  106.50256538] [-1.2  0.   0. ]\n",
      "[  28.01404343 -106.59273052  106.50256538] [-2.4  0.   0. ]\n",
      "Instance Number: 101\n",
      "---------------------------------------------------------\n",
      " 57%|█████▋    | 334/584 [15:14<09:29,  2.28s/it]"
     ]
    },
    {
     "name": "stdout",
     "output_type": "stream",
     "text": [
      "S1862HNW-1-5  Failed.\n",
      "../../physcosis/Package_1187332/image03/CLEAN/S6064BON-1-4\n",
      "Converting S6064BON-1-4  from dicom to niftii.\n"
     ]
    },
    {
     "name": "stderr",
     "output_type": "stream",
     "text": [
      "Slice increment not consistent through all slices\n",
      "---------------------------------------------------------\n",
      "[ -94.23346294 -110.92832209   84.56435303] [-1.19739905 -0.04181411 -0.06698577]\n",
      "[ -91.83866483 -110.84469386   84.69832457] [-2.3947981  -0.08362823 -0.13397154]\n",
      "Instance Number: 11\n",
      "---------------------------------------------------------\n",
      " 57%|█████▋    | 335/584 [15:17<09:28,  2.28s/it]"
     ]
    },
    {
     "name": "stdout",
     "output_type": "stream",
     "text": [
      "S6064BON-1-4  Failed.\n",
      "../../physcosis/Package_1187332/image03/CLEAN/S6064BON-1-5\n",
      "Converting S6064BON-1-5  from dicom to niftii.\n"
     ]
    },
    {
     "name": "stderr",
     "output_type": "stream",
     "text": [
      "Slice increment not consistent through all slices\n",
      "---------------------------------------------------------\n",
      "[ -25.98171705 -108.54491754   88.38254183] [-1.19739905 -0.04181411 -0.06698577]\n",
      "[ -23.58691894 -108.46128931   88.51651337] [-2.3947981  -0.08362823 -0.13397154]\n",
      "Instance Number: 68\n",
      "---------------------------------------------------------\n",
      " 58%|█████▊    | 336/584 [15:19<09:25,  2.28s/it]"
     ]
    },
    {
     "name": "stdout",
     "output_type": "stream",
     "text": [
      "S6064BON-1-5  Failed.\n",
      "../../physcosis/Package_1187332/image03/CLEAN/S5795EXN-1-4\n",
      "Converting S5795EXN-1-4  from dicom to niftii.\n"
     ]
    },
    {
     "name": "stderr",
     "output_type": "stream",
     "text": [
      "Slice increment not consistent through all slices\n",
      "---------------------------------------------------------\n",
      "[  81.63582423 -106.88369133   96.86401176] [-1.19991044 -0.0146604   0.        ]\n",
      "[  84.03564512 -106.85437054   96.86401176] [-2.39982089 -0.02932079  0.        ]\n",
      "Instance Number: 149\n",
      "---------------------------------------------------------\n",
      " 58%|█████▊    | 337/584 [15:21<09:19,  2.26s/it]"
     ]
    },
    {
     "name": "stdout",
     "output_type": "stream",
     "text": [
      "S5795EXN-1-4  Failed.\n",
      "../../physcosis/Package_1187332/image03/CLEAN/S5795EXN-1-5\n",
      "Converting S5795EXN-1-5  from dicom to niftii.\n"
     ]
    },
    {
     "name": "stderr",
     "output_type": "stream",
     "text": [
      "Slice increment not consistent through all slices\n",
      "---------------------------------------------------------\n",
      "[  16.84066027 -107.67535267   96.86401176] [-1.19991044 -0.0146604   0.        ]\n",
      "[  19.24048116 -107.64603188   96.86401176] [-2.39982089 -0.02932079  0.        ]\n",
      "Instance Number: 95\n",
      "---------------------------------------------------------\n",
      " 58%|█████▊    | 338/584 [15:24<09:38,  2.35s/it]"
     ]
    },
    {
     "name": "stdout",
     "output_type": "stream",
     "text": [
      "S5795EXN-1-5  Failed.\n",
      "../../physcosis/Package_1187332/image03/CLEAN/S3837OXN-1-9\n",
      "Converting S3837OXN-1-9  from dicom to niftii.\n"
     ]
    },
    {
     "name": "stderr",
     "output_type": "stream",
     "text": [
      "Slice increment not consistent through all slices\n",
      "---------------------------------------------------------\n",
      "[ -23.03389835 -106.93543816  121.52212286] [-1.2  0.   0. ]\n",
      "[ -20.63389835 -106.93543816  121.52212286] [-2.4  0.   0. ]\n",
      "Instance Number: 65\n",
      "---------------------------------------------------------\n",
      " 58%|█████▊    | 339/584 [15:26<09:34,  2.34s/it]"
     ]
    },
    {
     "name": "stdout",
     "output_type": "stream",
     "text": [
      "S3837OXN-1-9  Failed.\n",
      "../../physcosis/Package_1187332/image03/CLEAN/S3837OXN-1-10\n",
      "Converting S3837OXN-1-10  from dicom to niftii.\n"
     ]
    },
    {
     "name": "stderr",
     "output_type": "stream",
     "text": [
      "Slice increment not consistent through all slices\n",
      "---------------------------------------------------------\n",
      "[  57.36610165 -106.93543816  121.52212286] [-1.2  0.   0. ]\n",
      "[  59.76610165 -106.93543816  121.52212286] [-2.4  0.   0. ]\n",
      "Instance Number: 132\n",
      "---------------------------------------------------------\n",
      " 58%|█████▊    | 340/584 [15:29<09:53,  2.43s/it]"
     ]
    },
    {
     "name": "stdout",
     "output_type": "stream",
     "text": [
      "S3837OXN-1-10  Failed.\n",
      "../../physcosis/Package_1187332/image03/CLEAN/S2837WYG-1-4\n",
      "Converting S2837WYG-1-4  from dicom to niftii.\n"
     ]
    },
    {
     "name": "stderr",
     "output_type": "stream",
     "text": [
      "Slice increment not consistent through all slices\n",
      "---------------------------------------------------------\n",
      "[  70.46440659 -151.62905121  125.48561716] [-1.2  0.   0. ]\n",
      "[  72.86440659 -151.62905121  125.48561716] [-2.4  0.   0. ]\n",
      "Instance Number: 148\n",
      "---------------------------------------------------------\n",
      " 58%|█████▊    | 341/584 [15:31<09:41,  2.39s/it]"
     ]
    },
    {
     "name": "stdout",
     "output_type": "stream",
     "text": [
      "S2837WYG-1-4  Failed.\n",
      "../../physcosis/Package_1187332/image03/CLEAN/S2837WYG-1-5\n",
      "Converting S2837WYG-1-5  from dicom to niftii.\n"
     ]
    },
    {
     "name": "stderr",
     "output_type": "stream",
     "text": [
      "Slice increment not consistent through all slices\n",
      "---------------------------------------------------------\n",
      "[  -5.13559341 -151.62905121  125.48561716] [-1.2  0.   0. ]\n",
      "[  -2.73559341 -151.62905121  125.48561716] [-2.4  0.   0. ]\n",
      "Instance Number: 85\n",
      "---------------------------------------------------------\n",
      " 59%|█████▊    | 342/584 [15:33<09:29,  2.35s/it]"
     ]
    },
    {
     "name": "stdout",
     "output_type": "stream",
     "text": [
      "S2837WYG-1-5  Failed.\n",
      "../../physcosis/Package_1187332/image03/CLEAN/S0861JII-1-9\n",
      "Converting S0861JII-1-9  from dicom to niftii.\n"
     ]
    },
    {
     "name": "stderr",
     "output_type": "stream",
     "text": [
      "\r",
      " 59%|█████▊    | 343/584 [15:37<10:58,  2.73s/it]"
     ]
    },
    {
     "name": "stdout",
     "output_type": "stream",
     "text": [
      "../../physcosis/Package_1187332/image03/CLEAN/S0861JII-1-10\n",
      "Converting S0861JII-1-10  from dicom to niftii.\n"
     ]
    },
    {
     "name": "stderr",
     "output_type": "stream",
     "text": [
      "\r",
      " 59%|█████▉    | 344/584 [15:40<11:57,  2.99s/it]"
     ]
    },
    {
     "name": "stdout",
     "output_type": "stream",
     "text": [
      "../../physcosis/Package_1187332/image03/CLEAN/S6020XMM-1-4\n",
      "Converting S6020XMM-1-4  from dicom to niftii.\n"
     ]
    },
    {
     "name": "stderr",
     "output_type": "stream",
     "text": [
      "Slice increment not consistent through all slices\n",
      "---------------------------------------------------------\n",
      "[  45.22076027 -108.20160464   93.13303143] [-1.19975144  0.01256547  0.02094243]\n",
      "[  47.62026316 -108.22673559   93.09114657] [-2.39950288  0.02513094  0.04188486]\n",
      "Instance Number: 113\n",
      "---------------------------------------------------------\n",
      " 59%|█████▉    | 345/584 [15:43<11:01,  2.77s/it]"
     ]
    },
    {
     "name": "stdout",
     "output_type": "stream",
     "text": [
      "S6020XMM-1-4  Failed.\n",
      "../../physcosis/Package_1187332/image03/CLEAN/S6020XMM-1-5\n",
      "Converting S6020XMM-1-5  from dicom to niftii.\n"
     ]
    },
    {
     "name": "stderr",
     "output_type": "stream",
     "text": [
      "Slice increment not consistent through all slices\n",
      "---------------------------------------------------------\n",
      "[ -81.95289263 -106.86966471   95.3529288 ] [-1.19975144  0.01256547  0.02094243]\n",
      "[ -79.55338974 -106.89479565   95.31104394] [-2.39950288  0.02513094  0.04188486]\n",
      "Instance Number: 7\n",
      "---------------------------------------------------------\n",
      " 59%|█████▉    | 346/584 [15:46<11:55,  3.01s/it]"
     ]
    },
    {
     "name": "stdout",
     "output_type": "stream",
     "text": [
      "S6020XMM-1-5  Failed.\n",
      "../../physcosis/Package_1187332/image03/CLEAN/S9738TPH-1-2\n",
      "Converting S9738TPH-1-2  from dicom to niftii.\n"
     ]
    },
    {
     "name": "stderr",
     "output_type": "stream",
     "text": [
      "Slice increment not consistent through all slices\n",
      "---------------------------------------------------------\n",
      "[  56.35160494 -109.10864162   88.75218201] [-1.2  0.   0. ]\n",
      "[  58.75160494 -109.10864162   88.75218201] [-2.4  0.   0. ]\n",
      "Instance Number: 125\n",
      "---------------------------------------------------------\n",
      " 59%|█████▉    | 347/584 [15:51<14:16,  3.62s/it]"
     ]
    },
    {
     "name": "stdout",
     "output_type": "stream",
     "text": [
      "S9738TPH-1-2  Failed.\n",
      "../../physcosis/Package_1187332/image03/CLEAN/S9738TPH-1-3\n",
      "Converting S9738TPH-1-3  from dicom to niftii.\n"
     ]
    },
    {
     "name": "stderr",
     "output_type": "stream",
     "text": [
      "Slice increment not consistent through all slices\n",
      "---------------------------------------------------------\n",
      "[ -87.64839506 -109.10864162   88.75218201] [-1.2  0.   0. ]\n",
      "[ -85.24839506 -109.10864162   88.75218201] [-2.4  0.   0. ]\n",
      "Instance Number: 5\n",
      "---------------------------------------------------------\n",
      " 60%|█████▉    | 348/584 [15:55<13:55,  3.54s/it]"
     ]
    },
    {
     "name": "stdout",
     "output_type": "stream",
     "text": [
      "S9738TPH-1-3  Failed.\n",
      "../../physcosis/Package_1187332/image03/CLEAN/S2365COV-1-9\n",
      "Converting S2365COV-1-9  from dicom to niftii.\n"
     ]
    },
    {
     "name": "stderr",
     "output_type": "stream",
     "text": [
      "Slice increment not consistent through all slices\n",
      "---------------------------------------------------------\n",
      "[ -23.03389835 -116.37481236   91.58731079] [-1.2  0.   0. ]\n",
      "[ -20.63389835 -116.37481236   91.58731079] [-2.4  0.   0. ]\n",
      "Instance Number: 65\n",
      "---------------------------------------------------------\n",
      " 60%|█████▉    | 349/584 [15:57<12:44,  3.25s/it]"
     ]
    },
    {
     "name": "stdout",
     "output_type": "stream",
     "text": [
      "S2365COV-1-9  Failed.\n",
      "../../physcosis/Package_1187332/image03/CLEAN/S2365COV-1-10\n",
      "Converting S2365COV-1-10  from dicom to niftii.\n"
     ]
    },
    {
     "name": "stderr",
     "output_type": "stream",
     "text": [
      "Slice increment not consistent through all slices\n",
      "---------------------------------------------------------\n",
      "[ -73.43389835 -116.37481236   91.58731079] [-1.2  0.   0. ]\n",
      "[ -71.03389835 -116.37481236   91.58731079] [-2.4  0.   0. ]\n",
      "Instance Number: 23\n",
      "---------------------------------------------------------\n",
      " 60%|█████▉    | 350/584 [16:00<11:47,  3.02s/it]"
     ]
    },
    {
     "name": "stdout",
     "output_type": "stream",
     "text": [
      "S2365COV-1-10  Failed.\n",
      "../../physcosis/Package_1187332/image03/CLEAN/S8334JWQ-1-16\n",
      "Converting S8334JWQ-1-16  from dicom to niftii.\n"
     ]
    },
    {
     "name": "stderr",
     "output_type": "stream",
     "text": [
      "Slice increment not consistent through all slices\n",
      "---------------------------------------------------------\n",
      "[  32.16610165 -111.6290493    86.84154892] [-1.2  0.   0. ]\n",
      "[  34.56610165 -111.6290493    86.84154892] [-2.4  0.   0. ]\n",
      "Instance Number: 111\n",
      "---------------------------------------------------------\n",
      " 60%|██████    | 351/584 [16:02<11:06,  2.86s/it]"
     ]
    },
    {
     "name": "stdout",
     "output_type": "stream",
     "text": [
      "S8334JWQ-1-16  Failed.\n",
      "../../physcosis/Package_1187332/image03/CLEAN/S8334JWQ-1-17\n",
      "Converting S8334JWQ-1-17  from dicom to niftii.\n"
     ]
    },
    {
     "name": "stderr",
     "output_type": "stream",
     "text": [
      "Slice increment not consistent through all slices\n",
      "---------------------------------------------------------\n",
      "[ -75.83389835 -111.6290493    86.84154892] [-1.2  0.   0. ]\n",
      "[ -73.43389835 -111.6290493    86.84154892] [-2.4  0.   0. ]\n",
      "Instance Number: 21\n",
      "---------------------------------------------------------\n",
      " 60%|██████    | 352/584 [16:05<10:29,  2.71s/it]"
     ]
    },
    {
     "name": "stdout",
     "output_type": "stream",
     "text": [
      "S8334JWQ-1-17  Failed.\n",
      "../../physcosis/Package_1187332/image03/CLEAN/S7845KVK-1-5\n",
      "Converting S7845KVK-1-5  from dicom to niftii.\n"
     ]
    },
    {
     "name": "stderr",
     "output_type": "stream",
     "text": [
      "Slice increment not consistent through all slices\n",
      "---------------------------------------------------------\n",
      "[  -5.35920987 -110.7896508    88.40291493] [-1.19064732 -0.11276699 -0.09819662]\n",
      "[  -2.97791524 -110.56411682   88.59930816] [-2.38129463 -0.22553397 -0.19639323]\n",
      "Instance Number: 81\n",
      "---------------------------------------------------------\n",
      " 60%|██████    | 353/584 [16:07<10:13,  2.65s/it]"
     ]
    },
    {
     "name": "stdout",
     "output_type": "stream",
     "text": [
      "S7845KVK-1-5  Failed.\n",
      "../../physcosis/Package_1187332/image03/CLEAN/S7845KVK-1-6\n",
      "Converting S7845KVK-1-6  from dicom to niftii.\n"
     ]
    },
    {
     "name": "stderr",
     "output_type": "stream",
     "text": [
      "Slice increment not consistent through all slices\n",
      "---------------------------------------------------------\n",
      "[  26.78826766 -107.74494218   91.05422355] [-1.19064732 -0.11276699 -0.09819662]\n",
      "[  29.1695623  -107.5194082    91.25061678] [-2.38129463 -0.22553397 -0.19639323]\n",
      "Instance Number: 108\n",
      "---------------------------------------------------------\n",
      " 61%|██████    | 354/584 [16:10<10:05,  2.63s/it]"
     ]
    },
    {
     "name": "stdout",
     "output_type": "stream",
     "text": [
      "S7845KVK-1-6  Failed.\n",
      "../../physcosis/Package_1187332/image03/CLEAN/S4410ICN-1-4\n",
      "Converting S4410ICN-1-4  from dicom to niftii.\n"
     ]
    },
    {
     "name": "stderr",
     "output_type": "stream",
     "text": [
      "Slice increment not consistent through all slices\n",
      "---------------------------------------------------------\n",
      "[-84.19458318 -98.01485123 103.90067296] [-1.19577359  0.0941408   0.03553923]\n",
      "[-81.80303601 -98.20313283 103.82959451] [-2.39154718  0.1882816   0.07107845]\n",
      "Instance Number: 18\n",
      "---------------------------------------------------------\n",
      " 61%|██████    | 355/584 [16:12<10:04,  2.64s/it]"
     ]
    },
    {
     "name": "stdout",
     "output_type": "stream",
     "text": [
      "S4410ICN-1-4  Failed.\n",
      "../../physcosis/Package_1187332/image03/CLEAN/S4410ICN-1-5\n",
      "Converting S4410ICN-1-5  from dicom to niftii.\n"
     ]
    },
    {
     "name": "stderr",
     "output_type": "stream",
     "text": [
      "Slice increment not consistent through all slices\n",
      "---------------------------------------------------------\n",
      "[-80.60726242 -98.29727363 103.79405528] [-1.19577359  0.0941408   0.03553923]\n",
      "[-78.21571524 -98.48555523 103.72297683] [-2.39154718  0.1882816   0.07107845]\n",
      "Instance Number: 21\n",
      "---------------------------------------------------------\n",
      " 61%|██████    | 356/584 [16:15<10:06,  2.66s/it]"
     ]
    },
    {
     "name": "stdout",
     "output_type": "stream",
     "text": [
      "S4410ICN-1-5  Failed.\n",
      "../../physcosis/Package_1187332/image03/CLEAN/S7502JEQ-1-4\n",
      "Converting S7502JEQ-1-4  from dicom to niftii.\n"
     ]
    },
    {
     "name": "stderr",
     "output_type": "stream",
     "text": [
      "Slice increment not consistent through all slices\n",
      "---------------------------------------------------------\n",
      "[ -77.61735574 -115.01352686   96.72523748] [-1.19331251 -0.10859996 -0.06489456]\n",
      "[ -75.23073072 -114.79632695   96.85502661] [-2.38662502 -0.21719991 -0.12978912]\n",
      "Instance Number: 28\n",
      "---------------------------------------------------------\n",
      " 61%|██████    | 357/584 [16:18<10:07,  2.68s/it]"
     ]
    },
    {
     "name": "stdout",
     "output_type": "stream",
     "text": [
      "S7502JEQ-1-4  Failed.\n",
      "../../physcosis/Package_1187332/image03/CLEAN/S7502JEQ-1-5\n",
      "Converting S7502JEQ-1-5  from dicom to niftii.\n"
     ]
    },
    {
     "name": "stderr",
     "output_type": "stream",
     "text": [
      "Slice increment not consistent through all slices\n",
      "---------------------------------------------------------\n",
      "[  -9.59854269 -108.82332941  100.42422747] [-1.19331251 -0.10859996 -0.06489456]\n",
      "[  -7.21191767 -108.6061295   100.5540166 ] [-2.38662502 -0.21719991 -0.12978912]\n",
      "Instance Number: 85\n",
      "---------------------------------------------------------\n",
      " 61%|██████▏   | 358/584 [16:20<10:06,  2.68s/it]"
     ]
    },
    {
     "name": "stdout",
     "output_type": "stream",
     "text": [
      "S7502JEQ-1-5  Failed.\n",
      "../../physcosis/Package_1187332/image03/CLEAN/S7196TRO-1-11\n",
      "Converting S7196TRO-1-11  from dicom to niftii.\n"
     ]
    },
    {
     "name": "stderr",
     "output_type": "stream",
     "text": [
      "Slice increment not consistent through all slices\n",
      "---------------------------------------------------------\n",
      "[ 25.8        -99.42565918 100.40087128] [-1.2  0.   0. ]\n",
      "[ 28.2        -99.42565918 100.40087128] [-2.4  0.   0. ]\n",
      "Instance Number: 104\n",
      "---------------------------------------------------------\n",
      " 61%|██████▏   | 359/584 [16:23<09:56,  2.65s/it]"
     ]
    },
    {
     "name": "stdout",
     "output_type": "stream",
     "text": [
      "S7196TRO-1-11  Failed.\n",
      "../../physcosis/Package_1187332/image03/CLEAN/S7196TRO-1-12\n",
      "Converting S7196TRO-1-12  from dicom to niftii.\n"
     ]
    },
    {
     "name": "stderr",
     "output_type": "stream",
     "text": [
      "Slice increment not consistent through all slices\n",
      "---------------------------------------------------------\n",
      "[-17.4        -99.42565918 100.40087128] [-1.2  0.   0. ]\n",
      "[-15.         -99.42565918 100.40087128] [-2.4  0.   0. ]\n",
      "Instance Number: 68\n",
      "---------------------------------------------------------\n",
      " 62%|██████▏   | 360/584 [16:26<10:06,  2.71s/it]"
     ]
    },
    {
     "name": "stdout",
     "output_type": "stream",
     "text": [
      "S7196TRO-1-12  Failed.\n",
      "../../physcosis/Package_1187332/image03/CLEAN/S6755OBR-1-9\n",
      "Converting S6755OBR-1-9  from dicom to niftii.\n"
     ]
    },
    {
     "name": "stderr",
     "output_type": "stream",
     "text": [
      "Slice increment not consistent through all slices\n",
      "---------------------------------------------------------\n",
      "[  35.4        -141.45955849  121.41782045] [-1.2  0.   0. ]\n",
      "[  37.8        -141.45955849  121.41782045] [-2.4  0.   0. ]\n",
      "Instance Number: 112\n",
      "---------------------------------------------------------\n",
      " 62%|██████▏   | 361/584 [16:29<10:06,  2.72s/it]"
     ]
    },
    {
     "name": "stdout",
     "output_type": "stream",
     "text": [
      "S6755OBR-1-9  Failed.\n",
      "../../physcosis/Package_1187332/image03/CLEAN/S6755OBR-1-10\n",
      "Converting S6755OBR-1-10  from dicom to niftii.\n"
     ]
    },
    {
     "name": "stderr",
     "output_type": "stream",
     "text": [
      "Slice increment not consistent through all slices\n",
      "---------------------------------------------------------\n",
      "[  45.         -141.45955849  121.41782045] [-1.2  0.   0. ]\n",
      "[  47.4        -141.45955849  121.41782045] [-2.4  0.   0. ]\n",
      "Instance Number: 120\n",
      "---------------------------------------------------------\n",
      " 62%|██████▏   | 362/584 [16:31<10:04,  2.72s/it]"
     ]
    },
    {
     "name": "stdout",
     "output_type": "stream",
     "text": [
      "S6755OBR-1-10  Failed.\n",
      "../../physcosis/Package_1187332/image03/CLEAN/S7136TCR-1-9\n",
      "Converting S7136TCR-1-9  from dicom to niftii.\n"
     ]
    },
    {
     "name": "stderr",
     "output_type": "stream",
     "text": [
      "Slice increment not consistent through all slices\n",
      "---------------------------------------------------------\n",
      "[  69.67796612 -121.12057531  116.67205811] [-1.2  0.   0. ]\n",
      "[  72.07796612 -121.12057531  116.67205811] [-2.4  0.   0. ]\n",
      "Instance Number: 140\n",
      "---------------------------------------------------------\n",
      " 62%|██████▏   | 363/584 [16:34<09:34,  2.60s/it]"
     ]
    },
    {
     "name": "stdout",
     "output_type": "stream",
     "text": [
      "S7136TCR-1-9  Failed.\n",
      "../../physcosis/Package_1187332/image03/CLEAN/S7136TCR-1-10\n",
      "Converting S7136TCR-1-10  from dicom to niftii.\n"
     ]
    },
    {
     "name": "stderr",
     "output_type": "stream",
     "text": [
      "Slice increment not consistent through all slices\n",
      "---------------------------------------------------------\n",
      "[  55.27796612 -121.12057531  116.67205811] [-1.2  0.   0. ]\n",
      "[  57.67796612 -121.12057531  116.67205811] [-2.4  0.   0. ]\n",
      "Instance Number: 128\n",
      "---------------------------------------------------------\n",
      " 62%|██████▏   | 364/584 [16:36<09:42,  2.65s/it]"
     ]
    },
    {
     "name": "stdout",
     "output_type": "stream",
     "text": [
      "S7136TCR-1-10  Failed.\n",
      "../../physcosis/Package_1187332/image03/CLEAN/S2002PCH-1-2\n",
      "Converting S2002PCH-1-2  from dicom to niftii.\n"
     ]
    },
    {
     "name": "stderr",
     "output_type": "stream",
     "text": [
      "Slice increment not consistent through all slices\n",
      "---------------------------------------------------------\n",
      "[  18.6        -150.95108414  102.43476868] [-1.2  0.   0. ]\n",
      "[  21.         -150.95108414  102.43476868] [-2.4  0.   0. ]\n",
      "Instance Number: 98\n",
      "---------------------------------------------------------\n",
      " 62%|██████▎   | 365/584 [16:39<09:37,  2.64s/it]"
     ]
    },
    {
     "name": "stdout",
     "output_type": "stream",
     "text": [
      "S2002PCH-1-2  Failed.\n",
      "../../physcosis/Package_1187332/image03/CLEAN/S2002PCH-1-3\n",
      "Converting S2002PCH-1-3  from dicom to niftii.\n"
     ]
    },
    {
     "name": "stderr",
     "output_type": "stream",
     "text": [
      "Slice increment not consistent through all slices\n",
      "---------------------------------------------------------\n",
      "[  18.6        -150.95108414  102.43476868] [-1.2  0.   0. ]\n",
      "[  21.         -150.95108414  102.43476868] [-2.4  0.   0. ]\n",
      "Instance Number: 98\n",
      "---------------------------------------------------------\n",
      " 63%|██████▎   | 366/584 [16:42<09:35,  2.64s/it]"
     ]
    },
    {
     "name": "stdout",
     "output_type": "stream",
     "text": [
      "S2002PCH-1-3  Failed.\n",
      "../../physcosis/Package_1187332/image03/CLEAN/S5906SPA-1-9\n",
      "Converting S5906SPA-1-9  from dicom to niftii.\n"
     ]
    },
    {
     "name": "stderr",
     "output_type": "stream",
     "text": [
      "Slice increment not consistent through all slices\n",
      "---------------------------------------------------------\n",
      "[  98.73419113 -113.93880987  106.50256538] [-1.2  0.   0. ]\n",
      "[ 101.13419113 -113.93880987  106.50256538] [-2.4  0.   0. ]\n",
      "Instance Number: 156\n",
      "---------------------------------------------------------\n",
      " 63%|██████▎   | 367/584 [16:44<09:04,  2.51s/it]"
     ]
    },
    {
     "name": "stdout",
     "output_type": "stream",
     "text": [
      "S5906SPA-1-9  Failed.\n",
      "../../physcosis/Package_1187332/image03/CLEAN/S5906SPA-1-10\n",
      "Converting S5906SPA-1-10  from dicom to niftii.\n"
     ]
    },
    {
     "name": "stderr",
     "output_type": "stream",
     "text": [
      "Slice increment not consistent through all slices\n",
      "---------------------------------------------------------\n",
      "[  41.13419113 -113.93880987  106.50256538] [-1.2  0.   0. ]\n",
      "[  43.53419113 -113.93880987  106.50256538] [-2.4  0.   0. ]\n",
      "Instance Number: 108\n",
      "---------------------------------------------------------\n",
      " 63%|██████▎   | 368/584 [16:46<08:45,  2.43s/it]"
     ]
    },
    {
     "name": "stdout",
     "output_type": "stream",
     "text": [
      "S5906SPA-1-10  Failed.\n",
      "../../physcosis/Package_1187332/image03/CLEAN/S5906SPA-1-13\n",
      "Converting S5906SPA-1-13  from dicom to niftii.\n"
     ]
    },
    {
     "name": "stderr",
     "output_type": "stream",
     "text": [
      "Slice increment not consistent through all slices\n",
      "---------------------------------------------------------\n",
      "[ -48.86580887 -113.93880987  106.50256538] [-1.2  0.   0. ]\n",
      "[ -46.46580887 -113.93880987  106.50256538] [-2.4  0.   0. ]\n",
      "Instance Number: 33\n",
      "---------------------------------------------------------\n",
      " 63%|██████▎   | 369/584 [16:48<08:34,  2.39s/it]"
     ]
    },
    {
     "name": "stdout",
     "output_type": "stream",
     "text": [
      "S5906SPA-1-13  Failed.\n",
      "../../physcosis/Package_1187332/image03/CLEAN/S4656THB-1-9\n",
      "Converting S4656THB-1-9  from dicom to niftii.\n"
     ]
    },
    {
     "name": "stderr",
     "output_type": "stream",
     "text": [
      "Slice increment not consistent through all slices\n",
      "---------------------------------------------------------\n",
      "[ -13.43389835 -121.89080894  124.98817468] [-1.2  0.   0. ]\n",
      "[ -11.03389835 -121.89080894  124.98817468] [-2.4  0.   0. ]\n",
      "Instance Number: 73\n",
      "---------------------------------------------------------\n",
      " 63%|██████▎   | 370/584 [16:51<08:25,  2.36s/it]"
     ]
    },
    {
     "name": "stdout",
     "output_type": "stream",
     "text": [
      "S4656THB-1-9  Failed.\n",
      "../../physcosis/Package_1187332/image03/CLEAN/S4656THB-1-10\n",
      "Converting S4656THB-1-10  from dicom to niftii.\n"
     ]
    },
    {
     "name": "stderr",
     "output_type": "stream",
     "text": [
      "Slice increment not consistent through all slices\n",
      "---------------------------------------------------------\n",
      "[ -36.23389835 -121.89080894  124.98817468] [-1.2  0.   0. ]\n",
      "[ -33.83389835 -121.89080894  124.98817468] [-2.4  0.   0. ]\n",
      "Instance Number: 54\n",
      "---------------------------------------------------------\n",
      " 64%|██████▎   | 371/584 [16:53<08:20,  2.35s/it]"
     ]
    },
    {
     "name": "stdout",
     "output_type": "stream",
     "text": [
      "S4656THB-1-10  Failed.\n",
      "../../physcosis/Package_1187332/image03/CLEAN/S9952PRB-1-9\n",
      "Converting S9952PRB-1-9  from dicom to niftii.\n"
     ]
    },
    {
     "name": "stderr",
     "output_type": "stream",
     "text": [
      "Slice increment not consistent through all slices\n",
      "---------------------------------------------------------\n",
      "[   3.36610165 -116.37481236  102.43476868] [-1.2  0.   0. ]\n",
      "[   5.76610165 -116.37481236  102.43476868] [-2.4  0.   0. ]\n",
      "Instance Number: 87\n",
      "---------------------------------------------------------\n",
      " 64%|██████▎   | 372/584 [16:55<08:06,  2.29s/it]"
     ]
    },
    {
     "name": "stdout",
     "output_type": "stream",
     "text": [
      "S9952PRB-1-9  Failed.\n",
      "../../physcosis/Package_1187332/image03/CLEAN/S9952PRB-1-10\n",
      "Converting S9952PRB-1-10  from dicom to niftii.\n"
     ]
    },
    {
     "name": "stderr",
     "output_type": "stream",
     "text": [
      "Slice increment not consistent through all slices\n",
      "---------------------------------------------------------\n",
      "[  -8.63389835 -116.37481236  102.43476868] [-1.2  0.   0. ]\n",
      "[  -6.23389835 -116.37481236  102.43476868] [-2.4  0.   0. ]\n",
      "Instance Number: 77\n",
      "---------------------------------------------------------\n",
      " 64%|██████▍   | 373/584 [16:58<08:29,  2.41s/it]"
     ]
    },
    {
     "name": "stdout",
     "output_type": "stream",
     "text": [
      "S9952PRB-1-10  Failed.\n",
      "../../physcosis/Package_1187332/image03/CLEAN/S3572VWG-1-9\n",
      "Converting S3572VWG-1-9  from dicom to niftii.\n"
     ]
    },
    {
     "name": "stderr",
     "output_type": "stream",
     "text": [
      "Slice increment not consistent through all slices\n",
      "---------------------------------------------------------\n",
      "[  24.37022781 -113.94420622   85.87519459] [-1.1892119  -0.14391046 -0.07116762]\n",
      "[  26.74865162 -113.6563853    86.01752982] [-2.37842381 -0.28782092 -0.14233523]\n",
      "Instance Number: 102\n",
      "---------------------------------------------------------\n",
      " 64%|██████▍   | 374/584 [17:00<08:27,  2.42s/it]"
     ]
    },
    {
     "name": "stdout",
     "output_type": "stream",
     "text": [
      "S3572VWG-1-9  Failed.\n",
      "../../physcosis/Package_1187332/image03/CLEAN/S3572VWG-1-10\n",
      "Converting S3572VWG-1-10  from dicom to niftii.\n"
     ]
    },
    {
     "name": "stderr",
     "output_type": "stream",
     "text": [
      "Slice increment not consistent through all slices\n",
      "---------------------------------------------------------\n",
      "[ -44.60406256 -122.29101284   81.74747288] [-1.1892119  -0.14391046 -0.07116762]\n",
      "[ -42.22563876 -122.00319193   81.88980812] [-2.37842381 -0.28782092 -0.14233523]\n",
      "Instance Number: 44\n",
      "---------------------------------------------------------\n",
      " 64%|██████▍   | 375/584 [17:03<08:21,  2.40s/it]"
     ]
    },
    {
     "name": "stdout",
     "output_type": "stream",
     "text": [
      "S3572VWG-1-10  Failed.\n",
      "../../physcosis/Package_1187332/image03/CLEAN/S1990OAR-1-9\n",
      "Converting S1990OAR-1-9  from dicom to niftii.\n"
     ]
    },
    {
     "name": "stderr",
     "output_type": "stream",
     "text": [
      "Slice increment not consistent through all slices\n",
      "---------------------------------------------------------\n",
      "[ -61.43389835 -122.47650743   97.01103973] [-1.2  0.   0. ]\n",
      "[ -59.03389835 -122.47650743   97.01103973] [-2.4  0.   0. ]\n",
      "Instance Number: 33\n",
      "---------------------------------------------------------\n",
      " 64%|██████▍   | 376/584 [17:05<08:18,  2.40s/it]"
     ]
    },
    {
     "name": "stdout",
     "output_type": "stream",
     "text": [
      "S1990OAR-1-9  Failed.\n",
      "../../physcosis/Package_1187332/image03/CLEAN/S1990OAR-1-10\n",
      "Converting S1990OAR-1-10  from dicom to niftii.\n"
     ]
    },
    {
     "name": "stderr",
     "output_type": "stream",
     "text": [
      "Slice increment not consistent through all slices\n",
      "---------------------------------------------------------\n",
      "[  10.56610165 -122.47650743   97.01103973] [-1.2  0.   0. ]\n",
      "[  12.96610165 -122.47650743   97.01103973] [-2.4  0.   0. ]\n",
      "Instance Number: 93\n",
      "---------------------------------------------------------\n",
      " 65%|██████▍   | 377/584 [17:07<08:02,  2.33s/it]"
     ]
    },
    {
     "name": "stdout",
     "output_type": "stream",
     "text": [
      "S1990OAR-1-10  Failed.\n",
      "../../physcosis/Package_1187332/image03/CLEAN/S0244UAS-1-9\n",
      "Converting S0244UAS-1-9  from dicom to niftii.\n"
     ]
    },
    {
     "name": "stderr",
     "output_type": "stream",
     "text": [
      "Slice increment not consistent through all slices\n",
      "---------------------------------------------------------\n",
      "[  59.24406776 -136.03582954  120.06188822] [-1.2  0.   0. ]\n",
      "[  61.64406776 -136.03582954  120.06188822] [-2.4  0.   0. ]\n",
      "Instance Number: 133\n",
      "---------------------------------------------------------\n",
      " 65%|██████▍   | 378/584 [17:10<07:55,  2.31s/it]"
     ]
    },
    {
     "name": "stdout",
     "output_type": "stream",
     "text": [
      "S0244UAS-1-9  Failed.\n",
      "../../physcosis/Package_1187332/image03/CLEAN/S0244UAS-1-13\n",
      "Converting S0244UAS-1-13  from dicom to niftii.\n"
     ]
    },
    {
     "name": "stderr",
     "output_type": "stream",
     "text": [
      "Slice increment not consistent through all slices\n",
      "---------------------------------------------------------\n",
      "[ -84.75593224 -136.03582954  120.06188822] [-1.2  0.   0. ]\n",
      "[ -82.35593224 -136.03582954  120.06188822] [-2.4  0.   0. ]\n",
      "Instance Number: 13\n",
      "---------------------------------------------------------\n",
      " 65%|██████▍   | 379/584 [17:12<07:41,  2.25s/it]"
     ]
    },
    {
     "name": "stdout",
     "output_type": "stream",
     "text": [
      "S0244UAS-1-13  Failed.\n",
      "../../physcosis/Package_1187332/image03/CLEAN/S3242URA-1-9\n",
      "Converting S3242URA-1-9  from dicom to niftii.\n"
     ]
    },
    {
     "name": "stderr",
     "output_type": "stream",
     "text": [
      "Slice increment not consistent through all slices\n",
      "---------------------------------------------------------\n",
      "[ -17.52746639 -117.88655066  104.88555336] [-1.2  0.   0. ]\n",
      "[ -15.12746639 -117.88655066  104.88555336] [-2.4  0.   0. ]\n",
      "Instance Number: 77\n",
      "---------------------------------------------------------\n",
      " 65%|██████▌   | 380/584 [17:14<07:41,  2.26s/it]"
     ]
    },
    {
     "name": "stdout",
     "output_type": "stream",
     "text": [
      "S3242URA-1-9  Failed.\n",
      "../../physcosis/Package_1187332/image03/CLEAN/S3242URA-1-10\n",
      "Converting S3242URA-1-10  from dicom to niftii.\n"
     ]
    },
    {
     "name": "stderr",
     "output_type": "stream",
     "text": [
      "Slice increment not consistent through all slices\n",
      "---------------------------------------------------------\n",
      "[ -57.12746639 -117.88655066  104.88555336] [-1.2  0.   0. ]\n",
      "[ -54.72746639 -117.88655066  104.88555336] [-2.4  0.   0. ]\n",
      "Instance Number: 44\n",
      "---------------------------------------------------------\n",
      " 65%|██████▌   | 381/584 [17:16<07:27,  2.21s/it]"
     ]
    },
    {
     "name": "stdout",
     "output_type": "stream",
     "text": [
      "S3242URA-1-10  Failed.\n",
      "../../physcosis/Package_1187332/image03/CLEAN/S6520ESM-1-9\n",
      "Converting S6520ESM-1-9  from dicom to niftii.\n"
     ]
    },
    {
     "name": "stderr",
     "output_type": "stream",
     "text": [
      "Slice increment not consistent through all slices\n",
      "---------------------------------------------------------\n",
      "[  47.76610165 -121.12057531  106.50256538] [-1.2  0.   0. ]\n",
      "[  50.16610165 -121.12057531  106.50256538] [-2.4  0.   0. ]\n",
      "Instance Number: 124\n",
      "---------------------------------------------------------\n",
      " 65%|██████▌   | 382/584 [17:18<07:21,  2.19s/it]"
     ]
    },
    {
     "name": "stdout",
     "output_type": "stream",
     "text": [
      "S6520ESM-1-9  Failed.\n",
      "../../physcosis/Package_1187332/image03/CLEAN/S6520ESM-1-10\n",
      "Converting S6520ESM-1-10  from dicom to niftii.\n"
     ]
    },
    {
     "name": "stderr",
     "output_type": "stream",
     "text": [
      "Slice increment not consistent through all slices\n",
      "---------------------------------------------------------\n",
      "[  41.76610165 -121.12057531  106.50256538] [-1.2  0.   0. ]\n",
      "[  44.16610165 -121.12057531  106.50256538] [-2.4  0.   0. ]\n",
      "Instance Number: 119\n",
      "---------------------------------------------------------\n",
      " 66%|██████▌   | 383/584 [17:21<07:37,  2.28s/it]"
     ]
    },
    {
     "name": "stdout",
     "output_type": "stream",
     "text": [
      "S6520ESM-1-10  Failed.\n",
      "../../physcosis/Package_1187332/image03/CLEAN/S0092DYA-1-9\n",
      "Converting S0092DYA-1-9  from dicom to niftii.\n"
     ]
    },
    {
     "name": "stderr",
     "output_type": "stream",
     "text": [
      "Slice increment not consistent through all slices\n",
      "---------------------------------------------------------\n",
      "[ -96.09218693 -107.36282349  140.36780071] [-1.2  0.   0. ]\n",
      "[ -93.69218693 -107.36282349  140.36780071] [-2.4  0.   0. ]\n",
      "Instance Number: 5\n",
      "---------------------------------------------------------\n",
      " 66%|██████▌   | 384/584 [17:23<07:48,  2.34s/it]"
     ]
    },
    {
     "name": "stdout",
     "output_type": "stream",
     "text": [
      "S0092DYA-1-9  Failed.\n",
      "../../physcosis/Package_1187332/image03/CLEAN/S0092DYA-1-10\n",
      "Converting S0092DYA-1-10  from dicom to niftii.\n"
     ]
    },
    {
     "name": "stderr",
     "output_type": "stream",
     "text": [
      "Slice increment not consistent through all slices\n",
      "---------------------------------------------------------\n",
      "[ -38.49218693 -107.36282349  140.36780071] [-1.2  0.   0. ]\n",
      "[ -36.09218693 -107.36282349  140.36780071] [-2.4  0.   0. ]\n",
      "Instance Number: 53\n",
      "---------------------------------------------------------\n",
      " 66%|██████▌   | 385/584 [17:25<07:28,  2.26s/it]"
     ]
    },
    {
     "name": "stdout",
     "output_type": "stream",
     "text": [
      "S0092DYA-1-10  Failed.\n",
      "../../physcosis/Package_1187332/image03/CLEAN/S0092DYA-1-11\n",
      "Converting S0092DYA-1-11  from dicom to niftii.\n"
     ]
    },
    {
     "name": "stderr",
     "output_type": "stream",
     "text": [
      "Slice increment not consistent through all slices\n",
      "---------------------------------------------------------\n",
      "[ -10.89218693 -107.36282349  140.36780071] [-1.2  0.   0. ]\n",
      "[  -8.49218693 -107.36282349  140.36780071] [-2.4  0.   0. ]\n",
      "Instance Number: 76\n",
      "---------------------------------------------------------\n",
      " 66%|██████▌   | 386/584 [17:27<07:14,  2.19s/it]"
     ]
    },
    {
     "name": "stdout",
     "output_type": "stream",
     "text": [
      "S0092DYA-1-11  Failed.\n",
      "../../physcosis/Package_1187332/image03/CLEAN/S1931CEN-1-9\n",
      "Converting S1931CEN-1-9  from dicom to niftii.\n"
     ]
    },
    {
     "name": "stderr",
     "output_type": "stream",
     "text": [
      "Slice increment not consistent through all slices\n",
      "---------------------------------------------------------\n",
      "[ -31.43389835 -119.46025008   97.79969406] [-1.2  0.   0. ]\n",
      "[ -29.03389835 -119.46025008   97.79969406] [-2.4  0.   0. ]\n",
      "Instance Number: 58\n",
      "---------------------------------------------------------\n",
      " 66%|██████▋   | 387/584 [17:30<07:57,  2.43s/it]"
     ]
    },
    {
     "name": "stdout",
     "output_type": "stream",
     "text": [
      "S1931CEN-1-9  Failed.\n",
      "../../physcosis/Package_1187332/image03/CLEAN/S1931CEN-1-10\n",
      "Converting S1931CEN-1-10  from dicom to niftii.\n"
     ]
    },
    {
     "name": "stderr",
     "output_type": "stream",
     "text": [
      "Slice increment not consistent through all slices\n",
      "---------------------------------------------------------\n",
      "[  54.96610165 -119.46025008   97.79969406] [-1.2  0.   0. ]\n",
      "[  57.36610165 -119.46025008   97.79969406] [-2.4  0.   0. ]\n",
      "Instance Number: 130\n",
      "---------------------------------------------------------\n",
      " 66%|██████▋   | 388/584 [17:33<08:03,  2.47s/it]"
     ]
    },
    {
     "name": "stdout",
     "output_type": "stream",
     "text": [
      "S1931CEN-1-10  Failed.\n",
      "../../physcosis/Package_1187332/image03/CLEAN/S1931CEN-1-14\n",
      "Converting S1931CEN-1-14  from dicom to niftii.\n"
     ]
    },
    {
     "name": "stderr",
     "output_type": "stream",
     "text": [
      "Slice increment not consistent through all slices\n",
      "---------------------------------------------------------\n",
      "[ -38.63389835 -119.46025008   97.79969406] [-1.2  0.   0. ]\n",
      "[ -36.23389835 -119.46025008   97.79969406] [-2.4  0.   0. ]\n",
      "Instance Number: 52\n",
      "---------------------------------------------------------\n",
      " 67%|██████▋   | 389/584 [17:35<07:57,  2.45s/it]"
     ]
    },
    {
     "name": "stdout",
     "output_type": "stream",
     "text": [
      "S1931CEN-1-14  Failed.\n",
      "../../physcosis/Package_1187332/image03/CLEAN/S4150EGI-1-2\n",
      "Converting S4150EGI-1-2  from dicom to niftii.\n"
     ]
    },
    {
     "name": "stderr",
     "output_type": "stream",
     "text": [
      "Slice increment not consistent through all slices\n",
      "---------------------------------------------------------\n",
      "[ -48.44406776 -147.5612545   105.14663315] [-1.2  0.   0. ]\n",
      "[ -46.04406776 -147.5612545   105.14663315] [-2.4  0.   0. ]\n",
      "Instance Number: 41\n",
      "---------------------------------------------------------\n",
      " 67%|██████▋   | 390/584 [17:38<07:49,  2.42s/it]"
     ]
    },
    {
     "name": "stdout",
     "output_type": "stream",
     "text": [
      "S4150EGI-1-2  Failed.\n",
      "../../physcosis/Package_1187332/image03/CLEAN/S4150EGI-1-3\n",
      "Converting S4150EGI-1-3  from dicom to niftii.\n"
     ]
    },
    {
     "name": "stderr",
     "output_type": "stream",
     "text": [
      "Slice increment not consistent through all slices\n",
      "---------------------------------------------------------\n",
      "[ -79.64406776 -147.5612545   105.14663315] [-1.2  0.   0. ]\n",
      "[ -77.24406776 -147.5612545   105.14663315] [-2.4  0.   0. ]\n",
      "Instance Number: 15\n",
      "---------------------------------------------------------\n",
      " 67%|██████▋   | 391/584 [17:40<07:41,  2.39s/it]"
     ]
    },
    {
     "name": "stdout",
     "output_type": "stream",
     "text": [
      "S4150EGI-1-3  Failed.\n",
      "../../physcosis/Package_1187332/image03/CLEAN/S9106EWY-1-9\n",
      "Converting S9106EWY-1-9  from dicom to niftii.\n"
     ]
    },
    {
     "name": "stderr",
     "output_type": "stream",
     "text": [
      "Slice increment not consistent through all slices\n",
      "---------------------------------------------------------\n",
      "[  -9.83389835 -121.12057531  106.50256538] [-1.2  0.   0. ]\n",
      "[  -7.43389835 -121.12057531  106.50256538] [-2.4  0.   0. ]\n",
      "Instance Number: 76\n",
      "---------------------------------------------------------\n",
      " 67%|██████▋   | 392/584 [17:42<07:37,  2.38s/it]"
     ]
    },
    {
     "name": "stdout",
     "output_type": "stream",
     "text": [
      "S9106EWY-1-9  Failed.\n",
      "../../physcosis/Package_1187332/image03/CLEAN/S9106EWY-1-10\n",
      "Converting S9106EWY-1-10  from dicom to niftii.\n"
     ]
    },
    {
     "name": "stderr",
     "output_type": "stream",
     "text": [
      "Slice increment not consistent through all slices\n",
      "---------------------------------------------------------\n",
      "[ -18.23389835 -121.12057531  106.50256538] [-1.2  0.   0. ]\n",
      "[ -15.83389835 -121.12057531  106.50256538] [-2.4  0.   0. ]\n",
      "Instance Number: 69\n",
      "---------------------------------------------------------\n",
      " 67%|██████▋   | 393/584 [17:45<07:32,  2.37s/it]"
     ]
    },
    {
     "name": "stdout",
     "output_type": "stream",
     "text": [
      "S9106EWY-1-10  Failed.\n",
      "../../physcosis/Package_1187332/image03/CLEAN/S9541UQP-1-9\n",
      "Converting S9541UQP-1-9  from dicom to niftii.\n"
     ]
    },
    {
     "name": "stderr",
     "output_type": "stream",
     "text": [
      "Slice increment not consistent through all slices\n",
      "---------------------------------------------------------\n",
      "[  17.18983059 -152.30701828  115.31612587] [-1.2  0.   0. ]\n",
      "[  19.58983059 -152.30701828  115.31612587] [-2.4  0.   0. ]\n",
      "Instance Number: 94\n",
      "---------------------------------------------------------\n",
      " 67%|██████▋   | 394/584 [17:47<07:37,  2.41s/it]"
     ]
    },
    {
     "name": "stdout",
     "output_type": "stream",
     "text": [
      "S9541UQP-1-9  Failed.\n",
      "../../physcosis/Package_1187332/image03/CLEAN/S9541UQP-1-10\n",
      "Converting S9541UQP-1-10  from dicom to niftii.\n"
     ]
    },
    {
     "name": "stderr",
     "output_type": "stream",
     "text": [
      "Slice increment not consistent through all slices\n",
      "---------------------------------------------------------\n",
      "[ -72.81016941 -152.30701828  115.31612587] [-1.2  0.   0. ]\n",
      "[ -70.41016941 -152.30701828  115.31612587] [-2.4  0.   0. ]\n",
      "Instance Number: 19\n",
      "---------------------------------------------------------\n",
      " 68%|██████▊   | 395/584 [17:49<07:19,  2.33s/it]"
     ]
    },
    {
     "name": "stdout",
     "output_type": "stream",
     "text": [
      "S9541UQP-1-10  Failed.\n",
      "../../physcosis/Package_1187332/image03/CLEAN/S4313DMA-1-9\n",
      "Converting S4313DMA-1-9  from dicom to niftii.\n"
     ]
    },
    {
     "name": "stderr",
     "output_type": "stream",
     "text": [
      "Slice increment not consistent through all slices\n",
      "---------------------------------------------------------\n",
      "[ -92.94576283 -122.47650743   97.68900681] [-1.2  0.   0. ]\n",
      "[ -90.54576283 -122.47650743   97.68900681] [-2.4  0.   0. ]\n",
      "Instance Number: 9\n",
      "---------------------------------------------------------\n",
      " 68%|██████▊   | 396/584 [17:51<07:14,  2.31s/it]"
     ]
    },
    {
     "name": "stdout",
     "output_type": "stream",
     "text": [
      "S4313DMA-1-9  Failed.\n",
      "../../physcosis/Package_1187332/image03/CLEAN/S4313DMA-1-10\n",
      "Converting S4313DMA-1-10  from dicom to niftii.\n"
     ]
    },
    {
     "name": "stderr",
     "output_type": "stream",
     "text": [
      "Slice increment not consistent through all slices\n",
      "---------------------------------------------------------\n",
      "[ -86.94576283 -122.47650743   97.68900681] [-1.2  0.   0. ]\n",
      "[ -84.54576283 -122.47650743   97.68900681] [-2.4  0.   0. ]\n",
      "Instance Number: 14\n",
      "---------------------------------------------------------\n",
      " 68%|██████▊   | 397/584 [17:54<07:12,  2.31s/it]"
     ]
    },
    {
     "name": "stdout",
     "output_type": "stream",
     "text": [
      "S4313DMA-1-10  Failed.\n",
      "../../physcosis/Package_1187332/image03/CLEAN/S2707LVO-1-9\n",
      "Converting S2707LVO-1-9  from dicom to niftii.\n"
     ]
    },
    {
     "name": "stderr",
     "output_type": "stream",
     "text": [
      "\r",
      " 68%|██████▊   | 398/584 [17:58<08:29,  2.74s/it]"
     ]
    },
    {
     "name": "stdout",
     "output_type": "stream",
     "text": [
      "../../physcosis/Package_1187332/image03/CLEAN/S2707LVO-1-10\n",
      "Converting S2707LVO-1-10  from dicom to niftii.\n"
     ]
    },
    {
     "name": "stderr",
     "output_type": "stream",
     "text": [
      "Slice increment not consistent through all slices\n",
      "---------------------------------------------------------\n",
      "[  14.84406776 -140.10362625  120.06188822] [-1.2  0.   0. ]\n",
      "[  17.24406776 -140.10362625  120.06188822] [-2.4  0.   0. ]\n",
      "Instance Number: 96\n",
      "---------------------------------------------------------\n",
      " 68%|██████▊   | 399/584 [18:00<08:02,  2.61s/it]"
     ]
    },
    {
     "name": "stdout",
     "output_type": "stream",
     "text": [
      "S2707LVO-1-10  Failed.\n",
      "../../physcosis/Package_1187332/image03/CLEAN/S3992NSE-1-9\n",
      "Converting S3992NSE-1-9  from dicom to niftii.\n"
     ]
    },
    {
     "name": "stderr",
     "output_type": "stream",
     "text": [
      "\r",
      " 68%|██████▊   | 400/584 [18:04<09:24,  3.07s/it]"
     ]
    },
    {
     "name": "stdout",
     "output_type": "stream",
     "text": [
      "../../physcosis/Package_1187332/image03/CLEAN/S3992NSE-1-12\n",
      "Converting S3992NSE-1-12  from dicom to niftii.\n"
     ]
    },
    {
     "name": "stderr",
     "output_type": "stream",
     "text": [
      "\r",
      " 69%|██████▊   | 401/584 [18:08<10:21,  3.40s/it]"
     ]
    },
    {
     "name": "stdout",
     "output_type": "stream",
     "text": [
      "../../physcosis/Package_1187332/image03/CLEAN/S4314AKG-1-9\n",
      "Converting S4314AKG-1-9  from dicom to niftii.\n"
     ]
    },
    {
     "name": "stderr",
     "output_type": "stream",
     "text": [
      "Slice increment not consistent through all slices\n",
      "---------------------------------------------------------\n",
      "[   2.55474462 -148.91718674   94.38705274] [-1.19985196  0.         -0.01884884]\n",
      "[   4.95444854 -148.91718674   94.42475041] [-2.39970392  0.         -0.03769768]\n",
      "Instance Number: 88\n",
      "---------------------------------------------------------\n",
      " 69%|██████▉   | 402/584 [18:11<09:24,  3.10s/it]"
     ]
    },
    {
     "name": "stdout",
     "output_type": "stream",
     "text": [
      "S4314AKG-1-9  Failed.\n",
      "../../physcosis/Package_1187332/image03/CLEAN/S4314AKG-1-10\n",
      "Converting S4314AKG-1-10  from dicom to niftii.\n"
     ]
    },
    {
     "name": "stderr",
     "output_type": "stream",
     "text": [
      "Slice increment not consistent through all slices\n",
      "---------------------------------------------------------\n",
      "[ -87.43415223 -148.91718674   92.97338984] [-1.19985196  0.         -0.01884884]\n",
      "[ -85.03444832 -148.91718674   93.01108751] [-2.39970392  0.         -0.03769768]\n",
      "Instance Number: 13\n",
      "---------------------------------------------------------\n",
      " 69%|██████▉   | 403/584 [18:13<08:34,  2.84s/it]"
     ]
    },
    {
     "name": "stdout",
     "output_type": "stream",
     "text": [
      "S4314AKG-1-10  Failed.\n",
      "../../physcosis/Package_1187332/image03/CLEAN/S1417KCM-1-16\n",
      "Converting S1417KCM-1-16  from dicom to niftii.\n"
     ]
    },
    {
     "name": "stderr",
     "output_type": "stream",
     "text": [
      "Slice increment not consistent through all slices\n",
      "---------------------------------------------------------\n",
      "[ -54.02372894 -121.79854143  107.85849762] [-1.2  0.   0. ]\n",
      "[ -51.62372894 -121.79854143  107.85849762] [-2.4  0.   0. ]\n",
      "Instance Number: 42\n",
      "---------------------------------------------------------\n",
      " 69%|██████▉   | 404/584 [18:15<07:59,  2.66s/it]"
     ]
    },
    {
     "name": "stdout",
     "output_type": "stream",
     "text": [
      "S1417KCM-1-16  Failed.\n",
      "../../physcosis/Package_1187332/image03/CLEAN/S1417KCM-1-17\n",
      "Converting S1417KCM-1-17  from dicom to niftii.\n"
     ]
    },
    {
     "name": "stderr",
     "output_type": "stream",
     "text": [
      "Slice increment not consistent through all slices\n",
      "---------------------------------------------------------\n",
      "[ -97.22372894 -121.79854143  107.85849762] [-1.2  0.   0. ]\n",
      "[ -94.82372894 -121.79854143  107.85849762] [-2.4  0.   0. ]\n",
      "Instance Number: 6\n",
      "---------------------------------------------------------\n",
      " 69%|██████▉   | 405/584 [18:17<07:38,  2.56s/it]"
     ]
    },
    {
     "name": "stdout",
     "output_type": "stream",
     "text": [
      "S1417KCM-1-17  Failed.\n",
      "../../physcosis/Package_1187332/image03/CLEAN/S1417KCM-1-21\n",
      "Converting S1417KCM-1-21  from dicom to niftii.\n"
     ]
    },
    {
     "name": "stderr",
     "output_type": "stream",
     "text": [
      "Slice increment not consistent through all slices\n",
      "---------------------------------------------------------\n",
      "[ -16.82372894 -121.79854143  107.85849762] [-1.2  0.   0. ]\n",
      "[ -14.42372894 -121.79854143  107.85849762] [-2.4  0.   0. ]\n",
      "Instance Number: 73\n",
      "---------------------------------------------------------\n",
      " 70%|██████▉   | 406/584 [18:20<07:19,  2.47s/it]"
     ]
    },
    {
     "name": "stdout",
     "output_type": "stream",
     "text": [
      "S1417KCM-1-21  Failed.\n",
      "../../physcosis/Package_1187332/image03/CLEAN/S2802CEC-1-9\n",
      "Converting S2802CEC-1-9  from dicom to niftii.\n"
     ]
    },
    {
     "name": "stderr",
     "output_type": "stream",
     "text": [
      "Slice increment not consistent through all slices\n",
      "---------------------------------------------------------\n",
      "[ -36.23389835 -113.46354628  108.69028854] [-1.2  0.   0. ]\n",
      "[ -33.83389835 -113.46354628  108.69028854] [-2.4  0.   0. ]\n",
      "Instance Number: 54\n",
      "---------------------------------------------------------\n",
      " 70%|██████▉   | 407/584 [18:22<07:16,  2.47s/it]"
     ]
    },
    {
     "name": "stdout",
     "output_type": "stream",
     "text": [
      "S2802CEC-1-9  Failed.\n",
      "../../physcosis/Package_1187332/image03/CLEAN/S2802CEC-1-10\n",
      "Converting S2802CEC-1-10  from dicom to niftii.\n"
     ]
    },
    {
     "name": "stderr",
     "output_type": "stream",
     "text": [
      "Slice increment not consistent through all slices\n",
      "---------------------------------------------------------\n",
      "[  54.96610165 -113.46354628  108.69028854] [-1.2  0.   0. ]\n",
      "[  57.36610165 -113.46354628  108.69028854] [-2.4  0.   0. ]\n",
      "Instance Number: 130\n",
      "---------------------------------------------------------\n",
      " 70%|██████▉   | 408/584 [18:24<07:04,  2.41s/it]"
     ]
    },
    {
     "name": "stdout",
     "output_type": "stream",
     "text": [
      "S2802CEC-1-10  Failed.\n",
      "../../physcosis/Package_1187332/image03/CLEAN/S2802CEC-1-11\n",
      "Converting S2802CEC-1-11  from dicom to niftii.\n"
     ]
    },
    {
     "name": "stderr",
     "output_type": "stream",
     "text": [
      "Slice increment not consistent through all slices\n",
      "---------------------------------------------------------\n",
      "[  71.76610165 -113.46354628  108.69028854] [-1.2  0.   0. ]\n",
      "[  74.16610165 -113.46354628  108.69028854] [-2.4  0.   0. ]\n",
      "Instance Number: 144\n",
      "---------------------------------------------------------\n",
      " 70%|███████   | 409/584 [18:27<06:56,  2.38s/it]"
     ]
    },
    {
     "name": "stdout",
     "output_type": "stream",
     "text": [
      "S2802CEC-1-11  Failed.\n",
      "../../physcosis/Package_1187332/image03/CLEAN/S4468TFL-1-4\n",
      "Converting S4468TFL-1-4  from dicom to niftii.\n"
     ]
    },
    {
     "name": "stderr",
     "output_type": "stream",
     "text": [
      "\r",
      " 70%|███████   | 410/584 [18:30<08:10,  2.82s/it]"
     ]
    },
    {
     "name": "stdout",
     "output_type": "stream",
     "text": [
      "../../physcosis/Package_1187332/image03/CLEAN/S4468TFL-1-5\n",
      "Converting S4468TFL-1-5  from dicom to niftii.\n"
     ]
    },
    {
     "name": "stderr",
     "output_type": "stream",
     "text": [
      "\r",
      " 70%|███████   | 411/584 [18:35<09:10,  3.18s/it]"
     ]
    },
    {
     "name": "stdout",
     "output_type": "stream",
     "text": [
      "../../physcosis/Package_1187332/image03/CLEAN/S3518PIT-1-4\n",
      "Converting S3518PIT-1-4  from dicom to niftii.\n"
     ]
    },
    {
     "name": "stderr",
     "output_type": "stream",
     "text": [
      "Slice increment not consistent through all slices\n",
      "---------------------------------------------------------\n",
      "[ -31.43389835 -121.12057531  106.50256538] [-1.2  0.   0. ]\n",
      "[ -29.03389835 -121.12057531  106.50256538] [-2.4  0.   0. ]\n",
      "Instance Number: 58\n",
      "---------------------------------------------------------\n",
      " 71%|███████   | 412/584 [18:37<08:23,  2.93s/it]"
     ]
    },
    {
     "name": "stdout",
     "output_type": "stream",
     "text": [
      "S3518PIT-1-4  Failed.\n",
      "../../physcosis/Package_1187332/image03/CLEAN/S3518PIT-1-5\n",
      "Converting S3518PIT-1-5  from dicom to niftii.\n"
     ]
    },
    {
     "name": "stderr",
     "output_type": "stream",
     "text": [
      "Slice increment not consistent through all slices\n",
      "---------------------------------------------------------\n",
      "[ -15.83389835 -121.12057531  106.50256538] [-1.2  0.   0. ]\n",
      "[ -13.43389835 -121.12057531  106.50256538] [-2.4  0.   0. ]\n",
      "Instance Number: 71\n",
      "---------------------------------------------------------\n",
      " 71%|███████   | 413/584 [18:39<07:52,  2.76s/it]"
     ]
    },
    {
     "name": "stdout",
     "output_type": "stream",
     "text": [
      "S3518PIT-1-5  Failed.\n",
      "../../physcosis/Package_1187332/image03/CLEAN/S1388DID-1-4\n",
      "Converting S1388DID-1-4  from dicom to niftii.\n"
     ]
    },
    {
     "name": "stderr",
     "output_type": "stream",
     "text": [
      "Slice increment not consistent through all slices\n",
      "---------------------------------------------------------\n",
      "[  59.89086693 -110.14056959   83.03900771] [-1.19974962 -0.02303694  0.00837587]\n",
      "[  62.29036617 -110.09449571   83.02225597] [-2.39949923 -0.04607388  0.01675174]\n",
      "Instance Number: 137\n",
      "---------------------------------------------------------\n",
      " 71%|███████   | 414/584 [18:42<07:25,  2.62s/it]"
     ]
    },
    {
     "name": "stdout",
     "output_type": "stream",
     "text": [
      "S1388DID-1-4  Failed.\n",
      "../../physcosis/Package_1187332/image03/CLEAN/S1388DID-1-5\n",
      "Converting S1388DID-1-5  from dicom to niftii.\n"
     ]
    },
    {
     "name": "stderr",
     "output_type": "stream",
     "text": [
      "Slice increment not consistent through all slices\n",
      "---------------------------------------------------------\n",
      "[  53.89211885 -110.25575429   83.08088707] [-1.19974962 -0.02303694  0.00837587]\n",
      "[  56.29161808 -110.20968041   83.06413533] [-2.39949923 -0.04607388  0.01675174]\n",
      "Instance Number: 132\n",
      "---------------------------------------------------------\n",
      " 71%|███████   | 415/584 [18:44<07:08,  2.54s/it]"
     ]
    },
    {
     "name": "stdout",
     "output_type": "stream",
     "text": [
      "S1388DID-1-5  Failed.\n",
      "../../physcosis/Package_1187332/image03/CLEAN/S6647EUI-1-9\n",
      "Converting S6647EUI-1-9  from dicom to niftii.\n"
     ]
    },
    {
     "name": "stderr",
     "output_type": "stream",
     "text": [
      "Slice increment not consistent through all slices\n",
      "---------------------------------------------------------\n",
      "[ -81.83389835 -119.76464304   99.04493904] [-1.2  0.   0. ]\n",
      "[ -79.43389835 -119.76464304   99.04493904] [-2.4  0.   0. ]\n",
      "Instance Number: 16\n",
      "---------------------------------------------------------\n",
      " 71%|███████   | 416/584 [18:46<06:47,  2.43s/it]"
     ]
    },
    {
     "name": "stdout",
     "output_type": "stream",
     "text": [
      "S6647EUI-1-9  Failed.\n",
      "../../physcosis/Package_1187332/image03/CLEAN/S6647EUI-1-10\n",
      "Converting S6647EUI-1-10  from dicom to niftii.\n"
     ]
    },
    {
     "name": "stderr",
     "output_type": "stream",
     "text": [
      "Slice increment not consistent through all slices\n",
      "---------------------------------------------------------\n",
      "[ -60.23389835 -119.76464304   99.04493904] [-1.2  0.   0. ]\n",
      "[ -57.83389835 -119.76464304   99.04493904] [-2.4  0.   0. ]\n",
      "Instance Number: 34\n",
      "---------------------------------------------------------\n",
      " 71%|███████▏  | 417/584 [18:48<06:36,  2.37s/it]"
     ]
    },
    {
     "name": "stdout",
     "output_type": "stream",
     "text": [
      "S6647EUI-1-10  Failed.\n",
      "../../physcosis/Package_1187332/image03/CLEAN/S7899DWB-1-9\n",
      "Converting S7899DWB-1-9  from dicom to niftii.\n"
     ]
    },
    {
     "name": "stderr",
     "output_type": "stream",
     "text": [
      "Slice increment not consistent through all slices\n",
      "---------------------------------------------------------\n",
      "[ -10.67444445 -126.51105077   89.55341339] [-1.19027333 -0.1524775   0.        ]\n",
      "[  -8.29389778 -126.20609577   89.55341339] [-2.38054667 -0.304955    0.        ]\n",
      "Instance Number: 63\n",
      "---------------------------------------------------------\n",
      " 72%|███████▏  | 418/584 [18:51<06:38,  2.40s/it]"
     ]
    },
    {
     "name": "stdout",
     "output_type": "stream",
     "text": [
      "S7899DWB-1-9  Failed.\n",
      "../../physcosis/Package_1187332/image03/CLEAN/S7899DWB-1-10\n",
      "Converting S7899DWB-1-10  from dicom to niftii.\n"
     ]
    },
    {
     "name": "stderr",
     "output_type": "stream",
     "text": [
      "Slice increment not consistent through all slices\n",
      "---------------------------------------------------------\n",
      "[ 100.0209757  -112.33064322   89.55341339] [-1.19027333 -0.1524775   0.        ]\n",
      "[ 102.40152237 -112.02568822   89.55341339] [-2.38054667 -0.304955    0.        ]\n",
      "Instance Number: 156\n",
      "---------------------------------------------------------\n",
      " 72%|███████▏  | 419/584 [18:53<06:43,  2.45s/it]"
     ]
    },
    {
     "name": "stdout",
     "output_type": "stream",
     "text": [
      "S7899DWB-1-10  Failed.\n",
      "../../physcosis/Package_1187332/image03/CLEAN/S4051NAD-1-9\n",
      "Converting S4051NAD-1-9  from dicom to niftii.\n"
     ]
    },
    {
     "name": "stderr",
     "output_type": "stream",
     "text": [
      "Slice increment not consistent through all slices\n",
      "---------------------------------------------------------\n",
      "[ -16.05030899 -124.87903083   83.86155633] [-1.19817292 -0.0627936   0.02094295]\n",
      "[ -13.65396314 -124.75344362   83.81967043] [-2.39634585 -0.12558721  0.04188591]\n",
      "Instance Number: 62\n",
      "---------------------------------------------------------\n",
      " 72%|███████▏  | 420/584 [18:55<06:27,  2.36s/it]"
     ]
    },
    {
     "name": "stdout",
     "output_type": "stream",
     "text": [
      "S4051NAD-1-9  Failed.\n",
      "../../physcosis/Package_1187332/image03/CLEAN/S4051NAD-1-10\n",
      "Converting S4051NAD-1-10  from dicom to niftii.\n"
     ]
    },
    {
     "name": "stderr",
     "output_type": "stream",
     "text": [
      "Slice increment not consistent through all slices\n",
      "---------------------------------------------------------\n",
      "[  65.42544985 -120.60906574   82.43743553] [-1.19817292 -0.0627936   0.02094295]\n",
      "[  67.8217957  -120.48347853   82.39554963] [-2.39634585 -0.12558721  0.04188591]\n",
      "Instance Number: 130\n",
      "---------------------------------------------------------\n",
      " 72%|███████▏  | 421/584 [18:58<06:21,  2.34s/it]"
     ]
    },
    {
     "name": "stdout",
     "output_type": "stream",
     "text": [
      "S4051NAD-1-10  Failed.\n",
      "../../physcosis/Package_1187332/image03/CLEAN/S3064HLD-1-6\n",
      "Converting S3064HLD-1-6  from dicom to niftii.\n"
     ]
    },
    {
     "name": "stderr",
     "output_type": "stream",
     "text": [
      "Slice increment not consistent through all slices\n",
      "---------------------------------------------------------\n",
      "[  51.67796612 -115.69684649  109.21442986] [-1.2  0.   0. ]\n",
      "[  54.07796612 -115.69684649  109.21442986] [-2.4  0.   0. ]\n",
      "Instance Number: 125\n",
      "---------------------------------------------------------\n",
      " 72%|███████▏  | 422/584 [19:00<06:19,  2.35s/it]"
     ]
    },
    {
     "name": "stdout",
     "output_type": "stream",
     "text": [
      "S3064HLD-1-6  Failed.\n",
      "../../physcosis/Package_1187332/image03/CLEAN/S3064HLD-1-7\n",
      "Converting S3064HLD-1-7  from dicom to niftii.\n"
     ]
    },
    {
     "name": "stderr",
     "output_type": "stream",
     "text": [
      "Slice increment not consistent through all slices\n",
      "---------------------------------------------------------\n",
      "[  31.27796612 -115.69684649  109.21442986] [-1.2  0.   0. ]\n",
      "[  33.67796612 -115.69684649  109.21442986] [-2.4  0.   0. ]\n",
      "Instance Number: 108\n",
      "---------------------------------------------------------\n",
      " 72%|███████▏  | 423/584 [19:02<06:10,  2.30s/it]"
     ]
    },
    {
     "name": "stdout",
     "output_type": "stream",
     "text": [
      "S3064HLD-1-7  Failed.\n",
      "../../physcosis/Package_1187332/image03/CLEAN/S3414TYX-1-9\n",
      "Converting S3414TYX-1-9  from dicom to niftii.\n"
     ]
    },
    {
     "name": "stderr",
     "output_type": "stream",
     "text": [
      "Slice increment not consistent through all slices\n",
      "---------------------------------------------------------\n",
      "[   1.43389835 -116.37481236  120.73985434] [-1.2  0.   0. ]\n",
      "[   3.83389835 -116.37481236  120.73985434] [-2.4  0.   0. ]\n",
      "Instance Number: 82\n",
      "---------------------------------------------------------\n",
      " 73%|███████▎  | 424/584 [19:05<06:08,  2.30s/it]"
     ]
    },
    {
     "name": "stdout",
     "output_type": "stream",
     "text": [
      "S3414TYX-1-9  Failed.\n",
      "../../physcosis/Package_1187332/image03/CLEAN/S3414TYX-1-10\n",
      "Converting S3414TYX-1-10  from dicom to niftii.\n"
     ]
    },
    {
     "name": "stderr",
     "output_type": "stream",
     "text": [
      "Slice increment not consistent through all slices\n",
      "---------------------------------------------------------\n",
      "[  20.63389835 -116.37481236  120.73985434] [-1.2  0.   0. ]\n",
      "[  23.03389835 -116.37481236  120.73985434] [-2.4  0.   0. ]\n",
      "Instance Number: 98\n",
      "---------------------------------------------------------\n",
      " 73%|███████▎  | 425/584 [19:07<06:06,  2.30s/it]"
     ]
    },
    {
     "name": "stdout",
     "output_type": "stream",
     "text": [
      "S3414TYX-1-10  Failed.\n",
      "../../physcosis/Package_1187332/image03/CLEAN/S8728AFL-1-9\n",
      "Converting S8728AFL-1-9  from dicom to niftii.\n"
     ]
    },
    {
     "name": "stderr",
     "output_type": "stream",
     "text": [
      "Slice increment not consistent through all slices\n",
      "---------------------------------------------------------\n",
      "[ -28.14576283 -124.51040602   90.90934372] [-1.2  0.   0. ]\n",
      "[ -25.74576283 -124.51040602   90.90934372] [-2.4  0.   0. ]\n",
      "Instance Number: 63\n",
      "---------------------------------------------------------\n",
      " 73%|███████▎  | 426/584 [19:09<06:08,  2.33s/it]"
     ]
    },
    {
     "name": "stdout",
     "output_type": "stream",
     "text": [
      "S8728AFL-1-9  Failed.\n",
      "../../physcosis/Package_1187332/image03/CLEAN/S8728AFL-1-10\n",
      "Converting S8728AFL-1-10  from dicom to niftii.\n"
     ]
    },
    {
     "name": "stderr",
     "output_type": "stream",
     "text": [
      "Slice increment not consistent through all slices\n",
      "---------------------------------------------------------\n",
      "[ -46.14576283 -124.51040602   90.90934372] [-1.2  0.   0. ]\n",
      "[ -43.74576283 -124.51040602   90.90934372] [-2.4  0.   0. ]\n",
      "Instance Number: 48\n",
      "---------------------------------------------------------\n",
      " 73%|███████▎  | 427/584 [19:12<06:01,  2.30s/it]"
     ]
    },
    {
     "name": "stdout",
     "output_type": "stream",
     "text": [
      "S8728AFL-1-10  Failed.\n",
      "../../physcosis/Package_1187332/image03/CLEAN/S2322SMC-1-9\n",
      "Converting S2322SMC-1-9  from dicom to niftii.\n"
     ]
    },
    {
     "name": "stderr",
     "output_type": "stream",
     "text": [
      "Slice increment not consistent through all slices\n",
      "---------------------------------------------------------\n",
      "[ -33.         -148.23921967  121.41782045] [-1.2  0.   0. ]\n",
      "[ -30.6        -148.23921967  121.41782045] [-2.4  0.   0. ]\n",
      "Instance Number: 55\n",
      "---------------------------------------------------------\n",
      " 73%|███████▎  | 428/584 [19:14<05:54,  2.27s/it]"
     ]
    },
    {
     "name": "stdout",
     "output_type": "stream",
     "text": [
      "S2322SMC-1-9  Failed.\n",
      "../../physcosis/Package_1187332/image03/CLEAN/S2322SMC-1-10\n",
      "Converting S2322SMC-1-10  from dicom to niftii.\n"
     ]
    },
    {
     "name": "stderr",
     "output_type": "stream",
     "text": [
      "Slice increment not consistent through all slices\n",
      "---------------------------------------------------------\n",
      "[  -4.2        -148.23921967  121.41782045] [-1.2  0.   0. ]\n",
      "[  -1.8        -148.23921967  121.41782045] [-2.4  0.   0. ]\n",
      "Instance Number: 79\n",
      "---------------------------------------------------------\n",
      " 73%|███████▎  | 429/584 [19:16<05:48,  2.25s/it]"
     ]
    },
    {
     "name": "stdout",
     "output_type": "stream",
     "text": [
      "S2322SMC-1-10  Failed.\n",
      "../../physcosis/Package_1187332/image03/CLEAN/S2244EHD-1-4\n",
      "Converting S2244EHD-1-4  from dicom to niftii.\n"
     ]
    },
    {
     "name": "stderr",
     "output_type": "stream",
     "text": [
      "Slice increment not consistent through all slices\n",
      "---------------------------------------------------------\n",
      "[ -38.02998692 -116.11405635  102.49735069] [-1.2  0.   0. ]\n",
      "[ -35.62998692 -116.11405635  102.49735069] [-2.4  0.   0. ]\n",
      "Instance Number: 50\n",
      "---------------------------------------------------------\n",
      " 74%|███████▎  | 430/584 [19:18<05:42,  2.22s/it]"
     ]
    },
    {
     "name": "stdout",
     "output_type": "stream",
     "text": [
      "S2244EHD-1-4  Failed.\n",
      "../../physcosis/Package_1187332/image03/CLEAN/S2244EHD-1-5\n",
      "Converting S2244EHD-1-5  from dicom to niftii.\n"
     ]
    },
    {
     "name": "stderr",
     "output_type": "stream",
     "text": [
      "Slice increment not consistent through all slices\n",
      "---------------------------------------------------------\n",
      "[ -10.42998692 -116.11405635  102.49735069] [-1.2  0.   0. ]\n",
      "[  -8.02998692 -116.11405635  102.49735069] [-2.4  0.   0. ]\n",
      "Instance Number: 73\n",
      "---------------------------------------------------------\n",
      " 74%|███████▍  | 431/584 [19:20<05:40,  2.23s/it]"
     ]
    },
    {
     "name": "stdout",
     "output_type": "stream",
     "text": [
      "S2244EHD-1-5  Failed.\n",
      "../../physcosis/Package_1187332/image03/CLEAN/S6355QLU-1-4\n",
      "Converting S6355QLU-1-4  from dicom to niftii.\n"
     ]
    },
    {
     "name": "stderr",
     "output_type": "stream",
     "text": [
      "Slice increment not consistent through all slices\n",
      "---------------------------------------------------------\n",
      "[ -28.61022907 -115.84955575  100.51753061] [-1.19847994 -0.03347659 -0.05025078]\n",
      "[ -26.21326919 -115.78260257  100.61803218] [-2.39695989 -0.06695318 -0.10050157]\n",
      "Instance Number: 62\n",
      "---------------------------------------------------------\n",
      " 74%|███████▍  | 432/584 [19:23<05:56,  2.34s/it]"
     ]
    },
    {
     "name": "stdout",
     "output_type": "stream",
     "text": [
      "S6355QLU-1-4  Failed.\n",
      "../../physcosis/Package_1187332/image03/CLEAN/S6355QLU-1-5\n",
      "Converting S6355QLU-1-5  from dicom to niftii.\n"
     ]
    },
    {
     "name": "stderr",
     "output_type": "stream",
     "text": [
      "Slice increment not consistent through all slices\n",
      "---------------------------------------------------------\n",
      "[ -66.96158729 -116.92080666   98.90950555] [-1.19847994 -0.03347659 -0.05025078]\n",
      "[ -64.5646274  -116.85385347   99.01000712] [-2.39695989 -0.06695318 -0.10050157]\n",
      "Instance Number: 30\n",
      "---------------------------------------------------------\n",
      " 74%|███████▍  | 433/584 [19:25<05:54,  2.35s/it]"
     ]
    },
    {
     "name": "stdout",
     "output_type": "stream",
     "text": [
      "S6355QLU-1-5  Failed.\n",
      "../../physcosis/Package_1187332/image03/CLEAN/S7351MWA-1-9\n",
      "Converting S7351MWA-1-9  from dicom to niftii.\n"
     ]
    },
    {
     "name": "stderr",
     "output_type": "stream",
     "text": [
      "Slice increment not consistent through all slices\n",
      "---------------------------------------------------------\n",
      "[ -31.82947679 -109.38881397   93.62120819] [-1.2  0.   0. ]\n",
      "[ -29.42947679 -109.38881397   93.62120819] [-2.4  0.   0. ]\n",
      "Instance Number: 56\n",
      "---------------------------------------------------------\n",
      " 74%|███████▍  | 434/584 [19:28<05:48,  2.33s/it]"
     ]
    },
    {
     "name": "stdout",
     "output_type": "stream",
     "text": [
      "S7351MWA-1-9  Failed.\n",
      "../../physcosis/Package_1187332/image03/CLEAN/S7351MWA-1-10\n",
      "Converting S7351MWA-1-10  from dicom to niftii.\n"
     ]
    },
    {
     "name": "stderr",
     "output_type": "stream",
     "text": [
      "Slice increment not consistent through all slices\n",
      "---------------------------------------------------------\n",
      "[  28.17052321 -109.38881397   93.62120819] [-1.2  0.   0. ]\n",
      "[  30.57052321 -109.38881397   93.62120819] [-2.4  0.   0. ]\n",
      "Instance Number: 106\n",
      "---------------------------------------------------------\n",
      " 74%|███████▍  | 435/584 [19:30<05:46,  2.33s/it]"
     ]
    },
    {
     "name": "stdout",
     "output_type": "stream",
     "text": [
      "S7351MWA-1-10  Failed.\n",
      "../../physcosis/Package_1187332/image03/CLEAN/S7944RDC-1-9\n",
      "Converting S7944RDC-1-9  from dicom to niftii.\n"
     ]
    },
    {
     "name": "stderr",
     "output_type": "stream",
     "text": [
      "Slice increment not consistent through all slices\n",
      "---------------------------------------------------------\n",
      "[  42.96610165 -148.23921967  143.1127367 ] [-1.2  0.   0. ]\n",
      "[  45.36610165 -148.23921967  143.1127367 ] [-2.4  0.   0. ]\n",
      "Instance Number: 120\n",
      "---------------------------------------------------------\n",
      " 75%|███████▍  | 436/584 [19:32<05:46,  2.34s/it]"
     ]
    },
    {
     "name": "stdout",
     "output_type": "stream",
     "text": [
      "S7944RDC-1-9  Failed.\n",
      "../../physcosis/Package_1187332/image03/CLEAN/S7944RDC-1-10\n",
      "Converting S7944RDC-1-10  from dicom to niftii.\n"
     ]
    },
    {
     "name": "stderr",
     "output_type": "stream",
     "text": [
      "Slice increment not consistent through all slices\n",
      "---------------------------------------------------------\n",
      "[ -74.63389835 -148.23921967  143.1127367 ] [-1.2  0.   0. ]\n",
      "[ -72.23389835 -148.23921967  143.1127367 ] [-2.4  0.   0. ]\n",
      "Instance Number: 22\n",
      "---------------------------------------------------------\n",
      " 75%|███████▍  | 437/584 [19:35<05:44,  2.35s/it]"
     ]
    },
    {
     "name": "stdout",
     "output_type": "stream",
     "text": [
      "S7944RDC-1-10  Failed.\n",
      "../../physcosis/Package_1187332/image03/CLEAN/S5535UYG-1-5\n",
      "Converting S5535UYG-1-5  from dicom to niftii.\n"
     ]
    },
    {
     "name": "stderr",
     "output_type": "stream",
     "text": [
      "Slice increment not consistent through all slices\n",
      "---------------------------------------------------------\n",
      "[  78.86440659 -112.98498201  105.82460022] [-1.2  0.   0. ]\n",
      "[  81.26440659 -112.98498201  105.82460022] [-2.4  0.   0. ]\n",
      "Instance Number: 155\n",
      "---------------------------------------------------------\n",
      " 75%|███████▌  | 438/584 [19:37<05:39,  2.32s/it]"
     ]
    },
    {
     "name": "stdout",
     "output_type": "stream",
     "text": [
      "S5535UYG-1-5  Failed.\n",
      "../../physcosis/Package_1187332/image03/CLEAN/S5535UYG-1-6\n",
      "Converting S5535UYG-1-6  from dicom to niftii.\n"
     ]
    },
    {
     "name": "stderr",
     "output_type": "stream",
     "text": [
      "Slice increment not consistent through all slices\n",
      "---------------------------------------------------------\n",
      "[ -53.13559341 -112.98498201  105.82460022] [-1.2  0.   0. ]\n",
      "[ -50.73559341 -112.98498201  105.82460022] [-2.4  0.   0. ]\n",
      "Instance Number: 45\n",
      "---------------------------------------------------------\n",
      " 75%|███████▌  | 439/584 [19:39<05:34,  2.31s/it]"
     ]
    },
    {
     "name": "stdout",
     "output_type": "stream",
     "text": [
      "S5535UYG-1-6  Failed.\n",
      "../../physcosis/Package_1187332/image03/CLEAN/S0514JHY-1-5\n",
      "Converting S0514JHY-1-5  from dicom to niftii.\n"
     ]
    },
    {
     "name": "stderr",
     "output_type": "stream",
     "text": [
      "\r",
      " 75%|███████▌  | 440/584 [19:43<06:29,  2.70s/it]"
     ]
    },
    {
     "name": "stdout",
     "output_type": "stream",
     "text": [
      "../../physcosis/Package_1187332/image03/CLEAN/S3133DQA-1-3\n",
      "Converting S3133DQA-1-3  from dicom to niftii.\n"
     ]
    },
    {
     "name": "stderr",
     "output_type": "stream",
     "text": [
      "\r",
      " 76%|███████▌  | 441/584 [19:46<07:07,  2.99s/it]"
     ]
    },
    {
     "name": "stdout",
     "output_type": "stream",
     "text": [
      "../../physcosis/Package_1187332/image03/CLEAN/S7550KEG-1-3\n",
      "Converting S7550KEG-1-3  from dicom to niftii.\n"
     ]
    },
    {
     "name": "stderr",
     "output_type": "stream",
     "text": [
      "\r",
      " 76%|███████▌  | 442/584 [19:50<07:29,  3.16s/it]"
     ]
    },
    {
     "name": "stdout",
     "output_type": "stream",
     "text": [
      "../../physcosis/Package_1187332/image03/CLEAN/S5754FFB-1-3\n",
      "Converting S5754FFB-1-3  from dicom to niftii.\n"
     ]
    },
    {
     "name": "stderr",
     "output_type": "stream",
     "text": [
      "\r",
      " 76%|███████▌  | 443/584 [19:54<07:42,  3.28s/it]"
     ]
    },
    {
     "name": "stdout",
     "output_type": "stream",
     "text": [
      "../../physcosis/Package_1187332/image03/CLEAN/S2829UOK-1-3\n",
      "Converting S2829UOK-1-3  from dicom to niftii.\n"
     ]
    },
    {
     "name": "stderr",
     "output_type": "stream",
     "text": [
      "\r",
      " 76%|███████▌  | 444/584 [19:57<07:47,  3.34s/it]"
     ]
    },
    {
     "name": "stdout",
     "output_type": "stream",
     "text": [
      "../../physcosis/Package_1187332/image03/CLEAN/S4502PNC-1-3\n",
      "Converting S4502PNC-1-3  from dicom to niftii.\n"
     ]
    },
    {
     "name": "stderr",
     "output_type": "stream",
     "text": [
      "\r",
      " 76%|███████▌  | 445/584 [20:00<07:46,  3.36s/it]"
     ]
    },
    {
     "name": "stdout",
     "output_type": "stream",
     "text": [
      "../../physcosis/Package_1187332/image03/CLEAN/S1947HVS-2-4\n",
      "Converting S1947HVS-2-4  from dicom to niftii.\n"
     ]
    },
    {
     "name": "stderr",
     "output_type": "stream",
     "text": [
      "\r",
      " 76%|███████▋  | 446/584 [20:04<07:49,  3.40s/it]"
     ]
    },
    {
     "name": "stdout",
     "output_type": "stream",
     "text": [
      "../../physcosis/Package_1187332/image03/CLEAN/S1947HVS-1-4\n",
      "Converting S1947HVS-1-4  from dicom to niftii.\n"
     ]
    },
    {
     "name": "stderr",
     "output_type": "stream",
     "text": [
      "\r",
      " 77%|███████▋  | 447/584 [20:07<07:46,  3.41s/it]"
     ]
    },
    {
     "name": "stdout",
     "output_type": "stream",
     "text": [
      "../../physcosis/Package_1187332/image03/CLEAN/S3185XHJ-1-2\n",
      "Converting S3185XHJ-1-2  from dicom to niftii.\n"
     ]
    },
    {
     "name": "stderr",
     "output_type": "stream",
     "text": [
      "\r",
      " 77%|███████▋  | 448/584 [20:11<07:45,  3.42s/it]"
     ]
    },
    {
     "name": "stdout",
     "output_type": "stream",
     "text": [
      "../../physcosis/Package_1187332/image03/CLEAN/S2514OYX-1-3\n",
      "Converting S2514OYX-1-3  from dicom to niftii.\n"
     ]
    },
    {
     "name": "stderr",
     "output_type": "stream",
     "text": [
      "\r",
      " 77%|███████▋  | 449/584 [20:14<07:41,  3.42s/it]"
     ]
    },
    {
     "name": "stdout",
     "output_type": "stream",
     "text": [
      "../../physcosis/Package_1187332/image03/CLEAN/S3982VWA-1-3\n",
      "Converting S3982VWA-1-3  from dicom to niftii.\n"
     ]
    },
    {
     "name": "stderr",
     "output_type": "stream",
     "text": [
      "\r",
      " 77%|███████▋  | 450/584 [20:18<07:36,  3.41s/it]"
     ]
    },
    {
     "name": "stdout",
     "output_type": "stream",
     "text": [
      "../../physcosis/Package_1187332/image03/CLEAN/S2882HCQ-1-3\n",
      "Converting S2882HCQ-1-3  from dicom to niftii.\n"
     ]
    },
    {
     "name": "stderr",
     "output_type": "stream",
     "text": [
      "\r",
      " 77%|███████▋  | 451/584 [20:21<07:36,  3.44s/it]"
     ]
    },
    {
     "name": "stdout",
     "output_type": "stream",
     "text": [
      "../../physcosis/Package_1187332/image03/CLEAN/S4648HNK-1-7\n",
      "Converting S4648HNK-1-7  from dicom to niftii.\n"
     ]
    },
    {
     "name": "stderr",
     "output_type": "stream",
     "text": [
      "\r",
      " 77%|███████▋  | 452/584 [20:25<07:46,  3.53s/it]"
     ]
    },
    {
     "name": "stdout",
     "output_type": "stream",
     "text": [
      "../../physcosis/Package_1187332/image03/CLEAN/S8452DQA-1-3\n",
      "Converting S8452DQA-1-3  from dicom to niftii.\n"
     ]
    },
    {
     "name": "stderr",
     "output_type": "stream",
     "text": [
      "\r",
      " 78%|███████▊  | 453/584 [20:28<07:43,  3.54s/it]"
     ]
    },
    {
     "name": "stdout",
     "output_type": "stream",
     "text": [
      "../../physcosis/Package_1187332/image03/CLEAN/S3110FBP-1-2\n",
      "Converting S3110FBP-1-2  from dicom to niftii.\n"
     ]
    },
    {
     "name": "stderr",
     "output_type": "stream",
     "text": [
      "\r",
      " 78%|███████▊  | 454/584 [20:32<07:36,  3.51s/it]"
     ]
    },
    {
     "name": "stdout",
     "output_type": "stream",
     "text": [
      "../../physcosis/Package_1187332/image03/CLEAN/S6374WQT-1-2\n",
      "Converting S6374WQT-1-2  from dicom to niftii.\n"
     ]
    },
    {
     "name": "stderr",
     "output_type": "stream",
     "text": [
      "\r",
      " 78%|███████▊  | 455/584 [20:35<07:33,  3.52s/it]"
     ]
    },
    {
     "name": "stdout",
     "output_type": "stream",
     "text": [
      "../../physcosis/Package_1187332/image03/CLEAN/S7879FYP-1-3\n",
      "Converting S7879FYP-1-3  from dicom to niftii.\n"
     ]
    },
    {
     "name": "stderr",
     "output_type": "stream",
     "text": [
      "\r",
      " 78%|███████▊  | 456/584 [20:39<07:26,  3.49s/it]"
     ]
    },
    {
     "name": "stdout",
     "output_type": "stream",
     "text": [
      "../../physcosis/Package_1187332/image03/CLEAN/S9530VJR-1-2\n",
      "Converting S9530VJR-1-2  from dicom to niftii.\n"
     ]
    },
    {
     "name": "stderr",
     "output_type": "stream",
     "text": [
      "\r",
      " 78%|███████▊  | 457/584 [20:42<07:22,  3.48s/it]"
     ]
    },
    {
     "name": "stdout",
     "output_type": "stream",
     "text": [
      "../../physcosis/Package_1187332/image03/CLEAN/S8284VRC-1-3\n",
      "Converting S8284VRC-1-3  from dicom to niftii.\n"
     ]
    },
    {
     "name": "stderr",
     "output_type": "stream",
     "text": [
      "\r",
      " 78%|███████▊  | 458/584 [20:46<07:13,  3.44s/it]"
     ]
    },
    {
     "name": "stdout",
     "output_type": "stream",
     "text": [
      "../../physcosis/Package_1187332/image03/CLEAN/S5258LHL-1-3\n",
      "Converting S5258LHL-1-3  from dicom to niftii.\n"
     ]
    },
    {
     "name": "stderr",
     "output_type": "stream",
     "text": [
      "\r",
      " 79%|███████▊  | 459/584 [20:49<07:11,  3.45s/it]"
     ]
    },
    {
     "name": "stdout",
     "output_type": "stream",
     "text": [
      "../../physcosis/Package_1187332/image03/CLEAN/S2849NKR-1-2\n",
      "Converting S2849NKR-1-2  from dicom to niftii.\n"
     ]
    },
    {
     "name": "stderr",
     "output_type": "stream",
     "text": [
      "\r",
      " 79%|███████▉  | 460/584 [20:53<07:09,  3.46s/it]"
     ]
    },
    {
     "name": "stdout",
     "output_type": "stream",
     "text": [
      "../../physcosis/Package_1187332/image03/CLEAN/S1802FQX-1-5\n",
      "Converting S1802FQX-1-5  from dicom to niftii.\n"
     ]
    },
    {
     "name": "stderr",
     "output_type": "stream",
     "text": [
      "\r",
      " 79%|███████▉  | 461/584 [20:56<07:10,  3.50s/it]"
     ]
    },
    {
     "name": "stdout",
     "output_type": "stream",
     "text": [
      "../../physcosis/Package_1187332/image03/CLEAN/S3953USF-1-4\n",
      "Converting S3953USF-1-4  from dicom to niftii.\n"
     ]
    },
    {
     "name": "stderr",
     "output_type": "stream",
     "text": [
      "\r",
      " 79%|███████▉  | 462/584 [21:00<07:08,  3.51s/it]"
     ]
    },
    {
     "name": "stdout",
     "output_type": "stream",
     "text": [
      "../../physcosis/Package_1187332/image03/CLEAN/S8097YUQ-1-3\n",
      "Converting S8097YUQ-1-3  from dicom to niftii.\n"
     ]
    },
    {
     "name": "stderr",
     "output_type": "stream",
     "text": [
      "\r",
      " 79%|███████▉  | 463/584 [21:03<06:59,  3.47s/it]"
     ]
    },
    {
     "name": "stdout",
     "output_type": "stream",
     "text": [
      "../../physcosis/Package_1187332/image03/CLEAN/S7972MLR-1-2\n",
      "Converting S7972MLR-1-2  from dicom to niftii.\n"
     ]
    },
    {
     "name": "stderr",
     "output_type": "stream",
     "text": [
      "\r",
      " 79%|███████▉  | 464/584 [21:07<06:56,  3.47s/it]"
     ]
    },
    {
     "name": "stdout",
     "output_type": "stream",
     "text": [
      "../../physcosis/Package_1187332/image03/CLEAN/S2470JXQ-1-2\n",
      "Converting S2470JXQ-1-2  from dicom to niftii.\n"
     ]
    },
    {
     "name": "stderr",
     "output_type": "stream",
     "text": [
      "\r",
      " 80%|███████▉  | 465/584 [21:10<06:52,  3.46s/it]"
     ]
    },
    {
     "name": "stdout",
     "output_type": "stream",
     "text": [
      "../../physcosis/Package_1187332/image03/CLEAN/S3487MCJ-1-2\n",
      "Converting S3487MCJ-1-2  from dicom to niftii.\n"
     ]
    },
    {
     "name": "stderr",
     "output_type": "stream",
     "text": [
      "\r",
      " 80%|███████▉  | 466/584 [21:14<06:48,  3.46s/it]"
     ]
    },
    {
     "name": "stdout",
     "output_type": "stream",
     "text": [
      "../../physcosis/Package_1187332/image03/CLEAN/S6622MSM-1-4\n",
      "Converting S6622MSM-1-4  from dicom to niftii.\n"
     ]
    },
    {
     "name": "stderr",
     "output_type": "stream",
     "text": [
      "\r",
      " 80%|███████▉  | 467/584 [21:17<06:45,  3.47s/it]"
     ]
    },
    {
     "name": "stdout",
     "output_type": "stream",
     "text": [
      "../../physcosis/Package_1187332/image03/CLEAN/S6622MSM-1-6\n",
      "Converting S6622MSM-1-6  from dicom to niftii.\n"
     ]
    },
    {
     "name": "stderr",
     "output_type": "stream",
     "text": [
      "\r",
      " 80%|████████  | 468/584 [21:21<06:45,  3.50s/it]"
     ]
    },
    {
     "name": "stdout",
     "output_type": "stream",
     "text": [
      "../../physcosis/Package_1187332/image03/CLEAN/S1896HKV-1-2\n",
      "Converting S1896HKV-1-2  from dicom to niftii.\n"
     ]
    },
    {
     "name": "stderr",
     "output_type": "stream",
     "text": [
      "\r",
      " 80%|████████  | 469/584 [21:24<06:47,  3.54s/it]"
     ]
    },
    {
     "name": "stdout",
     "output_type": "stream",
     "text": [
      "../../physcosis/Package_1187332/image03/CLEAN/S7043KSP-1-2\n",
      "Converting S7043KSP-1-2  from dicom to niftii.\n"
     ]
    },
    {
     "name": "stderr",
     "output_type": "stream",
     "text": [
      "\r",
      " 80%|████████  | 470/584 [21:28<06:43,  3.54s/it]"
     ]
    },
    {
     "name": "stdout",
     "output_type": "stream",
     "text": [
      "../../physcosis/Package_1187332/image03/CLEAN/S6548PID-1-2\n",
      "Converting S6548PID-1-2  from dicom to niftii.\n"
     ]
    },
    {
     "name": "stderr",
     "output_type": "stream",
     "text": [
      "\r",
      " 81%|████████  | 471/584 [21:31<06:36,  3.51s/it]"
     ]
    },
    {
     "name": "stdout",
     "output_type": "stream",
     "text": [
      "../../physcosis/Package_1187332/image03/CLEAN/S6548PID-1-4\n",
      "Converting S6548PID-1-4  from dicom to niftii.\n"
     ]
    },
    {
     "name": "stderr",
     "output_type": "stream",
     "text": [
      "\r",
      " 81%|████████  | 472/584 [21:35<06:34,  3.52s/it]"
     ]
    },
    {
     "name": "stdout",
     "output_type": "stream",
     "text": [
      "../../physcosis/Package_1187332/image03/CLEAN/S8819AVE-1-3\n",
      "Converting S8819AVE-1-3  from dicom to niftii.\n"
     ]
    },
    {
     "name": "stderr",
     "output_type": "stream",
     "text": [
      "\r",
      " 81%|████████  | 473/584 [21:38<06:31,  3.53s/it]"
     ]
    },
    {
     "name": "stdout",
     "output_type": "stream",
     "text": [
      "../../physcosis/Package_1187332/image03/CLEAN/S8914KMW-1-3\n",
      "Converting S8914KMW-1-3  from dicom to niftii.\n"
     ]
    },
    {
     "name": "stderr",
     "output_type": "stream",
     "text": [
      "\r",
      " 81%|████████  | 474/584 [21:42<06:25,  3.50s/it]"
     ]
    },
    {
     "name": "stdout",
     "output_type": "stream",
     "text": [
      "../../physcosis/Package_1187332/image03/CLEAN/S2982KFG-2-3\n",
      "Converting S2982KFG-2-3  from dicom to niftii.\n"
     ]
    },
    {
     "name": "stderr",
     "output_type": "stream",
     "text": [
      "\r",
      " 81%|████████▏ | 475/584 [21:45<06:18,  3.48s/it]"
     ]
    },
    {
     "name": "stdout",
     "output_type": "stream",
     "text": [
      "../../physcosis/Package_1187332/image03/CLEAN/S9665TBK-1-3\n",
      "Converting S9665TBK-1-3  from dicom to niftii.\n"
     ]
    },
    {
     "name": "stderr",
     "output_type": "stream",
     "text": [
      "\r",
      " 82%|████████▏ | 476/584 [21:49<06:24,  3.56s/it]"
     ]
    },
    {
     "name": "stdout",
     "output_type": "stream",
     "text": [
      "../../physcosis/Package_1187332/image03/CLEAN/S5584INV-1-2\n",
      "Converting S5584INV-1-2  from dicom to niftii.\n"
     ]
    },
    {
     "name": "stderr",
     "output_type": "stream",
     "text": [
      "\r",
      " 82%|████████▏ | 477/584 [21:52<06:21,  3.57s/it]"
     ]
    },
    {
     "name": "stdout",
     "output_type": "stream",
     "text": [
      "../../physcosis/Package_1187332/image03/CLEAN/S3715XQE-2-2\n",
      "Converting S3715XQE-2-2  from dicom to niftii.\n"
     ]
    },
    {
     "name": "stderr",
     "output_type": "stream",
     "text": [
      "\r",
      " 82%|████████▏ | 478/584 [21:56<06:14,  3.53s/it]"
     ]
    },
    {
     "name": "stdout",
     "output_type": "stream",
     "text": [
      "../../physcosis/Package_1187332/image03/CLEAN/S3715XQE-1-3\n",
      "Converting S3715XQE-1-3  from dicom to niftii.\n"
     ]
    },
    {
     "name": "stderr",
     "output_type": "stream",
     "text": [
      "\r",
      " 82%|████████▏ | 479/584 [21:59<06:06,  3.49s/it]"
     ]
    },
    {
     "name": "stdout",
     "output_type": "stream",
     "text": [
      "../../physcosis/Package_1187332/image03/CLEAN/S8271CRM-1-2\n",
      "Converting S8271CRM-1-2  from dicom to niftii.\n"
     ]
    },
    {
     "name": "stderr",
     "output_type": "stream",
     "text": [
      "\r",
      " 82%|████████▏ | 480/584 [22:03<06:17,  3.63s/it]"
     ]
    },
    {
     "name": "stdout",
     "output_type": "stream",
     "text": [
      "../../physcosis/Package_1187332/image03/CLEAN/S7644TYV-2-2\n",
      "Converting S7644TYV-2-2  from dicom to niftii.\n"
     ]
    },
    {
     "name": "stderr",
     "output_type": "stream",
     "text": [
      "\r",
      " 82%|████████▏ | 481/584 [22:07<06:24,  3.73s/it]"
     ]
    },
    {
     "name": "stdout",
     "output_type": "stream",
     "text": [
      "../../physcosis/Package_1187332/image03/CLEAN/S7644TYV-2-3\n",
      "Converting S7644TYV-2-3  from dicom to niftii.\n"
     ]
    },
    {
     "name": "stderr",
     "output_type": "stream",
     "text": [
      "\r",
      " 83%|████████▎ | 482/584 [22:11<06:34,  3.87s/it]"
     ]
    },
    {
     "name": "stdout",
     "output_type": "stream",
     "text": [
      "../../physcosis/Package_1187332/image03/CLEAN/S5342VIQ-1-5\n",
      "Converting S5342VIQ-1-5  from dicom to niftii.\n"
     ]
    },
    {
     "name": "stderr",
     "output_type": "stream",
     "text": [
      "\r",
      " 83%|████████▎ | 483/584 [22:15<06:22,  3.79s/it]"
     ]
    },
    {
     "name": "stdout",
     "output_type": "stream",
     "text": [
      "../../physcosis/Package_1187332/image03/CLEAN/S2123CPN-1-2\n",
      "Converting S2123CPN-1-2  from dicom to niftii.\n"
     ]
    },
    {
     "name": "stderr",
     "output_type": "stream",
     "text": [
      "\r",
      " 83%|████████▎ | 484/584 [22:19<06:09,  3.69s/it]"
     ]
    },
    {
     "name": "stdout",
     "output_type": "stream",
     "text": [
      "../../physcosis/Package_1187332/image03/CLEAN/S4649UJH-1-3\n",
      "Converting S4649UJH-1-3  from dicom to niftii.\n"
     ]
    },
    {
     "name": "stderr",
     "output_type": "stream",
     "text": [
      "\r",
      " 83%|████████▎ | 485/584 [22:22<06:02,  3.66s/it]"
     ]
    },
    {
     "name": "stdout",
     "output_type": "stream",
     "text": [
      "../../physcosis/Package_1187332/image03/CLEAN/S7880GNL-1-3\n",
      "Converting S7880GNL-1-3  from dicom to niftii.\n"
     ]
    },
    {
     "name": "stderr",
     "output_type": "stream",
     "text": [
      "\r",
      " 83%|████████▎ | 486/584 [22:26<05:58,  3.66s/it]"
     ]
    },
    {
     "name": "stdout",
     "output_type": "stream",
     "text": [
      "../../physcosis/Package_1187332/image03/CLEAN/S8048ECC-1-2\n",
      "Converting S8048ECC-1-2  from dicom to niftii.\n"
     ]
    },
    {
     "name": "stderr",
     "output_type": "stream",
     "text": [
      "\r",
      " 83%|████████▎ | 487/584 [22:29<05:49,  3.60s/it]"
     ]
    },
    {
     "name": "stdout",
     "output_type": "stream",
     "text": [
      "../../physcosis/Package_1187332/image03/CLEAN/S7495GXB-1-2\n",
      "Converting S7495GXB-1-2  from dicom to niftii.\n"
     ]
    },
    {
     "name": "stderr",
     "output_type": "stream",
     "text": [
      "\r",
      " 84%|████████▎ | 488/584 [22:33<05:40,  3.55s/it]"
     ]
    },
    {
     "name": "stdout",
     "output_type": "stream",
     "text": [
      "../../physcosis/Package_1187332/image03/CLEAN/S7153GAT-1-3\n",
      "Converting S7153GAT-1-3  from dicom to niftii.\n"
     ]
    },
    {
     "name": "stderr",
     "output_type": "stream",
     "text": [
      "\r",
      " 84%|████████▎ | 489/584 [22:36<05:35,  3.53s/it]"
     ]
    },
    {
     "name": "stdout",
     "output_type": "stream",
     "text": [
      "../../physcosis/Package_1187332/image03/CLEAN/S7153GAT-1-5\n",
      "Converting S7153GAT-1-5  from dicom to niftii.\n"
     ]
    },
    {
     "name": "stderr",
     "output_type": "stream",
     "text": [
      "\r",
      " 84%|████████▍ | 490/584 [22:40<05:33,  3.54s/it]"
     ]
    },
    {
     "name": "stdout",
     "output_type": "stream",
     "text": [
      "../../physcosis/Package_1187332/image03/CLEAN/S9321JGA-1-3\n",
      "Converting S9321JGA-1-3  from dicom to niftii.\n"
     ]
    },
    {
     "name": "stderr",
     "output_type": "stream",
     "text": [
      "\r",
      " 84%|████████▍ | 491/584 [22:43<05:32,  3.58s/it]"
     ]
    },
    {
     "name": "stdout",
     "output_type": "stream",
     "text": [
      "../../physcosis/Package_1187332/image03/CLEAN/S3977UNW-1-2\n",
      "Converting S3977UNW-1-2  from dicom to niftii.\n"
     ]
    },
    {
     "name": "stderr",
     "output_type": "stream",
     "text": [
      "\r",
      " 84%|████████▍ | 492/584 [22:47<05:30,  3.59s/it]"
     ]
    },
    {
     "name": "stdout",
     "output_type": "stream",
     "text": [
      "../../physcosis/Package_1187332/image03/CLEAN/S4654AKL-1-2\n",
      "Converting S4654AKL-1-2  from dicom to niftii.\n"
     ]
    },
    {
     "name": "stderr",
     "output_type": "stream",
     "text": [
      "\r",
      " 84%|████████▍ | 493/584 [22:51<05:25,  3.58s/it]"
     ]
    },
    {
     "name": "stdout",
     "output_type": "stream",
     "text": [
      "../../physcosis/Package_1187332/image03/CLEAN/S2579EUK-1-2\n",
      "Converting S2579EUK-1-2  from dicom to niftii.\n"
     ]
    },
    {
     "name": "stderr",
     "output_type": "stream",
     "text": [
      "\r",
      " 85%|████████▍ | 494/584 [22:54<05:21,  3.57s/it]"
     ]
    },
    {
     "name": "stdout",
     "output_type": "stream",
     "text": [
      "../../physcosis/Package_1187332/image03/CLEAN/S9969KOO-1-3\n",
      "Converting S9969KOO-1-3  from dicom to niftii.\n"
     ]
    },
    {
     "name": "stderr",
     "output_type": "stream",
     "text": [
      "\r",
      " 85%|████████▍ | 495/584 [22:58<05:14,  3.53s/it]"
     ]
    },
    {
     "name": "stdout",
     "output_type": "stream",
     "text": [
      "../../physcosis/Package_1187332/image03/CLEAN/S2566PTC-1-3\n",
      "Converting S2566PTC-1-3  from dicom to niftii.\n"
     ]
    },
    {
     "name": "stderr",
     "output_type": "stream",
     "text": [
      "\r",
      " 85%|████████▍ | 496/584 [23:01<05:09,  3.51s/it]"
     ]
    },
    {
     "name": "stdout",
     "output_type": "stream",
     "text": [
      "../../physcosis/Package_1187332/image03/CLEAN/S3373DFC-2-3\n",
      "Converting S3373DFC-2-3  from dicom to niftii.\n"
     ]
    },
    {
     "name": "stderr",
     "output_type": "stream",
     "text": [
      "\r",
      " 85%|████████▌ | 497/584 [23:04<05:05,  3.51s/it]"
     ]
    },
    {
     "name": "stdout",
     "output_type": "stream",
     "text": [
      "../../physcosis/Package_1187332/image03/CLEAN/S0844GBL-1-2\n",
      "Converting S0844GBL-1-2  from dicom to niftii.\n"
     ]
    },
    {
     "name": "stderr",
     "output_type": "stream",
     "text": [
      "\r",
      " 85%|████████▌ | 498/584 [23:08<04:58,  3.47s/it]"
     ]
    },
    {
     "name": "stdout",
     "output_type": "stream",
     "text": [
      "../../physcosis/Package_1187332/image03/CLEAN/S8238KRG-1-3\n",
      "Converting S8238KRG-1-3  from dicom to niftii.\n"
     ]
    },
    {
     "name": "stderr",
     "output_type": "stream",
     "text": [
      "\r",
      " 85%|████████▌ | 499/584 [23:11<04:56,  3.48s/it]"
     ]
    },
    {
     "name": "stdout",
     "output_type": "stream",
     "text": [
      "../../physcosis/Package_1187332/image03/CLEAN/S3979MAH-1-4\n",
      "Converting S3979MAH-1-4  from dicom to niftii.\n"
     ]
    },
    {
     "name": "stderr",
     "output_type": "stream",
     "text": [
      "\r",
      " 86%|████████▌ | 500/584 [23:15<04:52,  3.48s/it]"
     ]
    },
    {
     "name": "stdout",
     "output_type": "stream",
     "text": [
      "../../physcosis/Package_1187332/image03/CLEAN/S2173RAK-1-5\n",
      "Converting S2173RAK-1-5  from dicom to niftii.\n"
     ]
    },
    {
     "name": "stderr",
     "output_type": "stream",
     "text": [
      "\r",
      " 86%|████████▌ | 501/584 [23:18<04:50,  3.50s/it]"
     ]
    },
    {
     "name": "stdout",
     "output_type": "stream",
     "text": [
      "../../physcosis/Package_1187332/image03/CLEAN/S7185KXS-1-3\n",
      "Converting S7185KXS-1-3  from dicom to niftii.\n"
     ]
    },
    {
     "name": "stderr",
     "output_type": "stream",
     "text": [
      "\r",
      " 86%|████████▌ | 502/584 [23:22<04:47,  3.50s/it]"
     ]
    },
    {
     "name": "stdout",
     "output_type": "stream",
     "text": [
      "../../physcosis/Package_1187332/image03/CLEAN/S6057CGW-1-4\n",
      "Converting S6057CGW-1-4  from dicom to niftii.\n"
     ]
    },
    {
     "name": "stderr",
     "output_type": "stream",
     "text": [
      "\r",
      " 86%|████████▌ | 503/584 [23:25<04:40,  3.47s/it]"
     ]
    },
    {
     "name": "stdout",
     "output_type": "stream",
     "text": [
      "../../physcosis/Package_1187332/image03/CLEAN/S6057CGW-1-11\n",
      "Converting S6057CGW-1-11  from dicom to niftii.\n"
     ]
    },
    {
     "name": "stderr",
     "output_type": "stream",
     "text": [
      "\r",
      " 86%|████████▋ | 504/584 [23:29<04:34,  3.43s/it]"
     ]
    },
    {
     "name": "stdout",
     "output_type": "stream",
     "text": [
      "../../physcosis/Package_1187332/image03/CLEAN/S6057CGW-1-25\n",
      "Converting S6057CGW-1-25  from dicom to niftii.\n"
     ]
    },
    {
     "name": "stderr",
     "output_type": "stream",
     "text": [
      "\r",
      " 86%|████████▋ | 505/584 [23:32<04:30,  3.43s/it]"
     ]
    },
    {
     "name": "stdout",
     "output_type": "stream",
     "text": [
      "../../physcosis/Package_1187332/image03/CLEAN/S6144YXD-1-3\n",
      "Converting S6144YXD-1-3  from dicom to niftii.\n"
     ]
    },
    {
     "name": "stderr",
     "output_type": "stream",
     "text": [
      "\r",
      " 87%|████████▋ | 506/584 [23:36<04:35,  3.53s/it]"
     ]
    },
    {
     "name": "stdout",
     "output_type": "stream",
     "text": [
      "../../physcosis/Package_1187332/image03/CLEAN/S1664MXN-1-3\n",
      "Converting S1664MXN-1-3  from dicom to niftii.\n"
     ]
    },
    {
     "name": "stderr",
     "output_type": "stream",
     "text": [
      "\r",
      " 87%|████████▋ | 507/584 [23:39<04:27,  3.47s/it]"
     ]
    },
    {
     "name": "stdout",
     "output_type": "stream",
     "text": [
      "../../physcosis/Package_1187332/image03/CLEAN/S2935RDF-1-3\n",
      "Converting S2935RDF-1-3  from dicom to niftii.\n"
     ]
    },
    {
     "name": "stderr",
     "output_type": "stream",
     "text": [
      "\r",
      " 87%|████████▋ | 508/584 [23:43<04:21,  3.44s/it]"
     ]
    },
    {
     "name": "stdout",
     "output_type": "stream",
     "text": [
      "../../physcosis/Package_1187332/image03/CLEAN/S1427EWF-1-2\n",
      "Converting S1427EWF-1-2  from dicom to niftii.\n"
     ]
    },
    {
     "name": "stderr",
     "output_type": "stream",
     "text": [
      "\r",
      " 87%|████████▋ | 509/584 [23:46<04:15,  3.41s/it]"
     ]
    },
    {
     "name": "stdout",
     "output_type": "stream",
     "text": [
      "../../physcosis/Package_1187332/image03/CLEAN/S9380UKV-1-2\n",
      "Converting S9380UKV-1-2  from dicom to niftii.\n"
     ]
    },
    {
     "name": "stderr",
     "output_type": "stream",
     "text": [
      "\r",
      " 87%|████████▋ | 510/584 [23:50<04:20,  3.51s/it]"
     ]
    },
    {
     "name": "stdout",
     "output_type": "stream",
     "text": [
      "../../physcosis/Package_1187332/image03/CLEAN/S7444STM-1-4\n",
      "Converting S7444STM-1-4  from dicom to niftii.\n"
     ]
    },
    {
     "name": "stderr",
     "output_type": "stream",
     "text": [
      "\r",
      " 88%|████████▊ | 511/584 [23:53<04:18,  3.54s/it]"
     ]
    },
    {
     "name": "stdout",
     "output_type": "stream",
     "text": [
      "../../physcosis/Package_1187332/image03/CLEAN/S3195SGY-1-3\n",
      "Converting S3195SGY-1-3  from dicom to niftii.\n"
     ]
    },
    {
     "name": "stderr",
     "output_type": "stream",
     "text": [
      "\r",
      " 88%|████████▊ | 512/584 [23:57<04:10,  3.48s/it]"
     ]
    },
    {
     "name": "stdout",
     "output_type": "stream",
     "text": [
      "../../physcosis/Package_1187332/image03/CLEAN/S3645PCU-1-3\n",
      "Converting S3645PCU-1-3  from dicom to niftii.\n"
     ]
    },
    {
     "name": "stderr",
     "output_type": "stream",
     "text": [
      "\r",
      " 88%|████████▊ | 513/584 [24:00<04:05,  3.45s/it]"
     ]
    },
    {
     "name": "stdout",
     "output_type": "stream",
     "text": [
      "../../physcosis/Package_1187332/image03/CLEAN/S6198GMS-1-4\n",
      "Converting S6198GMS-1-4  from dicom to niftii.\n"
     ]
    },
    {
     "name": "stderr",
     "output_type": "stream",
     "text": [
      "\r",
      " 88%|████████▊ | 514/584 [24:03<04:01,  3.45s/it]"
     ]
    },
    {
     "name": "stdout",
     "output_type": "stream",
     "text": [
      "../../physcosis/Package_1187332/image03/CLEAN/S3466IHM-1-2\n",
      "Converting S3466IHM-1-2  from dicom to niftii.\n"
     ]
    },
    {
     "name": "stderr",
     "output_type": "stream",
     "text": [
      "\r",
      " 88%|████████▊ | 515/584 [24:07<03:57,  3.44s/it]"
     ]
    },
    {
     "name": "stdout",
     "output_type": "stream",
     "text": [
      "../../physcosis/Package_1187332/image03/CLEAN/S6494IXR-1-3\n",
      "Converting S6494IXR-1-3  from dicom to niftii.\n"
     ]
    },
    {
     "name": "stderr",
     "output_type": "stream",
     "text": [
      "\r",
      " 88%|████████▊ | 516/584 [24:10<03:52,  3.42s/it]"
     ]
    },
    {
     "name": "stdout",
     "output_type": "stream",
     "text": [
      "../../physcosis/Package_1187332/image03/CLEAN/S7265PEN-1-5\n",
      "Converting S7265PEN-1-5  from dicom to niftii.\n"
     ]
    },
    {
     "name": "stderr",
     "output_type": "stream",
     "text": [
      "\r",
      " 89%|████████▊ | 517/584 [24:14<03:48,  3.41s/it]"
     ]
    },
    {
     "name": "stdout",
     "output_type": "stream",
     "text": [
      "../../physcosis/Package_1187332/image03/CLEAN/S7455FRR-1-5\n",
      "Converting S7455FRR-1-5  from dicom to niftii.\n"
     ]
    },
    {
     "name": "stderr",
     "output_type": "stream",
     "text": [
      "\r",
      " 89%|████████▊ | 518/584 [24:17<03:44,  3.40s/it]"
     ]
    },
    {
     "name": "stdout",
     "output_type": "stream",
     "text": [
      "../../physcosis/Package_1187332/image03/CLEAN/S7455FRR-1-6\n",
      "Converting S7455FRR-1-6  from dicom to niftii.\n"
     ]
    },
    {
     "name": "stderr",
     "output_type": "stream",
     "text": [
      "\r",
      " 89%|████████▉ | 519/584 [24:20<03:39,  3.38s/it]"
     ]
    },
    {
     "name": "stdout",
     "output_type": "stream",
     "text": [
      "../../physcosis/Package_1187332/image03/CLEAN/S3234QAO-1-2\n",
      "Converting S3234QAO-1-2  from dicom to niftii.\n"
     ]
    },
    {
     "name": "stderr",
     "output_type": "stream",
     "text": [
      "\r",
      " 89%|████████▉ | 520/584 [24:24<03:38,  3.42s/it]"
     ]
    },
    {
     "name": "stdout",
     "output_type": "stream",
     "text": [
      "../../physcosis/Package_1187332/image03/CLEAN/S9434EYS-1-4\n",
      "Converting S9434EYS-1-4  from dicom to niftii.\n"
     ]
    },
    {
     "name": "stderr",
     "output_type": "stream",
     "text": [
      "\r",
      " 89%|████████▉ | 521/584 [24:27<03:34,  3.40s/it]"
     ]
    },
    {
     "name": "stdout",
     "output_type": "stream",
     "text": [
      "../../physcosis/Package_1187332/image03/CLEAN/S2539VRD-1-2\n",
      "Converting S2539VRD-1-2  from dicom to niftii.\n"
     ]
    },
    {
     "name": "stderr",
     "output_type": "stream",
     "text": [
      "\r",
      " 89%|████████▉ | 522/584 [24:30<03:28,  3.37s/it]"
     ]
    },
    {
     "name": "stdout",
     "output_type": "stream",
     "text": [
      "../../physcosis/Package_1187332/image03/CLEAN/S9109UIT-1-3\n",
      "Converting S9109UIT-1-3  from dicom to niftii.\n"
     ]
    },
    {
     "name": "stderr",
     "output_type": "stream",
     "text": [
      "\r",
      " 90%|████████▉ | 523/584 [24:34<03:24,  3.35s/it]"
     ]
    },
    {
     "name": "stdout",
     "output_type": "stream",
     "text": [
      "../../physcosis/Package_1187332/image03/CLEAN/S6133CPP-1-3\n",
      "Converting S6133CPP-1-3  from dicom to niftii.\n"
     ]
    },
    {
     "name": "stderr",
     "output_type": "stream",
     "text": [
      "Image orientations not consistent through all slices\n",
      "---------------------------------------------------------\n",
      "[ 1.00000000e+00 -1.11022302e-16  0.00000000e+00] [0. 1. 0.]\n",
      "[ 1.11022303e-16  9.97801468e-01 -6.62739019e-02] [ 0.  0. -1.]\n",
      "---------------------------------------------------------\n",
      " 90%|████████▉ | 524/584 [24:36<03:01,  3.02s/it]"
     ]
    },
    {
     "name": "stdout",
     "output_type": "stream",
     "text": [
      "S6133CPP-1-3  Failed.\n",
      "../../physcosis/Package_1187332/image03/CLEAN/S2802HOM-1-2\n",
      "Converting S2802HOM-1-2  from dicom to niftii.\n"
     ]
    },
    {
     "name": "stderr",
     "output_type": "stream",
     "text": [
      "\r",
      " 90%|████████▉ | 525/584 [24:40<03:06,  3.16s/it]"
     ]
    },
    {
     "name": "stdout",
     "output_type": "stream",
     "text": [
      "../../physcosis/Package_1187332/image03/CLEAN/S6380NRN-1-6\n",
      "Converting S6380NRN-1-6  from dicom to niftii.\n"
     ]
    },
    {
     "name": "stderr",
     "output_type": "stream",
     "text": [
      "\r",
      " 90%|█████████ | 526/584 [24:43<03:09,  3.26s/it]"
     ]
    },
    {
     "name": "stdout",
     "output_type": "stream",
     "text": [
      "../../physcosis/Package_1187332/image03/CLEAN/S6508VLT-1-3\n",
      "Converting S6508VLT-1-3  from dicom to niftii.\n"
     ]
    },
    {
     "name": "stderr",
     "output_type": "stream",
     "text": [
      "\r",
      " 90%|█████████ | 527/584 [24:46<03:08,  3.30s/it]"
     ]
    },
    {
     "name": "stdout",
     "output_type": "stream",
     "text": [
      "../../physcosis/Package_1187332/image03/CLEAN/S6235JQU-1-4\n",
      "Converting S6235JQU-1-4  from dicom to niftii.\n"
     ]
    },
    {
     "name": "stderr",
     "output_type": "stream",
     "text": [
      "\r",
      " 90%|█████████ | 528/584 [24:50<03:14,  3.48s/it]"
     ]
    },
    {
     "name": "stdout",
     "output_type": "stream",
     "text": [
      "../../physcosis/Package_1187332/image03/CLEAN/S0593TNF-1-3\n",
      "Converting S0593TNF-1-3  from dicom to niftii.\n"
     ]
    },
    {
     "name": "stderr",
     "output_type": "stream",
     "text": [
      "\r",
      " 91%|█████████ | 529/584 [24:54<03:20,  3.64s/it]"
     ]
    },
    {
     "name": "stdout",
     "output_type": "stream",
     "text": [
      "../../physcosis/Package_1187332/image03/CLEAN/S8898JKS-1-3\n",
      "Converting S8898JKS-1-3  from dicom to niftii.\n"
     ]
    },
    {
     "name": "stderr",
     "output_type": "stream",
     "text": [
      "\r",
      " 91%|█████████ | 530/584 [24:58<03:21,  3.74s/it]"
     ]
    },
    {
     "name": "stdout",
     "output_type": "stream",
     "text": [
      "../../physcosis/Package_1187332/image03/CLEAN/S0253BRK-1-4\n",
      "Converting S0253BRK-1-4  from dicom to niftii.\n"
     ]
    },
    {
     "name": "stderr",
     "output_type": "stream",
     "text": [
      "\r",
      " 91%|█████████ | 531/584 [25:02<03:11,  3.62s/it]"
     ]
    },
    {
     "name": "stdout",
     "output_type": "stream",
     "text": [
      "../../physcosis/Package_1187332/image03/CLEAN/S0253BRK-1-6\n",
      "Converting S0253BRK-1-6  from dicom to niftii.\n"
     ]
    },
    {
     "name": "stderr",
     "output_type": "stream",
     "text": [
      "\r",
      " 91%|█████████ | 532/584 [25:05<03:03,  3.53s/it]"
     ]
    },
    {
     "name": "stdout",
     "output_type": "stream",
     "text": [
      "../../physcosis/Package_1187332/image03/CLEAN/S2589KRB-1-4\n",
      "Converting S2589KRB-1-4  from dicom to niftii.\n"
     ]
    },
    {
     "name": "stderr",
     "output_type": "stream",
     "text": [
      "\r",
      " 91%|█████████▏| 533/584 [25:08<02:56,  3.47s/it]"
     ]
    },
    {
     "name": "stdout",
     "output_type": "stream",
     "text": [
      "../../physcosis/Package_1187332/image03/CLEAN/S3420RFK-1-3\n",
      "Converting S3420RFK-1-3  from dicom to niftii.\n"
     ]
    },
    {
     "name": "stderr",
     "output_type": "stream",
     "text": [
      "\r",
      " 91%|█████████▏| 534/584 [25:12<02:53,  3.48s/it]"
     ]
    },
    {
     "name": "stdout",
     "output_type": "stream",
     "text": [
      "../../physcosis/Package_1187332/image03/CLEAN/S7139QML-1-3\n",
      "Converting S7139QML-1-3  from dicom to niftii.\n"
     ]
    },
    {
     "name": "stderr",
     "output_type": "stream",
     "text": [
      "\r",
      " 92%|█████████▏| 535/584 [25:15<02:48,  3.45s/it]"
     ]
    },
    {
     "name": "stdout",
     "output_type": "stream",
     "text": [
      "../../physcosis/Package_1187332/image03/CLEAN/S5682XQD-1-3\n",
      "Converting S5682XQD-1-3  from dicom to niftii.\n"
     ]
    },
    {
     "name": "stderr",
     "output_type": "stream",
     "text": [
      "\r",
      " 92%|█████████▏| 536/584 [25:18<02:44,  3.42s/it]"
     ]
    },
    {
     "name": "stdout",
     "output_type": "stream",
     "text": [
      "../../physcosis/Package_1187332/image03/CLEAN/S9634DCK-1-5\n",
      "Converting S9634DCK-1-5  from dicom to niftii.\n"
     ]
    },
    {
     "name": "stderr",
     "output_type": "stream",
     "text": [
      "\r",
      " 92%|█████████▏| 537/584 [25:22<02:40,  3.42s/it]"
     ]
    },
    {
     "name": "stdout",
     "output_type": "stream",
     "text": [
      "../../physcosis/Package_1187332/image03/CLEAN/S2621LCR-1-3\n",
      "Converting S2621LCR-1-3  from dicom to niftii.\n"
     ]
    },
    {
     "name": "stderr",
     "output_type": "stream",
     "text": [
      "\r",
      " 92%|█████████▏| 538/584 [25:25<02:36,  3.40s/it]"
     ]
    },
    {
     "name": "stdout",
     "output_type": "stream",
     "text": [
      "../../physcosis/Package_1187332/image03/CLEAN/S9291AFK-1-3\n",
      "Converting S9291AFK-1-3  from dicom to niftii.\n"
     ]
    },
    {
     "name": "stderr",
     "output_type": "stream",
     "text": [
      "\r",
      " 92%|█████████▏| 539/584 [25:29<02:32,  3.39s/it]"
     ]
    },
    {
     "name": "stdout",
     "output_type": "stream",
     "text": [
      "../../physcosis/Package_1187332/image03/CLEAN/S2887QDY-1-2\n",
      "Converting S2887QDY-1-2  from dicom to niftii.\n"
     ]
    },
    {
     "name": "stderr",
     "output_type": "stream",
     "text": [
      "\r",
      " 92%|█████████▏| 540/584 [25:32<02:28,  3.36s/it]"
     ]
    },
    {
     "name": "stdout",
     "output_type": "stream",
     "text": [
      "../../physcosis/Package_1187332/image03/CLEAN/S8892KRM-1-3\n",
      "Converting S8892KRM-1-3  from dicom to niftii.\n"
     ]
    },
    {
     "name": "stderr",
     "output_type": "stream",
     "text": [
      "\r",
      " 93%|█████████▎| 541/584 [25:35<02:23,  3.34s/it]"
     ]
    },
    {
     "name": "stdout",
     "output_type": "stream",
     "text": [
      "../../physcosis/Package_1187332/image03/CLEAN/S5052VXV-1-2\n",
      "Converting S5052VXV-1-2  from dicom to niftii.\n"
     ]
    },
    {
     "name": "stderr",
     "output_type": "stream",
     "text": [
      "\r",
      " 93%|█████████▎| 542/584 [25:39<02:19,  3.33s/it]"
     ]
    },
    {
     "name": "stdout",
     "output_type": "stream",
     "text": [
      "../../physcosis/Package_1187332/image03/CLEAN/S2198GTK-1-2\n",
      "Converting S2198GTK-1-2  from dicom to niftii.\n"
     ]
    },
    {
     "name": "stderr",
     "output_type": "stream",
     "text": [
      "\r",
      " 93%|█████████▎| 543/584 [25:42<02:18,  3.37s/it]"
     ]
    },
    {
     "name": "stdout",
     "output_type": "stream",
     "text": [
      "../../physcosis/Package_1187332/image03/CLEAN/S5126WLO-1-7\n",
      "Converting S5126WLO-1-7  from dicom to niftii.\n"
     ]
    },
    {
     "name": "stderr",
     "output_type": "stream",
     "text": [
      "\r",
      " 93%|█████████▎| 544/584 [25:45<02:14,  3.35s/it]"
     ]
    },
    {
     "name": "stdout",
     "output_type": "stream",
     "text": [
      "../../physcosis/Package_1187332/image03/CLEAN/S7767PEE-1-2\n",
      "Converting S7767PEE-1-2  from dicom to niftii.\n"
     ]
    },
    {
     "name": "stderr",
     "output_type": "stream",
     "text": [
      "\r",
      " 93%|█████████▎| 545/584 [25:49<02:14,  3.44s/it]"
     ]
    },
    {
     "name": "stdout",
     "output_type": "stream",
     "text": [
      "../../physcosis/Package_1187332/image03/CLEAN/S8704FPR-1-3\n",
      "Converting S8704FPR-1-3  from dicom to niftii.\n"
     ]
    },
    {
     "name": "stderr",
     "output_type": "stream",
     "text": [
      "\r",
      " 93%|█████████▎| 546/584 [25:52<02:11,  3.46s/it]"
     ]
    },
    {
     "name": "stdout",
     "output_type": "stream",
     "text": [
      "../../physcosis/Package_1187332/image03/CLEAN/S0370IRG-1-3\n",
      "Converting S0370IRG-1-3  from dicom to niftii.\n"
     ]
    },
    {
     "name": "stderr",
     "output_type": "stream",
     "text": [
      "\r",
      " 94%|█████████▎| 547/584 [25:56<02:06,  3.42s/it]"
     ]
    },
    {
     "name": "stdout",
     "output_type": "stream",
     "text": [
      "../../physcosis/Package_1187332/image03/CLEAN/S0092SVK-1-4\n",
      "Converting S0092SVK-1-4  from dicom to niftii.\n"
     ]
    },
    {
     "name": "stderr",
     "output_type": "stream",
     "text": [
      "\r",
      " 94%|█████████▍| 548/584 [25:59<02:02,  3.41s/it]"
     ]
    },
    {
     "name": "stdout",
     "output_type": "stream",
     "text": [
      "../../physcosis/Package_1187332/image03/CLEAN/S5228GXD-1-3\n",
      "Converting S5228GXD-1-3  from dicom to niftii.\n"
     ]
    },
    {
     "name": "stderr",
     "output_type": "stream",
     "text": [
      "\r",
      " 94%|█████████▍| 549/584 [26:02<01:58,  3.37s/it]"
     ]
    },
    {
     "name": "stdout",
     "output_type": "stream",
     "text": [
      "../../physcosis/Package_1187332/image03/CLEAN/S6572CVP-1-2\n",
      "Converting S6572CVP-1-2  from dicom to niftii.\n"
     ]
    },
    {
     "name": "stderr",
     "output_type": "stream",
     "text": [
      "\r",
      " 94%|█████████▍| 550/584 [26:06<01:56,  3.41s/it]"
     ]
    },
    {
     "name": "stdout",
     "output_type": "stream",
     "text": [
      "../../physcosis/Package_1187332/image03/CLEAN/S2969HYD-1-2\n",
      "Converting S2969HYD-1-2  from dicom to niftii.\n"
     ]
    },
    {
     "name": "stderr",
     "output_type": "stream",
     "text": [
      "\r",
      " 94%|█████████▍| 551/584 [26:09<01:52,  3.42s/it]"
     ]
    },
    {
     "name": "stdout",
     "output_type": "stream",
     "text": [
      "../../physcosis/Package_1187332/image03/CLEAN/S7777AQF-1-3\n",
      "Converting S7777AQF-1-3  from dicom to niftii.\n"
     ]
    },
    {
     "name": "stderr",
     "output_type": "stream",
     "text": [
      "\r",
      " 95%|█████████▍| 552/584 [26:13<01:47,  3.37s/it]"
     ]
    },
    {
     "name": "stdout",
     "output_type": "stream",
     "text": [
      "../../physcosis/Package_1187332/image03/CLEAN/S0130WTD-1-3\n",
      "Converting S0130WTD-1-3  from dicom to niftii.\n"
     ]
    },
    {
     "name": "stderr",
     "output_type": "stream",
     "text": [
      "\r",
      " 95%|█████████▍| 553/584 [26:16<01:44,  3.38s/it]"
     ]
    },
    {
     "name": "stdout",
     "output_type": "stream",
     "text": [
      "../../physcosis/Package_1187332/image03/CLEAN/S7957ETQ-1-6\n",
      "Converting S7957ETQ-1-6  from dicom to niftii.\n"
     ]
    },
    {
     "name": "stderr",
     "output_type": "stream",
     "text": [
      "\r",
      " 95%|█████████▍| 554/584 [26:19<01:41,  3.39s/it]"
     ]
    },
    {
     "name": "stdout",
     "output_type": "stream",
     "text": [
      "../../physcosis/Package_1187332/image03/CLEAN/S5588UYV-1-3\n",
      "Converting S5588UYV-1-3  from dicom to niftii.\n"
     ]
    },
    {
     "name": "stderr",
     "output_type": "stream",
     "text": [
      "\r",
      " 95%|█████████▌| 555/584 [26:23<01:37,  3.37s/it]"
     ]
    },
    {
     "name": "stdout",
     "output_type": "stream",
     "text": [
      "../../physcosis/Package_1187332/image03/CLEAN/S6898CPI-1-2\n",
      "Converting S6898CPI-1-2  from dicom to niftii.\n"
     ]
    },
    {
     "name": "stderr",
     "output_type": "stream",
     "text": [
      "\r",
      " 95%|█████████▌| 556/584 [26:26<01:34,  3.37s/it]"
     ]
    },
    {
     "name": "stdout",
     "output_type": "stream",
     "text": [
      "../../physcosis/Package_1187332/image03/CLEAN/S9300MWM-1-3\n",
      "Converting S9300MWM-1-3  from dicom to niftii.\n"
     ]
    },
    {
     "name": "stderr",
     "output_type": "stream",
     "text": [
      "\r",
      " 95%|█████████▌| 557/584 [26:30<01:30,  3.37s/it]"
     ]
    },
    {
     "name": "stdout",
     "output_type": "stream",
     "text": [
      "../../physcosis/Package_1187332/image03/CLEAN/S7510LXD-1-2\n",
      "Converting S7510LXD-1-2  from dicom to niftii.\n"
     ]
    },
    {
     "name": "stderr",
     "output_type": "stream",
     "text": [
      "\r",
      " 96%|█████████▌| 558/584 [26:33<01:27,  3.36s/it]"
     ]
    },
    {
     "name": "stdout",
     "output_type": "stream",
     "text": [
      "../../physcosis/Package_1187332/image03/CLEAN/S7510LXD-1-4\n",
      "Converting S7510LXD-1-4  from dicom to niftii.\n"
     ]
    },
    {
     "name": "stderr",
     "output_type": "stream",
     "text": [
      "\r",
      " 96%|█████████▌| 559/584 [26:36<01:24,  3.40s/it]"
     ]
    },
    {
     "name": "stdout",
     "output_type": "stream",
     "text": [
      "../../physcosis/Package_1187332/image03/CLEAN/S0918COD-1-3\n",
      "Converting S0918COD-1-3  from dicom to niftii.\n"
     ]
    },
    {
     "name": "stderr",
     "output_type": "stream",
     "text": [
      "\r",
      " 96%|█████████▌| 560/584 [26:40<01:20,  3.37s/it]"
     ]
    },
    {
     "name": "stdout",
     "output_type": "stream",
     "text": [
      "../../physcosis/Package_1187332/image03/CLEAN/S1279QLI-1-2\n",
      "Converting S1279QLI-1-2  from dicom to niftii.\n"
     ]
    },
    {
     "name": "stderr",
     "output_type": "stream",
     "text": [
      "\r",
      " 96%|█████████▌| 561/584 [26:43<01:17,  3.38s/it]"
     ]
    },
    {
     "name": "stdout",
     "output_type": "stream",
     "text": [
      "../../physcosis/Package_1187332/image03/CLEAN/S2461GCP-1-3\n",
      "Converting S2461GCP-1-3  from dicom to niftii.\n"
     ]
    },
    {
     "name": "stderr",
     "output_type": "stream",
     "text": [
      "\r",
      " 96%|█████████▌| 562/584 [26:46<01:14,  3.37s/it]"
     ]
    },
    {
     "name": "stdout",
     "output_type": "stream",
     "text": [
      "../../physcosis/Package_1187332/image03/CLEAN/S4762AVJ-1-3\n",
      "Converting S4762AVJ-1-3  from dicom to niftii.\n"
     ]
    },
    {
     "name": "stderr",
     "output_type": "stream",
     "text": [
      "\r",
      " 96%|█████████▋| 563/584 [26:50<01:12,  3.44s/it]"
     ]
    },
    {
     "name": "stdout",
     "output_type": "stream",
     "text": [
      "../../physcosis/Package_1187332/image03/CLEAN/S3520XHL-1-3\n",
      "Converting S3520XHL-1-3  from dicom to niftii.\n"
     ]
    },
    {
     "name": "stderr",
     "output_type": "stream",
     "text": [
      "\r",
      " 97%|█████████▋| 564/584 [26:53<01:08,  3.44s/it]"
     ]
    },
    {
     "name": "stdout",
     "output_type": "stream",
     "text": [
      "../../physcosis/Package_1187332/image03/CLEAN/S8477NVY-1-3\n",
      "Converting S8477NVY-1-3  from dicom to niftii.\n"
     ]
    },
    {
     "name": "stderr",
     "output_type": "stream",
     "text": [
      "\r",
      " 97%|█████████▋| 565/584 [26:57<01:04,  3.41s/it]"
     ]
    },
    {
     "name": "stdout",
     "output_type": "stream",
     "text": [
      "../../physcosis/Package_1187332/image03/CLEAN/S0161SDH-1-3\n",
      "Converting S0161SDH-1-3  from dicom to niftii.\n"
     ]
    },
    {
     "name": "stderr",
     "output_type": "stream",
     "text": [
      "\r",
      " 97%|█████████▋| 566/584 [27:00<01:01,  3.40s/it]"
     ]
    },
    {
     "name": "stdout",
     "output_type": "stream",
     "text": [
      "../../physcosis/Package_1187332/image03/CLEAN/S8429UBR-1-2\n",
      "Converting S8429UBR-1-2  from dicom to niftii.\n"
     ]
    },
    {
     "name": "stderr",
     "output_type": "stream",
     "text": [
      "\r",
      " 97%|█████████▋| 567/584 [27:04<00:57,  3.39s/it]"
     ]
    },
    {
     "name": "stdout",
     "output_type": "stream",
     "text": [
      "../../physcosis/Package_1187332/image03/CLEAN/S1354OKV-1-2\n",
      "Converting S1354OKV-1-2  from dicom to niftii.\n"
     ]
    },
    {
     "name": "stderr",
     "output_type": "stream",
     "text": [
      "\r",
      " 97%|█████████▋| 568/584 [27:07<00:54,  3.41s/it]"
     ]
    },
    {
     "name": "stdout",
     "output_type": "stream",
     "text": [
      "../../physcosis/Package_1187332/image03/CLEAN/S3174RYN-1-3\n",
      "Converting S3174RYN-1-3  from dicom to niftii.\n"
     ]
    },
    {
     "name": "stderr",
     "output_type": "stream",
     "text": [
      "\r",
      " 97%|█████████▋| 569/584 [27:11<00:53,  3.56s/it]"
     ]
    },
    {
     "name": "stdout",
     "output_type": "stream",
     "text": [
      "../../physcosis/Package_1187332/image03/CLEAN/S0477VUR-3-4\n",
      "Converting S0477VUR-3-4  from dicom to niftii.\n"
     ]
    },
    {
     "name": "stderr",
     "output_type": "stream",
     "text": [
      "\r",
      " 98%|█████████▊| 570/584 [27:14<00:50,  3.57s/it]"
     ]
    },
    {
     "name": "stdout",
     "output_type": "stream",
     "text": [
      "../../physcosis/Package_1187332/image03/CLEAN/S1579FNY-1-2\n",
      "Converting S1579FNY-1-2  from dicom to niftii.\n"
     ]
    },
    {
     "name": "stderr",
     "output_type": "stream",
     "text": [
      "\r",
      " 98%|█████████▊| 571/584 [27:18<00:46,  3.57s/it]"
     ]
    },
    {
     "name": "stdout",
     "output_type": "stream",
     "text": [
      "../../physcosis/Package_1187332/image03/CLEAN/S3528MNO-1-4\n",
      "Converting S3528MNO-1-4  from dicom to niftii.\n"
     ]
    },
    {
     "name": "stderr",
     "output_type": "stream",
     "text": [
      "\r",
      " 98%|█████████▊| 572/584 [27:21<00:42,  3.53s/it]"
     ]
    },
    {
     "name": "stdout",
     "output_type": "stream",
     "text": [
      "../../physcosis/Package_1187332/image03/CLEAN/S9397GNF-1-3\n",
      "Converting S9397GNF-1-3  from dicom to niftii.\n"
     ]
    },
    {
     "name": "stderr",
     "output_type": "stream",
     "text": [
      "\r",
      " 98%|█████████▊| 573/584 [27:25<00:39,  3.57s/it]"
     ]
    },
    {
     "name": "stdout",
     "output_type": "stream",
     "text": [
      "../../physcosis/Package_1187332/image03/CLEAN/S9397GNF-1-5\n",
      "Converting S9397GNF-1-5  from dicom to niftii.\n"
     ]
    },
    {
     "name": "stderr",
     "output_type": "stream",
     "text": [
      "\r",
      " 98%|█████████▊| 574/584 [27:29<00:36,  3.66s/it]"
     ]
    },
    {
     "name": "stdout",
     "output_type": "stream",
     "text": [
      "../../physcosis/Package_1187332/image03/CLEAN/S8538DCN-1-3\n",
      "Converting S8538DCN-1-3  from dicom to niftii.\n"
     ]
    },
    {
     "name": "stderr",
     "output_type": "stream",
     "text": [
      "\r",
      " 98%|█████████▊| 575/584 [27:33<00:33,  3.71s/it]"
     ]
    },
    {
     "name": "stdout",
     "output_type": "stream",
     "text": [
      "../../physcosis/Package_1187332/image03/CLEAN/S6050UKY-1-2\n",
      "Converting S6050UKY-1-2  from dicom to niftii.\n"
     ]
    },
    {
     "name": "stderr",
     "output_type": "stream",
     "text": [
      "\r",
      " 99%|█████████▊| 576/584 [27:37<00:29,  3.73s/it]"
     ]
    },
    {
     "name": "stdout",
     "output_type": "stream",
     "text": [
      "../../physcosis/Package_1187332/image03/CLEAN/S8333ADY-1-3\n",
      "Converting S8333ADY-1-3  from dicom to niftii.\n"
     ]
    },
    {
     "name": "stderr",
     "output_type": "stream",
     "text": [
      "\r",
      " 99%|█████████▉| 577/584 [27:41<00:26,  3.84s/it]"
     ]
    },
    {
     "name": "stdout",
     "output_type": "stream",
     "text": [
      "../../physcosis/Package_1187332/image03/CLEAN/S3021HYS-1-3\n",
      "Converting S3021HYS-1-3  from dicom to niftii.\n"
     ]
    },
    {
     "name": "stderr",
     "output_type": "stream",
     "text": [
      "\r",
      " 99%|█████████▉| 578/584 [27:45<00:23,  3.87s/it]"
     ]
    },
    {
     "name": "stdout",
     "output_type": "stream",
     "text": [
      "../../physcosis/Package_1187332/image03/CLEAN/S0540CIH-1-6\n",
      "Converting S0540CIH-1-6  from dicom to niftii.\n"
     ]
    },
    {
     "name": "stderr",
     "output_type": "stream",
     "text": [
      "\r",
      " 99%|█████████▉| 579/584 [27:49<00:19,  3.94s/it]"
     ]
    },
    {
     "name": "stdout",
     "output_type": "stream",
     "text": [
      "../../physcosis/Package_1187332/image03/CLEAN/S9210XGE-1-5\n",
      "Converting S9210XGE-1-5  from dicom to niftii.\n"
     ]
    },
    {
     "name": "stderr",
     "output_type": "stream",
     "text": [
      "\r",
      " 99%|█████████▉| 580/584 [27:53<00:15,  3.96s/it]"
     ]
    },
    {
     "name": "stdout",
     "output_type": "stream",
     "text": [
      "../../physcosis/Package_1187332/image03/CLEAN/S5799TBU-1-4\n",
      "Converting S5799TBU-1-4  from dicom to niftii.\n"
     ]
    },
    {
     "name": "stderr",
     "output_type": "stream",
     "text": [
      "\r",
      " 99%|█████████▉| 581/584 [27:56<00:11,  3.79s/it]"
     ]
    },
    {
     "name": "stdout",
     "output_type": "stream",
     "text": [
      "../../physcosis/Package_1187332/image03/CLEAN/S3500OTV-1-3\n",
      "Converting S3500OTV-1-3  from dicom to niftii.\n"
     ]
    },
    {
     "name": "stderr",
     "output_type": "stream",
     "text": [
      "\r",
      "100%|█████████▉| 582/584 [28:00<00:07,  3.66s/it]"
     ]
    },
    {
     "name": "stdout",
     "output_type": "stream",
     "text": [
      "../../physcosis/Package_1187332/image03/CLEAN/S0526FQI-1-3\n",
      "Converting S0526FQI-1-3  from dicom to niftii.\n"
     ]
    },
    {
     "name": "stderr",
     "output_type": "stream",
     "text": [
      "\r",
      "100%|█████████▉| 583/584 [28:03<00:03,  3.57s/it]"
     ]
    },
    {
     "name": "stdout",
     "output_type": "stream",
     "text": [
      "../../physcosis/Package_1187332/image03/CLEAN/S1698NIH-1-3\n",
      "Converting S1698NIH-1-3  from dicom to niftii.\n"
     ]
    },
    {
     "name": "stderr",
     "output_type": "stream",
     "text": [
      "100%|██████████| 584/584 [28:06<00:00,  2.89s/it]\n"
     ]
    }
   ],
   "source": [
    "for file in tqdm(os.listdir(clean_dir)):\n",
    "    if os.path.isdir(os.path.join(clean_dir, file)):\n",
    "        if not os.path.exists(os.path.join(clean_dir, file, '{}.nii'.format(file))):\n",
    "            print('Converting', file, ' from dicom to niftii.')\n",
    "            try:\n",
    "                dicom2nifti.dicom_series_to_nifti(os.path.join(clean_dir,file), os.path.join(clean_dir, file,'{}.nii'.format(file)), reorient_nifti=True)\n",
    "            except: \n",
    "                print(file, ' Failed.')"
   ]
  },
  {
   "cell_type": "code",
   "execution_count": null,
   "id": "alleged-booking",
   "metadata": {},
   "outputs": [
    {
     "name": "stderr",
     "output_type": "stream",
     "text": [
      "\r",
      "  0%|          | 0/584 [00:00<?, ?it/s]"
     ]
    },
    {
     "name": "stdout",
     "output_type": "stream",
     "text": [
      "Defacing ../../physcosis/Package_1187332/image03/CLEAN/S7432UOB-1-2/S7432UOB-1-2.nii\n"
     ]
    },
    {
     "name": "stderr",
     "output_type": "stream",
     "text": [
      " 23%|██▎       | 133/584 [02:47<09:27,  1.26s/it]"
     ]
    },
    {
     "name": "stdout",
     "output_type": "stream",
     "text": [
      "Defacing ../../physcosis/Package_1187332/image03/CLEAN/S8240FWM-1-2/S8240FWM-1-2.nii\n",
      "Defacing ../../physcosis/Package_1187332/image03/CLEAN/S5568DSN-1-2/S5568DSN-1-2.nii\n"
     ]
    },
    {
     "name": "stderr",
     "output_type": "stream",
     "text": [
      " 23%|██▎       | 135/584 [02:47<09:06,  1.22s/it]"
     ]
    },
    {
     "name": "stdout",
     "output_type": "stream",
     "text": [
      "Defacing ../../physcosis/Package_1187332/image03/CLEAN/S9551QLO-1-2/S9551QLO-1-2.nii\n",
      "Defacing ../../physcosis/Package_1187332/image03/CLEAN/S5520KMB-1-2/S5520KMB-1-2.nii\n"
     ]
    },
    {
     "name": "stderr",
     "output_type": "stream",
     "text": [
      " 23%|██▎       | 137/584 [02:48<08:31,  1.15s/it]"
     ]
    },
    {
     "name": "stdout",
     "output_type": "stream",
     "text": [
      "Defacing ../../physcosis/Package_1187332/image03/CLEAN/S8171COF-1-2/S8171COF-1-2.nii\n",
      "Defacing ../../physcosis/Package_1187332/image03/CLEAN/S3535MBI-1-2/S3535MBI-1-2.nii\n"
     ]
    },
    {
     "name": "stderr",
     "output_type": "stream",
     "text": [
      "\r",
      " 24%|██▎       | 138/584 [06:38<1:40:48, 13.56s/it]"
     ]
    },
    {
     "name": "stdout",
     "output_type": "stream",
     "text": [
      "Defacing ../../physcosis/Package_1187332/image03/CLEAN/S8057AKX-1-2/S8057AKX-1-2.nii\n"
     ]
    },
    {
     "name": "stderr",
     "output_type": "stream",
     "text": [
      "\r",
      " 24%|██▍       | 139/584 [06:47<1:38:08, 13.23s/it]"
     ]
    },
    {
     "name": "stdout",
     "output_type": "stream",
     "text": [
      "Defacing ../../physcosis/Package_1187332/image03/CLEAN/S5782EGK-1-2/S5782EGK-1-2.nii\n"
     ]
    },
    {
     "name": "stderr",
     "output_type": "stream",
     "text": [
      "\r",
      " 24%|██▍       | 140/584 [10:41<4:09:37, 33.73s/it]"
     ]
    },
    {
     "name": "stdout",
     "output_type": "stream",
     "text": [
      "Defacing ../../physcosis/Package_1187332/image03/CLEAN/S9222EPL-1-2/S9222EPL-1-2.nii\n"
     ]
    },
    {
     "name": "stderr",
     "output_type": "stream",
     "text": [
      "\r",
      " 24%|██▍       | 141/584 [14:36<7:03:38, 57.38s/it]"
     ]
    },
    {
     "name": "stdout",
     "output_type": "stream",
     "text": [
      "Defacing ../../physcosis/Package_1187332/image03/CLEAN/S3377DHV-1-2/S3377DHV-1-2.nii\n"
     ]
    },
    {
     "name": "stderr",
     "output_type": "stream",
     "text": [
      "\r",
      " 24%|██▍       | 142/584 [18:20<9:58:24, 81.23s/it]"
     ]
    },
    {
     "name": "stdout",
     "output_type": "stream",
     "text": [
      "Defacing ../../physcosis/Package_1187332/image03/CLEAN/S1129GIJ-1-2/S1129GIJ-1-2.nii\n"
     ]
    },
    {
     "name": "stderr",
     "output_type": "stream",
     "text": [
      "\r",
      " 24%|██▍       | 143/584 [22:43<13:45:00, 112.25s/it]"
     ]
    },
    {
     "name": "stdout",
     "output_type": "stream",
     "text": [
      "Defacing ../../physcosis/Package_1187332/image03/CLEAN/S0226MWG-1-2/S0226MWG-1-2.nii\n"
     ]
    },
    {
     "name": "stderr",
     "output_type": "stream",
     "text": [
      "\r",
      " 25%|██▍       | 144/584 [26:44<16:46:55, 137.31s/it]"
     ]
    },
    {
     "name": "stdout",
     "output_type": "stream",
     "text": [
      "Defacing ../../physcosis/Package_1187332/image03/CLEAN/S3991IKN-1-2/S3991IKN-1-2.nii\n"
     ]
    },
    {
     "name": "stderr",
     "output_type": "stream",
     "text": [
      "\r",
      " 25%|██▍       | 145/584 [30:54<19:45:20, 162.01s/it]"
     ]
    },
    {
     "name": "stdout",
     "output_type": "stream",
     "text": [
      "Defacing ../../physcosis/Package_1187332/image03/CLEAN/S9774ITU-1-2/S9774ITU-1-2.nii\n"
     ]
    },
    {
     "name": "stderr",
     "output_type": "stream",
     "text": [
      "\r",
      " 25%|██▌       | 146/584 [35:48<23:32:19, 193.47s/it]"
     ]
    },
    {
     "name": "stdout",
     "output_type": "stream",
     "text": [
      "Defacing ../../physcosis/Package_1187332/image03/CLEAN/S3874TCX-1-3/S3874TCX-1-3.nii\n"
     ]
    },
    {
     "name": "stderr",
     "output_type": "stream",
     "text": [
      "\r",
      " 25%|██▌       | 147/584 [41:42<28:25:23, 234.15s/it]"
     ]
    },
    {
     "name": "stdout",
     "output_type": "stream",
     "text": [
      "Defacing ../../physcosis/Package_1187332/image03/CLEAN/S5102COG-1-2/S5102COG-1-2.nii\n"
     ]
    },
    {
     "name": "stderr",
     "output_type": "stream",
     "text": [
      "\r",
      " 25%|██▌       | 148/584 [45:57<29:01:38, 239.68s/it]"
     ]
    },
    {
     "name": "stdout",
     "output_type": "stream",
     "text": [
      "Defacing ../../physcosis/Package_1187332/image03/CLEAN/S3144GIX-1-2/S3144GIX-1-2.nii\n"
     ]
    },
    {
     "name": "stderr",
     "output_type": "stream",
     "text": [
      "\r",
      " 26%|██▌       | 149/584 [51:34<32:10:28, 266.27s/it]"
     ]
    },
    {
     "name": "stdout",
     "output_type": "stream",
     "text": [
      "Defacing ../../physcosis/Package_1187332/image03/CLEAN/S7310REM-2-2/S7310REM-2-2.nii\n"
     ]
    },
    {
     "name": "stderr",
     "output_type": "stream",
     "text": [
      "\r",
      " 26%|██▌       | 150/584 [56:02<32:09:41, 266.78s/it]"
     ]
    },
    {
     "name": "stdout",
     "output_type": "stream",
     "text": [
      "Defacing ../../physcosis/Package_1187332/image03/CLEAN/S7209DLX-1-2/S7209DLX-1-2.nii\n"
     ]
    },
    {
     "name": "stderr",
     "output_type": "stream",
     "text": [
      "\r",
      " 26%|██▌       | 151/584 [1:00:02<31:10:40, 259.22s/it]"
     ]
    },
    {
     "name": "stdout",
     "output_type": "stream",
     "text": [
      "Defacing ../../physcosis/Package_1187332/image03/CLEAN/S2887NGI-1-2/S2887NGI-1-2.nii\n"
     ]
    },
    {
     "name": "stderr",
     "output_type": "stream",
     "text": [
      "\r",
      " 26%|██▌       | 152/584 [1:04:04<30:30:44, 254.27s/it]"
     ]
    },
    {
     "name": "stdout",
     "output_type": "stream",
     "text": [
      "Defacing ../../physcosis/Package_1187332/image03/CLEAN/S0843VVF-2-2/S0843VVF-2-2.nii\n"
     ]
    },
    {
     "name": "stderr",
     "output_type": "stream",
     "text": [
      "\r",
      " 26%|██▌       | 153/584 [1:08:19<30:27:54, 254.46s/it]"
     ]
    },
    {
     "name": "stdout",
     "output_type": "stream",
     "text": [
      "Defacing ../../physcosis/Package_1187332/image03/CLEAN/S5580HPK-1-3/S5580HPK-1-3.nii\n"
     ]
    },
    {
     "name": "stderr",
     "output_type": "stream",
     "text": [
      "\r",
      " 26%|██▋       | 154/584 [1:13:30<32:22:50, 271.09s/it]"
     ]
    },
    {
     "name": "stdout",
     "output_type": "stream",
     "text": [
      "Defacing ../../physcosis/Package_1187332/image03/CLEAN/S1482BIW-1-2/S1482BIW-1-2.nii\n"
     ]
    },
    {
     "name": "stderr",
     "output_type": "stream",
     "text": [
      "\r",
      " 27%|██▋       | 155/584 [1:18:06<32:28:45, 272.55s/it]"
     ]
    },
    {
     "name": "stdout",
     "output_type": "stream",
     "text": [
      "Defacing ../../physcosis/Package_1187332/image03/CLEAN/S3662VLO-2-2/S3662VLO-2-2.nii\n"
     ]
    },
    {
     "name": "stderr",
     "output_type": "stream",
     "text": [
      "\r",
      " 27%|██▋       | 156/584 [1:22:33<32:12:34, 270.92s/it]"
     ]
    },
    {
     "name": "stdout",
     "output_type": "stream",
     "text": [
      "Defacing ../../physcosis/Package_1187332/image03/CLEAN/S4910CVB-1-2/S4910CVB-1-2.nii\n"
     ]
    },
    {
     "name": "stderr",
     "output_type": "stream",
     "text": [
      "\r",
      " 27%|██▋       | 157/584 [1:27:43<33:31:07, 282.59s/it]"
     ]
    },
    {
     "name": "stdout",
     "output_type": "stream",
     "text": [
      "Defacing ../../physcosis/Package_1187332/image03/CLEAN/S4578RVL-1-2/S4578RVL-1-2.nii\n"
     ]
    },
    {
     "name": "stderr",
     "output_type": "stream",
     "text": [
      "\r",
      " 27%|██▋       | 158/584 [1:31:33<31:34:52, 266.88s/it]"
     ]
    },
    {
     "name": "stdout",
     "output_type": "stream",
     "text": [
      "Defacing ../../physcosis/Package_1187332/image03/CLEAN/S0940OHQ-1-2/S0940OHQ-1-2.nii\n"
     ]
    },
    {
     "name": "stderr",
     "output_type": "stream",
     "text": [
      "\r",
      " 27%|██▋       | 159/584 [1:36:00<31:31:08, 266.98s/it]"
     ]
    },
    {
     "name": "stdout",
     "output_type": "stream",
     "text": [
      "Defacing ../../physcosis/Package_1187332/image03/CLEAN/S9925BWH-1-2/S9925BWH-1-2.nii\n"
     ]
    },
    {
     "name": "stderr",
     "output_type": "stream",
     "text": [
      "\r",
      " 27%|██▋       | 160/584 [1:40:00<30:29:18, 258.86s/it]"
     ]
    },
    {
     "name": "stdout",
     "output_type": "stream",
     "text": [
      "Defacing ../../physcosis/Package_1187332/image03/CLEAN/S6705VGT-1-2/S6705VGT-1-2.nii\n"
     ]
    },
    {
     "name": "stderr",
     "output_type": "stream",
     "text": [
      "\r",
      " 28%|██▊       | 161/584 [1:44:30<30:48:56, 262.26s/it]"
     ]
    },
    {
     "name": "stdout",
     "output_type": "stream",
     "text": [
      "Defacing ../../physcosis/Package_1187332/image03/CLEAN/S0207OIO-1-2/S0207OIO-1-2.nii\n"
     ]
    },
    {
     "name": "stderr",
     "output_type": "stream",
     "text": [
      "\r",
      " 28%|██▊       | 162/584 [1:48:57<30:53:53, 263.59s/it]"
     ]
    },
    {
     "name": "stdout",
     "output_type": "stream",
     "text": [
      "Defacing ../../physcosis/Package_1187332/image03/CLEAN/S4237HFS-1-2/S4237HFS-1-2.nii\n"
     ]
    },
    {
     "name": "stderr",
     "output_type": "stream",
     "text": [
      "\r",
      " 28%|██▊       | 163/584 [1:53:13<30:34:09, 261.40s/it]"
     ]
    },
    {
     "name": "stdout",
     "output_type": "stream",
     "text": [
      "Defacing ../../physcosis/Package_1187332/image03/CLEAN/S2266BVJ-1-2/S2266BVJ-1-2.nii\n"
     ]
    },
    {
     "name": "stderr",
     "output_type": "stream",
     "text": [
      "\r",
      " 28%|██▊       | 164/584 [1:57:21<30:00:16, 257.18s/it]"
     ]
    },
    {
     "name": "stdout",
     "output_type": "stream",
     "text": [
      "Defacing ../../physcosis/Package_1187332/image03/CLEAN/S9218XMN-1-2/S9218XMN-1-2.nii\n"
     ]
    },
    {
     "name": "stderr",
     "output_type": "stream",
     "text": [
      "\r",
      " 28%|██▊       | 165/584 [2:02:07<30:56:21, 265.83s/it]"
     ]
    },
    {
     "name": "stdout",
     "output_type": "stream",
     "text": [
      "Defacing ../../physcosis/Package_1187332/image03/CLEAN/S0662YPU-1-2/S0662YPU-1-2.nii\n"
     ]
    },
    {
     "name": "stderr",
     "output_type": "stream",
     "text": [
      "\r",
      " 28%|██▊       | 166/584 [2:05:58<29:38:50, 255.34s/it]"
     ]
    },
    {
     "name": "stdout",
     "output_type": "stream",
     "text": [
      "Defacing ../../physcosis/Package_1187332/image03/CLEAN/S1414HQO-1-2/S1414HQO-1-2.nii\n"
     ]
    },
    {
     "name": "stderr",
     "output_type": "stream",
     "text": [
      "\r",
      " 29%|██▊       | 167/584 [2:09:18<27:39:26, 238.77s/it]"
     ]
    },
    {
     "name": "stdout",
     "output_type": "stream",
     "text": [
      "Defacing ../../physcosis/Package_1187332/image03/CLEAN/S9403VAU-1-2/S9403VAU-1-2.nii\n"
     ]
    },
    {
     "name": "stderr",
     "output_type": "stream",
     "text": [
      "\r",
      " 29%|██▉       | 168/584 [2:13:09<27:19:08, 236.42s/it]"
     ]
    },
    {
     "name": "stdout",
     "output_type": "stream",
     "text": [
      "Defacing ../../physcosis/Package_1187332/image03/CLEAN/S5331NGW-1-2/S5331NGW-1-2.nii\n"
     ]
    },
    {
     "name": "stderr",
     "output_type": "stream",
     "text": [
      "\r",
      " 29%|██▉       | 169/584 [2:16:59<27:03:35, 234.74s/it]"
     ]
    },
    {
     "name": "stdout",
     "output_type": "stream",
     "text": [
      "Defacing ../../physcosis/Package_1187332/image03/CLEAN/S5331NGW-1-5/S5331NGW-1-5.nii\n"
     ]
    },
    {
     "name": "stderr",
     "output_type": "stream",
     "text": [
      "\r",
      " 29%|██▉       | 170/584 [2:21:24<28:00:52, 243.60s/it]"
     ]
    },
    {
     "name": "stdout",
     "output_type": "stream",
     "text": [
      "Defacing ../../physcosis/Package_1187332/image03/CLEAN/S3311XPB-1-2/S3311XPB-1-2.nii\n"
     ]
    }
   ],
   "source": [
    "for file in tqdm(os.listdir(clean_dir)):\n",
    "    if os.path.isdir(os.path.join(clean_dir, file)):\n",
    "        if os.path.exists(os.path.join(clean_dir, file, '{}.nii'.format(file))):\n",
    "            if not os.path.exists(os.path.join(clean_dir, file, file + '_defaced.nii')):                \n",
    "                nifti_file = os.path.join(clean_dir, file, '{}.nii'.format(file))\n",
    "                print('Defacing', nifti_file)\n",
    "                os.system('pydeface ' + nifti_file)"
   ]
  },
  {
   "cell_type": "code",
   "execution_count": null,
   "id": "smaller-contract",
   "metadata": {},
   "outputs": [],
   "source": []
  }
 ],
 "metadata": {
  "kernelspec": {
   "display_name": "Python 3",
   "language": "python",
   "name": "python3"
  },
  "language_info": {
   "codemirror_mode": {
    "name": "ipython",
    "version": 3
   },
   "file_extension": ".py",
   "mimetype": "text/x-python",
   "name": "python",
   "nbconvert_exporter": "python",
   "pygments_lexer": "ipython3",
   "version": "3.7.0"
  }
 },
 "nbformat": 4,
 "nbformat_minor": 5
}
