{
 "cells": [
  {
   "cell_type": "code",
   "execution_count": 54,
   "id": "incident-companion",
   "metadata": {},
   "outputs": [],
   "source": [
    "import matplotlib.pyplot as plt\n",
    "import numpy as np\n",
    "import pandas as pd\n",
    "import os\n",
    "pd.options.display.max_colwidth = 1000\n",
    "from sklearn import svm\n",
    "import re\n",
    "from shutil import copyfile"
   ]
  },
  {
   "cell_type": "code",
   "execution_count": 55,
   "id": "split-least",
   "metadata": {},
   "outputs": [
    {
     "data": {
      "text/plain": [
       "['genomics_sample03',\n",
       " 'image03',\n",
       " 'aims01.txt',\n",
       " 'bns01.txt',\n",
       " 'cgi01.txt',\n",
       " 'coinsdem01.txt',\n",
       " 'coinsmedhistory01.txt',\n",
       " 'drugscr01.txt',\n",
       " 'edinburgh_hand01.txt',\n",
       " 'exambat01.txt',\n",
       " 'fagerstrom01.txt',\n",
       " 'genomics_sample03.txt',\n",
       " 'image03.txt',\n",
       " 'madrs01.txt',\n",
       " 'matrics01.txt',\n",
       " 'medlist01.txt',\n",
       " 'ndar_subject01.txt',\n",
       " 'panss01.txt',\n",
       " 'prepost_scan01.txt',\n",
       " 'psychistory01.txt',\n",
       " 'sas01.txt',\n",
       " 'schizbip01.txt',\n",
       " 'scid_su01.txt',\n",
       " 'slof01.txt',\n",
       " 'sqol01.txt',\n",
       " 'ups01.txt',\n",
       " 'wtar01.txt',\n",
       " 'ymrs01.txt',\n",
       " 'experiments',\n",
       " '._README.pdf',\n",
       " 'omics_experiments.txt',\n",
       " 'md5_values.txt',\n",
       " 'package_info.txt',\n",
       " 'README.pdf',\n",
       " '._package_info.txt']"
      ]
     },
     "execution_count": 55,
     "metadata": {},
     "output_type": "execute_result"
    }
   ],
   "source": [
    "# define text files and path\n",
    "# https://nda.nih.gov/edit_collection.html?id=2102\n",
    "\n",
    "test_file = 'panss01.txt'\n",
    "subject_file = 'ndar_subject01.txt'\n",
    "image_file = 'image03.txt'\n",
    "path = '../../physcosis/Package_1186910/'\n",
    "os.listdir(path)"
   ]
  },
  {
   "cell_type": "code",
   "execution_count": 56,
   "id": "bound-alpha",
   "metadata": {},
   "outputs": [],
   "source": [
    "# opensfiles using pandas\n",
    "ndar_subject = pd.read_csv(os.path.join(path, subject_file), delimiter = '\\t')\n",
    "test = pd.read_csv(os.path.join(path, test_file), delimiter = '\\t')\n",
    "image03 = pd.read_csv(os.path.join(path, image_file), delimiter = '\\t')\n"
   ]
  },
  {
   "cell_type": "code",
   "execution_count": 57,
   "id": "failing-fraction",
   "metadata": {},
   "outputs": [
    {
     "data": {
      "text/plain": [
       "array(['Image description, i.e. DTI, fMRI, Fast SPGR, phantom, EEG, dynamic PET',\n",
       "       'fMRI', 'bias', 'distortion', 'DTI', 'localizer', 'MRI',\n",
       "       'AX_VA_32ch_mb8_AP_v01_r03', 'AX_VA_32ch_mb8_AP_v01_r03_SBRef',\n",
       "       'AX_VA_32ch_mb8_AP_v01_r04_SBRef', 'AX_VA_32ch_mb8_AP_v01_r04',\n",
       "       'mprage_5e_32ch', 'bias_bc', 'bias_32ch',\n",
       "       'rest_32ch_mb8_AP_v01_r01_SBRef', 'rest_32ch_mb8_AP_v01_r01',\n",
       "       'MMAT_32ch_mb8_AP_v01_r02_SBRef', 'distortion_corr_32ch_pa',\n",
       "       'MMAT_32ch_mb8_AP_v01_r01', 'MMAT_32ch_mb8_AP_v01_r01_SBRef',\n",
       "       'MMAT_32ch_mb8_AP_v01_r02', 'MMAT_32ch_mb8_AP_v01_r03',\n",
       "       'MMAT_32ch_mb8_AP_v01_r03_SBRef', 'AX_VA_32ch_mb8_AP_v01_r01',\n",
       "       'AX_VA_32ch_mb8_AP_v01_r01_SBRef', 'AX_VA_32ch_mb8_AP_v01_r02',\n",
       "       'AX_VA_32ch_mb8_AP_v01_r02_SBRef', 'localizer_32ch',\n",
       "       'distortion_corr_32ch_ap', 'mprage_5e_32ch_RMS',\n",
       "       'dti_32ch_mb3_ap_2400_44dir', 'dti_32ch_mb3_pa_2400_47dir'],\n",
       "      dtype=object)"
      ]
     },
     "execution_count": 57,
     "metadata": {},
     "output_type": "execute_result"
    }
   ],
   "source": [
    "image03['image_description'].unique()"
   ]
  },
  {
   "cell_type": "code",
   "execution_count": 58,
   "id": "civilian-flight",
   "metadata": {},
   "outputs": [
    {
     "data": {
      "text/html": [
       "<div>\n",
       "<style scoped>\n",
       "    .dataframe tbody tr th:only-of-type {\n",
       "        vertical-align: middle;\n",
       "    }\n",
       "\n",
       "    .dataframe tbody tr th {\n",
       "        vertical-align: top;\n",
       "    }\n",
       "\n",
       "    .dataframe thead th {\n",
       "        text-align: right;\n",
       "    }\n",
       "</style>\n",
       "<table border=\"1\" class=\"dataframe\">\n",
       "  <thead>\n",
       "    <tr style=\"text-align: right;\">\n",
       "      <th></th>\n",
       "      <th>collection_id</th>\n",
       "      <th>image03_id</th>\n",
       "      <th>dataset_id</th>\n",
       "      <th>subjectkey</th>\n",
       "      <th>src_subject_id</th>\n",
       "      <th>interview_age</th>\n",
       "      <th>sex</th>\n",
       "      <th>image_file</th>\n",
       "      <th>image_description</th>\n",
       "      <th>experiment_id</th>\n",
       "      <th>...</th>\n",
       "      <th>mri_repetition_time_pd</th>\n",
       "      <th>mri_echo_time_pd</th>\n",
       "      <th>flip_angle</th>\n",
       "      <th>acquisition_matrix</th>\n",
       "      <th>mri_field_of_view_pd</th>\n",
       "      <th>patient_position</th>\n",
       "      <th>photomet_interpret</th>\n",
       "      <th>transformation_performed</th>\n",
       "      <th>bvek_bval_files</th>\n",
       "      <th>collection_title</th>\n",
       "    </tr>\n",
       "  </thead>\n",
       "  <tbody>\n",
       "    <tr>\n",
       "      <th>892</th>\n",
       "      <td>2102</td>\n",
       "      <td>485043</td>\n",
       "      <td>11910</td>\n",
       "      <td>NDARYK026PBD</td>\n",
       "      <td>M87178658</td>\n",
       "      <td>596</td>\n",
       "      <td>M</td>\n",
       "      <td>s3://NDAR_Central_3/submission_12610/ni/rdocZips/rdoc_2623890.zip</td>\n",
       "      <td>mprage_5e_32ch</td>\n",
       "      <td>NaN</td>\n",
       "      <td>...</td>\n",
       "      <td>2530</td>\n",
       "      <td>1.64</td>\n",
       "      <td>7</td>\n",
       "      <td>0;256;256;0</td>\n",
       "      <td>100</td>\n",
       "      <td>HFS</td>\n",
       "      <td>MONOCHROME2</td>\n",
       "      <td>No</td>\n",
       "      <td>NaN</td>\n",
       "      <td>A Multidimensional Investigation of Cognitive Control Deficits in Psychopathology</td>\n",
       "    </tr>\n",
       "    <tr>\n",
       "      <th>899</th>\n",
       "      <td>2102</td>\n",
       "      <td>485050</td>\n",
       "      <td>11910</td>\n",
       "      <td>NDARYK026PBD</td>\n",
       "      <td>M87178658</td>\n",
       "      <td>597</td>\n",
       "      <td>M</td>\n",
       "      <td>s3://NDAR_Central_3/submission_12610/ni/rdocZips/rdoc_2630795.zip</td>\n",
       "      <td>mprage_5e_32ch</td>\n",
       "      <td>NaN</td>\n",
       "      <td>...</td>\n",
       "      <td>2530</td>\n",
       "      <td>1.64</td>\n",
       "      <td>7</td>\n",
       "      <td>0;256;256;0</td>\n",
       "      <td>100</td>\n",
       "      <td>HFS</td>\n",
       "      <td>MONOCHROME2</td>\n",
       "      <td>No</td>\n",
       "      <td>NaN</td>\n",
       "      <td>A Multidimensional Investigation of Cognitive Control Deficits in Psychopathology</td>\n",
       "    </tr>\n",
       "    <tr>\n",
       "      <th>980</th>\n",
       "      <td>2102</td>\n",
       "      <td>485439</td>\n",
       "      <td>11910</td>\n",
       "      <td>NDARAL998ZJT</td>\n",
       "      <td>M87171552</td>\n",
       "      <td>349</td>\n",
       "      <td>F</td>\n",
       "      <td>s3://NDAR_Central_3/submission_12610/ni/rdocZips/rdoc_2826054.zip</td>\n",
       "      <td>mprage_5e_32ch</td>\n",
       "      <td>NaN</td>\n",
       "      <td>...</td>\n",
       "      <td>2530</td>\n",
       "      <td>1.64</td>\n",
       "      <td>7</td>\n",
       "      <td>0;256;256;0</td>\n",
       "      <td>100</td>\n",
       "      <td>HFS</td>\n",
       "      <td>MONOCHROME2</td>\n",
       "      <td>No</td>\n",
       "      <td>NaN</td>\n",
       "      <td>A Multidimensional Investigation of Cognitive Control Deficits in Psychopathology</td>\n",
       "    </tr>\n",
       "    <tr>\n",
       "      <th>1036</th>\n",
       "      <td>2102</td>\n",
       "      <td>485467</td>\n",
       "      <td>11910</td>\n",
       "      <td>NDARAL998ZJT</td>\n",
       "      <td>M87171552</td>\n",
       "      <td>349</td>\n",
       "      <td>F</td>\n",
       "      <td>s3://NDAR_Central_3/submission_12610/ni/rdocZips/rdoc_2828071.zip</td>\n",
       "      <td>mprage_5e_32ch</td>\n",
       "      <td>NaN</td>\n",
       "      <td>...</td>\n",
       "      <td>2530</td>\n",
       "      <td>1.64</td>\n",
       "      <td>7</td>\n",
       "      <td>0;256;256;0</td>\n",
       "      <td>100</td>\n",
       "      <td>HFS</td>\n",
       "      <td>MONOCHROME2</td>\n",
       "      <td>No</td>\n",
       "      <td>NaN</td>\n",
       "      <td>A Multidimensional Investigation of Cognitive Control Deficits in Psychopathology</td>\n",
       "    </tr>\n",
       "    <tr>\n",
       "      <th>1049</th>\n",
       "      <td>2102</td>\n",
       "      <td>485120</td>\n",
       "      <td>11910</td>\n",
       "      <td>NDARLB408TLX</td>\n",
       "      <td>M87142535</td>\n",
       "      <td>402</td>\n",
       "      <td>M</td>\n",
       "      <td>s3://NDAR_Central_3/submission_12610/ni/rdocZips/rdoc_2734527.zip</td>\n",
       "      <td>mprage_5e_32ch</td>\n",
       "      <td>NaN</td>\n",
       "      <td>...</td>\n",
       "      <td>2530</td>\n",
       "      <td>1.64</td>\n",
       "      <td>7</td>\n",
       "      <td>0;256;256;0</td>\n",
       "      <td>100</td>\n",
       "      <td>HFS</td>\n",
       "      <td>MONOCHROME2</td>\n",
       "      <td>No</td>\n",
       "      <td>NaN</td>\n",
       "      <td>A Multidimensional Investigation of Cognitive Control Deficits in Psychopathology</td>\n",
       "    </tr>\n",
       "    <tr>\n",
       "      <th>1050</th>\n",
       "      <td>2102</td>\n",
       "      <td>485121</td>\n",
       "      <td>11910</td>\n",
       "      <td>NDARLB408TLX</td>\n",
       "      <td>M87142535</td>\n",
       "      <td>402</td>\n",
       "      <td>M</td>\n",
       "      <td>s3://NDAR_Central_3/submission_12610/ni/rdocZips/rdoc_2734690.zip</td>\n",
       "      <td>mprage_5e_32ch</td>\n",
       "      <td>NaN</td>\n",
       "      <td>...</td>\n",
       "      <td>2530</td>\n",
       "      <td>1.64</td>\n",
       "      <td>7</td>\n",
       "      <td>0;256;256;0</td>\n",
       "      <td>100</td>\n",
       "      <td>HFS</td>\n",
       "      <td>MONOCHROME2</td>\n",
       "      <td>No</td>\n",
       "      <td>NaN</td>\n",
       "      <td>A Multidimensional Investigation of Cognitive Control Deficits in Psychopathology</td>\n",
       "    </tr>\n",
       "  </tbody>\n",
       "</table>\n",
       "<p>6 rows × 30 columns</p>\n",
       "</div>"
      ],
      "text/plain": [
       "     collection_id image03_id dataset_id    subjectkey src_subject_id  \\\n",
       "892           2102     485043      11910  NDARYK026PBD      M87178658   \n",
       "899           2102     485050      11910  NDARYK026PBD      M87178658   \n",
       "980           2102     485439      11910  NDARAL998ZJT      M87171552   \n",
       "1036          2102     485467      11910  NDARAL998ZJT      M87171552   \n",
       "1049          2102     485120      11910  NDARLB408TLX      M87142535   \n",
       "1050          2102     485121      11910  NDARLB408TLX      M87142535   \n",
       "\n",
       "     interview_age sex  \\\n",
       "892            596   M   \n",
       "899            597   M   \n",
       "980            349   F   \n",
       "1036           349   F   \n",
       "1049           402   M   \n",
       "1050           402   M   \n",
       "\n",
       "                                                             image_file  \\\n",
       "892   s3://NDAR_Central_3/submission_12610/ni/rdocZips/rdoc_2623890.zip   \n",
       "899   s3://NDAR_Central_3/submission_12610/ni/rdocZips/rdoc_2630795.zip   \n",
       "980   s3://NDAR_Central_3/submission_12610/ni/rdocZips/rdoc_2826054.zip   \n",
       "1036  s3://NDAR_Central_3/submission_12610/ni/rdocZips/rdoc_2828071.zip   \n",
       "1049  s3://NDAR_Central_3/submission_12610/ni/rdocZips/rdoc_2734527.zip   \n",
       "1050  s3://NDAR_Central_3/submission_12610/ni/rdocZips/rdoc_2734690.zip   \n",
       "\n",
       "     image_description experiment_id  ... mri_repetition_time_pd  \\\n",
       "892     mprage_5e_32ch           NaN  ...                   2530   \n",
       "899     mprage_5e_32ch           NaN  ...                   2530   \n",
       "980     mprage_5e_32ch           NaN  ...                   2530   \n",
       "1036    mprage_5e_32ch           NaN  ...                   2530   \n",
       "1049    mprage_5e_32ch           NaN  ...                   2530   \n",
       "1050    mprage_5e_32ch           NaN  ...                   2530   \n",
       "\n",
       "     mri_echo_time_pd flip_angle acquisition_matrix mri_field_of_view_pd  \\\n",
       "892              1.64          7        0;256;256;0                  100   \n",
       "899              1.64          7        0;256;256;0                  100   \n",
       "980              1.64          7        0;256;256;0                  100   \n",
       "1036             1.64          7        0;256;256;0                  100   \n",
       "1049             1.64          7        0;256;256;0                  100   \n",
       "1050             1.64          7        0;256;256;0                  100   \n",
       "\n",
       "     patient_position photomet_interpret transformation_performed  \\\n",
       "892               HFS        MONOCHROME2                       No   \n",
       "899               HFS        MONOCHROME2                       No   \n",
       "980               HFS        MONOCHROME2                       No   \n",
       "1036              HFS        MONOCHROME2                       No   \n",
       "1049              HFS        MONOCHROME2                       No   \n",
       "1050              HFS        MONOCHROME2                       No   \n",
       "\n",
       "     bvek_bval_files  \\\n",
       "892              NaN   \n",
       "899              NaN   \n",
       "980              NaN   \n",
       "1036             NaN   \n",
       "1049             NaN   \n",
       "1050             NaN   \n",
       "\n",
       "                                                                       collection_title  \n",
       "892   A Multidimensional Investigation of Cognitive Control Deficits in Psychopathology  \n",
       "899   A Multidimensional Investigation of Cognitive Control Deficits in Psychopathology  \n",
       "980   A Multidimensional Investigation of Cognitive Control Deficits in Psychopathology  \n",
       "1036  A Multidimensional Investigation of Cognitive Control Deficits in Psychopathology  \n",
       "1049  A Multidimensional Investigation of Cognitive Control Deficits in Psychopathology  \n",
       "1050  A Multidimensional Investigation of Cognitive Control Deficits in Psychopathology  \n",
       "\n",
       "[6 rows x 30 columns]"
      ]
     },
     "execution_count": 58,
     "metadata": {},
     "output_type": "execute_result"
    }
   ],
   "source": [
    "# want to make master table with image path info, answers to questions, and subject information\n",
    "# which image type do we want \n",
    "image_type = 'mprage_5e_32ch'\n",
    "# filter by only specified image type\n",
    "image03 = image03[image03['image_description'] == image_type]\n",
    "# shows duplicated\n",
    "image03[image03.src_subject_id.isin(image03[image03['src_subject_id'].duplicated()].src_subject_id)]"
   ]
  },
  {
   "cell_type": "code",
   "execution_count": 59,
   "id": "interracial-barcelona",
   "metadata": {},
   "outputs": [
    {
     "name": "stdout",
     "output_type": "stream",
     "text": [
      "Index(['collection_id', 'image03_id', 'dataset_id', 'subjectkey',\n",
      "       'src_subject_id', 'interview_age', 'sex', 'image_file',\n",
      "       'image_description', 'experiment_id', 'scan_type', 'scan_object',\n",
      "       'image_file_format', 'data_file2', 'data_file2_type', 'image_modality',\n",
      "       'scanner_manufacturer_pd', 'scanner_type_pd',\n",
      "       'scanner_software_versions_pd', 'magnetic_field_strength',\n",
      "       'mri_repetition_time_pd', 'mri_echo_time_pd', 'flip_angle',\n",
      "       'acquisition_matrix', 'mri_field_of_view_pd', 'patient_position',\n",
      "       'photomet_interpret', 'transformation_performed', 'bvek_bval_files',\n",
      "       'collection_title'],\n",
      "      dtype='object')\n",
      "     collection_id image03_id dataset_id    subjectkey src_subject_id  \\\n",
      "30            2102     987596      13031  NDARDR327TC4      M87113239   \n",
      "36            2102     987602      13031  NDARCC993XFP      M87152492   \n",
      "57            2102     987623      13031  NDARNX105MV1      M87103270   \n",
      "82            2102     987648      13031  NDARPZ581MUU      M87120646   \n",
      "105           2102     987671      13031  NDARKA784DW5      M87121807   \n",
      "...            ...        ...        ...           ...            ...   \n",
      "5008          2102    1200291      16002  NDARMM654WB5      M87161386   \n",
      "5028          2102    1200311      16002  NDARUE438VBR      M87112268   \n",
      "5055          2102    1200338      16002  NDARMC304YNF      M87102893   \n",
      "5081          2102    1200364      16002  NDARGN818TV1      M87149164   \n",
      "5103          2102    1200386      16002  NDARWA396GRQ      M87127705   \n",
      "\n",
      "     interview_age  \\\n",
      "30             405   \n",
      "36             495   \n",
      "57             312   \n",
      "82             275   \n",
      "105            239   \n",
      "...            ...   \n",
      "5008           252   \n",
      "5028           267   \n",
      "5055           651   \n",
      "5081           221   \n",
      "5103           492   \n",
      "\n",
      "                                                                image_file  \n",
      "30       s3://NDAR_Central_2/submission_13553/ni/rdocZips/rdoc_2985916.zip  \n",
      "36       s3://NDAR_Central_2/submission_13553/ni/rdocZips/rdoc_2987626.zip  \n",
      "57       s3://NDAR_Central_2/submission_13553/ni/rdocZips/rdoc_2988716.zip  \n",
      "82       s3://NDAR_Central_2/submission_13553/ni/rdocZips/rdoc_2989016.zip  \n",
      "105      s3://NDAR_Central_2/submission_13553/ni/rdocZips/rdoc_2994042.zip  \n",
      "...                                                                    ...  \n",
      "5008  s3://NDAR_Central_4/submission_15943/T:\\ni\\rdocZips/rdoc_3119865.zip  \n",
      "5028  s3://NDAR_Central_4/submission_15943/T:\\ni\\rdocZips/rdoc_3120113.zip  \n",
      "5055  s3://NDAR_Central_4/submission_15943/T:\\ni\\rdocZips/rdoc_3121790.zip  \n",
      "5081  s3://NDAR_Central_4/submission_15943/T:\\ni\\rdocZips/rdoc_3128010.zip  \n",
      "5103  s3://NDAR_Central_4/submission_15943/T:\\ni\\rdocZips/rdoc_3128478.zip  \n",
      "\n",
      "[216 rows x 7 columns]\n"
     ]
    }
   ],
   "source": [
    "# maybe dont drop duplicates?\n",
    "# image03 = image03.drop_duplicates(subset = ['src_subject_id'])\n",
    "\n",
    "# now image03 has one instance of each subject and the correct file for their image \n",
    "# only keep useful columns\n",
    "print(image03.columns)\n",
    "image03 = image03[['collection_id', 'image03_id', 'dataset_id', 'subjectkey',\n",
    "       'src_subject_id', 'interview_age', 'image_file']]\n",
    "print(image03)"
   ]
  },
  {
   "cell_type": "code",
   "execution_count": 60,
   "id": "solid-humanitarian",
   "metadata": {},
   "outputs": [
    {
     "name": "stdout",
     "output_type": "stream",
     "text": [
      "207\n",
      "Index(['collection_id', 'panss01_id', 'dataset_id', 'subjectkey',\n",
      "       'src_subject_id', 'interview_age', 'sex', 'panss_general',\n",
      "       'panss_negative', 'panss_positive', 'pos_p1', 'pos_p2', 'pos_p3',\n",
      "       'pos_p4', 'pos_p5', 'pos_p6', 'pos_p7', 'neg_n1', 'neg_n2', 'neg_n3',\n",
      "       'neg_n4', 'neg_n5', 'neg_n6', 'neg_n7', 'gps_g1', 'gps_g2', 'gps_g3',\n",
      "       'gps_g4', 'gps_g5', 'gps_g6', 'gps_g7', 'gps_g8', 'gps_g9', 'gps_g10',\n",
      "       'gps_g11', 'gps_g12', 'gps_g13', 'gps_g14', 'gps_g15', 'gps_g16',\n",
      "       'collection_title'],\n",
      "      dtype='object')\n"
     ]
    }
   ],
   "source": [
    "# count number of unique subject ids in the panss test \n",
    "print(test['src_subject_id'].nunique())\n",
    "print(test.columns)\n",
    "# I think only these are needed\n",
    "test = test[['src_subject_id', 'interview_age', 'panss_general',\n",
    "       'panss_negative', 'panss_positive', 'pos_p1', 'pos_p2', 'pos_p3',\n",
    "       'pos_p4', 'pos_p5', 'pos_p6', 'pos_p7', 'neg_n1', 'neg_n2', 'neg_n3',\n",
    "       'neg_n4', 'neg_n5', 'neg_n6', 'neg_n7', 'gps_g1', 'gps_g2', 'gps_g3',\n",
    "       'gps_g4', 'gps_g5', 'gps_g6', 'gps_g7', 'gps_g8', 'gps_g9', 'gps_g10',\n",
    "       'gps_g11', 'gps_g12', 'gps_g13', 'gps_g14', 'gps_g15', 'gps_g16']]"
   ]
  },
  {
   "cell_type": "code",
   "execution_count": 61,
   "id": "secure-nomination",
   "metadata": {},
   "outputs": [
    {
     "name": "stdout",
     "output_type": "stream",
     "text": [
      "253\n",
      "Index(['collection_id', 'ndar_subject01_id', 'dataset_id', 'subjectkey',\n",
      "       'src_subject_id', 'interview_age', 'sex', 'race', 'ethnic_group',\n",
      "       'phenotype', 'phenotype_description', 'twins_study', 'sibling_study',\n",
      "       'family_study', 'sample_taken', 'collection_title'],\n",
      "      dtype='object')\n"
     ]
    }
   ],
   "source": [
    "print(ndar_subject['src_subject_id'].nunique())\n",
    "print(ndar_subject.columns)\n",
    "# I think these are the only ones needed \n",
    "ndar_subject = ndar_subject[['src_subject_id', 'interview_age', 'sex', 'race', 'ethnic_group',\n",
    "       'phenotype', 'phenotype_description']]"
   ]
  },
  {
   "cell_type": "markdown",
   "id": "initial-sensitivity",
   "metadata": {},
   "source": [
    "Join test and image03 and ndar \n",
    "\n",
    "Plan: \n",
    "1. Join image03 and ndar_subject\n",
    "        a. Join on src_subject_id and interview age? To account for multiple scans on dif dates in image03\n",
    "        b. Adds columns sex, race, ethnic_group, phenotype to image03 from ndar_subject\n",
    "        c. If corresponding (src_subject_id, interview_age) does not exist in image03 then drop that from ndar_subject\n",
    "        b. Some sort of left join with image03 I think\n",
    "2. Join the result from the first join with test\n",
    "        a. Result should have primary key (src_subject_id, interview_age)\n",
    "        b. Join on (src_subject_id, interview_age) and drop anything that doesn't exist in either table (inner join?)\n",
    "        \n",
    "Final table should have one column of src_subject_id, interview_age, and corresponding image03 data and test answers for that visit. \n",
    "\n"
   ]
  },
  {
   "cell_type": "code",
   "execution_count": 62,
   "id": "defined-phoenix",
   "metadata": {},
   "outputs": [
    {
     "name": "stdout",
     "output_type": "stream",
     "text": [
      "103\n",
      "Index(['collection_id', 'image03_id', 'dataset_id', 'subjectkey',\n",
      "       'src_subject_id', 'interview_age', 'image_file', 'sex', 'race',\n",
      "       'ethnic_group', 'phenotype', 'phenotype_description', 'panss_general',\n",
      "       'panss_negative', 'panss_positive', 'pos_p1', 'pos_p2', 'pos_p3',\n",
      "       'pos_p4', 'pos_p5', 'pos_p6', 'pos_p7', 'neg_n1', 'neg_n2', 'neg_n3',\n",
      "       'neg_n4', 'neg_n5', 'neg_n6', 'neg_n7', 'gps_g1', 'gps_g2', 'gps_g3',\n",
      "       'gps_g4', 'gps_g5', 'gps_g6', 'gps_g7', 'gps_g8', 'gps_g9', 'gps_g10',\n",
      "       'gps_g11', 'gps_g12', 'gps_g13', 'gps_g14', 'gps_g15', 'gps_g16'],\n",
      "      dtype='object')\n"
     ]
    },
    {
     "data": {
      "text/html": [
       "<div>\n",
       "<style scoped>\n",
       "    .dataframe tbody tr th:only-of-type {\n",
       "        vertical-align: middle;\n",
       "    }\n",
       "\n",
       "    .dataframe tbody tr th {\n",
       "        vertical-align: top;\n",
       "    }\n",
       "\n",
       "    .dataframe thead th {\n",
       "        text-align: right;\n",
       "    }\n",
       "</style>\n",
       "<table border=\"1\" class=\"dataframe\">\n",
       "  <thead>\n",
       "    <tr style=\"text-align: right;\">\n",
       "      <th></th>\n",
       "      <th>collection_id</th>\n",
       "      <th>image03_id</th>\n",
       "      <th>dataset_id</th>\n",
       "      <th>subjectkey</th>\n",
       "      <th>src_subject_id</th>\n",
       "      <th>interview_age</th>\n",
       "      <th>image_file</th>\n",
       "      <th>sex</th>\n",
       "      <th>race</th>\n",
       "      <th>ethnic_group</th>\n",
       "      <th>...</th>\n",
       "      <th>gps_g7</th>\n",
       "      <th>gps_g8</th>\n",
       "      <th>gps_g9</th>\n",
       "      <th>gps_g10</th>\n",
       "      <th>gps_g11</th>\n",
       "      <th>gps_g12</th>\n",
       "      <th>gps_g13</th>\n",
       "      <th>gps_g14</th>\n",
       "      <th>gps_g15</th>\n",
       "      <th>gps_g16</th>\n",
       "    </tr>\n",
       "  </thead>\n",
       "  <tbody>\n",
       "    <tr>\n",
       "      <th>0</th>\n",
       "      <td>2102</td>\n",
       "      <td>987596</td>\n",
       "      <td>13031</td>\n",
       "      <td>NDARDR327TC4</td>\n",
       "      <td>M87113239</td>\n",
       "      <td>405</td>\n",
       "      <td>s3://NDAR_Central_2/submission_13553/ni/rdocZips/rdoc_2985916.zip</td>\n",
       "      <td>M</td>\n",
       "      <td>White</td>\n",
       "      <td>Hispanic or Latino</td>\n",
       "      <td>...</td>\n",
       "      <td>1</td>\n",
       "      <td>1</td>\n",
       "      <td>1</td>\n",
       "      <td>1</td>\n",
       "      <td>2</td>\n",
       "      <td>3</td>\n",
       "      <td>1</td>\n",
       "      <td>1</td>\n",
       "      <td>3</td>\n",
       "      <td>3</td>\n",
       "    </tr>\n",
       "    <tr>\n",
       "      <th>1</th>\n",
       "      <td>2102</td>\n",
       "      <td>987596</td>\n",
       "      <td>13031</td>\n",
       "      <td>NDARDR327TC4</td>\n",
       "      <td>M87113239</td>\n",
       "      <td>405</td>\n",
       "      <td>s3://NDAR_Central_2/submission_13553/ni/rdocZips/rdoc_2985916.zip</td>\n",
       "      <td>M</td>\n",
       "      <td>White</td>\n",
       "      <td>Hispanic or Latino</td>\n",
       "      <td>...</td>\n",
       "      <td>1</td>\n",
       "      <td>1</td>\n",
       "      <td>1</td>\n",
       "      <td>1</td>\n",
       "      <td>2</td>\n",
       "      <td>3</td>\n",
       "      <td>1</td>\n",
       "      <td>1</td>\n",
       "      <td>3</td>\n",
       "      <td>3</td>\n",
       "    </tr>\n",
       "    <tr>\n",
       "      <th>2</th>\n",
       "      <td>2102</td>\n",
       "      <td>987596</td>\n",
       "      <td>13031</td>\n",
       "      <td>NDARDR327TC4</td>\n",
       "      <td>M87113239</td>\n",
       "      <td>405</td>\n",
       "      <td>s3://NDAR_Central_2/submission_13553/ni/rdocZips/rdoc_2985916.zip</td>\n",
       "      <td>M</td>\n",
       "      <td>White</td>\n",
       "      <td>Hispanic or Latino</td>\n",
       "      <td>...</td>\n",
       "      <td>1</td>\n",
       "      <td>1</td>\n",
       "      <td>1</td>\n",
       "      <td>1</td>\n",
       "      <td>2</td>\n",
       "      <td>3</td>\n",
       "      <td>1</td>\n",
       "      <td>1</td>\n",
       "      <td>3</td>\n",
       "      <td>3</td>\n",
       "    </tr>\n",
       "    <tr>\n",
       "      <th>3</th>\n",
       "      <td>2102</td>\n",
       "      <td>987602</td>\n",
       "      <td>13031</td>\n",
       "      <td>NDARCC993XFP</td>\n",
       "      <td>M87152492</td>\n",
       "      <td>495</td>\n",
       "      <td>s3://NDAR_Central_2/submission_13553/ni/rdocZips/rdoc_2987626.zip</td>\n",
       "      <td>M</td>\n",
       "      <td>White</td>\n",
       "      <td>Hispanic or Latino</td>\n",
       "      <td>...</td>\n",
       "      <td>3</td>\n",
       "      <td>1</td>\n",
       "      <td>1</td>\n",
       "      <td>1</td>\n",
       "      <td>1</td>\n",
       "      <td>1</td>\n",
       "      <td>1</td>\n",
       "      <td>1</td>\n",
       "      <td>1</td>\n",
       "      <td>3</td>\n",
       "    </tr>\n",
       "    <tr>\n",
       "      <th>4</th>\n",
       "      <td>2102</td>\n",
       "      <td>987602</td>\n",
       "      <td>13031</td>\n",
       "      <td>NDARCC993XFP</td>\n",
       "      <td>M87152492</td>\n",
       "      <td>495</td>\n",
       "      <td>s3://NDAR_Central_2/submission_13553/ni/rdocZips/rdoc_2987626.zip</td>\n",
       "      <td>M</td>\n",
       "      <td>White</td>\n",
       "      <td>Hispanic or Latino</td>\n",
       "      <td>...</td>\n",
       "      <td>3</td>\n",
       "      <td>1</td>\n",
       "      <td>1</td>\n",
       "      <td>1</td>\n",
       "      <td>1</td>\n",
       "      <td>1</td>\n",
       "      <td>1</td>\n",
       "      <td>1</td>\n",
       "      <td>1</td>\n",
       "      <td>3</td>\n",
       "    </tr>\n",
       "    <tr>\n",
       "      <th>...</th>\n",
       "      <td>...</td>\n",
       "      <td>...</td>\n",
       "      <td>...</td>\n",
       "      <td>...</td>\n",
       "      <td>...</td>\n",
       "      <td>...</td>\n",
       "      <td>...</td>\n",
       "      <td>...</td>\n",
       "      <td>...</td>\n",
       "      <td>...</td>\n",
       "      <td>...</td>\n",
       "      <td>...</td>\n",
       "      <td>...</td>\n",
       "      <td>...</td>\n",
       "      <td>...</td>\n",
       "      <td>...</td>\n",
       "      <td>...</td>\n",
       "      <td>...</td>\n",
       "      <td>...</td>\n",
       "      <td>...</td>\n",
       "      <td>...</td>\n",
       "    </tr>\n",
       "    <tr>\n",
       "      <th>673</th>\n",
       "      <td>2102</td>\n",
       "      <td>1200199</td>\n",
       "      <td>16002</td>\n",
       "      <td>NDARGV908PHA</td>\n",
       "      <td>M87144356</td>\n",
       "      <td>445</td>\n",
       "      <td>s3://NDAR_Central_4/submission_15943/T:\\ni\\rdocZips/rdoc_3114137.zip</td>\n",
       "      <td>F</td>\n",
       "      <td>White</td>\n",
       "      <td>Not Hispanic or Latino</td>\n",
       "      <td>...</td>\n",
       "      <td>1</td>\n",
       "      <td>1</td>\n",
       "      <td>1</td>\n",
       "      <td>1</td>\n",
       "      <td>1</td>\n",
       "      <td>1</td>\n",
       "      <td>1</td>\n",
       "      <td>1</td>\n",
       "      <td>1</td>\n",
       "      <td>1</td>\n",
       "    </tr>\n",
       "    <tr>\n",
       "      <th>675</th>\n",
       "      <td>2102</td>\n",
       "      <td>1200265</td>\n",
       "      <td>16002</td>\n",
       "      <td>NDARJM337KP4</td>\n",
       "      <td>M87168507</td>\n",
       "      <td>413</td>\n",
       "      <td>s3://NDAR_Central_4/submission_15943/T:\\ni\\rdocZips/rdoc_3119153.zip</td>\n",
       "      <td>F</td>\n",
       "      <td>White</td>\n",
       "      <td>Not Hispanic or Latino</td>\n",
       "      <td>...</td>\n",
       "      <td>1</td>\n",
       "      <td>1</td>\n",
       "      <td>1</td>\n",
       "      <td>1</td>\n",
       "      <td>2</td>\n",
       "      <td>1</td>\n",
       "      <td>1</td>\n",
       "      <td>1</td>\n",
       "      <td>1</td>\n",
       "      <td>2</td>\n",
       "    </tr>\n",
       "    <tr>\n",
       "      <th>676</th>\n",
       "      <td>2102</td>\n",
       "      <td>1200291</td>\n",
       "      <td>16002</td>\n",
       "      <td>NDARMM654WB5</td>\n",
       "      <td>M87161386</td>\n",
       "      <td>252</td>\n",
       "      <td>s3://NDAR_Central_4/submission_15943/T:\\ni\\rdocZips/rdoc_3119865.zip</td>\n",
       "      <td>M</td>\n",
       "      <td>White</td>\n",
       "      <td>Not Hispanic or Latino</td>\n",
       "      <td>...</td>\n",
       "      <td>1</td>\n",
       "      <td>1</td>\n",
       "      <td>1</td>\n",
       "      <td>1</td>\n",
       "      <td>1</td>\n",
       "      <td>3</td>\n",
       "      <td>1</td>\n",
       "      <td>1</td>\n",
       "      <td>1</td>\n",
       "      <td>3</td>\n",
       "    </tr>\n",
       "    <tr>\n",
       "      <th>677</th>\n",
       "      <td>2102</td>\n",
       "      <td>1200311</td>\n",
       "      <td>16002</td>\n",
       "      <td>NDARUE438VBR</td>\n",
       "      <td>M87112268</td>\n",
       "      <td>267</td>\n",
       "      <td>s3://NDAR_Central_4/submission_15943/T:\\ni\\rdocZips/rdoc_3120113.zip</td>\n",
       "      <td>F</td>\n",
       "      <td>Black or African American</td>\n",
       "      <td>Not Hispanic or Latino</td>\n",
       "      <td>...</td>\n",
       "      <td>1</td>\n",
       "      <td>1</td>\n",
       "      <td>1</td>\n",
       "      <td>1</td>\n",
       "      <td>1</td>\n",
       "      <td>1</td>\n",
       "      <td>1</td>\n",
       "      <td>1</td>\n",
       "      <td>1</td>\n",
       "      <td>1</td>\n",
       "    </tr>\n",
       "    <tr>\n",
       "      <th>678</th>\n",
       "      <td>2102</td>\n",
       "      <td>1200364</td>\n",
       "      <td>16002</td>\n",
       "      <td>NDARGN818TV1</td>\n",
       "      <td>M87149164</td>\n",
       "      <td>221</td>\n",
       "      <td>s3://NDAR_Central_4/submission_15943/T:\\ni\\rdocZips/rdoc_3128010.zip</td>\n",
       "      <td>M</td>\n",
       "      <td>Black or African American</td>\n",
       "      <td>Hispanic or Latino</td>\n",
       "      <td>...</td>\n",
       "      <td>1</td>\n",
       "      <td>1</td>\n",
       "      <td>1</td>\n",
       "      <td>1</td>\n",
       "      <td>1</td>\n",
       "      <td>3</td>\n",
       "      <td>1</td>\n",
       "      <td>1</td>\n",
       "      <td>1</td>\n",
       "      <td>2</td>\n",
       "    </tr>\n",
       "  </tbody>\n",
       "</table>\n",
       "<p>451 rows × 45 columns</p>\n",
       "</div>"
      ],
      "text/plain": [
       "    collection_id image03_id dataset_id    subjectkey src_subject_id  \\\n",
       "0            2102     987596      13031  NDARDR327TC4      M87113239   \n",
       "1            2102     987596      13031  NDARDR327TC4      M87113239   \n",
       "2            2102     987596      13031  NDARDR327TC4      M87113239   \n",
       "3            2102     987602      13031  NDARCC993XFP      M87152492   \n",
       "4            2102     987602      13031  NDARCC993XFP      M87152492   \n",
       "..            ...        ...        ...           ...            ...   \n",
       "673          2102    1200199      16002  NDARGV908PHA      M87144356   \n",
       "675          2102    1200265      16002  NDARJM337KP4      M87168507   \n",
       "676          2102    1200291      16002  NDARMM654WB5      M87161386   \n",
       "677          2102    1200311      16002  NDARUE438VBR      M87112268   \n",
       "678          2102    1200364      16002  NDARGN818TV1      M87149164   \n",
       "\n",
       "    interview_age  \\\n",
       "0             405   \n",
       "1             405   \n",
       "2             405   \n",
       "3             495   \n",
       "4             495   \n",
       "..            ...   \n",
       "673           445   \n",
       "675           413   \n",
       "676           252   \n",
       "677           267   \n",
       "678           221   \n",
       "\n",
       "                                                               image_file sex  \\\n",
       "0       s3://NDAR_Central_2/submission_13553/ni/rdocZips/rdoc_2985916.zip   M   \n",
       "1       s3://NDAR_Central_2/submission_13553/ni/rdocZips/rdoc_2985916.zip   M   \n",
       "2       s3://NDAR_Central_2/submission_13553/ni/rdocZips/rdoc_2985916.zip   M   \n",
       "3       s3://NDAR_Central_2/submission_13553/ni/rdocZips/rdoc_2987626.zip   M   \n",
       "4       s3://NDAR_Central_2/submission_13553/ni/rdocZips/rdoc_2987626.zip   M   \n",
       "..                                                                    ...  ..   \n",
       "673  s3://NDAR_Central_4/submission_15943/T:\\ni\\rdocZips/rdoc_3114137.zip   F   \n",
       "675  s3://NDAR_Central_4/submission_15943/T:\\ni\\rdocZips/rdoc_3119153.zip   F   \n",
       "676  s3://NDAR_Central_4/submission_15943/T:\\ni\\rdocZips/rdoc_3119865.zip   M   \n",
       "677  s3://NDAR_Central_4/submission_15943/T:\\ni\\rdocZips/rdoc_3120113.zip   F   \n",
       "678  s3://NDAR_Central_4/submission_15943/T:\\ni\\rdocZips/rdoc_3128010.zip   M   \n",
       "\n",
       "                          race            ethnic_group  ... gps_g7 gps_g8  \\\n",
       "0                        White      Hispanic or Latino  ...      1      1   \n",
       "1                        White      Hispanic or Latino  ...      1      1   \n",
       "2                        White      Hispanic or Latino  ...      1      1   \n",
       "3                        White      Hispanic or Latino  ...      3      1   \n",
       "4                        White      Hispanic or Latino  ...      3      1   \n",
       "..                         ...                     ...  ...    ...    ...   \n",
       "673                      White  Not Hispanic or Latino  ...      1      1   \n",
       "675                      White  Not Hispanic or Latino  ...      1      1   \n",
       "676                      White  Not Hispanic or Latino  ...      1      1   \n",
       "677  Black or African American  Not Hispanic or Latino  ...      1      1   \n",
       "678  Black or African American      Hispanic or Latino  ...      1      1   \n",
       "\n",
       "    gps_g9 gps_g10 gps_g11 gps_g12 gps_g13 gps_g14 gps_g15 gps_g16  \n",
       "0        1       1       2       3       1       1       3       3  \n",
       "1        1       1       2       3       1       1       3       3  \n",
       "2        1       1       2       3       1       1       3       3  \n",
       "3        1       1       1       1       1       1       1       3  \n",
       "4        1       1       1       1       1       1       1       3  \n",
       "..     ...     ...     ...     ...     ...     ...     ...     ...  \n",
       "673      1       1       1       1       1       1       1       1  \n",
       "675      1       1       2       1       1       1       1       2  \n",
       "676      1       1       1       3       1       1       1       3  \n",
       "677      1       1       1       1       1       1       1       1  \n",
       "678      1       1       1       3       1       1       1       2  \n",
       "\n",
       "[451 rows x 45 columns]"
      ]
     },
     "execution_count": 62,
     "metadata": {},
     "output_type": "execute_result"
    }
   ],
   "source": [
    "res1 = image03.merge(ndar_subject, on = ['src_subject_id', 'interview_age'], how = 'left')\n",
    "res2 = res1.merge(test,  on = ['src_subject_id', 'interview_age'], how = 'inner')\n",
    "res2 = res2.dropna()\n",
    "\n",
    "\n",
    "print(res2['subjectkey'].nunique())\n",
    "print(res2.columns)\n",
    "# res2 = res2.drop_duplicates(['src_subject_id'])\n",
    "res2"
   ]
  },
  {
   "cell_type": "markdown",
   "id": "systematic-listening",
   "metadata": {},
   "source": [
    "#### Modifying the paths\n",
    "Change data_dir and fix regex. "
   ]
  },
  {
   "cell_type": "code",
   "execution_count": 63,
   "id": "driving-consortium",
   "metadata": {},
   "outputs": [
    {
     "name": "stdout",
     "output_type": "stream",
     "text": [
      "T:\n",
      "i\\rdocZips/rdoc_3114137.zip 673 s3://NDAR_Central_4/submission_15943/T:\n",
      "i\\rdocZips/rdoc_3114137.zip\n",
      "T:\n",
      "i\\rdocZips/rdoc_3119153.zip 675 s3://NDAR_Central_4/submission_15943/T:\n",
      "i\\rdocZips/rdoc_3119153.zip\n",
      "T:\n",
      "i\\rdocZips/rdoc_3119865.zip 676 s3://NDAR_Central_4/submission_15943/T:\n",
      "i\\rdocZips/rdoc_3119865.zip\n",
      "T:\n",
      "i\\rdocZips/rdoc_3120113.zip 677 s3://NDAR_Central_4/submission_15943/T:\n",
      "i\\rdocZips/rdoc_3120113.zip\n",
      "T:\n",
      "i\\rdocZips/rdoc_3128010.zip 678 s3://NDAR_Central_4/submission_15943/T:\n",
      "i\\rdocZips/rdoc_3128010.zip\n"
     ]
    },
    {
     "data": {
      "text/plain": [
       "[673, 675, 676, 677, 678]"
      ]
     },
     "execution_count": 63,
     "metadata": {},
     "output_type": "execute_result"
    }
   ],
   "source": [
    "data_dir = '../../physcosis/Package_1186910/image03/'\n",
    "regex = 's3://NDAR_.*/submission_.[0-9]*/'\n",
    "rows_with_bad_path = []\n",
    "for index, row in res2.iterrows():\n",
    "    image_path = re.sub(regex, '', row['image_file'])\n",
    "    full_path = os.path.join(data_dir, image_path)\n",
    "#     print(full_path)\n",
    "    if not os.path.exists(full_path):\n",
    "        print(image_path, index, row['image_file'])\n",
    "        rows_with_bad_path.append(index)\n",
    "rows_with_bad_path"
   ]
  },
  {
   "cell_type": "code",
   "execution_count": null,
   "id": "cardiovascular-castle",
   "metadata": {},
   "outputs": [],
   "source": []
  },
  {
   "cell_type": "markdown",
   "id": "beautiful-heritage",
   "metadata": {},
   "source": [
    "#### Drop the rows with bad path and modify all the other paths"
   ]
  },
  {
   "cell_type": "code",
   "execution_count": 64,
   "id": "surprising-question",
   "metadata": {},
   "outputs": [
    {
     "data": {
      "text/html": [
       "<div>\n",
       "<style scoped>\n",
       "    .dataframe tbody tr th:only-of-type {\n",
       "        vertical-align: middle;\n",
       "    }\n",
       "\n",
       "    .dataframe tbody tr th {\n",
       "        vertical-align: top;\n",
       "    }\n",
       "\n",
       "    .dataframe thead th {\n",
       "        text-align: right;\n",
       "    }\n",
       "</style>\n",
       "<table border=\"1\" class=\"dataframe\">\n",
       "  <thead>\n",
       "    <tr style=\"text-align: right;\">\n",
       "      <th></th>\n",
       "      <th>collection_id</th>\n",
       "      <th>image03_id</th>\n",
       "      <th>dataset_id</th>\n",
       "      <th>subjectkey</th>\n",
       "      <th>src_subject_id</th>\n",
       "      <th>interview_age</th>\n",
       "      <th>image_file</th>\n",
       "      <th>sex</th>\n",
       "      <th>race</th>\n",
       "      <th>ethnic_group</th>\n",
       "      <th>...</th>\n",
       "      <th>gps_g7</th>\n",
       "      <th>gps_g8</th>\n",
       "      <th>gps_g9</th>\n",
       "      <th>gps_g10</th>\n",
       "      <th>gps_g11</th>\n",
       "      <th>gps_g12</th>\n",
       "      <th>gps_g13</th>\n",
       "      <th>gps_g14</th>\n",
       "      <th>gps_g15</th>\n",
       "      <th>gps_g16</th>\n",
       "    </tr>\n",
       "  </thead>\n",
       "  <tbody>\n",
       "    <tr>\n",
       "      <th>0</th>\n",
       "      <td>2102</td>\n",
       "      <td>987596</td>\n",
       "      <td>13031</td>\n",
       "      <td>NDARDR327TC4</td>\n",
       "      <td>M87113239</td>\n",
       "      <td>405</td>\n",
       "      <td>../../physcosis/Package_1186910/image03/ni/rdocZips/rdoc_2985916.zip</td>\n",
       "      <td>M</td>\n",
       "      <td>White</td>\n",
       "      <td>Hispanic or Latino</td>\n",
       "      <td>...</td>\n",
       "      <td>1</td>\n",
       "      <td>1</td>\n",
       "      <td>1</td>\n",
       "      <td>1</td>\n",
       "      <td>2</td>\n",
       "      <td>3</td>\n",
       "      <td>1</td>\n",
       "      <td>1</td>\n",
       "      <td>3</td>\n",
       "      <td>3</td>\n",
       "    </tr>\n",
       "    <tr>\n",
       "      <th>1</th>\n",
       "      <td>2102</td>\n",
       "      <td>987596</td>\n",
       "      <td>13031</td>\n",
       "      <td>NDARDR327TC4</td>\n",
       "      <td>M87113239</td>\n",
       "      <td>405</td>\n",
       "      <td>../../physcosis/Package_1186910/image03/ni/rdocZips/rdoc_2985916.zip</td>\n",
       "      <td>M</td>\n",
       "      <td>White</td>\n",
       "      <td>Hispanic or Latino</td>\n",
       "      <td>...</td>\n",
       "      <td>1</td>\n",
       "      <td>1</td>\n",
       "      <td>1</td>\n",
       "      <td>1</td>\n",
       "      <td>2</td>\n",
       "      <td>3</td>\n",
       "      <td>1</td>\n",
       "      <td>1</td>\n",
       "      <td>3</td>\n",
       "      <td>3</td>\n",
       "    </tr>\n",
       "    <tr>\n",
       "      <th>2</th>\n",
       "      <td>2102</td>\n",
       "      <td>987596</td>\n",
       "      <td>13031</td>\n",
       "      <td>NDARDR327TC4</td>\n",
       "      <td>M87113239</td>\n",
       "      <td>405</td>\n",
       "      <td>../../physcosis/Package_1186910/image03/ni/rdocZips/rdoc_2985916.zip</td>\n",
       "      <td>M</td>\n",
       "      <td>White</td>\n",
       "      <td>Hispanic or Latino</td>\n",
       "      <td>...</td>\n",
       "      <td>1</td>\n",
       "      <td>1</td>\n",
       "      <td>1</td>\n",
       "      <td>1</td>\n",
       "      <td>2</td>\n",
       "      <td>3</td>\n",
       "      <td>1</td>\n",
       "      <td>1</td>\n",
       "      <td>3</td>\n",
       "      <td>3</td>\n",
       "    </tr>\n",
       "    <tr>\n",
       "      <th>3</th>\n",
       "      <td>2102</td>\n",
       "      <td>987602</td>\n",
       "      <td>13031</td>\n",
       "      <td>NDARCC993XFP</td>\n",
       "      <td>M87152492</td>\n",
       "      <td>495</td>\n",
       "      <td>../../physcosis/Package_1186910/image03/ni/rdocZips/rdoc_2987626.zip</td>\n",
       "      <td>M</td>\n",
       "      <td>White</td>\n",
       "      <td>Hispanic or Latino</td>\n",
       "      <td>...</td>\n",
       "      <td>3</td>\n",
       "      <td>1</td>\n",
       "      <td>1</td>\n",
       "      <td>1</td>\n",
       "      <td>1</td>\n",
       "      <td>1</td>\n",
       "      <td>1</td>\n",
       "      <td>1</td>\n",
       "      <td>1</td>\n",
       "      <td>3</td>\n",
       "    </tr>\n",
       "    <tr>\n",
       "      <th>4</th>\n",
       "      <td>2102</td>\n",
       "      <td>987602</td>\n",
       "      <td>13031</td>\n",
       "      <td>NDARCC993XFP</td>\n",
       "      <td>M87152492</td>\n",
       "      <td>495</td>\n",
       "      <td>../../physcosis/Package_1186910/image03/ni/rdocZips/rdoc_2987626.zip</td>\n",
       "      <td>M</td>\n",
       "      <td>White</td>\n",
       "      <td>Hispanic or Latino</td>\n",
       "      <td>...</td>\n",
       "      <td>3</td>\n",
       "      <td>1</td>\n",
       "      <td>1</td>\n",
       "      <td>1</td>\n",
       "      <td>1</td>\n",
       "      <td>1</td>\n",
       "      <td>1</td>\n",
       "      <td>1</td>\n",
       "      <td>1</td>\n",
       "      <td>3</td>\n",
       "    </tr>\n",
       "    <tr>\n",
       "      <th>...</th>\n",
       "      <td>...</td>\n",
       "      <td>...</td>\n",
       "      <td>...</td>\n",
       "      <td>...</td>\n",
       "      <td>...</td>\n",
       "      <td>...</td>\n",
       "      <td>...</td>\n",
       "      <td>...</td>\n",
       "      <td>...</td>\n",
       "      <td>...</td>\n",
       "      <td>...</td>\n",
       "      <td>...</td>\n",
       "      <td>...</td>\n",
       "      <td>...</td>\n",
       "      <td>...</td>\n",
       "      <td>...</td>\n",
       "      <td>...</td>\n",
       "      <td>...</td>\n",
       "      <td>...</td>\n",
       "      <td>...</td>\n",
       "      <td>...</td>\n",
       "    </tr>\n",
       "    <tr>\n",
       "      <th>668</th>\n",
       "      <td>2102</td>\n",
       "      <td>485639</td>\n",
       "      <td>11910</td>\n",
       "      <td>NDARJH036XW5</td>\n",
       "      <td>M87184056</td>\n",
       "      <td>546</td>\n",
       "      <td>../../physcosis/Package_1186910/image03/ni/rdocZips/rdoc_2876558.zip</td>\n",
       "      <td>M</td>\n",
       "      <td>White</td>\n",
       "      <td>Not Hispanic or Latino</td>\n",
       "      <td>...</td>\n",
       "      <td>1</td>\n",
       "      <td>1</td>\n",
       "      <td>1</td>\n",
       "      <td>1</td>\n",
       "      <td>1</td>\n",
       "      <td>1</td>\n",
       "      <td>1</td>\n",
       "      <td>1</td>\n",
       "      <td>1</td>\n",
       "      <td>1</td>\n",
       "    </tr>\n",
       "    <tr>\n",
       "      <th>669</th>\n",
       "      <td>2102</td>\n",
       "      <td>1101015</td>\n",
       "      <td>14589</td>\n",
       "      <td>NDARFV772JMF</td>\n",
       "      <td>M87144086</td>\n",
       "      <td>524</td>\n",
       "      <td>../../physcosis/Package_1186910/image03/ni/rdocZips/rdoc_3106995.zip</td>\n",
       "      <td>M</td>\n",
       "      <td>White</td>\n",
       "      <td>Hispanic or Latino</td>\n",
       "      <td>...</td>\n",
       "      <td>1</td>\n",
       "      <td>1</td>\n",
       "      <td>1</td>\n",
       "      <td>1</td>\n",
       "      <td>1</td>\n",
       "      <td>1</td>\n",
       "      <td>1</td>\n",
       "      <td>2</td>\n",
       "      <td>1</td>\n",
       "      <td>1</td>\n",
       "    </tr>\n",
       "    <tr>\n",
       "      <th>670</th>\n",
       "      <td>2102</td>\n",
       "      <td>1101015</td>\n",
       "      <td>14589</td>\n",
       "      <td>NDARFV772JMF</td>\n",
       "      <td>M87144086</td>\n",
       "      <td>524</td>\n",
       "      <td>../../physcosis/Package_1186910/image03/ni/rdocZips/rdoc_3106995.zip</td>\n",
       "      <td>M</td>\n",
       "      <td>White</td>\n",
       "      <td>Hispanic or Latino</td>\n",
       "      <td>...</td>\n",
       "      <td>1</td>\n",
       "      <td>1</td>\n",
       "      <td>1</td>\n",
       "      <td>1</td>\n",
       "      <td>1</td>\n",
       "      <td>1</td>\n",
       "      <td>1</td>\n",
       "      <td>2</td>\n",
       "      <td>1</td>\n",
       "      <td>1</td>\n",
       "    </tr>\n",
       "    <tr>\n",
       "      <th>671</th>\n",
       "      <td>2102</td>\n",
       "      <td>1123214</td>\n",
       "      <td>15111</td>\n",
       "      <td>NDARFN370JXT</td>\n",
       "      <td>M87139857</td>\n",
       "      <td>306</td>\n",
       "      <td>../../physcosis/Package_1186910/image03/ni/rdocZips/rdoc_3068455.zip</td>\n",
       "      <td>M</td>\n",
       "      <td>White</td>\n",
       "      <td>Hispanic or Latino</td>\n",
       "      <td>...</td>\n",
       "      <td>1</td>\n",
       "      <td>1</td>\n",
       "      <td>1</td>\n",
       "      <td>1</td>\n",
       "      <td>1</td>\n",
       "      <td>1</td>\n",
       "      <td>1</td>\n",
       "      <td>1</td>\n",
       "      <td>1</td>\n",
       "      <td>3</td>\n",
       "    </tr>\n",
       "    <tr>\n",
       "      <th>672</th>\n",
       "      <td>2102</td>\n",
       "      <td>1123214</td>\n",
       "      <td>15111</td>\n",
       "      <td>NDARFN370JXT</td>\n",
       "      <td>M87139857</td>\n",
       "      <td>306</td>\n",
       "      <td>../../physcosis/Package_1186910/image03/ni/rdocZips/rdoc_3068455.zip</td>\n",
       "      <td>M</td>\n",
       "      <td>White</td>\n",
       "      <td>Hispanic or Latino</td>\n",
       "      <td>...</td>\n",
       "      <td>1</td>\n",
       "      <td>1</td>\n",
       "      <td>1</td>\n",
       "      <td>1</td>\n",
       "      <td>1</td>\n",
       "      <td>1</td>\n",
       "      <td>1</td>\n",
       "      <td>1</td>\n",
       "      <td>1</td>\n",
       "      <td>3</td>\n",
       "    </tr>\n",
       "  </tbody>\n",
       "</table>\n",
       "<p>446 rows × 45 columns</p>\n",
       "</div>"
      ],
      "text/plain": [
       "    collection_id image03_id dataset_id    subjectkey src_subject_id  \\\n",
       "0            2102     987596      13031  NDARDR327TC4      M87113239   \n",
       "1            2102     987596      13031  NDARDR327TC4      M87113239   \n",
       "2            2102     987596      13031  NDARDR327TC4      M87113239   \n",
       "3            2102     987602      13031  NDARCC993XFP      M87152492   \n",
       "4            2102     987602      13031  NDARCC993XFP      M87152492   \n",
       "..            ...        ...        ...           ...            ...   \n",
       "668          2102     485639      11910  NDARJH036XW5      M87184056   \n",
       "669          2102    1101015      14589  NDARFV772JMF      M87144086   \n",
       "670          2102    1101015      14589  NDARFV772JMF      M87144086   \n",
       "671          2102    1123214      15111  NDARFN370JXT      M87139857   \n",
       "672          2102    1123214      15111  NDARFN370JXT      M87139857   \n",
       "\n",
       "    interview_age  \\\n",
       "0             405   \n",
       "1             405   \n",
       "2             405   \n",
       "3             495   \n",
       "4             495   \n",
       "..            ...   \n",
       "668           546   \n",
       "669           524   \n",
       "670           524   \n",
       "671           306   \n",
       "672           306   \n",
       "\n",
       "                                                               image_file sex  \\\n",
       "0    ../../physcosis/Package_1186910/image03/ni/rdocZips/rdoc_2985916.zip   M   \n",
       "1    ../../physcosis/Package_1186910/image03/ni/rdocZips/rdoc_2985916.zip   M   \n",
       "2    ../../physcosis/Package_1186910/image03/ni/rdocZips/rdoc_2985916.zip   M   \n",
       "3    ../../physcosis/Package_1186910/image03/ni/rdocZips/rdoc_2987626.zip   M   \n",
       "4    ../../physcosis/Package_1186910/image03/ni/rdocZips/rdoc_2987626.zip   M   \n",
       "..                                                                    ...  ..   \n",
       "668  ../../physcosis/Package_1186910/image03/ni/rdocZips/rdoc_2876558.zip   M   \n",
       "669  ../../physcosis/Package_1186910/image03/ni/rdocZips/rdoc_3106995.zip   M   \n",
       "670  ../../physcosis/Package_1186910/image03/ni/rdocZips/rdoc_3106995.zip   M   \n",
       "671  ../../physcosis/Package_1186910/image03/ni/rdocZips/rdoc_3068455.zip   M   \n",
       "672  ../../physcosis/Package_1186910/image03/ni/rdocZips/rdoc_3068455.zip   M   \n",
       "\n",
       "      race            ethnic_group  ... gps_g7 gps_g8 gps_g9 gps_g10 gps_g11  \\\n",
       "0    White      Hispanic or Latino  ...      1      1      1       1       2   \n",
       "1    White      Hispanic or Latino  ...      1      1      1       1       2   \n",
       "2    White      Hispanic or Latino  ...      1      1      1       1       2   \n",
       "3    White      Hispanic or Latino  ...      3      1      1       1       1   \n",
       "4    White      Hispanic or Latino  ...      3      1      1       1       1   \n",
       "..     ...                     ...  ...    ...    ...    ...     ...     ...   \n",
       "668  White  Not Hispanic or Latino  ...      1      1      1       1       1   \n",
       "669  White      Hispanic or Latino  ...      1      1      1       1       1   \n",
       "670  White      Hispanic or Latino  ...      1      1      1       1       1   \n",
       "671  White      Hispanic or Latino  ...      1      1      1       1       1   \n",
       "672  White      Hispanic or Latino  ...      1      1      1       1       1   \n",
       "\n",
       "    gps_g12 gps_g13 gps_g14 gps_g15 gps_g16  \n",
       "0         3       1       1       3       3  \n",
       "1         3       1       1       3       3  \n",
       "2         3       1       1       3       3  \n",
       "3         1       1       1       1       3  \n",
       "4         1       1       1       1       3  \n",
       "..      ...     ...     ...     ...     ...  \n",
       "668       1       1       1       1       1  \n",
       "669       1       1       2       1       1  \n",
       "670       1       1       2       1       1  \n",
       "671       1       1       1       1       3  \n",
       "672       1       1       1       1       3  \n",
       "\n",
       "[446 rows x 45 columns]"
      ]
     },
     "execution_count": 64,
     "metadata": {},
     "output_type": "execute_result"
    }
   ],
   "source": [
    "drop = res2.drop(rows_with_bad_path)\n",
    "l = []\n",
    "for index, row in drop.iterrows():\n",
    "    image_path = re.sub(regex, '', row['image_file'])\n",
    "    full_path = os.path.join(data_dir, image_path)\n",
    "    l.append(full_path)\n",
    "drop['image_file'] = l\n",
    "drop"
   ]
  },
  {
   "cell_type": "markdown",
   "id": "leading-defendant",
   "metadata": {},
   "source": [
    "redo these once we have good joins "
   ]
  },
  {
   "cell_type": "code",
   "execution_count": 65,
   "id": "architectural-arctic",
   "metadata": {},
   "outputs": [
    {
     "name": "stdout",
     "output_type": "stream",
     "text": [
      "99\n"
     ]
    }
   ],
   "source": [
    "df = drop\n",
    "print(df['image_file'].nunique())"
   ]
  },
  {
   "cell_type": "code",
   "execution_count": 66,
   "id": "coordinated-process",
   "metadata": {},
   "outputs": [
    {
     "data": {
      "text/html": [
       "<div>\n",
       "<style scoped>\n",
       "    .dataframe tbody tr th:only-of-type {\n",
       "        vertical-align: middle;\n",
       "    }\n",
       "\n",
       "    .dataframe tbody tr th {\n",
       "        vertical-align: top;\n",
       "    }\n",
       "\n",
       "    .dataframe thead th {\n",
       "        text-align: right;\n",
       "    }\n",
       "</style>\n",
       "<table border=\"1\" class=\"dataframe\">\n",
       "  <thead>\n",
       "    <tr style=\"text-align: right;\">\n",
       "      <th></th>\n",
       "      <th>collection_id</th>\n",
       "      <th>image03_id</th>\n",
       "      <th>dataset_id</th>\n",
       "      <th>subjectkey</th>\n",
       "      <th>src_subject_id</th>\n",
       "      <th>interview_age</th>\n",
       "      <th>image_file</th>\n",
       "      <th>sex</th>\n",
       "      <th>race</th>\n",
       "      <th>ethnic_group</th>\n",
       "      <th>...</th>\n",
       "      <th>gps_g7</th>\n",
       "      <th>gps_g8</th>\n",
       "      <th>gps_g9</th>\n",
       "      <th>gps_g10</th>\n",
       "      <th>gps_g11</th>\n",
       "      <th>gps_g12</th>\n",
       "      <th>gps_g13</th>\n",
       "      <th>gps_g14</th>\n",
       "      <th>gps_g15</th>\n",
       "      <th>gps_g16</th>\n",
       "    </tr>\n",
       "  </thead>\n",
       "  <tbody>\n",
       "    <tr>\n",
       "      <th>0</th>\n",
       "      <td>2102</td>\n",
       "      <td>987596</td>\n",
       "      <td>13031</td>\n",
       "      <td>NDARDR327TC4</td>\n",
       "      <td>M87113239</td>\n",
       "      <td>405</td>\n",
       "      <td>../../physcosis/Package_1186910/image03/ni/rdocZips/rdoc_2985916.zip</td>\n",
       "      <td>M</td>\n",
       "      <td>White</td>\n",
       "      <td>Hispanic or Latino</td>\n",
       "      <td>...</td>\n",
       "      <td>1</td>\n",
       "      <td>1</td>\n",
       "      <td>1</td>\n",
       "      <td>1</td>\n",
       "      <td>2</td>\n",
       "      <td>3</td>\n",
       "      <td>1</td>\n",
       "      <td>1</td>\n",
       "      <td>3</td>\n",
       "      <td>3</td>\n",
       "    </tr>\n",
       "    <tr>\n",
       "      <th>1</th>\n",
       "      <td>2102</td>\n",
       "      <td>987596</td>\n",
       "      <td>13031</td>\n",
       "      <td>NDARDR327TC4</td>\n",
       "      <td>M87113239</td>\n",
       "      <td>405</td>\n",
       "      <td>../../physcosis/Package_1186910/image03/ni/rdocZips/rdoc_2985916.zip</td>\n",
       "      <td>M</td>\n",
       "      <td>White</td>\n",
       "      <td>Hispanic or Latino</td>\n",
       "      <td>...</td>\n",
       "      <td>1</td>\n",
       "      <td>1</td>\n",
       "      <td>1</td>\n",
       "      <td>1</td>\n",
       "      <td>2</td>\n",
       "      <td>3</td>\n",
       "      <td>1</td>\n",
       "      <td>1</td>\n",
       "      <td>3</td>\n",
       "      <td>3</td>\n",
       "    </tr>\n",
       "    <tr>\n",
       "      <th>2</th>\n",
       "      <td>2102</td>\n",
       "      <td>987596</td>\n",
       "      <td>13031</td>\n",
       "      <td>NDARDR327TC4</td>\n",
       "      <td>M87113239</td>\n",
       "      <td>405</td>\n",
       "      <td>../../physcosis/Package_1186910/image03/ni/rdocZips/rdoc_2985916.zip</td>\n",
       "      <td>M</td>\n",
       "      <td>White</td>\n",
       "      <td>Hispanic or Latino</td>\n",
       "      <td>...</td>\n",
       "      <td>1</td>\n",
       "      <td>1</td>\n",
       "      <td>1</td>\n",
       "      <td>1</td>\n",
       "      <td>2</td>\n",
       "      <td>3</td>\n",
       "      <td>1</td>\n",
       "      <td>1</td>\n",
       "      <td>3</td>\n",
       "      <td>3</td>\n",
       "    </tr>\n",
       "  </tbody>\n",
       "</table>\n",
       "<p>3 rows × 45 columns</p>\n",
       "</div>"
      ],
      "text/plain": [
       "  collection_id image03_id dataset_id    subjectkey src_subject_id  \\\n",
       "0          2102     987596      13031  NDARDR327TC4      M87113239   \n",
       "1          2102     987596      13031  NDARDR327TC4      M87113239   \n",
       "2          2102     987596      13031  NDARDR327TC4      M87113239   \n",
       "\n",
       "  interview_age  \\\n",
       "0           405   \n",
       "1           405   \n",
       "2           405   \n",
       "\n",
       "                                                             image_file sex  \\\n",
       "0  ../../physcosis/Package_1186910/image03/ni/rdocZips/rdoc_2985916.zip   M   \n",
       "1  ../../physcosis/Package_1186910/image03/ni/rdocZips/rdoc_2985916.zip   M   \n",
       "2  ../../physcosis/Package_1186910/image03/ni/rdocZips/rdoc_2985916.zip   M   \n",
       "\n",
       "    race        ethnic_group  ... gps_g7 gps_g8 gps_g9 gps_g10 gps_g11  \\\n",
       "0  White  Hispanic or Latino  ...      1      1      1       1       2   \n",
       "1  White  Hispanic or Latino  ...      1      1      1       1       2   \n",
       "2  White  Hispanic or Latino  ...      1      1      1       1       2   \n",
       "\n",
       "  gps_g12 gps_g13 gps_g14 gps_g15 gps_g16  \n",
       "0       3       1       1       3       3  \n",
       "1       3       1       1       3       3  \n",
       "2       3       1       1       3       3  \n",
       "\n",
       "[3 rows x 45 columns]"
      ]
     },
     "execution_count": 66,
     "metadata": {},
     "output_type": "execute_result"
    }
   ],
   "source": [
    "df[df['subjectkey'] == 'NDARDR327TC4']"
   ]
  },
  {
   "cell_type": "markdown",
   "id": "capable-robinson",
   "metadata": {},
   "source": [
    "#### Move only wanted files into seperate folder and unzip"
   ]
  },
  {
   "cell_type": "code",
   "execution_count": 67,
   "id": "front-affiliate",
   "metadata": {},
   "outputs": [],
   "source": [
    "clean_dir = '../../physcosis/Package_1186910/image03/CLEAN/'\n",
    "\n",
    "\n",
    "for i,row in df.iterrows():\n",
    "    file_name = row['image_file'].split('/')[-1]\n",
    "#     print('cp ' + str(row['image_file']) + ' ' + str(os.path.join(clean_dir, file_name)))\n",
    "    if file_name not in os.listdir(clean_dir):\n",
    "        os.system('cp ' + str(row['image_file']) + ' ' + str(os.path.join(clean_dir, file_name)))\n",
    "#     print(file_name)"
   ]
  },
  {
   "cell_type": "code",
   "execution_count": 68,
   "id": "anonymous-darkness",
   "metadata": {},
   "outputs": [
    {
     "name": "stdout",
     "output_type": "stream",
     "text": [
      "199\n"
     ]
    }
   ],
   "source": [
    "print(len(os.listdir(clean_dir)))"
   ]
  },
  {
   "cell_type": "code",
   "execution_count": 20,
   "id": "moral-macro",
   "metadata": {},
   "outputs": [],
   "source": [
    "for file in os.listdir(clean_dir):\n",
    "    folder = os.path.join(clean_dir,file.split('.')[0])\n",
    "    os.system('mkdir ' + folder)\n",
    "    os.system('unzip ' + os.path.join(clean_dir, file) + ' -d ' + folder)"
   ]
  },
  {
   "cell_type": "code",
   "execution_count": 33,
   "id": "handy-elder",
   "metadata": {},
   "outputs": [
    {
     "name": "stderr",
     "output_type": "stream",
     "text": [
      "100%|██████████| 192/192 [00:03<00:00, 55.02it/s]\n",
      "100%|██████████| 192/192 [00:03<00:00, 56.98it/s]\n",
      "100%|██████████| 192/192 [00:03<00:00, 55.44it/s]\n",
      "100%|██████████| 192/192 [00:03<00:00, 55.97it/s]\n",
      "100%|██████████| 192/192 [00:03<00:00, 57.23it/s]\n"
     ]
    }
   ],
   "source": [
    "import matplotlib.pyplot as plt\n",
    "import pydicom\n",
    "from tqdm import tqdm\n",
    "\n",
    "def open_scans(scan_folder):\n",
    "    all_dcm = list(os.listdir(scan_folder))\n",
    "    endings = []\n",
    "    for i in all_dcm:\n",
    "        endings.append(i[-6:])\n",
    "    endings = set(endings)\n",
    "    scans = {}\n",
    "    for e in endings: \n",
    "        scan_slices_files = []\n",
    "        for i in all_dcm:\n",
    "            if e in i: \n",
    "                scan_slices_files.append(i)\n",
    "        scan_slices_files = sorted(scan_slices_files)\n",
    "        \n",
    "        scan_slices = []\n",
    "        for s in tqdm(scan_slices_files):\n",
    "            ds = pydicom.dcmread(os.path.join(scan_folder, s))\n",
    "            scan_slices.append(ds.pixel_array)\n",
    "            \n",
    "        scan_slices = np.array(scan_slices)\n",
    "        \n",
    "        scans[e] = scan_slices\n",
    "    return scans\n",
    "    \n",
    "scans = open_scans(os.path.join(clean_dir, 'rdoc_2987626'))"
   ]
  },
  {
   "cell_type": "code",
   "execution_count": 39,
   "id": "aquatic-indiana",
   "metadata": {},
   "outputs": [
    {
     "name": "stdout",
     "output_type": "stream",
     "text": [
      "dict_keys(['-2.dcm', '-1.dcm', '-5.dcm', '-4.dcm', '-3.dcm'])\n",
      "(192, 256, 256)\n"
     ]
    }
   ],
   "source": [
    "print(scans.keys())\n",
    "print(scans[list(scans.keys())[0]].shape)\n"
   ]
  },
  {
   "cell_type": "code",
   "execution_count": 44,
   "id": "expired-priest",
   "metadata": {
    "scrolled": false
   },
   "outputs": [
    {
     "data": {
      "image/png": "[encoded data removed]",
      "text/plain": [
       "<Figure size 144x144 with 1 Axes>"
      ]
     },
     "metadata": {
      "needs_background": "light"
     },
     "output_type": "display_data"
    },
    {
     "data": {
      "image/png": "[encoded data removed]",
      "text/plain": [
       "<Figure size 144x144 with 1 Axes>"
      ]
     },
     "metadata": {
      "needs_background": "light"
     },
     "output_type": "display_data"
    },
    {
     "data": {
      "image/png": "[encoded data removed]",
      "text/plain": [
       "<Figure size 144x144 with 1 Axes>"
      ]
     },
     "metadata": {
      "needs_background": "light"
     },
     "output_type": "display_data"
    },
    {
     "data": {
      "image/png": "[encoded data removed]",
      "text/plain": [
       "<Figure size 144x144 with 1 Axes>"
      ]
     },
     "metadata": {
      "needs_background": "light"
     },
     "output_type": "display_data"
    },
    {
     "data": {
      "image/png": "[encoded data removed]",
      "text/plain": [
       "<Figure size 144x144 with 1 Axes>"
      ]
     },
     "metadata": {
      "needs_background": "light"
     },
     "output_type": "display_data"
    },
    {
     "data": {
      "image/png": "[encoded data removed]",
      "text/plain": [
       "<Figure size 144x144 with 1 Axes>"
      ]
     },
     "metadata": {
      "needs_background": "light"
     },
     "output_type": "display_data"
    },
    {
     "data": {
      "image/png": "[encoded data removed]",
      "text/plain": [
       "<Figure size 144x144 with 1 Axes>"
      ]
     },
     "metadata": {
      "needs_background": "light"
     },
     "output_type": "display_data"
    },
    {
     "data": {
      "image/png": "[encoded data removed]",
      "text/plain": [
       "<Figure size 144x144 with 1 Axes>"
      ]
     },
     "metadata": {
      "needs_background": "light"
     },
     "output_type": "display_data"
    },
    {
     "data": {
      "image/png": "[encoded data removed]",
      "text/plain": [
       "<Figure size 144x144 with 1 Axes>"
      ]
     },
     "metadata": {
      "needs_background": "light"
     },
     "output_type": "display_data"
    },
    {
     "data": {
      "image/png": "[encoded data removed]",
      "text/plain": [
       "<Figure size 144x144 with 1 Axes>"
      ]
     },
     "metadata": {
      "needs_background": "light"
     },
     "output_type": "display_data"
    },
    {
     "data": {
      "image/png": "[encoded data removed]",
      "text/plain": [
       "<Figure size 144x144 with 1 Axes>"
      ]
     },
     "metadata": {
      "needs_background": "light"
     },
     "output_type": "display_data"
    },
    {
     "data": {
      "image/png": "[encoded data removed]",
      "text/plain": [
       "<Figure size 144x144 with 1 Axes>"
      ]
     },
     "metadata": {
      "needs_background": "light"
     },
     "output_type": "display_data"
    },
    {
     "data": {
      "image/png": "[encoded data removed]",
      "text/plain": [
       "<Figure size 144x144 with 1 Axes>"
      ]
     },
     "metadata": {
      "needs_background": "light"
     },
     "output_type": "display_data"
    },
    {
     "data": {
      "image/png": "[encoded data removed]",
      "text/plain": [
       "<Figure size 144x144 with 1 Axes>"
      ]
     },
     "metadata": {
      "needs_background": "light"
     },
     "output_type": "display_data"
    }
   ],
   "source": [
    "import nibabel as nib\n",
    "\n",
    "\n",
    "img = scans['-1.dcm']\n",
    "\n",
    "for i in range(0,img.shape[0],50):\n",
    "    plt.figure(figsize=(2,2))\n",
    "    plt.imshow(img[i,:,:], cmap = 'gray')\n",
    "    \n",
    "for i in range(0,img.shape[1],60):\n",
    "    plt.figure(figsize=(2,2))\n",
    "    plt.imshow(img[:,i,:], cmap = 'gray')\n",
    "    \n",
    "for i in range(0,img.shape[2],60):\n",
    "    plt.figure(figsize=(2,2))\n",
    "    plt.imshow(img[:,:,i], cmap = 'gray')   "
   ]
  },
  {
   "cell_type": "code",
   "execution_count": 46,
   "id": "approved-retreat",
   "metadata": {},
   "outputs": [],
   "source": [
    "import dicom2nifti"
   ]
  },
  {
   "cell_type": "code",
   "execution_count": 69,
   "id": "challenging-english",
   "metadata": {},
   "outputs": [
    {
     "data": {
      "text/plain": [
       "{'NII_FILE': '../../physcosis/Package_1186910/image03/CLEAN/rdoc_2987626/example.nii',\n",
       " 'NII': <nibabel.nifti1.Nifti1Image at 0x7f8591b57b00>,\n",
       " 'MAX_SLICE_INCREMENT': 1.0}"
      ]
     },
     "execution_count": 69,
     "metadata": {},
     "output_type": "execute_result"
    }
   ],
   "source": [
    "dicom2nifti.dicom_series_to_nifti(os.path.join(clean_dir,'rdoc_2987626'), os.path.join(clean_dir,'rdoc_2987626','example.nii'), reorient_nifti=True)\n"
   ]
  },
  {
   "cell_type": "code",
   "execution_count": 70,
   "id": "fabulous-aggregate",
   "metadata": {},
   "outputs": [
    {
     "data": {
      "text/plain": [
       "(192, 256, 256, 5)"
      ]
     },
     "execution_count": 70,
     "metadata": {},
     "output_type": "execute_result"
    }
   ],
   "source": [
    "img = nib.load(os.path.join(clean_dir, 'rdoc_2987626', 'example.nii'))\n",
    "img = img.get_fdata()\n",
    "img.shape"
   ]
  },
  {
   "cell_type": "code",
   "execution_count": 71,
   "id": "threatened-staff",
   "metadata": {
    "scrolled": false
   },
   "outputs": [
    {
     "data": {
      "image/png": "[encoded data removed]",
      "text/plain": [
       "<Figure size 144x144 with 1 Axes>"
      ]
     },
     "metadata": {
      "needs_background": "light"
     },
     "output_type": "display_data"
    },
    {
     "data": {
      "image/png": "[encoded data removed]",
      "text/plain": [
       "<Figure size 144x144 with 1 Axes>"
      ]
     },
     "metadata": {
      "needs_background": "light"
     },
     "output_type": "display_data"
    },
    {
     "data": {
      "image/png": "[encoded data removed]",
      "text/plain": [
       "<Figure size 144x144 with 1 Axes>"
      ]
     },
     "metadata": {
      "needs_background": "light"
     },
     "output_type": "display_data"
    },
    {
     "data": {
      "image/png": "[encoded data removed]",
      "text/plain": [
       "<Figure size 144x144 with 1 Axes>"
      ]
     },
     "metadata": {
      "needs_background": "light"
     },
     "output_type": "display_data"
    },
    {
     "data": {
      "image/png": "[encoded data removed]",
      "text/plain": [
       "<Figure size 144x144 with 1 Axes>"
      ]
     },
     "metadata": {
      "needs_background": "light"
     },
     "output_type": "display_data"
    },
    {
     "data": {
      "image/png": "[encoded data removed]",
      "text/plain": [
       "<Figure size 144x144 with 1 Axes>"
      ]
     },
     "metadata": {
      "needs_background": "light"
     },
     "output_type": "display_data"
    },
    {
     "data": {
      "image/png": "[encoded data removed]",
      "text/plain": [
       "<Figure size 144x144 with 1 Axes>"
      ]
     },
     "metadata": {
      "needs_background": "light"
     },
     "output_type": "display_data"
    },
    {
     "data": {
      "image/png": "[encoded data removed]",
      "text/plain": [
       "<Figure size 144x144 with 1 Axes>"
      ]
     },
     "metadata": {
      "needs_background": "light"
     },
     "output_type": "display_data"
    },
    {
     "data": {
      "image/png": "[encoded data removed]",
      "text/plain": [
       "<Figure size 144x144 with 1 Axes>"
      ]
     },
     "metadata": {
      "needs_background": "light"
     },
     "output_type": "display_data"
    },
    {
     "data": {
      "image/png": "[encoded data removed]",
      "text/plain": [
       "<Figure size 144x144 with 1 Axes>"
      ]
     },
     "metadata": {
      "needs_background": "light"
     },
     "output_type": "display_data"
    },
    {
     "data": {
      "image/png": "[encoded data removed]",
      "text/plain": [
       "<Figure size 144x144 with 1 Axes>"
      ]
     },
     "metadata": {
      "needs_background": "light"
     },
     "output_type": "display_data"
    },
    {
     "data": {
      "image/png": "[encoded data removed]",
      "text/plain": [
       "<Figure size 144x144 with 1 Axes>"
      ]
     },
     "metadata": {
      "needs_background": "light"
     },
     "output_type": "display_data"
    },
    {
     "data": {
      "image/png": "[encoded data removed]",
      "text/plain": [
       "<Figure size 144x144 with 1 Axes>"
      ]
     },
     "metadata": {
      "needs_background": "light"
     },
     "output_type": "display_data"
    },
    {
     "data": {
      "image/png": "[encoded data removed]",
      "text/plain": [
       "<Figure size 144x144 with 1 Axes>"
      ]
     },
     "metadata": {
      "needs_background": "light"
     },
     "output_type": "display_data"
    }
   ],
   "source": [
    "img = img[:,:,:,0]\n",
    "for i in range(0,img.shape[0],50):\n",
    "    plt.figure(figsize=(2,2))\n",
    "    plt.imshow(img[i,:,:], cmap = 'gray')\n",
    "    \n",
    "for i in range(0,img.shape[1],60):\n",
    "    plt.figure(figsize=(2,2))\n",
    "    plt.imshow(img[:,i,:], cmap = 'gray')\n",
    "    \n",
    "for i in range(0,img.shape[2],60):\n",
    "    plt.figure(figsize=(2,2))\n",
    "    plt.imshow(img[:,:,i], cmap = 'gray')   "
   ]
  },
  {
   "cell_type": "code",
   "execution_count": 90,
   "id": "residential-champagne",
   "metadata": {},
   "outputs": [],
   "source": [
    "# this should work haven't tested it yet\n",
    "# os.system('pydeface ' + os.path.join(clean_dir, 'rdoc_2987626', 'example.nii'))"
   ]
  },
  {
   "cell_type": "code",
   "execution_count": 74,
   "id": "flexible-concrete",
   "metadata": {},
   "outputs": [
    {
     "data": {
      "text/plain": [
       "(192, 256, 256, 5)"
      ]
     },
     "execution_count": 74,
     "metadata": {},
     "output_type": "execute_result"
    }
   ],
   "source": [
    "img = nib.load(os.path.join(clean_dir, 'rdoc_2987626', 'example_defaced.nii'))\n",
    "img = img.get_fdata()\n",
    "img.shape"
   ]
  },
  {
   "cell_type": "code",
   "execution_count": 88,
   "id": "copyrighted-wiring",
   "metadata": {
    "scrolled": false
   },
   "outputs": [
    {
     "data": {
      "text/plain": [
       "<matplotlib.image.AxesImage at 0x7f85cbcc32b0>"
      ]
     },
     "execution_count": 88,
     "metadata": {},
     "output_type": "execute_result"
    },
    {
     "data": {
      "image/png": "[encoded data removed]",
      "text/plain": [
       "<Figure size 720x720 with 1 Axes>"
      ]
     },
     "metadata": {
      "needs_background": "light"
     },
     "output_type": "display_data"
    }
   ],
   "source": [
    "plt.figure(figsize=(10,10))\n",
    "plt.imshow(img[50,:,:,0], cmap = 'gray')"
   ]
  },
  {
   "cell_type": "code",
   "execution_count": 15,
   "id": "thrown-rabbit",
   "metadata": {
    "scrolled": false
   },
   "outputs": [
    {
     "ename": "FileNotFoundError",
     "evalue": "[Errno 2] No such file or directory: '/Volumes/SEAGATE BAC/MIND/nih/physcosis/Package_1186910/image03/ni/rdocZips/rdoc_2985916/SerieMR-0024-0657-4.dcm'",
     "output_type": "error",
     "traceback": [
      "\u001b[0;31m----------------------------------------------------------------------\u001b[0m",
      "\u001b[0;31mFileNotFoundError\u001b[0m                    Traceback (most recent call last)",
      "\u001b[0;32m<ipython-input-15-19385a4a4973>\u001b[0m in \u001b[0;36m<module>\u001b[0;34m\u001b[0m\n\u001b[1;32m      3\u001b[0m \u001b[0;34m\u001b[0m\u001b[0m\n\u001b[1;32m      4\u001b[0m \u001b[0;34m\u001b[0m\u001b[0m\n\u001b[0;32m----> 5\u001b[0;31m \u001b[0mds\u001b[0m \u001b[0;34m=\u001b[0m \u001b[0mpydicom\u001b[0m\u001b[0;34m.\u001b[0m\u001b[0mdcmread\u001b[0m\u001b[0;34m(\u001b[0m\u001b[0;34m'/Volumes/SEAGATE BAC/MIND/nih/physcosis/Package_1186910/image03/ni/rdocZips/rdoc_2985916/SerieMR-0024-0657-4.dcm'\u001b[0m\u001b[0;34m,\u001b[0m \u001b[0mforce\u001b[0m\u001b[0;34m=\u001b[0m\u001b[0;32mTrue\u001b[0m\u001b[0;34m)\u001b[0m\u001b[0;34m\u001b[0m\u001b[0m\n\u001b[0m\u001b[1;32m      6\u001b[0m \u001b[0;34m\u001b[0m\u001b[0m\n\u001b[1;32m      7\u001b[0m \u001b[0mplt\u001b[0m\u001b[0;34m.\u001b[0m\u001b[0mfigure\u001b[0m\u001b[0;34m(\u001b[0m\u001b[0mfigsize\u001b[0m\u001b[0;34m=\u001b[0m\u001b[0;34m(\u001b[0m\u001b[0;36m20\u001b[0m\u001b[0;34m,\u001b[0m\u001b[0;36m20\u001b[0m\u001b[0;34m)\u001b[0m\u001b[0;34m)\u001b[0m\u001b[0;34m\u001b[0m\u001b[0m\n",
      "\u001b[0;32m/opt/anaconda3/lib/python3.7/site-packages/pydicom/filereader.py\u001b[0m in \u001b[0;36mdcmread\u001b[0;34m(fp, defer_size, stop_before_pixels, force, specific_tags)\u001b[0m\n\u001b[1;32m    859\u001b[0m         \u001b[0mcaller_owns_file\u001b[0m \u001b[0;34m=\u001b[0m \u001b[0;32mFalse\u001b[0m\u001b[0;34m\u001b[0m\u001b[0m\n\u001b[1;32m    860\u001b[0m         \u001b[0mlogger\u001b[0m\u001b[0;34m.\u001b[0m\u001b[0mdebug\u001b[0m\u001b[0;34m(\u001b[0m\u001b[0;34m\"Reading file '{0}'\"\u001b[0m\u001b[0;34m.\u001b[0m\u001b[0mformat\u001b[0m\u001b[0;34m(\u001b[0m\u001b[0mfp\u001b[0m\u001b[0;34m)\u001b[0m\u001b[0;34m)\u001b[0m\u001b[0;34m\u001b[0m\u001b[0m\n\u001b[0;32m--> 861\u001b[0;31m         \u001b[0mfp\u001b[0m \u001b[0;34m=\u001b[0m \u001b[0mopen\u001b[0m\u001b[0;34m(\u001b[0m\u001b[0mfp\u001b[0m\u001b[0;34m,\u001b[0m \u001b[0;34m'rb'\u001b[0m\u001b[0;34m)\u001b[0m\u001b[0;34m\u001b[0m\u001b[0m\n\u001b[0m\u001b[1;32m    862\u001b[0m     \u001b[0;32melif\u001b[0m \u001b[0mfp\u001b[0m \u001b[0;32mis\u001b[0m \u001b[0;32mNone\u001b[0m \u001b[0;32mor\u001b[0m \u001b[0;32mnot\u001b[0m \u001b[0mhasattr\u001b[0m\u001b[0;34m(\u001b[0m\u001b[0mfp\u001b[0m\u001b[0;34m,\u001b[0m \u001b[0;34m\"read\"\u001b[0m\u001b[0;34m)\u001b[0m \u001b[0;32mor\u001b[0m \u001b[0;32mnot\u001b[0m \u001b[0mhasattr\u001b[0m\u001b[0;34m(\u001b[0m\u001b[0mfp\u001b[0m\u001b[0;34m,\u001b[0m \u001b[0;34m\"seek\"\u001b[0m\u001b[0;34m)\u001b[0m\u001b[0;34m:\u001b[0m\u001b[0;34m\u001b[0m\u001b[0m\n\u001b[1;32m    863\u001b[0m         raise TypeError(\"dcmread: Expected a file path or a file-like, \"\n",
      "\u001b[0;31mFileNotFoundError\u001b[0m: [Errno 2] No such file or directory: '/Volumes/SEAGATE BAC/MIND/nih/physcosis/Package_1186910/image03/ni/rdocZips/rdoc_2985916/SerieMR-0024-0657-4.dcm'"
     ]
    }
   ],
   "source": [
    "import matplotlib.pyplot as plt\n",
    "import pydicom\n",
    "\n",
    "\n",
    "ds = pydicom.dcmread('/Volumes/SEAGATE BAC/MIND/nih/physcosis/Package_1186910/image03/ni/rdocZips/rdoc_2985916/SerieMR-0024-0657-4.dcm', force=True)\n",
    "\n",
    "plt.figure(figsize=(20,20))\n",
    "plt.imshow(ds.pixel_array, cmap = 'gray')\n",
    "# print(ds.pixel_array.shape)\n",
    "# print(ds)\n"
   ]
  },
  {
   "cell_type": "code",
   "execution_count": null,
   "id": "fifteen-lottery",
   "metadata": {},
   "outputs": [],
   "source": []
  },
  {
   "cell_type": "code",
   "execution_count": 4,
   "id": "legitimate-doubt",
   "metadata": {},
   "outputs": [],
   "source": [
    "# opens both files using pandas\n",
    "# ndar_subject = pd.read_csv(os.path.join(path, subject_file), delimiter = '\\t')\n",
    "# test = pd.read_csv(os.path.join(path, test_file), delimiter = '\\t')"
   ]
  },
  {
   "cell_type": "code",
   "execution_count": 8,
   "id": "confirmed-italian",
   "metadata": {},
   "outputs": [
    {
     "data": {
      "text/html": [
       "<div>\n",
       "<style scoped>\n",
       "    .dataframe tbody tr th:only-of-type {\n",
       "        vertical-align: middle;\n",
       "    }\n",
       "\n",
       "    .dataframe tbody tr th {\n",
       "        vertical-align: top;\n",
       "    }\n",
       "\n",
       "    .dataframe thead th {\n",
       "        text-align: right;\n",
       "    }\n",
       "</style>\n",
       "<table border=\"1\" class=\"dataframe\">\n",
       "  <thead>\n",
       "    <tr style=\"text-align: right;\">\n",
       "      <th></th>\n",
       "      <th>phenotype</th>\n",
       "      <th>phenotype_description</th>\n",
       "    </tr>\n",
       "  </thead>\n",
       "  <tbody>\n",
       "    <tr>\n",
       "      <th>1</th>\n",
       "      <td>BP I with History of Psychotic Features</td>\n",
       "      <td>BP I with History of Psychotic Features</td>\n",
       "    </tr>\n",
       "    <tr>\n",
       "      <th>2</th>\n",
       "      <td>Schizophrenia</td>\n",
       "      <td>Schizophrenia</td>\n",
       "    </tr>\n",
       "    <tr>\n",
       "      <th>3</th>\n",
       "      <td>Schizophrenia</td>\n",
       "      <td>Schizophrenia</td>\n",
       "    </tr>\n",
       "    <tr>\n",
       "      <th>4</th>\n",
       "      <td>Control</td>\n",
       "      <td>Control</td>\n",
       "    </tr>\n",
       "    <tr>\n",
       "      <th>5</th>\n",
       "      <td>Control</td>\n",
       "      <td>Control</td>\n",
       "    </tr>\n",
       "  </tbody>\n",
       "</table>\n",
       "</div>"
      ],
      "text/plain": [
       "                                 phenotype  \\\n",
       "1  BP I with History of Psychotic Features   \n",
       "2                            Schizophrenia   \n",
       "3                            Schizophrenia   \n",
       "4                                  Control   \n",
       "5                                  Control   \n",
       "\n",
       "                     phenotype_description  \n",
       "1  BP I with History of Psychotic Features  \n",
       "2                            Schizophrenia  \n",
       "3                            Schizophrenia  \n",
       "4                                  Control  \n",
       "5                                  Control  "
      ]
     },
     "execution_count": 8,
     "metadata": {},
     "output_type": "execute_result"
    }
   ],
   "source": [
    "# only for getting rid of first row\n",
    "ndar_subject = ndar_subject[1:]\n",
    "ndar_subject[['phenotype', 'phenotype_description']].head()"
   ]
  },
  {
   "cell_type": "code",
   "execution_count": 10,
   "id": "underlying-hammer",
   "metadata": {},
   "outputs": [
    {
     "data": {
      "text/plain": [
       "array(['BP I with History of Psychotic Features', 'Schizophrenia',\n",
       "       'Control', 'Schizoaffective Disorder',\n",
       "       'Psychotic Disorder Not Otherwise Specified',\n",
       "       'Schizophreniform Disorder', 'EXCLUDED'], dtype=object)"
      ]
     },
     "execution_count": 10,
     "metadata": {},
     "output_type": "execute_result"
    }
   ],
   "source": [
    "# shows the unique phenotypes in the ndar subject file\n",
    "unique = ndar_subject['phenotype'].unique()\n",
    "unique"
   ]
  },
  {
   "cell_type": "code",
   "execution_count": 23,
   "id": "treated-korea",
   "metadata": {},
   "outputs": [
    {
     "name": "stdout",
     "output_type": "stream",
     "text": [
      "Control\n"
     ]
    },
    {
     "data": {
      "text/plain": [
       "69"
      ]
     },
     "execution_count": 23,
     "metadata": {},
     "output_type": "execute_result"
    }
   ],
   "source": [
    "# counting how many of a given phenotype are in the file\n",
    "ind = 2\n",
    "print(unique[ind])\n",
    "np.count_nonzero(ndar_subject['phenotype'] == unique[ind])"
   ]
  },
  {
   "cell_type": "code",
   "execution_count": 24,
   "id": "legislative-india",
   "metadata": {
    "scrolled": true
   },
   "outputs": [
    {
     "name": "stdout",
     "output_type": "stream",
     "text": [
      "Positive:  ['BP I with History of Psychotic Features', 'Psychotic Disorder Not Otherwise Specified']\n",
      "Negative:  ['Control']\n"
     ]
    }
   ],
   "source": [
    "# DEFINE POSITIVE AND NEGATIVE CLASSES BASED ON UNIQUE ARRAY ABOVE\n",
    "\n",
    "positive = [unique[0], unique[4]]\n",
    "negative = [unique[2]]\n",
    "print('Positive: ', positive)\n",
    "print('Negative: ', negative)\n",
    "\n",
    "id_with_pos = ndar_subject[ndar_subject['phenotype'].isin(positive)]['subjectkey']\n",
    "id_with_neg = ndar_subject[ndar_subject['phenotype'].isin(negative)]['subjectkey']\n",
    "\n",
    "# splits dataframes\n",
    "id_with_pos = pd.DataFrame(id_with_pos)\n",
    "id_with_neg = pd.DataFrame(id_with_neg)"
   ]
  },
  {
   "cell_type": "code",
   "execution_count": 25,
   "id": "social-growth",
   "metadata": {},
   "outputs": [
    {
     "name": "stdout",
     "output_type": "stream",
     "text": [
      "68\n"
     ]
    },
    {
     "data": {
      "text/html": [
       "<div>\n",
       "<style scoped>\n",
       "    .dataframe tbody tr th:only-of-type {\n",
       "        vertical-align: middle;\n",
       "    }\n",
       "\n",
       "    .dataframe tbody tr th {\n",
       "        vertical-align: top;\n",
       "    }\n",
       "\n",
       "    .dataframe thead th {\n",
       "        text-align: right;\n",
       "    }\n",
       "</style>\n",
       "<table border=\"1\" class=\"dataframe\">\n",
       "  <thead>\n",
       "    <tr style=\"text-align: right;\">\n",
       "      <th></th>\n",
       "      <th>subjectkey</th>\n",
       "    </tr>\n",
       "  </thead>\n",
       "  <tbody>\n",
       "    <tr>\n",
       "      <th>4</th>\n",
       "      <td>NDARHR781RRM</td>\n",
       "    </tr>\n",
       "    <tr>\n",
       "      <th>5</th>\n",
       "      <td>NDARJP336KFG</td>\n",
       "    </tr>\n",
       "    <tr>\n",
       "      <th>6</th>\n",
       "      <td>NDARBR554REF</td>\n",
       "    </tr>\n",
       "    <tr>\n",
       "      <th>7</th>\n",
       "      <td>NDARLY492WL8</td>\n",
       "    </tr>\n",
       "    <tr>\n",
       "      <th>8</th>\n",
       "      <td>NDARDB050VT3</td>\n",
       "    </tr>\n",
       "    <tr>\n",
       "      <th>...</th>\n",
       "      <td>...</td>\n",
       "    </tr>\n",
       "    <tr>\n",
       "      <th>243</th>\n",
       "      <td>NDAR_INVPB175YBP</td>\n",
       "    </tr>\n",
       "    <tr>\n",
       "      <th>244</th>\n",
       "      <td>NDARBR554REF</td>\n",
       "    </tr>\n",
       "    <tr>\n",
       "      <th>245</th>\n",
       "      <td>NDARDN813JCX</td>\n",
       "    </tr>\n",
       "    <tr>\n",
       "      <th>246</th>\n",
       "      <td>NDARLP609VAH</td>\n",
       "    </tr>\n",
       "    <tr>\n",
       "      <th>248</th>\n",
       "      <td>NDARPR146ATM</td>\n",
       "    </tr>\n",
       "  </tbody>\n",
       "</table>\n",
       "<p>69 rows × 1 columns</p>\n",
       "</div>"
      ],
      "text/plain": [
       "           subjectkey\n",
       "4        NDARHR781RRM\n",
       "5        NDARJP336KFG\n",
       "6        NDARBR554REF\n",
       "7        NDARLY492WL8\n",
       "8        NDARDB050VT3\n",
       "..                ...\n",
       "243  NDAR_INVPB175YBP\n",
       "244      NDARBR554REF\n",
       "245      NDARDN813JCX\n",
       "246      NDARLP609VAH\n",
       "248      NDARPR146ATM\n",
       "\n",
       "[69 rows x 1 columns]"
      ]
     },
     "execution_count": 25,
     "metadata": {},
     "output_type": "execute_result"
    }
   ],
   "source": [
    "print(len(id_with_neg['subjectkey'].unique()))\n",
    "id_with_neg\n"
   ]
  },
  {
   "cell_type": "code",
   "execution_count": 26,
   "id": "compatible-andrews",
   "metadata": {},
   "outputs": [
    {
     "name": "stdout",
     "output_type": "stream",
     "text": [
      "56\n"
     ]
    },
    {
     "data": {
      "text/html": [
       "<div>\n",
       "<style scoped>\n",
       "    .dataframe tbody tr th:only-of-type {\n",
       "        vertical-align: middle;\n",
       "    }\n",
       "\n",
       "    .dataframe tbody tr th {\n",
       "        vertical-align: top;\n",
       "    }\n",
       "\n",
       "    .dataframe thead th {\n",
       "        text-align: right;\n",
       "    }\n",
       "</style>\n",
       "<table border=\"1\" class=\"dataframe\">\n",
       "  <thead>\n",
       "    <tr style=\"text-align: right;\">\n",
       "      <th></th>\n",
       "      <th>subjectkey</th>\n",
       "    </tr>\n",
       "  </thead>\n",
       "  <tbody>\n",
       "    <tr>\n",
       "      <th>1</th>\n",
       "      <td>NDARVP320WNY</td>\n",
       "    </tr>\n",
       "    <tr>\n",
       "      <th>19</th>\n",
       "      <td>NDARPH283PDC</td>\n",
       "    </tr>\n",
       "    <tr>\n",
       "      <th>21</th>\n",
       "      <td>NDARKG108AP3</td>\n",
       "    </tr>\n",
       "    <tr>\n",
       "      <th>32</th>\n",
       "      <td>NDARWW158XLH</td>\n",
       "    </tr>\n",
       "    <tr>\n",
       "      <th>37</th>\n",
       "      <td>NDARKB792VB9</td>\n",
       "    </tr>\n",
       "    <tr>\n",
       "      <th>40</th>\n",
       "      <td>NDARWC649JJW</td>\n",
       "    </tr>\n",
       "    <tr>\n",
       "      <th>42</th>\n",
       "      <td>NDARYR404GW1</td>\n",
       "    </tr>\n",
       "    <tr>\n",
       "      <th>44</th>\n",
       "      <td>NDARMZ642WDT</td>\n",
       "    </tr>\n",
       "    <tr>\n",
       "      <th>49</th>\n",
       "      <td>NDARKA784DW5</td>\n",
       "    </tr>\n",
       "    <tr>\n",
       "      <th>51</th>\n",
       "      <td>NDARDJ710NLM</td>\n",
       "    </tr>\n",
       "    <tr>\n",
       "      <th>54</th>\n",
       "      <td>NDARWM750RR8</td>\n",
       "    </tr>\n",
       "    <tr>\n",
       "      <th>56</th>\n",
       "      <td>NDARCX984TU6</td>\n",
       "    </tr>\n",
       "    <tr>\n",
       "      <th>58</th>\n",
       "      <td>NDARWA396GRQ</td>\n",
       "    </tr>\n",
       "    <tr>\n",
       "      <th>59</th>\n",
       "      <td>NDARFE738GLF</td>\n",
       "    </tr>\n",
       "    <tr>\n",
       "      <th>62</th>\n",
       "      <td>NDARYJ037ERQ</td>\n",
       "    </tr>\n",
       "    <tr>\n",
       "      <th>68</th>\n",
       "      <td>NDARFA237MCV</td>\n",
       "    </tr>\n",
       "    <tr>\n",
       "      <th>70</th>\n",
       "      <td>NDARVT073HP9</td>\n",
       "    </tr>\n",
       "    <tr>\n",
       "      <th>76</th>\n",
       "      <td>NDARFD436JWH</td>\n",
       "    </tr>\n",
       "    <tr>\n",
       "      <th>81</th>\n",
       "      <td>NDARFV772JMF</td>\n",
       "    </tr>\n",
       "    <tr>\n",
       "      <th>82</th>\n",
       "      <td>NDARMT616FT1</td>\n",
       "    </tr>\n",
       "    <tr>\n",
       "      <th>83</th>\n",
       "      <td>NDARGV908PHA</td>\n",
       "    </tr>\n",
       "    <tr>\n",
       "      <th>84</th>\n",
       "      <td>NDARUN193PHV</td>\n",
       "    </tr>\n",
       "    <tr>\n",
       "      <th>86</th>\n",
       "      <td>NDAREE951BPR</td>\n",
       "    </tr>\n",
       "    <tr>\n",
       "      <th>88</th>\n",
       "      <td>NDARWP561AZ4</td>\n",
       "    </tr>\n",
       "    <tr>\n",
       "      <th>91</th>\n",
       "      <td>NDAR_INVKR047XL6</td>\n",
       "    </tr>\n",
       "    <tr>\n",
       "      <th>93</th>\n",
       "      <td>NDARCM669FZP</td>\n",
       "    </tr>\n",
       "    <tr>\n",
       "      <th>95</th>\n",
       "      <td>NDARAB736MBY</td>\n",
       "    </tr>\n",
       "    <tr>\n",
       "      <th>96</th>\n",
       "      <td>NDAREB434XDB</td>\n",
       "    </tr>\n",
       "    <tr>\n",
       "      <th>97</th>\n",
       "      <td>NDARZG956JJ9</td>\n",
       "    </tr>\n",
       "    <tr>\n",
       "      <th>98</th>\n",
       "      <td>NDARZC283RHG</td>\n",
       "    </tr>\n",
       "    <tr>\n",
       "      <th>102</th>\n",
       "      <td>NDARNT919WR9</td>\n",
       "    </tr>\n",
       "    <tr>\n",
       "      <th>107</th>\n",
       "      <td>NDARLN505VYQ</td>\n",
       "    </tr>\n",
       "    <tr>\n",
       "      <th>113</th>\n",
       "      <td>NDARER748VLT</td>\n",
       "    </tr>\n",
       "    <tr>\n",
       "      <th>121</th>\n",
       "      <td>NDARGX023AWG</td>\n",
       "    </tr>\n",
       "    <tr>\n",
       "      <th>122</th>\n",
       "      <td>NDAREP796HJ7</td>\n",
       "    </tr>\n",
       "    <tr>\n",
       "      <th>123</th>\n",
       "      <td>NDARUJ306MHU</td>\n",
       "    </tr>\n",
       "    <tr>\n",
       "      <th>124</th>\n",
       "      <td>NDARMB998XYP</td>\n",
       "    </tr>\n",
       "    <tr>\n",
       "      <th>125</th>\n",
       "      <td>NDARYL715MRT</td>\n",
       "    </tr>\n",
       "    <tr>\n",
       "      <th>131</th>\n",
       "      <td>NDARBM509KAX</td>\n",
       "    </tr>\n",
       "    <tr>\n",
       "      <th>133</th>\n",
       "      <td>NDARMC679TYE</td>\n",
       "    </tr>\n",
       "    <tr>\n",
       "      <th>134</th>\n",
       "      <td>NDARJH036XW5</td>\n",
       "    </tr>\n",
       "    <tr>\n",
       "      <th>137</th>\n",
       "      <td>NDARUX859NY4</td>\n",
       "    </tr>\n",
       "    <tr>\n",
       "      <th>139</th>\n",
       "      <td>NDARKZ205AD3</td>\n",
       "    </tr>\n",
       "    <tr>\n",
       "      <th>146</th>\n",
       "      <td>NDARFX750LV0</td>\n",
       "    </tr>\n",
       "    <tr>\n",
       "      <th>148</th>\n",
       "      <td>NDARBE575UX2</td>\n",
       "    </tr>\n",
       "    <tr>\n",
       "      <th>150</th>\n",
       "      <td>NDARJR546VXG</td>\n",
       "    </tr>\n",
       "    <tr>\n",
       "      <th>154</th>\n",
       "      <td>NDARJB343UCL</td>\n",
       "    </tr>\n",
       "    <tr>\n",
       "      <th>166</th>\n",
       "      <td>NDARFA167ZVZ</td>\n",
       "    </tr>\n",
       "    <tr>\n",
       "      <th>170</th>\n",
       "      <td>NDARLM940AJD</td>\n",
       "    </tr>\n",
       "    <tr>\n",
       "      <th>173</th>\n",
       "      <td>NDARLE862ZEV</td>\n",
       "    </tr>\n",
       "    <tr>\n",
       "      <th>176</th>\n",
       "      <td>NDARTA474CV6</td>\n",
       "    </tr>\n",
       "    <tr>\n",
       "      <th>181</th>\n",
       "      <td>NDARBH741EP6</td>\n",
       "    </tr>\n",
       "    <tr>\n",
       "      <th>185</th>\n",
       "      <td>NDARKR402MV3</td>\n",
       "    </tr>\n",
       "    <tr>\n",
       "      <th>220</th>\n",
       "      <td>NDARNV431FN3</td>\n",
       "    </tr>\n",
       "    <tr>\n",
       "      <th>227</th>\n",
       "      <td>NDAREX900EHW</td>\n",
       "    </tr>\n",
       "    <tr>\n",
       "      <th>234</th>\n",
       "      <td>NDARFL567FPN</td>\n",
       "    </tr>\n",
       "  </tbody>\n",
       "</table>\n",
       "</div>"
      ],
      "text/plain": [
       "           subjectkey\n",
       "1        NDARVP320WNY\n",
       "19       NDARPH283PDC\n",
       "21       NDARKG108AP3\n",
       "32       NDARWW158XLH\n",
       "37       NDARKB792VB9\n",
       "40       NDARWC649JJW\n",
       "42       NDARYR404GW1\n",
       "44       NDARMZ642WDT\n",
       "49       NDARKA784DW5\n",
       "51       NDARDJ710NLM\n",
       "54       NDARWM750RR8\n",
       "56       NDARCX984TU6\n",
       "58       NDARWA396GRQ\n",
       "59       NDARFE738GLF\n",
       "62       NDARYJ037ERQ\n",
       "68       NDARFA237MCV\n",
       "70       NDARVT073HP9\n",
       "76       NDARFD436JWH\n",
       "81       NDARFV772JMF\n",
       "82       NDARMT616FT1\n",
       "83       NDARGV908PHA\n",
       "84       NDARUN193PHV\n",
       "86       NDAREE951BPR\n",
       "88       NDARWP561AZ4\n",
       "91   NDAR_INVKR047XL6\n",
       "93       NDARCM669FZP\n",
       "95       NDARAB736MBY\n",
       "96       NDAREB434XDB\n",
       "97       NDARZG956JJ9\n",
       "98       NDARZC283RHG\n",
       "102      NDARNT919WR9\n",
       "107      NDARLN505VYQ\n",
       "113      NDARER748VLT\n",
       "121      NDARGX023AWG\n",
       "122      NDAREP796HJ7\n",
       "123      NDARUJ306MHU\n",
       "124      NDARMB998XYP\n",
       "125      NDARYL715MRT\n",
       "131      NDARBM509KAX\n",
       "133      NDARMC679TYE\n",
       "134      NDARJH036XW5\n",
       "137      NDARUX859NY4\n",
       "139      NDARKZ205AD3\n",
       "146      NDARFX750LV0\n",
       "148      NDARBE575UX2\n",
       "150      NDARJR546VXG\n",
       "154      NDARJB343UCL\n",
       "166      NDARFA167ZVZ\n",
       "170      NDARLM940AJD\n",
       "173      NDARLE862ZEV\n",
       "176      NDARTA474CV6\n",
       "181      NDARBH741EP6\n",
       "185      NDARKR402MV3\n",
       "220      NDARNV431FN3\n",
       "227      NDAREX900EHW\n",
       "234      NDARFL567FPN"
      ]
     },
     "execution_count": 26,
     "metadata": {},
     "output_type": "execute_result"
    }
   ],
   "source": [
    "print(len(id_with_pos['subjectkey'].unique()))\n",
    "id_with_pos"
   ]
  },
  {
   "cell_type": "code",
   "execution_count": 27,
   "id": "pediatric-retro",
   "metadata": {},
   "outputs": [
    {
     "data": {
      "text/plain": [
       "Index(['collection_id', 'panss01_id', 'dataset_id', 'subjectkey',\n",
       "       'src_subject_id', 'interview_age', 'sex', 'panss_general',\n",
       "       'panss_negative', 'panss_positive', 'pos_p1', 'pos_p2', 'pos_p3',\n",
       "       'pos_p4', 'pos_p5', 'pos_p6', 'pos_p7', 'neg_n1', 'neg_n2', 'neg_n3',\n",
       "       'neg_n4', 'neg_n5', 'neg_n6', 'neg_n7', 'gps_g1', 'gps_g2', 'gps_g3',\n",
       "       'gps_g4', 'gps_g5', 'gps_g6', 'gps_g7', 'gps_g8', 'gps_g9', 'gps_g10',\n",
       "       'gps_g11', 'gps_g12', 'gps_g13', 'gps_g14', 'gps_g15', 'gps_g16',\n",
       "       'collection_title'],\n",
       "      dtype='object')"
      ]
     },
     "execution_count": 27,
     "metadata": {},
     "output_type": "execute_result"
    }
   ],
   "source": [
    "# columns that were in the test selected, make sure you check the option to remove null columns when downloading\n",
    "test.columns"
   ]
  },
  {
   "cell_type": "code",
   "execution_count": 28,
   "id": "checked-emphasis",
   "metadata": {},
   "outputs": [
    {
     "data": {
      "text/html": [
       "<div>\n",
       "<style scoped>\n",
       "    .dataframe tbody tr th:only-of-type {\n",
       "        vertical-align: middle;\n",
       "    }\n",
       "\n",
       "    .dataframe tbody tr th {\n",
       "        vertical-align: top;\n",
       "    }\n",
       "\n",
       "    .dataframe thead th {\n",
       "        text-align: right;\n",
       "    }\n",
       "</style>\n",
       "<table border=\"1\" class=\"dataframe\">\n",
       "  <thead>\n",
       "    <tr style=\"text-align: right;\">\n",
       "      <th></th>\n",
       "      <th>collection_id</th>\n",
       "      <th>panss01_id</th>\n",
       "      <th>dataset_id</th>\n",
       "      <th>subjectkey</th>\n",
       "      <th>src_subject_id</th>\n",
       "      <th>interview_age</th>\n",
       "      <th>sex</th>\n",
       "      <th>panss_general</th>\n",
       "      <th>panss_negative</th>\n",
       "      <th>panss_positive</th>\n",
       "      <th>...</th>\n",
       "      <th>gps_g8</th>\n",
       "      <th>gps_g9</th>\n",
       "      <th>gps_g10</th>\n",
       "      <th>gps_g11</th>\n",
       "      <th>gps_g12</th>\n",
       "      <th>gps_g13</th>\n",
       "      <th>gps_g14</th>\n",
       "      <th>gps_g15</th>\n",
       "      <th>gps_g16</th>\n",
       "      <th>collection_title</th>\n",
       "    </tr>\n",
       "  </thead>\n",
       "  <tbody>\n",
       "    <tr>\n",
       "      <th>56</th>\n",
       "      <td>2102</td>\n",
       "      <td>24930</td>\n",
       "      <td>12897</td>\n",
       "      <td>NDARVP320WNY</td>\n",
       "      <td>M87105090</td>\n",
       "      <td>248</td>\n",
       "      <td>F</td>\n",
       "      <td>26</td>\n",
       "      <td>11</td>\n",
       "      <td>11</td>\n",
       "      <td>...</td>\n",
       "      <td>1</td>\n",
       "      <td>1</td>\n",
       "      <td>2</td>\n",
       "      <td>1</td>\n",
       "      <td>1</td>\n",
       "      <td>1</td>\n",
       "      <td>1</td>\n",
       "      <td>1</td>\n",
       "      <td>2</td>\n",
       "      <td>A Multidimensional Investigation of Cognitive Control Deficits in Psychopathology</td>\n",
       "    </tr>\n",
       "    <tr>\n",
       "      <th>335</th>\n",
       "      <td>2102</td>\n",
       "      <td>27330</td>\n",
       "      <td>14349</td>\n",
       "      <td>NDARVP320WNY</td>\n",
       "      <td>M87105090</td>\n",
       "      <td>248</td>\n",
       "      <td>F</td>\n",
       "      <td>26</td>\n",
       "      <td>11</td>\n",
       "      <td>11</td>\n",
       "      <td>...</td>\n",
       "      <td>1</td>\n",
       "      <td>1</td>\n",
       "      <td>2</td>\n",
       "      <td>1</td>\n",
       "      <td>1</td>\n",
       "      <td>1</td>\n",
       "      <td>1</td>\n",
       "      <td>1</td>\n",
       "      <td>2</td>\n",
       "      <td>A Multidimensional Investigation of Cognitive Control Deficits in Psychopathology</td>\n",
       "    </tr>\n",
       "    <tr>\n",
       "      <th>388</th>\n",
       "      <td>2102</td>\n",
       "      <td>16634</td>\n",
       "      <td>10570</td>\n",
       "      <td>NDARVP320WNY</td>\n",
       "      <td>M87105090</td>\n",
       "      <td>249</td>\n",
       "      <td>F</td>\n",
       "      <td>26</td>\n",
       "      <td>11</td>\n",
       "      <td>11</td>\n",
       "      <td>...</td>\n",
       "      <td>1</td>\n",
       "      <td>1</td>\n",
       "      <td>2</td>\n",
       "      <td>1</td>\n",
       "      <td>1</td>\n",
       "      <td>1</td>\n",
       "      <td>1</td>\n",
       "      <td>1</td>\n",
       "      <td>2</td>\n",
       "      <td>A Multidimensional Investigation of Cognitive Control Deficits in Psychopathology</td>\n",
       "    </tr>\n",
       "  </tbody>\n",
       "</table>\n",
       "<p>3 rows × 41 columns</p>\n",
       "</div>"
      ],
      "text/plain": [
       "    collection_id panss01_id dataset_id    subjectkey src_subject_id  \\\n",
       "56           2102      24930      12897  NDARVP320WNY      M87105090   \n",
       "335          2102      27330      14349  NDARVP320WNY      M87105090   \n",
       "388          2102      16634      10570  NDARVP320WNY      M87105090   \n",
       "\n",
       "    interview_age sex panss_general panss_negative panss_positive  ... gps_g8  \\\n",
       "56            248   F            26             11             11  ...      1   \n",
       "335           248   F            26             11             11  ...      1   \n",
       "388           249   F            26             11             11  ...      1   \n",
       "\n",
       "    gps_g9 gps_g10 gps_g11 gps_g12 gps_g13 gps_g14 gps_g15 gps_g16  \\\n",
       "56       1       2       1       1       1       1       1       2   \n",
       "335      1       2       1       1       1       1       1       2   \n",
       "388      1       2       1       1       1       1       1       2   \n",
       "\n",
       "                                                                      collection_title  \n",
       "56   A Multidimensional Investigation of Cognitive Control Deficits in Psychopathology  \n",
       "335  A Multidimensional Investigation of Cognitive Control Deficits in Psychopathology  \n",
       "388  A Multidimensional Investigation of Cognitive Control Deficits in Psychopathology  \n",
       "\n",
       "[3 rows x 41 columns]"
      ]
     },
     "execution_count": 28,
     "metadata": {},
     "output_type": "execute_result"
    }
   ],
   "source": [
    "# looking for duplicates\n",
    "# some tests have duplicate entrys for the same subject based on follow up visits\n",
    "test[test['subjectkey'] == id_with_pos['subjectkey'].iloc[0]]\n"
   ]
  },
  {
   "cell_type": "code",
   "execution_count": 29,
   "id": "hourly-engineering",
   "metadata": {
    "scrolled": false
   },
   "outputs": [
    {
     "name": "stdout",
     "output_type": "stream",
     "text": [
      "Before duplicate dropping\n",
      "202\n",
      "52\n",
      "After duplicated dropping\n",
      "202\n",
      "34\n"
     ]
    }
   ],
   "source": [
    "with_ = test['subjectkey'].isin(id_with_pos['subjectkey'])\n",
    "without_ = test['subjectkey'].isin(id_with_neg['subjectkey'])\n",
    "pos_answers = test[with_]\n",
    "neg_answers = test[without_]\n",
    "print('Before duplicate dropping')\n",
    "print(len(pos_answers))\n",
    "print(len(neg_answers))\n",
    "\n",
    "# dropping duplicates \n",
    "\n",
    "pos_answer = pos_answers.drop_duplicates(subset=['subjectkey'], keep='last')\n",
    "neg_answers = neg_answers.drop_duplicates(subset = ['subjectkey'], keep='last')\n",
    "print('After duplicated dropping')\n",
    "print(len(pos_answers))\n",
    "print(len(neg_answers))"
   ]
  },
  {
   "cell_type": "code",
   "execution_count": 30,
   "id": "affiliated-taylor",
   "metadata": {},
   "outputs": [
    {
     "data": {
      "text/html": [
       "<div>\n",
       "<style scoped>\n",
       "    .dataframe tbody tr th:only-of-type {\n",
       "        vertical-align: middle;\n",
       "    }\n",
       "\n",
       "    .dataframe tbody tr th {\n",
       "        vertical-align: top;\n",
       "    }\n",
       "\n",
       "    .dataframe thead th {\n",
       "        text-align: right;\n",
       "    }\n",
       "</style>\n",
       "<table border=\"1\" class=\"dataframe\">\n",
       "  <thead>\n",
       "    <tr style=\"text-align: right;\">\n",
       "      <th></th>\n",
       "      <th>collection_id</th>\n",
       "      <th>panss01_id</th>\n",
       "      <th>dataset_id</th>\n",
       "      <th>subjectkey</th>\n",
       "      <th>src_subject_id</th>\n",
       "      <th>interview_age</th>\n",
       "      <th>sex</th>\n",
       "      <th>panss_general</th>\n",
       "      <th>panss_negative</th>\n",
       "      <th>panss_positive</th>\n",
       "      <th>...</th>\n",
       "      <th>gps_g8</th>\n",
       "      <th>gps_g9</th>\n",
       "      <th>gps_g10</th>\n",
       "      <th>gps_g11</th>\n",
       "      <th>gps_g12</th>\n",
       "      <th>gps_g13</th>\n",
       "      <th>gps_g14</th>\n",
       "      <th>gps_g15</th>\n",
       "      <th>gps_g16</th>\n",
       "      <th>collection_title</th>\n",
       "    </tr>\n",
       "  </thead>\n",
       "  <tbody>\n",
       "    <tr>\n",
       "      <th>9</th>\n",
       "      <td>2102</td>\n",
       "      <td>20287</td>\n",
       "      <td>11269</td>\n",
       "      <td>NDARJH036XW5</td>\n",
       "      <td>M87184056</td>\n",
       "      <td>546</td>\n",
       "      <td>M</td>\n",
       "      <td>20</td>\n",
       "      <td>7</td>\n",
       "      <td>8</td>\n",
       "      <td>...</td>\n",
       "      <td>1</td>\n",
       "      <td>1</td>\n",
       "      <td>1</td>\n",
       "      <td>1</td>\n",
       "      <td>1</td>\n",
       "      <td>1</td>\n",
       "      <td>1</td>\n",
       "      <td>1</td>\n",
       "      <td>1</td>\n",
       "      <td>A Multidimensional Investigation of Cognitive Control Deficits in Psychopathology</td>\n",
       "    </tr>\n",
       "    <tr>\n",
       "      <th>10</th>\n",
       "      <td>2102</td>\n",
       "      <td>20306</td>\n",
       "      <td>11269</td>\n",
       "      <td>NDARNV431FN3</td>\n",
       "      <td>M87174822</td>\n",
       "      <td>473</td>\n",
       "      <td>M</td>\n",
       "      <td>16</td>\n",
       "      <td>9</td>\n",
       "      <td>8</td>\n",
       "      <td>...</td>\n",
       "      <td>1</td>\n",
       "      <td>1</td>\n",
       "      <td>1</td>\n",
       "      <td>1</td>\n",
       "      <td>1</td>\n",
       "      <td>1</td>\n",
       "      <td>1</td>\n",
       "      <td>1</td>\n",
       "      <td>1</td>\n",
       "      <td>A Multidimensional Investigation of Cognitive Control Deficits in Psychopathology</td>\n",
       "    </tr>\n",
       "    <tr>\n",
       "      <th>23</th>\n",
       "      <td>2102</td>\n",
       "      <td>20301</td>\n",
       "      <td>11269</td>\n",
       "      <td>NDARYL715MRT</td>\n",
       "      <td>M87176093</td>\n",
       "      <td>386</td>\n",
       "      <td>M</td>\n",
       "      <td>40</td>\n",
       "      <td>14</td>\n",
       "      <td>18</td>\n",
       "      <td>...</td>\n",
       "      <td>1</td>\n",
       "      <td>3</td>\n",
       "      <td>3</td>\n",
       "      <td>1</td>\n",
       "      <td>2</td>\n",
       "      <td>2</td>\n",
       "      <td>1</td>\n",
       "      <td>2</td>\n",
       "      <td>1</td>\n",
       "      <td>A Multidimensional Investigation of Cognitive Control Deficits in Psychopathology</td>\n",
       "    </tr>\n",
       "    <tr>\n",
       "      <th>24</th>\n",
       "      <td>2102</td>\n",
       "      <td>20293</td>\n",
       "      <td>11269</td>\n",
       "      <td>NDARMZ642WDT</td>\n",
       "      <td>M87118927</td>\n",
       "      <td>271</td>\n",
       "      <td>M</td>\n",
       "      <td>25</td>\n",
       "      <td>8</td>\n",
       "      <td>15</td>\n",
       "      <td>...</td>\n",
       "      <td>1</td>\n",
       "      <td>1</td>\n",
       "      <td>1</td>\n",
       "      <td>1</td>\n",
       "      <td>1</td>\n",
       "      <td>1</td>\n",
       "      <td>1</td>\n",
       "      <td>1</td>\n",
       "      <td>1</td>\n",
       "      <td>A Multidimensional Investigation of Cognitive Control Deficits in Psychopathology</td>\n",
       "    </tr>\n",
       "    <tr>\n",
       "      <th>27</th>\n",
       "      <td>2102</td>\n",
       "      <td>20278</td>\n",
       "      <td>11269</td>\n",
       "      <td>NDARGX023AWG</td>\n",
       "      <td>M87173419</td>\n",
       "      <td>298</td>\n",
       "      <td>F</td>\n",
       "      <td>23</td>\n",
       "      <td>7</td>\n",
       "      <td>12</td>\n",
       "      <td>...</td>\n",
       "      <td>1</td>\n",
       "      <td>1</td>\n",
       "      <td>1</td>\n",
       "      <td>1</td>\n",
       "      <td>1</td>\n",
       "      <td>2</td>\n",
       "      <td>2</td>\n",
       "      <td>1</td>\n",
       "      <td>1</td>\n",
       "      <td>A Multidimensional Investigation of Cognitive Control Deficits in Psychopathology</td>\n",
       "    </tr>\n",
       "  </tbody>\n",
       "</table>\n",
       "<p>5 rows × 41 columns</p>\n",
       "</div>"
      ],
      "text/plain": [
       "   collection_id panss01_id dataset_id    subjectkey src_subject_id  \\\n",
       "9           2102      20287      11269  NDARJH036XW5      M87184056   \n",
       "10          2102      20306      11269  NDARNV431FN3      M87174822   \n",
       "23          2102      20301      11269  NDARYL715MRT      M87176093   \n",
       "24          2102      20293      11269  NDARMZ642WDT      M87118927   \n",
       "27          2102      20278      11269  NDARGX023AWG      M87173419   \n",
       "\n",
       "   interview_age sex panss_general panss_negative panss_positive  ... gps_g8  \\\n",
       "9            546   M            20              7              8  ...      1   \n",
       "10           473   M            16              9              8  ...      1   \n",
       "23           386   M            40             14             18  ...      1   \n",
       "24           271   M            25              8             15  ...      1   \n",
       "27           298   F            23              7             12  ...      1   \n",
       "\n",
       "   gps_g9 gps_g10 gps_g11 gps_g12 gps_g13 gps_g14 gps_g15 gps_g16  \\\n",
       "9       1       1       1       1       1       1       1       1   \n",
       "10      1       1       1       1       1       1       1       1   \n",
       "23      3       3       1       2       2       1       2       1   \n",
       "24      1       1       1       1       1       1       1       1   \n",
       "27      1       1       1       1       2       2       1       1   \n",
       "\n",
       "                                                                     collection_title  \n",
       "9   A Multidimensional Investigation of Cognitive Control Deficits in Psychopathology  \n",
       "10  A Multidimensional Investigation of Cognitive Control Deficits in Psychopathology  \n",
       "23  A Multidimensional Investigation of Cognitive Control Deficits in Psychopathology  \n",
       "24  A Multidimensional Investigation of Cognitive Control Deficits in Psychopathology  \n",
       "27  A Multidimensional Investigation of Cognitive Control Deficits in Psychopathology  \n",
       "\n",
       "[5 rows x 41 columns]"
      ]
     },
     "execution_count": 30,
     "metadata": {},
     "output_type": "execute_result"
    }
   ],
   "source": [
    "pos_answers.head()"
   ]
  },
  {
   "cell_type": "code",
   "execution_count": 31,
   "id": "german-exhibition",
   "metadata": {},
   "outputs": [
    {
     "data": {
      "text/html": [
       "<div>\n",
       "<style scoped>\n",
       "    .dataframe tbody tr th:only-of-type {\n",
       "        vertical-align: middle;\n",
       "    }\n",
       "\n",
       "    .dataframe tbody tr th {\n",
       "        vertical-align: top;\n",
       "    }\n",
       "\n",
       "    .dataframe thead th {\n",
       "        text-align: right;\n",
       "    }\n",
       "</style>\n",
       "<table border=\"1\" class=\"dataframe\">\n",
       "  <thead>\n",
       "    <tr style=\"text-align: right;\">\n",
       "      <th></th>\n",
       "      <th>collection_id</th>\n",
       "      <th>panss01_id</th>\n",
       "      <th>dataset_id</th>\n",
       "      <th>subjectkey</th>\n",
       "      <th>src_subject_id</th>\n",
       "      <th>interview_age</th>\n",
       "      <th>sex</th>\n",
       "      <th>panss_general</th>\n",
       "      <th>panss_negative</th>\n",
       "      <th>panss_positive</th>\n",
       "      <th>...</th>\n",
       "      <th>gps_g8</th>\n",
       "      <th>gps_g9</th>\n",
       "      <th>gps_g10</th>\n",
       "      <th>gps_g11</th>\n",
       "      <th>gps_g12</th>\n",
       "      <th>gps_g13</th>\n",
       "      <th>gps_g14</th>\n",
       "      <th>gps_g15</th>\n",
       "      <th>gps_g16</th>\n",
       "      <th>collection_title</th>\n",
       "    </tr>\n",
       "  </thead>\n",
       "  <tbody>\n",
       "    <tr>\n",
       "      <th>364</th>\n",
       "      <td>2102</td>\n",
       "      <td>16618</td>\n",
       "      <td>10570</td>\n",
       "      <td>NDARNY070GND</td>\n",
       "      <td>M87144836</td>\n",
       "      <td>360</td>\n",
       "      <td>M</td>\n",
       "      <td>NaN</td>\n",
       "      <td>NaN</td>\n",
       "      <td>NaN</td>\n",
       "      <td>...</td>\n",
       "      <td>NaN</td>\n",
       "      <td>NaN</td>\n",
       "      <td>NaN</td>\n",
       "      <td>NaN</td>\n",
       "      <td>NaN</td>\n",
       "      <td>NaN</td>\n",
       "      <td>NaN</td>\n",
       "      <td>NaN</td>\n",
       "      <td>NaN</td>\n",
       "      <td>A Multidimensional Investigation of Cognitive Control Deficits in Psychopathology</td>\n",
       "    </tr>\n",
       "    <tr>\n",
       "      <th>378</th>\n",
       "      <td>2102</td>\n",
       "      <td>16602</td>\n",
       "      <td>10570</td>\n",
       "      <td>NDARHY538WX9</td>\n",
       "      <td>M87162710</td>\n",
       "      <td>378</td>\n",
       "      <td>M</td>\n",
       "      <td>NaN</td>\n",
       "      <td>NaN</td>\n",
       "      <td>NaN</td>\n",
       "      <td>...</td>\n",
       "      <td>NaN</td>\n",
       "      <td>NaN</td>\n",
       "      <td>NaN</td>\n",
       "      <td>NaN</td>\n",
       "      <td>NaN</td>\n",
       "      <td>NaN</td>\n",
       "      <td>NaN</td>\n",
       "      <td>NaN</td>\n",
       "      <td>NaN</td>\n",
       "      <td>A Multidimensional Investigation of Cognitive Control Deficits in Psychopathology</td>\n",
       "    </tr>\n",
       "    <tr>\n",
       "      <th>379</th>\n",
       "      <td>2102</td>\n",
       "      <td>16636</td>\n",
       "      <td>10570</td>\n",
       "      <td>NDARVT518YN2</td>\n",
       "      <td>M87165264</td>\n",
       "      <td>335</td>\n",
       "      <td>M</td>\n",
       "      <td>NaN</td>\n",
       "      <td>NaN</td>\n",
       "      <td>NaN</td>\n",
       "      <td>...</td>\n",
       "      <td>NaN</td>\n",
       "      <td>NaN</td>\n",
       "      <td>NaN</td>\n",
       "      <td>NaN</td>\n",
       "      <td>NaN</td>\n",
       "      <td>NaN</td>\n",
       "      <td>NaN</td>\n",
       "      <td>NaN</td>\n",
       "      <td>NaN</td>\n",
       "      <td>A Multidimensional Investigation of Cognitive Control Deficits in Psychopathology</td>\n",
       "    </tr>\n",
       "    <tr>\n",
       "      <th>381</th>\n",
       "      <td>2102</td>\n",
       "      <td>16600</td>\n",
       "      <td>10570</td>\n",
       "      <td>NDARHN169VWN</td>\n",
       "      <td>M87171484</td>\n",
       "      <td>405</td>\n",
       "      <td>F</td>\n",
       "      <td>NaN</td>\n",
       "      <td>NaN</td>\n",
       "      <td>NaN</td>\n",
       "      <td>...</td>\n",
       "      <td>NaN</td>\n",
       "      <td>NaN</td>\n",
       "      <td>NaN</td>\n",
       "      <td>NaN</td>\n",
       "      <td>NaN</td>\n",
       "      <td>NaN</td>\n",
       "      <td>NaN</td>\n",
       "      <td>NaN</td>\n",
       "      <td>NaN</td>\n",
       "      <td>A Multidimensional Investigation of Cognitive Control Deficits in Psychopathology</td>\n",
       "    </tr>\n",
       "    <tr>\n",
       "      <th>385</th>\n",
       "      <td>2102</td>\n",
       "      <td>16625</td>\n",
       "      <td>10570</td>\n",
       "      <td>NDARRD601FX1</td>\n",
       "      <td>M87183668</td>\n",
       "      <td>347</td>\n",
       "      <td>M</td>\n",
       "      <td>NaN</td>\n",
       "      <td>NaN</td>\n",
       "      <td>NaN</td>\n",
       "      <td>...</td>\n",
       "      <td>NaN</td>\n",
       "      <td>NaN</td>\n",
       "      <td>NaN</td>\n",
       "      <td>NaN</td>\n",
       "      <td>NaN</td>\n",
       "      <td>NaN</td>\n",
       "      <td>NaN</td>\n",
       "      <td>NaN</td>\n",
       "      <td>NaN</td>\n",
       "      <td>A Multidimensional Investigation of Cognitive Control Deficits in Psychopathology</td>\n",
       "    </tr>\n",
       "  </tbody>\n",
       "</table>\n",
       "<p>5 rows × 41 columns</p>\n",
       "</div>"
      ],
      "text/plain": [
       "    collection_id panss01_id dataset_id    subjectkey src_subject_id  \\\n",
       "364          2102      16618      10570  NDARNY070GND      M87144836   \n",
       "378          2102      16602      10570  NDARHY538WX9      M87162710   \n",
       "379          2102      16636      10570  NDARVT518YN2      M87165264   \n",
       "381          2102      16600      10570  NDARHN169VWN      M87171484   \n",
       "385          2102      16625      10570  NDARRD601FX1      M87183668   \n",
       "\n",
       "    interview_age sex panss_general panss_negative panss_positive  ... gps_g8  \\\n",
       "364           360   M           NaN            NaN            NaN  ...    NaN   \n",
       "378           378   M           NaN            NaN            NaN  ...    NaN   \n",
       "379           335   M           NaN            NaN            NaN  ...    NaN   \n",
       "381           405   F           NaN            NaN            NaN  ...    NaN   \n",
       "385           347   M           NaN            NaN            NaN  ...    NaN   \n",
       "\n",
       "    gps_g9 gps_g10 gps_g11 gps_g12 gps_g13 gps_g14 gps_g15 gps_g16  \\\n",
       "364    NaN     NaN     NaN     NaN     NaN     NaN     NaN     NaN   \n",
       "378    NaN     NaN     NaN     NaN     NaN     NaN     NaN     NaN   \n",
       "379    NaN     NaN     NaN     NaN     NaN     NaN     NaN     NaN   \n",
       "381    NaN     NaN     NaN     NaN     NaN     NaN     NaN     NaN   \n",
       "385    NaN     NaN     NaN     NaN     NaN     NaN     NaN     NaN   \n",
       "\n",
       "                                                                      collection_title  \n",
       "364  A Multidimensional Investigation of Cognitive Control Deficits in Psychopathology  \n",
       "378  A Multidimensional Investigation of Cognitive Control Deficits in Psychopathology  \n",
       "379  A Multidimensional Investigation of Cognitive Control Deficits in Psychopathology  \n",
       "381  A Multidimensional Investigation of Cognitive Control Deficits in Psychopathology  \n",
       "385  A Multidimensional Investigation of Cognitive Control Deficits in Psychopathology  \n",
       "\n",
       "[5 rows x 41 columns]"
      ]
     },
     "execution_count": 31,
     "metadata": {},
     "output_type": "execute_result"
    }
   ],
   "source": [
    "neg_answers.head()"
   ]
  },
  {
   "cell_type": "code",
   "execution_count": 32,
   "id": "substantial-champagne",
   "metadata": {},
   "outputs": [
    {
     "data": {
      "text/plain": [
       "Index(['collection_id', 'panss01_id', 'dataset_id', 'subjectkey',\n",
       "       'src_subject_id', 'interview_age', 'sex', 'panss_general',\n",
       "       'panss_negative', 'panss_positive', 'pos_p1', 'pos_p2', 'pos_p3',\n",
       "       'pos_p4', 'pos_p5', 'pos_p6', 'pos_p7', 'neg_n1', 'neg_n2', 'neg_n3',\n",
       "       'neg_n4', 'neg_n5', 'neg_n6', 'neg_n7', 'gps_g1', 'gps_g2', 'gps_g3',\n",
       "       'gps_g4', 'gps_g5', 'gps_g6', 'gps_g7', 'gps_g8', 'gps_g9', 'gps_g10',\n",
       "       'gps_g11', 'gps_g12', 'gps_g13', 'gps_g14', 'gps_g15', 'gps_g16',\n",
       "       'collection_title'],\n",
       "      dtype='object')"
      ]
     },
     "execution_count": 32,
     "metadata": {},
     "output_type": "execute_result"
    }
   ],
   "source": [
    "def plot_hist(column_name):\n",
    "    plt.figure()\n",
    "    pos_ext = np.array(pos_answers[column_name]).astype('int32')\n",
    "    neg_ext = np.array(neg_answers[column_name]).astype('int32')\n",
    "    bin_min = min(pos_ext.min(), neg_ext.min())\n",
    "    bin_max = max(pos_ext.max(), neg_ext.max())\n",
    "    plt.hist((pos_ext, neg_ext), bins = bin_max - bin_min, label = ['Positive', 'Negative'], density = True)\n",
    "    plt.title(column_name)\n",
    "    plt.xlabel('Answer')\n",
    "    plt.ylabel('Proportion')\n",
    "    plt.legend()\n",
    "    plt.show()\n",
    "test.columns"
   ]
  },
  {
   "cell_type": "code",
   "execution_count": 33,
   "id": "taken-lingerie",
   "metadata": {},
   "outputs": [],
   "source": [
    "# np.array(neg_answers['sum_pos']).astype('int32')"
   ]
  },
  {
   "cell_type": "code",
   "execution_count": 38,
   "id": "parallel-memorial",
   "metadata": {},
   "outputs": [],
   "source": [
    "# choose which columns from above to plot\n",
    "\n",
    "columns_to_plot = [\n",
    "       'panss_negative', 'panss_positive', 'pos_p1', 'pos_p2', 'pos_p3',\n",
    "       'pos_p4', 'pos_p5', 'pos_p6', 'pos_p7', 'neg_n1', 'neg_n2', 'neg_n3',\n",
    "       'neg_n4', 'neg_n5', 'neg_n6', 'neg_n7', 'gps_g1', 'gps_g2', 'gps_g3',\n",
    "       'gps_g4', 'gps_g5', 'gps_g6', 'gps_g7', 'gps_g8', 'gps_g9', 'gps_g10',\n",
    "       'gps_g11', 'gps_g12', 'gps_g13', 'gps_g14', 'gps_g15', 'gps_g16']\n",
    "\n"
   ]
  },
  {
   "cell_type": "code",
   "execution_count": 39,
   "id": "limited-picnic",
   "metadata": {
    "scrolled": false
   },
   "outputs": [
    {
     "ename": "ValueError",
     "evalue": "cannot convert float NaN to integer",
     "output_type": "error",
     "traceback": [
      "\u001b[0;31m----------------------------------------------------------------------\u001b[0m",
      "\u001b[0;31mValueError\u001b[0m                           Traceback (most recent call last)",
      "\u001b[0;32m<ipython-input-39-b47d7eb59ce2>\u001b[0m in \u001b[0;36m<module>\u001b[0;34m\u001b[0m\n\u001b[1;32m      1\u001b[0m \u001b[0;32mfor\u001b[0m \u001b[0mcolumn\u001b[0m \u001b[0;32min\u001b[0m \u001b[0mcolumns_to_plot\u001b[0m\u001b[0;34m:\u001b[0m\u001b[0;34m\u001b[0m\u001b[0m\n\u001b[0;32m----> 2\u001b[0;31m     \u001b[0mplot_hist\u001b[0m\u001b[0;34m(\u001b[0m\u001b[0mcolumn\u001b[0m\u001b[0;34m)\u001b[0m\u001b[0;34m\u001b[0m\u001b[0m\n\u001b[0m",
      "\u001b[0;32m<ipython-input-32-645c7297b39b>\u001b[0m in \u001b[0;36mplot_hist\u001b[0;34m(column_name)\u001b[0m\n\u001b[1;32m      2\u001b[0m     \u001b[0mplt\u001b[0m\u001b[0;34m.\u001b[0m\u001b[0mfigure\u001b[0m\u001b[0;34m(\u001b[0m\u001b[0;34m)\u001b[0m\u001b[0;34m\u001b[0m\u001b[0m\n\u001b[1;32m      3\u001b[0m     \u001b[0mpos_ext\u001b[0m \u001b[0;34m=\u001b[0m \u001b[0mnp\u001b[0m\u001b[0;34m.\u001b[0m\u001b[0marray\u001b[0m\u001b[0;34m(\u001b[0m\u001b[0mpos_answers\u001b[0m\u001b[0;34m[\u001b[0m\u001b[0mcolumn_name\u001b[0m\u001b[0;34m]\u001b[0m\u001b[0;34m)\u001b[0m\u001b[0;34m.\u001b[0m\u001b[0mastype\u001b[0m\u001b[0;34m(\u001b[0m\u001b[0;34m'int32'\u001b[0m\u001b[0;34m)\u001b[0m\u001b[0;34m\u001b[0m\u001b[0m\n\u001b[0;32m----> 4\u001b[0;31m     \u001b[0mneg_ext\u001b[0m \u001b[0;34m=\u001b[0m \u001b[0mnp\u001b[0m\u001b[0;34m.\u001b[0m\u001b[0marray\u001b[0m\u001b[0;34m(\u001b[0m\u001b[0mneg_answers\u001b[0m\u001b[0;34m[\u001b[0m\u001b[0mcolumn_name\u001b[0m\u001b[0;34m]\u001b[0m\u001b[0;34m)\u001b[0m\u001b[0;34m.\u001b[0m\u001b[0mastype\u001b[0m\u001b[0;34m(\u001b[0m\u001b[0;34m'int32'\u001b[0m\u001b[0;34m)\u001b[0m\u001b[0;34m\u001b[0m\u001b[0m\n\u001b[0m\u001b[1;32m      5\u001b[0m     \u001b[0mbin_min\u001b[0m \u001b[0;34m=\u001b[0m \u001b[0mmin\u001b[0m\u001b[0;34m(\u001b[0m\u001b[0mpos_ext\u001b[0m\u001b[0;34m.\u001b[0m\u001b[0mmin\u001b[0m\u001b[0;34m(\u001b[0m\u001b[0;34m)\u001b[0m\u001b[0;34m,\u001b[0m \u001b[0mneg_ext\u001b[0m\u001b[0;34m.\u001b[0m\u001b[0mmin\u001b[0m\u001b[0;34m(\u001b[0m\u001b[0;34m)\u001b[0m\u001b[0;34m)\u001b[0m\u001b[0;34m\u001b[0m\u001b[0m\n\u001b[1;32m      6\u001b[0m     \u001b[0mbin_max\u001b[0m \u001b[0;34m=\u001b[0m \u001b[0mmax\u001b[0m\u001b[0;34m(\u001b[0m\u001b[0mpos_ext\u001b[0m\u001b[0;34m.\u001b[0m\u001b[0mmax\u001b[0m\u001b[0;34m(\u001b[0m\u001b[0;34m)\u001b[0m\u001b[0;34m,\u001b[0m \u001b[0mneg_ext\u001b[0m\u001b[0;34m.\u001b[0m\u001b[0mmax\u001b[0m\u001b[0;34m(\u001b[0m\u001b[0;34m)\u001b[0m\u001b[0;34m)\u001b[0m\u001b[0;34m\u001b[0m\u001b[0m\n",
      "\u001b[0;31mValueError\u001b[0m: cannot convert float NaN to integer"
     ]
    },
    {
     "data": {
      "text/plain": [
       "<Figure size 432x288 with 0 Axes>"
      ]
     },
     "metadata": {},
     "output_type": "display_data"
    }
   ],
   "source": [
    "for column in columns_to_plot:\n",
    "    plot_hist(column)"
   ]
  },
  {
   "cell_type": "code",
   "execution_count": 102,
   "id": "sticky-shakespeare",
   "metadata": {},
   "outputs": [],
   "source": [
    "data = np.concatenate((np.array(pos_answers[columns_to_plot]), np.array(neg_answers[columns_to_plot])))"
   ]
  },
  {
   "cell_type": "code",
   "execution_count": 103,
   "id": "known-budapest",
   "metadata": {},
   "outputs": [
    {
     "data": {
      "text/plain": [
       "(359, 10)"
      ]
     },
     "execution_count": 103,
     "metadata": {},
     "output_type": "execute_result"
    }
   ],
   "source": [
    "data.shape"
   ]
  },
  {
   "cell_type": "code",
   "execution_count": 104,
   "id": "going-marking",
   "metadata": {},
   "outputs": [
    {
     "name": "stdout",
     "output_type": "stream",
     "text": [
      "(297,)\n",
      "(62,)\n"
     ]
    },
    {
     "data": {
      "text/plain": [
       "(359,)"
      ]
     },
     "execution_count": 104,
     "metadata": {},
     "output_type": "execute_result"
    }
   ],
   "source": [
    "\n",
    "l1 = np.tile([1], len(pos_answers[columns_to_plot]))\n",
    "print(l1.shape)\n",
    "l2 = np.tile([0], len(neg_answers[columns_to_plot]))\n",
    "print(l2.shape)\n",
    "labels = np.concatenate((l1,l2))\n",
    "labels.shape                         "
   ]
  },
  {
   "cell_type": "code",
   "execution_count": 117,
   "id": "optional-baking",
   "metadata": {},
   "outputs": [
    {
     "data": {
      "text/plain": [
       "array([[-3.97270843e-05,  1.51135019e-04, -1.76692538e-04,\n",
       "        -1.06357674e-04, -7.90113462e-05, -1.26844331e-04,\n",
       "         1.11027836e-04, -4.77247023e-05, -5.51213272e-05,\n",
       "         1.78045422e-05]])"
      ]
     },
     "execution_count": 117,
     "metadata": {},
     "output_type": "execute_result"
    }
   ],
   "source": [
    "clf = svm.SVC(kernel='linear')\n",
    "clf.fit(data, labels)\n",
    "clf.coef_"
   ]
  },
  {
   "cell_type": "code",
   "execution_count": 121,
   "id": "hungry-equipment",
   "metadata": {},
   "outputs": [
    {
     "data": {
      "text/plain": [
       "<matplotlib.collections.PathCollection at 0x7fe445e89a90>"
      ]
     },
     "execution_count": 121,
     "metadata": {},
     "output_type": "execute_result"
    },
    {
     "data": {
      "image/png": "[encoded data removed]",
      "text/plain": [
       "<Figure size 432x288 with 1 Axes>"
      ]
     },
     "metadata": {
      "needs_background": "light"
     },
     "output_type": "display_data"
    }
   ],
   "source": [
    "plt.scatter(data[:,1], data[:,4], labels)"
   ]
  },
  {
   "cell_type": "code",
   "execution_count": null,
   "id": "killing-arabic",
   "metadata": {},
   "outputs": [],
   "source": []
  }
 ],
 "metadata": {
  "kernelspec": {
   "display_name": "Python 3",
   "language": "python",
   "name": "python3"
  },
  "language_info": {
   "codemirror_mode": {
    "name": "ipython",
    "version": 3
   },
   "file_extension": ".py",
   "mimetype": "text/x-python",
   "name": "python",
   "nbconvert_exporter": "python",
   "pygments_lexer": "ipython3",
   "version": "3.7.0"
  }
 },
 "nbformat": 4,
 "nbformat_minor": 5
}
