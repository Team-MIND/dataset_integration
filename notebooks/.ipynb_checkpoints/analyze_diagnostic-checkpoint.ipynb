{
 "cells": [
  {
   "cell_type": "code",
   "execution_count": 72,
   "metadata": {},
   "outputs": [],
   "source": [
    "import matplotlib.pyplot as plt\n",
    "import numpy as np\n",
    "import pandas as pd\n",
    "import os\n",
    "pd.options.display.max_colwidth = 1000\n",
    "from sklearn import svm"
   ]
  },
  {
   "cell_type": "code",
   "execution_count": 5,
   "metadata": {},
   "outputs": [
    {
     "data": {
      "text/plain": [
       "['dq01.txt',\n",
       " 'Collection_Documents',\n",
       " 'uclals01.txt',\n",
       " 'nri01.txt',\n",
       " 'meaq01.txt',\n",
       " 'ndar_subject01.txt',\n",
       " 'ius01.txt',\n",
       " 'idts01.txt',\n",
       " 'panas01.txt',\n",
       " 'bfi60item01.txt',\n",
       " 'package_info.txt',\n",
       " 'lsps01.txt',\n",
       " 'ambi01.txt',\n",
       " 'epqr01.txt',\n",
       " 'audit01.txt',\n",
       " 'cses01.txt',\n",
       " 'rmbi01.txt',\n",
       " 'who01.txt',\n",
       " 'idas01.txt',\n",
       " 'psqi01.txt',\n",
       " 'mos01.txt',\n",
       " 'pax_demographics_form01.txt',\n",
       " 'README.pdf']"
      ]
     },
     "execution_count": 5,
     "metadata": {},
     "output_type": "execute_result"
    }
   ],
   "source": [
    "# define text files and path\n",
    "\n",
    "test_file = 'panas01.txt'\n",
    "subject_file = 'ndar_subject01.txt'\n",
    "path = './anxiety/anxnoimg'\n",
    "os.listdir(path)"
   ]
  },
  {
   "cell_type": "code",
   "execution_count": 6,
   "metadata": {},
   "outputs": [],
   "source": [
    "# opens both files using pandas\n",
    "ndar_subject = pd.read_csv(os.path.join(path, subject_file), delimiter = '\\t')\n",
    "test = pd.read_csv(os.path.join(path, test_file), delimiter = '\\t')"
   ]
  },
  {
   "cell_type": "code",
   "execution_count": 7,
   "metadata": {},
   "outputs": [
    {
     "data": {
      "text/html": [
       "<div>\n",
       "<style scoped>\n",
       "    .dataframe tbody tr th:only-of-type {\n",
       "        vertical-align: middle;\n",
       "    }\n",
       "\n",
       "    .dataframe tbody tr th {\n",
       "        vertical-align: top;\n",
       "    }\n",
       "\n",
       "    .dataframe thead th {\n",
       "        text-align: right;\n",
       "    }\n",
       "</style>\n",
       "<table border=\"1\" class=\"dataframe\">\n",
       "  <thead>\n",
       "    <tr style=\"text-align: right;\">\n",
       "      <th></th>\n",
       "      <th>phenotype</th>\n",
       "      <th>phenotype_description</th>\n",
       "    </tr>\n",
       "  </thead>\n",
       "  <tbody>\n",
       "    <tr>\n",
       "      <th>0</th>\n",
       "      <td>Phenotype/diagnosis for the subject</td>\n",
       "      <td>Description of the phenotype for the subject</td>\n",
       "    </tr>\n",
       "    <tr>\n",
       "      <th>1</th>\n",
       "      <td>3</td>\n",
       "      <td>1 = low dispositional negativity; 2 = medium dispositional negativity; 3 = high dispositional negativity. NOTE: As additional subjects were added to the screening pool, the composite measure was continuously re-computed. As such, the group designations should not be considered definitive or trait-like. Final group designations and scores will be updated at a later date.</td>\n",
       "    </tr>\n",
       "    <tr>\n",
       "      <th>2</th>\n",
       "      <td>1</td>\n",
       "      <td>1 = low dispositional negativity; 2 = medium dispositional negativity; 3 = high dispositional negativity. NOTE: As additional subjects were added to the screening pool, the composite measure was continuously re-computed. As such, the group designations should not be considered definitive or trait-like. Final group designations and scores will be updated at a later date.</td>\n",
       "    </tr>\n",
       "    <tr>\n",
       "      <th>3</th>\n",
       "      <td>2</td>\n",
       "      <td>1 = low dispositional negativity; 2 = medium dispositional negativity; 3 = high dispositional negativity. NOTE: As additional subjects were added to the screening pool, the composite measure was continuously re-computed. As such, the group designations should not be considered definitive or trait-like. Final group designations and scores will be updated at a later date.</td>\n",
       "    </tr>\n",
       "    <tr>\n",
       "      <th>4</th>\n",
       "      <td>3</td>\n",
       "      <td>1 = low dispositional negativity; 2 = medium dispositional negativity; 3 = high dispositional negativity. NOTE: As additional subjects were added to the screening pool, the composite measure was continuously re-computed. As such, the group designations should not be considered definitive or trait-like. Final group designations and scores will be updated at a later date.</td>\n",
       "    </tr>\n",
       "  </tbody>\n",
       "</table>\n",
       "</div>"
      ],
      "text/plain": [
       "                             phenotype  \\\n",
       "0  Phenotype/diagnosis for the subject   \n",
       "1                                    3   \n",
       "2                                    1   \n",
       "3                                    2   \n",
       "4                                    3   \n",
       "\n",
       "                                                                                                                                                                                                                                                                                                                                                                  phenotype_description  \n",
       "0                                                                                                                                                                                                                                                                                                                                          Description of the phenotype for the subject  \n",
       "1  1 = low dispositional negativity; 2 = medium dispositional negativity; 3 = high dispositional negativity. NOTE: As additional subjects were added to the screening pool, the composite measure was continuously re-computed. As such, the group designations should not be considered definitive or trait-like. Final group designations and scores will be updated at a later date.  \n",
       "2  1 = low dispositional negativity; 2 = medium dispositional negativity; 3 = high dispositional negativity. NOTE: As additional subjects were added to the screening pool, the composite measure was continuously re-computed. As such, the group designations should not be considered definitive or trait-like. Final group designations and scores will be updated at a later date.  \n",
       "3  1 = low dispositional negativity; 2 = medium dispositional negativity; 3 = high dispositional negativity. NOTE: As additional subjects were added to the screening pool, the composite measure was continuously re-computed. As such, the group designations should not be considered definitive or trait-like. Final group designations and scores will be updated at a later date.  \n",
       "4  1 = low dispositional negativity; 2 = medium dispositional negativity; 3 = high dispositional negativity. NOTE: As additional subjects were added to the screening pool, the composite measure was continuously re-computed. As such, the group designations should not be considered definitive or trait-like. Final group designations and scores will be updated at a later date.  "
      ]
     },
     "execution_count": 7,
     "metadata": {},
     "output_type": "execute_result"
    }
   ],
   "source": [
    "ndar_subject[['phenotype', 'phenotype_description']].head()"
   ]
  },
  {
   "cell_type": "code",
   "execution_count": 8,
   "metadata": {},
   "outputs": [
    {
     "data": {
      "text/plain": [
       "array(['Phenotype/diagnosis for the subject', '3', '1', '2'], dtype=object)"
      ]
     },
     "execution_count": 8,
     "metadata": {},
     "output_type": "execute_result"
    }
   ],
   "source": [
    "# shows the unique phenotypes in the ndar subject file\n",
    "unique = ndar_subject['phenotype'].unique()\n",
    "unique"
   ]
  },
  {
   "cell_type": "code",
   "execution_count": 9,
   "metadata": {},
   "outputs": [
    {
     "data": {
      "text/plain": [
       "95"
      ]
     },
     "execution_count": 9,
     "metadata": {},
     "output_type": "execute_result"
    }
   ],
   "source": [
    "# counting how many of a given phenotype are in the file\n",
    "np.count_nonzero(ndar_subject['phenotype'] == unique[-1])"
   ]
  },
  {
   "cell_type": "code",
   "execution_count": 11,
   "metadata": {
    "scrolled": true
   },
   "outputs": [
    {
     "name": "stdout",
     "output_type": "stream",
     "text": [
      "Positive:  ['3']\n",
      "Negative:  ['1']\n"
     ]
    }
   ],
   "source": [
    "# DEFINE POSITIVE AND NEGATIVE CLASSES BASED ON UNIQUE ARRAY ABOVE\n",
    "\n",
    "positive = [unique[1]]\n",
    "negative = [unique[2]]\n",
    "print('Positive: ', positive)\n",
    "print('Negative: ', negative)\n",
    "\n",
    "id_with_pos = ndar_subject[ndar_subject['phenotype'].isin(positive)]['subjectkey']\n",
    "id_with_neg = ndar_subject[ndar_subject['phenotype'].isin(negative)]['subjectkey']\n",
    "\n",
    "# splits dataframes\n",
    "id_with_pos = pd.DataFrame(id_with_pos)\n",
    "id_with_neg = pd.DataFrame(id_with_neg)"
   ]
  },
  {
   "cell_type": "code",
   "execution_count": 12,
   "metadata": {},
   "outputs": [
    {
     "name": "stdout",
     "output_type": "stream",
     "text": [
      "64\n"
     ]
    },
    {
     "data": {
      "text/html": [
       "<div>\n",
       "<style scoped>\n",
       "    .dataframe tbody tr th:only-of-type {\n",
       "        vertical-align: middle;\n",
       "    }\n",
       "\n",
       "    .dataframe tbody tr th {\n",
       "        vertical-align: top;\n",
       "    }\n",
       "\n",
       "    .dataframe thead th {\n",
       "        text-align: right;\n",
       "    }\n",
       "</style>\n",
       "<table border=\"1\" class=\"dataframe\">\n",
       "  <thead>\n",
       "    <tr style=\"text-align: right;\">\n",
       "      <th></th>\n",
       "      <th>subjectkey</th>\n",
       "    </tr>\n",
       "  </thead>\n",
       "  <tbody>\n",
       "    <tr>\n",
       "      <th>2</th>\n",
       "      <td>NDAR_INVMU139NW4</td>\n",
       "    </tr>\n",
       "    <tr>\n",
       "      <th>9</th>\n",
       "      <td>NDAR_INVDA043KD7</td>\n",
       "    </tr>\n",
       "    <tr>\n",
       "      <th>10</th>\n",
       "      <td>NDAR_INVWA363WBH</td>\n",
       "    </tr>\n",
       "    <tr>\n",
       "      <th>15</th>\n",
       "      <td>NDAR_INVNF837LMC</td>\n",
       "    </tr>\n",
       "    <tr>\n",
       "      <th>18</th>\n",
       "      <td>NDAR_INVGB122LHD</td>\n",
       "    </tr>\n",
       "    <tr>\n",
       "      <th>...</th>\n",
       "      <td>...</td>\n",
       "    </tr>\n",
       "    <tr>\n",
       "      <th>342</th>\n",
       "      <td>NDAR_INVRC396UBT</td>\n",
       "    </tr>\n",
       "    <tr>\n",
       "      <th>345</th>\n",
       "      <td>NDAR_INVVA138EVT</td>\n",
       "    </tr>\n",
       "    <tr>\n",
       "      <th>348</th>\n",
       "      <td>NDAR_INVXH606TNZ</td>\n",
       "    </tr>\n",
       "    <tr>\n",
       "      <th>352</th>\n",
       "      <td>NDAR_INVJM873NBM</td>\n",
       "    </tr>\n",
       "    <tr>\n",
       "      <th>355</th>\n",
       "      <td>NDAR_INVCY421HMB</td>\n",
       "    </tr>\n",
       "  </tbody>\n",
       "</table>\n",
       "<p>93 rows × 1 columns</p>\n",
       "</div>"
      ],
      "text/plain": [
       "           subjectkey\n",
       "2    NDAR_INVMU139NW4\n",
       "9    NDAR_INVDA043KD7\n",
       "10   NDAR_INVWA363WBH\n",
       "15   NDAR_INVNF837LMC\n",
       "18   NDAR_INVGB122LHD\n",
       "..                ...\n",
       "342  NDAR_INVRC396UBT\n",
       "345  NDAR_INVVA138EVT\n",
       "348  NDAR_INVXH606TNZ\n",
       "352  NDAR_INVJM873NBM\n",
       "355  NDAR_INVCY421HMB\n",
       "\n",
       "[93 rows x 1 columns]"
      ]
     },
     "execution_count": 12,
     "metadata": {},
     "output_type": "execute_result"
    }
   ],
   "source": [
    "print(len(id_with_neg['subjectkey'].unique()))\n",
    "id_with_neg\n"
   ]
  },
  {
   "cell_type": "code",
   "execution_count": 13,
   "metadata": {},
   "outputs": [
    {
     "name": "stdout",
     "output_type": "stream",
     "text": [
      "133\n"
     ]
    },
    {
     "data": {
      "text/html": [
       "<div>\n",
       "<style scoped>\n",
       "    .dataframe tbody tr th:only-of-type {\n",
       "        vertical-align: middle;\n",
       "    }\n",
       "\n",
       "    .dataframe tbody tr th {\n",
       "        vertical-align: top;\n",
       "    }\n",
       "\n",
       "    .dataframe thead th {\n",
       "        text-align: right;\n",
       "    }\n",
       "</style>\n",
       "<table border=\"1\" class=\"dataframe\">\n",
       "  <thead>\n",
       "    <tr style=\"text-align: right;\">\n",
       "      <th></th>\n",
       "      <th>subjectkey</th>\n",
       "    </tr>\n",
       "  </thead>\n",
       "  <tbody>\n",
       "    <tr>\n",
       "      <th>1</th>\n",
       "      <td>NDAR_INVYY155CN7</td>\n",
       "    </tr>\n",
       "    <tr>\n",
       "      <th>4</th>\n",
       "      <td>NDAR_INVMN078FAX</td>\n",
       "    </tr>\n",
       "    <tr>\n",
       "      <th>5</th>\n",
       "      <td>NDAR_INVXN404BAF</td>\n",
       "    </tr>\n",
       "    <tr>\n",
       "      <th>6</th>\n",
       "      <td>NDAR_INVTD423CPU</td>\n",
       "    </tr>\n",
       "    <tr>\n",
       "      <th>8</th>\n",
       "      <td>NDAR_INVVW079KN9</td>\n",
       "    </tr>\n",
       "    <tr>\n",
       "      <th>...</th>\n",
       "      <td>...</td>\n",
       "    </tr>\n",
       "    <tr>\n",
       "      <th>360</th>\n",
       "      <td>NDAR_INVAY249APN</td>\n",
       "    </tr>\n",
       "    <tr>\n",
       "      <th>361</th>\n",
       "      <td>NDAR_INVDU855VKC</td>\n",
       "    </tr>\n",
       "    <tr>\n",
       "      <th>362</th>\n",
       "      <td>NDAR_INVRV987CP6</td>\n",
       "    </tr>\n",
       "    <tr>\n",
       "      <th>363</th>\n",
       "      <td>NDAR_INVPE123CHU</td>\n",
       "    </tr>\n",
       "    <tr>\n",
       "      <th>364</th>\n",
       "      <td>NDAR_INVYJ070XWX</td>\n",
       "    </tr>\n",
       "  </tbody>\n",
       "</table>\n",
       "<p>177 rows × 1 columns</p>\n",
       "</div>"
      ],
      "text/plain": [
       "           subjectkey\n",
       "1    NDAR_INVYY155CN7\n",
       "4    NDAR_INVMN078FAX\n",
       "5    NDAR_INVXN404BAF\n",
       "6    NDAR_INVTD423CPU\n",
       "8    NDAR_INVVW079KN9\n",
       "..                ...\n",
       "360  NDAR_INVAY249APN\n",
       "361  NDAR_INVDU855VKC\n",
       "362  NDAR_INVRV987CP6\n",
       "363  NDAR_INVPE123CHU\n",
       "364  NDAR_INVYJ070XWX\n",
       "\n",
       "[177 rows x 1 columns]"
      ]
     },
     "execution_count": 13,
     "metadata": {},
     "output_type": "execute_result"
    }
   ],
   "source": [
    "print(len(id_with_pos['subjectkey'].unique()))\n",
    "id_with_pos"
   ]
  },
  {
   "cell_type": "code",
   "execution_count": 14,
   "metadata": {},
   "outputs": [
    {
     "data": {
      "text/plain": [
       "Index(['collection_id', 'panas01_id', 'dataset_id', 'subjectkey',\n",
       "       'src_subject_id', 'interview_date', 'interview_age', 'sex',\n",
       "       'answer_type', 'interested_q1', 'excited_q3', 'strong_q5',\n",
       "       'enthusiastic_q9', 'proud_q10', 'alert_q12', 'inspired_q14',\n",
       "       'determined_q16', 'attentive_q17', 'active_q19', 'sum_pos', 'sum_neg',\n",
       "       'version_form', 'visit', 'collection_title'],\n",
       "      dtype='object')"
      ]
     },
     "execution_count": 14,
     "metadata": {},
     "output_type": "execute_result"
    }
   ],
   "source": [
    "# columns that were in the test selected, make sure you check the option to remove null columns when downloading\n",
    "test.columns"
   ]
  },
  {
   "cell_type": "code",
   "execution_count": 15,
   "metadata": {},
   "outputs": [
    {
     "data": {
      "text/html": [
       "<div>\n",
       "<style scoped>\n",
       "    .dataframe tbody tr th:only-of-type {\n",
       "        vertical-align: middle;\n",
       "    }\n",
       "\n",
       "    .dataframe tbody tr th {\n",
       "        vertical-align: top;\n",
       "    }\n",
       "\n",
       "    .dataframe thead th {\n",
       "        text-align: right;\n",
       "    }\n",
       "</style>\n",
       "<table border=\"1\" class=\"dataframe\">\n",
       "  <thead>\n",
       "    <tr style=\"text-align: right;\">\n",
       "      <th></th>\n",
       "      <th>collection_id</th>\n",
       "      <th>panas01_id</th>\n",
       "      <th>dataset_id</th>\n",
       "      <th>subjectkey</th>\n",
       "      <th>src_subject_id</th>\n",
       "      <th>interview_date</th>\n",
       "      <th>interview_age</th>\n",
       "      <th>sex</th>\n",
       "      <th>answer_type</th>\n",
       "      <th>interested_q1</th>\n",
       "      <th>...</th>\n",
       "      <th>alert_q12</th>\n",
       "      <th>inspired_q14</th>\n",
       "      <th>determined_q16</th>\n",
       "      <th>attentive_q17</th>\n",
       "      <th>active_q19</th>\n",
       "      <th>sum_pos</th>\n",
       "      <th>sum_neg</th>\n",
       "      <th>version_form</th>\n",
       "      <th>visit</th>\n",
       "      <th>collection_title</th>\n",
       "    </tr>\n",
       "  </thead>\n",
       "  <tbody>\n",
       "    <tr>\n",
       "      <th>217</th>\n",
       "      <td>2447</td>\n",
       "      <td>18019</td>\n",
       "      <td>22937</td>\n",
       "      <td>NDAR_INVYY155CN7</td>\n",
       "      <td>PAX001</td>\n",
       "      <td>11/05/2018</td>\n",
       "      <td>250</td>\n",
       "      <td>M</td>\n",
       "      <td>3</td>\n",
       "      <td>4</td>\n",
       "      <td>...</td>\n",
       "      <td>4</td>\n",
       "      <td>4</td>\n",
       "      <td>4</td>\n",
       "      <td>4</td>\n",
       "      <td>4</td>\n",
       "      <td>9999</td>\n",
       "      <td>9999</td>\n",
       "      <td>24m FollowUp</td>\n",
       "      <td>NaN</td>\n",
       "      <td>Prospective Determination of Neurobehavioral Risk for the Development of Emotion Disorders</td>\n",
       "    </tr>\n",
       "    <tr>\n",
       "      <th>248</th>\n",
       "      <td>2447</td>\n",
       "      <td>15060</td>\n",
       "      <td>18821</td>\n",
       "      <td>NDAR_INVYY155CN7</td>\n",
       "      <td>PAX001</td>\n",
       "      <td>05/12/2017</td>\n",
       "      <td>232</td>\n",
       "      <td>M</td>\n",
       "      <td>3</td>\n",
       "      <td>4</td>\n",
       "      <td>...</td>\n",
       "      <td>5</td>\n",
       "      <td>4</td>\n",
       "      <td>5</td>\n",
       "      <td>5</td>\n",
       "      <td>5</td>\n",
       "      <td>9999</td>\n",
       "      <td>9999</td>\n",
       "      <td>NaN</td>\n",
       "      <td>6m FollowUp</td>\n",
       "      <td>Prospective Determination of Neurobehavioral Risk for the Development of Emotion Disorders</td>\n",
       "    </tr>\n",
       "    <tr>\n",
       "      <th>489</th>\n",
       "      <td>2447</td>\n",
       "      <td>6439</td>\n",
       "      <td>15411</td>\n",
       "      <td>NDAR_INVYY155CN7</td>\n",
       "      <td>PAX001</td>\n",
       "      <td>11/02/2016</td>\n",
       "      <td>226</td>\n",
       "      <td>M</td>\n",
       "      <td>3</td>\n",
       "      <td>4</td>\n",
       "      <td>...</td>\n",
       "      <td>4</td>\n",
       "      <td>3</td>\n",
       "      <td>4</td>\n",
       "      <td>3</td>\n",
       "      <td>4</td>\n",
       "      <td>9999</td>\n",
       "      <td>9999</td>\n",
       "      <td>NaN</td>\n",
       "      <td>NaN</td>\n",
       "      <td>Prospective Determination of Neurobehavioral Risk for the Development of Emotion Disorders</td>\n",
       "    </tr>\n",
       "  </tbody>\n",
       "</table>\n",
       "<p>3 rows × 24 columns</p>\n",
       "</div>"
      ],
      "text/plain": [
       "    collection_id panas01_id dataset_id        subjectkey src_subject_id  \\\n",
       "217          2447      18019      22937  NDAR_INVYY155CN7         PAX001   \n",
       "248          2447      15060      18821  NDAR_INVYY155CN7         PAX001   \n",
       "489          2447       6439      15411  NDAR_INVYY155CN7         PAX001   \n",
       "\n",
       "    interview_date interview_age sex answer_type interested_q1  ... alert_q12  \\\n",
       "217     11/05/2018           250   M           3             4  ...         4   \n",
       "248     05/12/2017           232   M           3             4  ...         5   \n",
       "489     11/02/2016           226   M           3             4  ...         4   \n",
       "\n",
       "    inspired_q14 determined_q16 attentive_q17 active_q19 sum_pos sum_neg  \\\n",
       "217            4              4             4          4    9999    9999   \n",
       "248            4              5             5          5    9999    9999   \n",
       "489            3              4             3          4    9999    9999   \n",
       "\n",
       "     version_form        visit  \\\n",
       "217  24m FollowUp          NaN   \n",
       "248           NaN  6m FollowUp   \n",
       "489           NaN          NaN   \n",
       "\n",
       "                                                                               collection_title  \n",
       "217  Prospective Determination of Neurobehavioral Risk for the Development of Emotion Disorders  \n",
       "248  Prospective Determination of Neurobehavioral Risk for the Development of Emotion Disorders  \n",
       "489  Prospective Determination of Neurobehavioral Risk for the Development of Emotion Disorders  \n",
       "\n",
       "[3 rows x 24 columns]"
      ]
     },
     "execution_count": 15,
     "metadata": {},
     "output_type": "execute_result"
    }
   ],
   "source": [
    "# looking for duplicates\n",
    "# some tests have duplicate entrys for the same subject based on follow up visits\n",
    "test[test['subjectkey'] == id_with_pos['subjectkey'].iloc[0]]\n"
   ]
  },
  {
   "cell_type": "code",
   "execution_count": 16,
   "metadata": {
    "scrolled": false
   },
   "outputs": [
    {
     "name": "stdout",
     "output_type": "stream",
     "text": [
      "Before duplicate dropping\n",
      "297\n",
      "153\n",
      "After duplicated dropping\n",
      "297\n",
      "62\n"
     ]
    }
   ],
   "source": [
    "with_ = test['subjectkey'].isin(id_with_pos['subjectkey'])\n",
    "without_ = test['subjectkey'].isin(id_with_neg['subjectkey'])\n",
    "pos_answers = test[with_]\n",
    "neg_answers = test[without_]\n",
    "print('Before duplicate dropping')\n",
    "print(len(pos_answers))\n",
    "print(len(neg_answers))\n",
    "\n",
    "# dropping duplicates \n",
    "\n",
    "pos_answer = pos_answers.drop_duplicates(subset=['subjectkey'], keep='last')\n",
    "neg_answers = neg_answers.drop_duplicates(subset = ['subjectkey'], keep='last')\n",
    "print('After duplicated dropping')\n",
    "print(len(pos_answers))\n",
    "print(len(neg_answers))"
   ]
  },
  {
   "cell_type": "code",
   "execution_count": 17,
   "metadata": {},
   "outputs": [
    {
     "data": {
      "text/html": [
       "<div>\n",
       "<style scoped>\n",
       "    .dataframe tbody tr th:only-of-type {\n",
       "        vertical-align: middle;\n",
       "    }\n",
       "\n",
       "    .dataframe tbody tr th {\n",
       "        vertical-align: top;\n",
       "    }\n",
       "\n",
       "    .dataframe thead th {\n",
       "        text-align: right;\n",
       "    }\n",
       "</style>\n",
       "<table border=\"1\" class=\"dataframe\">\n",
       "  <thead>\n",
       "    <tr style=\"text-align: right;\">\n",
       "      <th></th>\n",
       "      <th>collection_id</th>\n",
       "      <th>panas01_id</th>\n",
       "      <th>dataset_id</th>\n",
       "      <th>subjectkey</th>\n",
       "      <th>src_subject_id</th>\n",
       "      <th>interview_date</th>\n",
       "      <th>interview_age</th>\n",
       "      <th>sex</th>\n",
       "      <th>answer_type</th>\n",
       "      <th>interested_q1</th>\n",
       "      <th>...</th>\n",
       "      <th>alert_q12</th>\n",
       "      <th>inspired_q14</th>\n",
       "      <th>determined_q16</th>\n",
       "      <th>attentive_q17</th>\n",
       "      <th>active_q19</th>\n",
       "      <th>sum_pos</th>\n",
       "      <th>sum_neg</th>\n",
       "      <th>version_form</th>\n",
       "      <th>visit</th>\n",
       "      <th>collection_title</th>\n",
       "    </tr>\n",
       "  </thead>\n",
       "  <tbody>\n",
       "    <tr>\n",
       "      <th>4</th>\n",
       "      <td>2447</td>\n",
       "      <td>6672</td>\n",
       "      <td>15529</td>\n",
       "      <td>NDAR_INVJP436TZR</td>\n",
       "      <td>PAX245</td>\n",
       "      <td>04/04/2018</td>\n",
       "      <td>229</td>\n",
       "      <td>F</td>\n",
       "      <td>3</td>\n",
       "      <td>2</td>\n",
       "      <td>...</td>\n",
       "      <td>2</td>\n",
       "      <td>2</td>\n",
       "      <td>1</td>\n",
       "      <td>1</td>\n",
       "      <td>2</td>\n",
       "      <td>9999</td>\n",
       "      <td>9999</td>\n",
       "      <td>NaN</td>\n",
       "      <td>Baseline</td>\n",
       "      <td>Prospective Determination of Neurobehavioral Risk for the Development of Emotion Disorders</td>\n",
       "    </tr>\n",
       "    <tr>\n",
       "      <th>8</th>\n",
       "      <td>2447</td>\n",
       "      <td>6634</td>\n",
       "      <td>15529</td>\n",
       "      <td>NDAR_INVNU873TGT</td>\n",
       "      <td>PAX205</td>\n",
       "      <td>12/07/2017</td>\n",
       "      <td>220</td>\n",
       "      <td>F</td>\n",
       "      <td>3</td>\n",
       "      <td>4</td>\n",
       "      <td>...</td>\n",
       "      <td>3</td>\n",
       "      <td>3</td>\n",
       "      <td>3</td>\n",
       "      <td>4</td>\n",
       "      <td>3</td>\n",
       "      <td>9999</td>\n",
       "      <td>9999</td>\n",
       "      <td>NaN</td>\n",
       "      <td>Baseline</td>\n",
       "      <td>Prospective Determination of Neurobehavioral Risk for the Development of Emotion Disorders</td>\n",
       "    </tr>\n",
       "    <tr>\n",
       "      <th>10</th>\n",
       "      <td>2447</td>\n",
       "      <td>6673</td>\n",
       "      <td>15529</td>\n",
       "      <td>NDAR_INVVH928YHA</td>\n",
       "      <td>PAX246</td>\n",
       "      <td>04/06/2018</td>\n",
       "      <td>227</td>\n",
       "      <td>F</td>\n",
       "      <td>3</td>\n",
       "      <td>3</td>\n",
       "      <td>...</td>\n",
       "      <td>2</td>\n",
       "      <td>2</td>\n",
       "      <td>2</td>\n",
       "      <td>3</td>\n",
       "      <td>1</td>\n",
       "      <td>9999</td>\n",
       "      <td>9999</td>\n",
       "      <td>NaN</td>\n",
       "      <td>Baseline</td>\n",
       "      <td>Prospective Determination of Neurobehavioral Risk for the Development of Emotion Disorders</td>\n",
       "    </tr>\n",
       "    <tr>\n",
       "      <th>11</th>\n",
       "      <td>2447</td>\n",
       "      <td>6601</td>\n",
       "      <td>15529</td>\n",
       "      <td>NDAR_INVZV856NV2</td>\n",
       "      <td>PAX170</td>\n",
       "      <td>11/06/2017</td>\n",
       "      <td>224</td>\n",
       "      <td>F</td>\n",
       "      <td>3</td>\n",
       "      <td>4</td>\n",
       "      <td>...</td>\n",
       "      <td>3</td>\n",
       "      <td>2</td>\n",
       "      <td>4</td>\n",
       "      <td>4</td>\n",
       "      <td>3</td>\n",
       "      <td>9999</td>\n",
       "      <td>9999</td>\n",
       "      <td>NaN</td>\n",
       "      <td>Baseline</td>\n",
       "      <td>Prospective Determination of Neurobehavioral Risk for the Development of Emotion Disorders</td>\n",
       "    </tr>\n",
       "    <tr>\n",
       "      <th>14</th>\n",
       "      <td>2447</td>\n",
       "      <td>6637</td>\n",
       "      <td>15529</td>\n",
       "      <td>NDAR_INVLC553ECG</td>\n",
       "      <td>PAX208</td>\n",
       "      <td>11/29/2017</td>\n",
       "      <td>227</td>\n",
       "      <td>F</td>\n",
       "      <td>3</td>\n",
       "      <td>2</td>\n",
       "      <td>...</td>\n",
       "      <td>2</td>\n",
       "      <td>3</td>\n",
       "      <td>4</td>\n",
       "      <td>3</td>\n",
       "      <td>3</td>\n",
       "      <td>9999</td>\n",
       "      <td>9999</td>\n",
       "      <td>NaN</td>\n",
       "      <td>Baseline</td>\n",
       "      <td>Prospective Determination of Neurobehavioral Risk for the Development of Emotion Disorders</td>\n",
       "    </tr>\n",
       "  </tbody>\n",
       "</table>\n",
       "<p>5 rows × 24 columns</p>\n",
       "</div>"
      ],
      "text/plain": [
       "   collection_id panas01_id dataset_id        subjectkey src_subject_id  \\\n",
       "4           2447       6672      15529  NDAR_INVJP436TZR         PAX245   \n",
       "8           2447       6634      15529  NDAR_INVNU873TGT         PAX205   \n",
       "10          2447       6673      15529  NDAR_INVVH928YHA         PAX246   \n",
       "11          2447       6601      15529  NDAR_INVZV856NV2         PAX170   \n",
       "14          2447       6637      15529  NDAR_INVLC553ECG         PAX208   \n",
       "\n",
       "   interview_date interview_age sex answer_type interested_q1  ... alert_q12  \\\n",
       "4      04/04/2018           229   F           3             2  ...         2   \n",
       "8      12/07/2017           220   F           3             4  ...         3   \n",
       "10     04/06/2018           227   F           3             3  ...         2   \n",
       "11     11/06/2017           224   F           3             4  ...         3   \n",
       "14     11/29/2017           227   F           3             2  ...         2   \n",
       "\n",
       "   inspired_q14 determined_q16 attentive_q17 active_q19 sum_pos sum_neg  \\\n",
       "4             2              1             1          2    9999    9999   \n",
       "8             3              3             4          3    9999    9999   \n",
       "10            2              2             3          1    9999    9999   \n",
       "11            2              4             4          3    9999    9999   \n",
       "14            3              4             3          3    9999    9999   \n",
       "\n",
       "   version_form     visit  \\\n",
       "4           NaN  Baseline   \n",
       "8           NaN  Baseline   \n",
       "10          NaN  Baseline   \n",
       "11          NaN  Baseline   \n",
       "14          NaN  Baseline   \n",
       "\n",
       "                                                                              collection_title  \n",
       "4   Prospective Determination of Neurobehavioral Risk for the Development of Emotion Disorders  \n",
       "8   Prospective Determination of Neurobehavioral Risk for the Development of Emotion Disorders  \n",
       "10  Prospective Determination of Neurobehavioral Risk for the Development of Emotion Disorders  \n",
       "11  Prospective Determination of Neurobehavioral Risk for the Development of Emotion Disorders  \n",
       "14  Prospective Determination of Neurobehavioral Risk for the Development of Emotion Disorders  \n",
       "\n",
       "[5 rows x 24 columns]"
      ]
     },
     "execution_count": 17,
     "metadata": {},
     "output_type": "execute_result"
    }
   ],
   "source": [
    "pos_answers.head()"
   ]
  },
  {
   "cell_type": "code",
   "execution_count": 18,
   "metadata": {},
   "outputs": [
    {
     "data": {
      "text/html": [
       "<div>\n",
       "<style scoped>\n",
       "    .dataframe tbody tr th:only-of-type {\n",
       "        vertical-align: middle;\n",
       "    }\n",
       "\n",
       "    .dataframe tbody tr th {\n",
       "        vertical-align: top;\n",
       "    }\n",
       "\n",
       "    .dataframe thead th {\n",
       "        text-align: right;\n",
       "    }\n",
       "</style>\n",
       "<table border=\"1\" class=\"dataframe\">\n",
       "  <thead>\n",
       "    <tr style=\"text-align: right;\">\n",
       "      <th></th>\n",
       "      <th>collection_id</th>\n",
       "      <th>panas01_id</th>\n",
       "      <th>dataset_id</th>\n",
       "      <th>subjectkey</th>\n",
       "      <th>src_subject_id</th>\n",
       "      <th>interview_date</th>\n",
       "      <th>interview_age</th>\n",
       "      <th>sex</th>\n",
       "      <th>answer_type</th>\n",
       "      <th>interested_q1</th>\n",
       "      <th>...</th>\n",
       "      <th>alert_q12</th>\n",
       "      <th>inspired_q14</th>\n",
       "      <th>determined_q16</th>\n",
       "      <th>attentive_q17</th>\n",
       "      <th>active_q19</th>\n",
       "      <th>sum_pos</th>\n",
       "      <th>sum_neg</th>\n",
       "      <th>version_form</th>\n",
       "      <th>visit</th>\n",
       "      <th>collection_title</th>\n",
       "    </tr>\n",
       "  </thead>\n",
       "  <tbody>\n",
       "    <tr>\n",
       "      <th>69</th>\n",
       "      <td>2447</td>\n",
       "      <td>6646</td>\n",
       "      <td>15529</td>\n",
       "      <td>NDAR_INVJK088BNB</td>\n",
       "      <td>PAX217</td>\n",
       "      <td>12/14/2017</td>\n",
       "      <td>226</td>\n",
       "      <td>M</td>\n",
       "      <td>3</td>\n",
       "      <td>4</td>\n",
       "      <td>...</td>\n",
       "      <td>4</td>\n",
       "      <td>3</td>\n",
       "      <td>5</td>\n",
       "      <td>4</td>\n",
       "      <td>3</td>\n",
       "      <td>9999</td>\n",
       "      <td>9999</td>\n",
       "      <td>NaN</td>\n",
       "      <td>Baseline</td>\n",
       "      <td>Prospective Determination of Neurobehavioral Risk for the Development of Emotion Disorders</td>\n",
       "    </tr>\n",
       "    <tr>\n",
       "      <th>242</th>\n",
       "      <td>2447</td>\n",
       "      <td>15198</td>\n",
       "      <td>18821</td>\n",
       "      <td>NDAR_INVPZ333HZT</td>\n",
       "      <td>PAX153</td>\n",
       "      <td>04/25/2018</td>\n",
       "      <td>228</td>\n",
       "      <td>M</td>\n",
       "      <td>3</td>\n",
       "      <td>2</td>\n",
       "      <td>...</td>\n",
       "      <td>2</td>\n",
       "      <td>2</td>\n",
       "      <td>4</td>\n",
       "      <td>3</td>\n",
       "      <td>4</td>\n",
       "      <td>9999</td>\n",
       "      <td>9999</td>\n",
       "      <td>NaN</td>\n",
       "      <td>6m FollowUp</td>\n",
       "      <td>Prospective Determination of Neurobehavioral Risk for the Development of Emotion Disorders</td>\n",
       "    </tr>\n",
       "    <tr>\n",
       "      <th>247</th>\n",
       "      <td>2447</td>\n",
       "      <td>15182</td>\n",
       "      <td>18821</td>\n",
       "      <td>NDAR_INVAE374ZR9</td>\n",
       "      <td>PAX135</td>\n",
       "      <td>04/25/2018</td>\n",
       "      <td>232</td>\n",
       "      <td>M</td>\n",
       "      <td>3</td>\n",
       "      <td>2</td>\n",
       "      <td>...</td>\n",
       "      <td>3</td>\n",
       "      <td>1</td>\n",
       "      <td>1</td>\n",
       "      <td>2</td>\n",
       "      <td>4</td>\n",
       "      <td>9999</td>\n",
       "      <td>9999</td>\n",
       "      <td>NaN</td>\n",
       "      <td>6m FollowUp</td>\n",
       "      <td>Prospective Determination of Neurobehavioral Risk for the Development of Emotion Disorders</td>\n",
       "    </tr>\n",
       "    <tr>\n",
       "      <th>252</th>\n",
       "      <td>2447</td>\n",
       "      <td>15211</td>\n",
       "      <td>18821</td>\n",
       "      <td>NDAR_INVVU433PFZ</td>\n",
       "      <td>PAX167</td>\n",
       "      <td>05/09/2018</td>\n",
       "      <td>224</td>\n",
       "      <td>M</td>\n",
       "      <td>3</td>\n",
       "      <td>4</td>\n",
       "      <td>...</td>\n",
       "      <td>5</td>\n",
       "      <td>4</td>\n",
       "      <td>5</td>\n",
       "      <td>5</td>\n",
       "      <td>3</td>\n",
       "      <td>9999</td>\n",
       "      <td>9999</td>\n",
       "      <td>NaN</td>\n",
       "      <td>6m FollowUp</td>\n",
       "      <td>Prospective Determination of Neurobehavioral Risk for the Development of Emotion Disorders</td>\n",
       "    </tr>\n",
       "    <tr>\n",
       "      <th>261</th>\n",
       "      <td>2447</td>\n",
       "      <td>15203</td>\n",
       "      <td>18821</td>\n",
       "      <td>NDAR_INVXH125FUW</td>\n",
       "      <td>PAX158</td>\n",
       "      <td>05/09/2018</td>\n",
       "      <td>234</td>\n",
       "      <td>M</td>\n",
       "      <td>3</td>\n",
       "      <td>4</td>\n",
       "      <td>...</td>\n",
       "      <td>4</td>\n",
       "      <td>4</td>\n",
       "      <td>4</td>\n",
       "      <td>3</td>\n",
       "      <td>5</td>\n",
       "      <td>9999</td>\n",
       "      <td>9999</td>\n",
       "      <td>NaN</td>\n",
       "      <td>6m FollowUp</td>\n",
       "      <td>Prospective Determination of Neurobehavioral Risk for the Development of Emotion Disorders</td>\n",
       "    </tr>\n",
       "  </tbody>\n",
       "</table>\n",
       "<p>5 rows × 24 columns</p>\n",
       "</div>"
      ],
      "text/plain": [
       "    collection_id panas01_id dataset_id        subjectkey src_subject_id  \\\n",
       "69           2447       6646      15529  NDAR_INVJK088BNB         PAX217   \n",
       "242          2447      15198      18821  NDAR_INVPZ333HZT         PAX153   \n",
       "247          2447      15182      18821  NDAR_INVAE374ZR9         PAX135   \n",
       "252          2447      15211      18821  NDAR_INVVU433PFZ         PAX167   \n",
       "261          2447      15203      18821  NDAR_INVXH125FUW         PAX158   \n",
       "\n",
       "    interview_date interview_age sex answer_type interested_q1  ... alert_q12  \\\n",
       "69      12/14/2017           226   M           3             4  ...         4   \n",
       "242     04/25/2018           228   M           3             2  ...         2   \n",
       "247     04/25/2018           232   M           3             2  ...         3   \n",
       "252     05/09/2018           224   M           3             4  ...         5   \n",
       "261     05/09/2018           234   M           3             4  ...         4   \n",
       "\n",
       "    inspired_q14 determined_q16 attentive_q17 active_q19 sum_pos sum_neg  \\\n",
       "69             3              5             4          3    9999    9999   \n",
       "242            2              4             3          4    9999    9999   \n",
       "247            1              1             2          4    9999    9999   \n",
       "252            4              5             5          3    9999    9999   \n",
       "261            4              4             3          5    9999    9999   \n",
       "\n",
       "    version_form        visit  \\\n",
       "69           NaN     Baseline   \n",
       "242          NaN  6m FollowUp   \n",
       "247          NaN  6m FollowUp   \n",
       "252          NaN  6m FollowUp   \n",
       "261          NaN  6m FollowUp   \n",
       "\n",
       "                                                                               collection_title  \n",
       "69   Prospective Determination of Neurobehavioral Risk for the Development of Emotion Disorders  \n",
       "242  Prospective Determination of Neurobehavioral Risk for the Development of Emotion Disorders  \n",
       "247  Prospective Determination of Neurobehavioral Risk for the Development of Emotion Disorders  \n",
       "252  Prospective Determination of Neurobehavioral Risk for the Development of Emotion Disorders  \n",
       "261  Prospective Determination of Neurobehavioral Risk for the Development of Emotion Disorders  \n",
       "\n",
       "[5 rows x 24 columns]"
      ]
     },
     "execution_count": 18,
     "metadata": {},
     "output_type": "execute_result"
    }
   ],
   "source": [
    "neg_answers.head()"
   ]
  },
  {
   "cell_type": "code",
   "execution_count": 68,
   "metadata": {},
   "outputs": [
    {
     "data": {
      "text/plain": [
       "Index(['collection_id', 'panas01_id', 'dataset_id', 'subjectkey',\n",
       "       'src_subject_id', 'interview_date', 'interview_age', 'sex',\n",
       "       'answer_type', 'interested_q1', 'excited_q3', 'strong_q5',\n",
       "       'enthusiastic_q9', 'proud_q10', 'alert_q12', 'inspired_q14',\n",
       "       'determined_q16', 'attentive_q17', 'active_q19', 'sum_pos', 'sum_neg',\n",
       "       'version_form', 'visit', 'collection_title'],\n",
       "      dtype='object')"
      ]
     },
     "execution_count": 68,
     "metadata": {},
     "output_type": "execute_result"
    }
   ],
   "source": [
    "def plot_hist(column_name):\n",
    "    plt.figure()\n",
    "    pos_ext = np.array(pos_answers[column_name]).astype('int32')\n",
    "    neg_ext = np.array(neg_answers[column_name]).astype('int32')\n",
    "    bin_min = min(pos_ext.min(), neg_ext.min())\n",
    "    bin_max = max(pos_ext.max(), neg_ext.max())\n",
    "    plt.hist((pos_ext, neg_ext), bins = bin_max - bin_min, label = ['Positive', 'Negative'], density = True)\n",
    "    plt.title(column_name)\n",
    "    plt.xlabel('Answer')\n",
    "    plt.ylabel('Proportion')\n",
    "    plt.legend()\n",
    "    plt.show()\n",
    "test.columns"
   ]
  },
  {
   "cell_type": "code",
   "execution_count": 69,
   "metadata": {},
   "outputs": [],
   "source": [
    "# np.array(neg_answers['sum_pos']).astype('int32')"
   ]
  },
  {
   "cell_type": "code",
   "execution_count": 70,
   "metadata": {},
   "outputs": [],
   "source": [
    "# choose which columns from above to plot\n",
    "\n",
    "columns_to_plot = ['interested_q1', 'excited_q3', 'strong_q5',\n",
    "                   'enthusiastic_q9', 'proud_q10', 'alert_q12', 'inspired_q14',\n",
    "                   'determined_q16', 'attentive_q17', 'active_q19']\n",
    "\n"
   ]
  },
  {
   "cell_type": "code",
   "execution_count": 71,
   "metadata": {
    "scrolled": false
   },
   "outputs": [
    {
     "data": {
      "image/png": "[encoded data removed]",
      "text/plain": [
       "<Figure size 432x288 with 1 Axes>"
      ]
     },
     "metadata": {
      "needs_background": "light"
     },
     "output_type": "display_data"
    },
    {
     "data": {
      "image/png": "[encoded data removed]",
      "text/plain": [
       "<Figure size 432x288 with 1 Axes>"
      ]
     },
     "metadata": {
      "needs_background": "light"
     },
     "output_type": "display_data"
    },
    {
     "data": {
      "image/png": "[encoded data removed]",
      "text/plain": [
       "<Figure size 432x288 with 1 Axes>"
      ]
     },
     "metadata": {
      "needs_background": "light"
     },
     "output_type": "display_data"
    },
    {
     "data": {
      "image/png": "[encoded data removed]",
      "text/plain": [
       "<Figure size 432x288 with 1 Axes>"
      ]
     },
     "metadata": {
      "needs_background": "light"
     },
     "output_type": "display_data"
    },
    {
     "data": {
      "image/png": "[encoded data removed]",
      "text/plain": [
       "<Figure size 432x288 with 1 Axes>"
      ]
     },
     "metadata": {
      "needs_background": "light"
     },
     "output_type": "display_data"
    },
    {
     "data": {
      "image/png": "[encoded data removed]",
      "text/plain": [
       "<Figure size 432x288 with 1 Axes>"
      ]
     },
     "metadata": {
      "needs_background": "light"
     },
     "output_type": "display_data"
    },
    {
     "data": {
      "image/png": "[encoded data removed]",
      "text/plain": [
       "<Figure size 432x288 with 1 Axes>"
      ]
     },
     "metadata": {
      "needs_background": "light"
     },
     "output_type": "display_data"
    },
    {
     "data": {
      "image/png": "[encoded data removed]",
      "text/plain": [
       "<Figure size 432x288 with 1 Axes>"
      ]
     },
     "metadata": {
      "needs_background": "light"
     },
     "output_type": "display_data"
    },
    {
     "data": {
      "image/png": "[encoded data removed]",
      "text/plain": [
       "<Figure size 432x288 with 1 Axes>"
      ]
     },
     "metadata": {
      "needs_background": "light"
     },
     "output_type": "display_data"
    },
    {
     "data": {
      "image/png": "[encoded data removed]",
      "text/plain": [
       "<Figure size 432x288 with 1 Axes>"
      ]
     },
     "metadata": {
      "needs_background": "light"
     },
     "output_type": "display_data"
    }
   ],
   "source": [
    "for column in columns_to_plot:\n",
    "    plot_hist(column)"
   ]
  },
  {
   "cell_type": "code",
   "execution_count": 102,
   "metadata": {},
   "outputs": [],
   "source": [
    "data = np.concatenate((np.array(pos_answers[columns_to_plot]), np.array(neg_answers[columns_to_plot])))"
   ]
  },
  {
   "cell_type": "code",
   "execution_count": 103,
   "metadata": {},
   "outputs": [
    {
     "data": {
      "text/plain": [
       "(359, 10)"
      ]
     },
     "execution_count": 103,
     "metadata": {},
     "output_type": "execute_result"
    }
   ],
   "source": [
    "data.shape"
   ]
  },
  {
   "cell_type": "code",
   "execution_count": 104,
   "metadata": {},
   "outputs": [
    {
     "name": "stdout",
     "output_type": "stream",
     "text": [
      "(297,)\n",
      "(62,)\n"
     ]
    },
    {
     "data": {
      "text/plain": [
       "(359,)"
      ]
     },
     "execution_count": 104,
     "metadata": {},
     "output_type": "execute_result"
    }
   ],
   "source": [
    "\n",
    "l1 = np.tile([1], len(pos_answers[columns_to_plot]))\n",
    "print(l1.shape)\n",
    "l2 = np.tile([0], len(neg_answers[columns_to_plot]))\n",
    "print(l2.shape)\n",
    "labels = np.concatenate((l1,l2))\n",
    "labels.shape                         "
   ]
  },
  {
   "cell_type": "code",
   "execution_count": 117,
   "metadata": {},
   "outputs": [
    {
     "data": {
      "text/plain": [
       "array([[-3.97270843e-05,  1.51135019e-04, -1.76692538e-04,\n",
       "        -1.06357674e-04, -7.90113462e-05, -1.26844331e-04,\n",
       "         1.11027836e-04, -4.77247023e-05, -5.51213272e-05,\n",
       "         1.78045422e-05]])"
      ]
     },
     "execution_count": 117,
     "metadata": {},
     "output_type": "execute_result"
    }
   ],
   "source": [
    "clf = svm.SVC(kernel='linear')\n",
    "clf.fit(data, labels)\n",
    "clf.coef_"
   ]
  },
  {
   "cell_type": "code",
   "execution_count": 121,
   "metadata": {},
   "outputs": [
    {
     "data": {
      "text/plain": [
       "<matplotlib.collections.PathCollection at 0x7fe445e89a90>"
      ]
     },
     "execution_count": 121,
     "metadata": {},
     "output_type": "execute_result"
    },
    {
     "data": {
      "image/png": "[encoded data removed]",
      "text/plain": [
       "<Figure size 432x288 with 1 Axes>"
      ]
     },
     "metadata": {
      "needs_background": "light"
     },
     "output_type": "display_data"
    }
   ],
   "source": [
    "plt.scatter(data[:,1], data[:,4], labels)"
   ]
  },
  {
   "cell_type": "code",
   "execution_count": null,
   "metadata": {},
   "outputs": [],
   "source": []
  }
 ],
 "metadata": {
  "kernelspec": {
   "display_name": "Python 3",
   "language": "python",
   "name": "python3"
  },
  "language_info": {
   "codemirror_mode": {
    "name": "ipython",
    "version": 3
   },
   "file_extension": ".py",
   "mimetype": "text/x-python",
   "name": "python",
   "nbconvert_exporter": "python",
   "pygments_lexer": "ipython3",
   "version": "3.8.3"
  }
 },
 "nbformat": 4,
 "nbformat_minor": 5
}
